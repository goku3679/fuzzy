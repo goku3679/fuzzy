{
  "nbformat": 4,
  "nbformat_minor": 0,
  "metadata": {
    "colab": {
      "provenance": [],
      "authorship_tag": "ABX9TyPxzJEDQtX4oR4XP3VQKatr",
      "include_colab_link": true
    },
    "kernelspec": {
      "name": "python3",
      "display_name": "Python 3"
    },
    "language_info": {
      "name": "python"
    }
  },
  "cells": [
    {
      "cell_type": "markdown",
      "metadata": {
        "id": "view-in-github",
        "colab_type": "text"
      },
      "source": [
        "<a href=\"https://colab.research.google.com/github/goku3679/fuzzy/blob/main/Python_Math.ipynb\" target=\"_parent\"><img src=\"https://colab.research.google.com/assets/colab-badge.svg\" alt=\"Open In Colab\"/></a>"
      ]
    },
    {
      "cell_type": "code",
      "execution_count": null,
      "metadata": {
        "colab": {
          "base_uri": "https://localhost:8080/"
        },
        "id": "oROAZcZb3eFS",
        "outputId": "e709c01c-69eb-45c7-9125-2eca05322710"
      },
      "outputs": [
        {
          "output_type": "stream",
          "name": "stdout",
          "text": [
            "Enter a integer  20\n",
            "Enter a decimal value 10.25\n",
            "Enter a string  test\n",
            "20\n",
            "10.25\n",
            "test\n"
          ]
        }
      ],
      "source": [
        "a = int(input(\"Enter a integer = \"));\n",
        "b = float(input(\"Enter a decimal value = \"));\n",
        "c = input(\"Enter a string  = \");\n",
        "print(a)\n",
        "print(b)\n",
        "print(c)"
      ]
    },
    {
      "cell_type": "code",
      "source": [
        "a = int(input(\"Enter a integer  \"));\n",
        "b = float(input(\"Enter a decimal value \"));\n",
        "c = input(\"Enter a string  \");\n",
        "d=a+b\n",
        "print(\"sum=\",d)"
      ],
      "metadata": {
        "colab": {
          "base_uri": "https://localhost:8080/"
        },
        "id": "qay0sRmM3w0T",
        "outputId": "a5529ecb-68f4-4343-892a-d78f04277c43"
      },
      "execution_count": null,
      "outputs": [
        {
          "output_type": "stream",
          "name": "stdout",
          "text": [
            "Enter a integer  7\n",
            "Enter a decimal value 6.6\n",
            "Enter a string  test\n",
            "sum= 13.6\n"
          ]
        }
      ]
    },
    {
      "cell_type": "code",
      "source": [
        "A= int(input(\"Enter an integer = \"));\n",
        "print(\" \")#space\n",
        "B= float(input(\"Enter an decimal value = \"));\n",
        "print(\" \")#space\n",
        "C= input(\"Enter a String = \")\n",
        "X=2*A\n",
        "Y=3*B\n",
        "Z=4*C\n",
        "print(\" \")#space\n",
        "print(\"\\nX=\", 2*A)#space\n",
        "print(\"\\nY=\", 3*B)#space\n",
        "print(\"\\nZ=\", 4*C)#space"
      ],
      "metadata": {
        "colab": {
          "base_uri": "https://localhost:8080/"
        },
        "id": "WVV8AjL46dhQ",
        "outputId": "aa7fd419-3d80-4668-a66e-e84c30767d2d"
      },
      "execution_count": null,
      "outputs": [
        {
          "output_type": "stream",
          "name": "stdout",
          "text": [
            "Enter an integer = 10\n",
            " \n",
            "Enter an decimal value = 25.5\n",
            " \n",
            "Enter a String = 12\n",
            " \n",
            "\n",
            "X= 20\n",
            "\n",
            "Y= 76.5\n",
            "\n",
            "Z= 12121212\n"
          ]
        }
      ]
    },
    {
      "cell_type": "code",
      "source": [
        "A= int(input(\"Enter value of A = \"));\n",
        "print(\" \")#space\n",
        "B= float(input(\"Enter value of B = \"));\n",
        "print(\" \")#space\n",
        "C= float(input(\"Enter value of C = \"))\n",
        "X=2*A\n",
        "Y=3*B\n",
        "Z=4*C\n",
        "print(\" \")#space\n",
        "T=X+Y+Z\n",
        "print(\"\\n 2A+3B+4C=\", T)"
      ],
      "metadata": {
        "colab": {
          "base_uri": "https://localhost:8080/"
        },
        "id": "mc4wMiWm7omA",
        "outputId": "27a08ce5-e1e3-4fa5-8b8c-03da0f8d8a26"
      },
      "execution_count": null,
      "outputs": [
        {
          "output_type": "stream",
          "name": "stdout",
          "text": [
            "Enter value of A = 10\n",
            " \n",
            "Enter value of B = 12.5\n",
            " \n",
            "Enter value of C = 10\n",
            " \n",
            "\n",
            " 2A+3B+4C= 97.5\n"
          ]
        }
      ]
    },
    {
      "cell_type": "code",
      "source": [
        "A = float(input(\"Enter value of A = \"));\n",
        "print(\" \")#space\n",
        "B = float(input(\"Enter value of B = \"));\n",
        "print(\" \")#space\n",
        "C = float(input(\"Enter value of C =\"))\n",
        "print(\" \")#space\n",
        "G=A\n",
        "H=10*B\n",
        "I=6*C\n",
        "T=G+H-I\n",
        "print(\"\\nOut put of A+10B-6C =\", T)"
      ],
      "metadata": {
        "colab": {
          "base_uri": "https://localhost:8080/"
        },
        "id": "pyoDwb_-9Bhs",
        "outputId": "4a97224d-3b9a-460c-8ba2-b6c2308f57e7"
      },
      "execution_count": null,
      "outputs": [
        {
          "output_type": "stream",
          "name": "stdout",
          "text": [
            "Enter value of A = 12\n",
            " \n",
            "Enter value of B = 20.5\n",
            " \n",
            "Enter value of C =5\n",
            " \n",
            "\n",
            "Out put of A+10B-6C = 187.0\n"
          ]
        }
      ]
    },
    {
      "cell_type": "code",
      "source": [
        "A = float(input(\"Enter value of A = \"));\n",
        "print(\" \")#space\n",
        "B = float(input(\"Enter value of B = \"));\n",
        "print(\" \")#space\n",
        "C = float(input(\"Enter value of C = \"))\n",
        "print(\" \")#space\n",
        "T=A+B-C\n",
        "print(\"\\nOutput of A+B-C =\", T)"
      ],
      "metadata": {
        "colab": {
          "base_uri": "https://localhost:8080/"
        },
        "id": "FEs91TGc-YVq",
        "outputId": "a0be3b10-8459-4bb4-9a56-17ac0b507cd1"
      },
      "execution_count": null,
      "outputs": [
        {
          "output_type": "stream",
          "name": "stdout",
          "text": [
            "Enter value of A = 12\n",
            " \n",
            "Enter value of B = 7\n",
            " \n",
            "Enter value of C = 2.5\n",
            " \n",
            "\n",
            "Output of A+B-C = 16.5\n"
          ]
        }
      ]
    },
    {
      "cell_type": "code",
      "source": [
        "Quantity = float(input(\"Quantity = \"));\n",
        "print(\"\\n\" )#space\n",
        "Rate = float(input(\"Rate = \"));\n",
        "X = Quantity*Rate\n",
        "print(\"\\nTotal =\", X)\n",
        "print(\"\\n\" )#space\n",
        "A = float(input(\"Discount % = \"));\n",
        "B = X/100*A\n",
        "C = X-B\n",
        "print(\"\\nDiscount =\", C)\n",
        "print(\"\\n\" )#space\n",
        "GST = C/100*float(input(\"GST % = \"));\n",
        "print(\"\\nGST =\", GST)\n",
        "SGST = GST/2\n",
        "print(\"\\nSGST =\", SGST)\n",
        "CGST = GST/2\n",
        "print(\"\\nSGST =\", CGST)\n",
        "Y = C-GST\n",
        "print(\"\\nGross Total = \", Y)"
      ],
      "metadata": {
        "colab": {
          "base_uri": "https://localhost:8080/"
        },
        "id": "fiWaMXPv0KqH",
        "outputId": "34e0857d-1eea-4c0e-aee9-288b2af16c52"
      },
      "execution_count": null,
      "outputs": [
        {
          "output_type": "stream",
          "name": "stdout",
          "text": [
            "Quantity = 250\n",
            "\n",
            "\n",
            "Rate = 12\n",
            "\n",
            "Total = 3000.0\n",
            "\n",
            "\n",
            "Discount % = 10\n",
            "\n",
            "Discount = 2700.0\n",
            "\n",
            "\n",
            "GST % = 8\n",
            "\n",
            "GST = 216.0\n",
            "\n",
            "SGST = 108.0\n",
            "\n",
            "SGST = 108.0\n",
            "\n",
            "Gross Total =  2484.0\n"
          ]
        }
      ]
    },
    {
      "cell_type": "code",
      "source": [
        "A = [\"apple\", \"banana\", \"cherry\"]\n",
        "print(A)"
      ],
      "metadata": {
        "colab": {
          "base_uri": "https://localhost:8080/"
        },
        "id": "XUGDN5O5n929",
        "outputId": "ef173aad-d818-482e-df8d-b69eea4a666b"
      },
      "execution_count": null,
      "outputs": [
        {
          "output_type": "stream",
          "name": "stdout",
          "text": [
            "['apple', 'banana', 'cherry']\n"
          ]
        }
      ]
    },
    {
      "cell_type": "code",
      "source": [
        "a = [\"apple\", \"banana\", \"cherry\"]\n",
        "print(len(a))"
      ],
      "metadata": {
        "colab": {
          "base_uri": "https://localhost:8080/"
        },
        "id": "n7OJG2AMoHl2",
        "outputId": "b9beaad8-9516-4143-b4a1-c637e53428eb"
      },
      "execution_count": null,
      "outputs": [
        {
          "output_type": "stream",
          "name": "stdout",
          "text": [
            "3\n"
          ]
        }
      ]
    },
    {
      "cell_type": "code",
      "source": [
        "list1 = [\"apple\", \"banana\", \"cherry\"]\n",
        "list2 = [1, 5, 7, 9, 3]\n",
        "list3 = [True, False, False]\n",
        "print(list1)"
      ],
      "metadata": {
        "colab": {
          "base_uri": "https://localhost:8080/"
        },
        "id": "m2Btqu75onxN",
        "outputId": "fa31a22d-893f-4a69-a370-cda28e685212"
      },
      "execution_count": null,
      "outputs": [
        {
          "output_type": "stream",
          "name": "stdout",
          "text": [
            "['apple', 'banana', 'cherry']\n"
          ]
        }
      ]
    },
    {
      "cell_type": "code",
      "source": [
        "list1 = [\"apple\", \"banana\", \"cherry\"]\n",
        "list2 = [1, 5, 7, 9, 3]\n",
        "list3 = [True, False, False]\n",
        "a1 = list1[2]\n",
        "print(a1)"
      ],
      "metadata": {
        "colab": {
          "base_uri": "https://localhost:8080/"
        },
        "id": "HSwNmGXXph9j",
        "outputId": "f392896a-b813-422e-a111-380702e48bba"
      },
      "execution_count": null,
      "outputs": [
        {
          "output_type": "stream",
          "name": "stdout",
          "text": [
            "cherry\n"
          ]
        }
      ]
    },
    {
      "cell_type": "code",
      "source": [
        "list = [\"apple\", \"banana\", \"cherry\"]\n",
        "print(list[0])"
      ],
      "metadata": {
        "colab": {
          "base_uri": "https://localhost:8080/"
        },
        "id": "4C0adV7Gpqw0",
        "outputId": "9d6fe03b-9f83-433b-b8ea-d726f4bf29f9"
      },
      "execution_count": null,
      "outputs": [
        {
          "output_type": "stream",
          "name": "stdout",
          "text": [
            "apple\n"
          ]
        }
      ]
    },
    {
      "cell_type": "code",
      "source": [
        "fruits = [\"apple\", \"banana\", \"cherry\", \"orange\", \"kiwi\", \"melon\", \"mango\"]\n",
        "print(fruits[0])\n",
        "print(fruits[1])\n",
        "print(fruits[2])\n",
        "print(fruits[3])\n",
        "print(fruits[4])\n",
        "print(fruits[5])\n",
        "print(fruits[6])"
      ],
      "metadata": {
        "colab": {
          "base_uri": "https://localhost:8080/"
        },
        "id": "gH2S-LDhpvN0",
        "outputId": "2897fc9a-9743-440f-fa88-828a7cfae820"
      },
      "execution_count": null,
      "outputs": [
        {
          "output_type": "stream",
          "name": "stdout",
          "text": [
            "apple\n",
            "banana\n",
            "cherry\n",
            "orange\n",
            "kiwi\n",
            "melon\n",
            "mango\n"
          ]
        }
      ]
    },
    {
      "cell_type": "code",
      "source": [
        "fruits = [\"apple\", \"banana\", \"cherry\", \"orange\", \"kiwi\", \"melon\", \"mango\"]\n",
        "print(fruits[-1])\n",
        "print(fruits[-2])\n",
        "print(fruits[-3])\n",
        "print(fruits[-4])\n",
        "print(fruits[-5])\n",
        "print(fruits[-6])\n",
        "print(fruits[-7])"
      ],
      "metadata": {
        "colab": {
          "base_uri": "https://localhost:8080/"
        },
        "id": "Mqtka606qP49",
        "outputId": "8cc30b5d-e98d-46f9-e823-21015084a771"
      },
      "execution_count": null,
      "outputs": [
        {
          "output_type": "stream",
          "name": "stdout",
          "text": [
            "mango\n",
            "melon\n",
            "kiwi\n",
            "orange\n",
            "cherry\n",
            "banana\n",
            "apple\n"
          ]
        }
      ]
    },
    {
      "cell_type": "code",
      "source": [
        "thislist = [\"apple\", \"banana\", \"cherry\", \"orange\", \"kiwi\", \"melon\", \"mango\"]\n",
        "print(thislist[2:5])"
      ],
      "metadata": {
        "colab": {
          "base_uri": "https://localhost:8080/"
        },
        "id": "QcGyEJD6rRXb",
        "outputId": "2e0b40ef-eac1-463a-c795-07e0bc3aaea7"
      },
      "execution_count": null,
      "outputs": [
        {
          "output_type": "stream",
          "name": "stdout",
          "text": [
            "['cherry', 'orange', 'kiwi']\n"
          ]
        }
      ]
    },
    {
      "cell_type": "code",
      "source": [
        "thislist = [\"apple\", \"banana\", \"cherry\", \"orange\", \"kiwi\", \"melon\", \"mango\"]\n",
        "print(thislist[:4])"
      ],
      "metadata": {
        "colab": {
          "base_uri": "https://localhost:8080/"
        },
        "id": "Os_HoLtcrXOO",
        "outputId": "3c576160-9f0f-44b2-8ab4-28d3e713b015"
      },
      "execution_count": null,
      "outputs": [
        {
          "output_type": "stream",
          "name": "stdout",
          "text": [
            "['apple', 'banana', 'cherry', 'orange']\n"
          ]
        }
      ]
    },
    {
      "cell_type": "code",
      "source": [
        "thislist = [\"apple\", \"banana\", \"cherry\", \"orange\", \"kiwi\", \"melon\", \"mango\"]\n",
        "print(thislist[2:])"
      ],
      "metadata": {
        "colab": {
          "base_uri": "https://localhost:8080/"
        },
        "id": "J3xPSPm1rqji",
        "outputId": "da9e6e87-5feb-4e6f-a03a-601ca2158b77"
      },
      "execution_count": null,
      "outputs": [
        {
          "output_type": "stream",
          "name": "stdout",
          "text": [
            "['cherry', 'orange', 'kiwi', 'melon', 'mango']\n"
          ]
        }
      ]
    },
    {
      "cell_type": "code",
      "source": [
        "thislist = [\"apple\", \"banana\", \"cherry\"]\n",
        "thislist[1] = \"kiwi\"\n",
        "print(thislist)"
      ],
      "metadata": {
        "colab": {
          "base_uri": "https://localhost:8080/"
        },
        "id": "hfUkIXo7saiF",
        "outputId": "1455be33-2c66-46d7-cb40-3a0d5bf6aa7e"
      },
      "execution_count": null,
      "outputs": [
        {
          "output_type": "stream",
          "name": "stdout",
          "text": [
            "['apple', 'kiwi', 'cherry']\n"
          ]
        }
      ]
    },
    {
      "cell_type": "code",
      "source": [
        "thislist = [\"apple\", \"banana\", \"cherry\", \"orange\", \"kiwi\", \"mango\"]\n",
        "thislist[1:3] = [\"kiwi\", \"watermelon\"]\n",
        "print(thislist)"
      ],
      "metadata": {
        "colab": {
          "base_uri": "https://localhost:8080/"
        },
        "id": "TLYRlmt-skR3",
        "outputId": "14701862-8fe0-4823-d0aa-27f4666f0251"
      },
      "execution_count": null,
      "outputs": [
        {
          "output_type": "stream",
          "name": "stdout",
          "text": [
            "['apple', 'kiwi', 'watermelon', 'orange', 'kiwi', 'mango']\n"
          ]
        }
      ]
    },
    {
      "cell_type": "code",
      "source": [
        "thislist = [\"apple\", \"banana\", \"cherry\"]\n",
        "thislist.insert(2, \"watermelon\")\n",
        "print(thislist)"
      ],
      "metadata": {
        "colab": {
          "base_uri": "https://localhost:8080/"
        },
        "id": "bQ-g4-bctJPC",
        "outputId": "8c87e2e5-ca3f-4ac2-888b-047cad73114f"
      },
      "execution_count": null,
      "outputs": [
        {
          "output_type": "stream",
          "name": "stdout",
          "text": [
            "['apple', 'banana', 'watermelon', 'cherry']\n"
          ]
        }
      ]
    },
    {
      "cell_type": "code",
      "source": [
        "thislist = [\"apple\", \"banana\", \"cherry\"]\n",
        "thislist.append(\"orange\")\n",
        "print(thislist)"
      ],
      "metadata": {
        "colab": {
          "base_uri": "https://localhost:8080/"
        },
        "id": "n03u23aKtL55",
        "outputId": "9e692523-d0ed-40b3-c61c-2b44e31d785b"
      },
      "execution_count": null,
      "outputs": [
        {
          "output_type": "stream",
          "name": "stdout",
          "text": [
            "['apple', 'banana', 'cherry', 'orange']\n"
          ]
        }
      ]
    },
    {
      "cell_type": "code",
      "source": [
        "thislist = [\"apple\", \"banana\", \"cherry\"]\n",
        "tropical = [\"mango\", \"pineapple\", \"papaya\"]\n",
        "thislist.extend(tropical)\n",
        "print(thislist)"
      ],
      "metadata": {
        "colab": {
          "base_uri": "https://localhost:8080/"
        },
        "id": "Zkt8_KuHtPAW",
        "outputId": "335a8699-96d3-42f7-a10d-5cf58ef3692c"
      },
      "execution_count": null,
      "outputs": [
        {
          "output_type": "stream",
          "name": "stdout",
          "text": [
            "['apple', 'banana', 'cherry', 'mango', 'pineapple', 'papaya']\n"
          ]
        }
      ]
    },
    {
      "cell_type": "code",
      "source": [
        "thislist = [\"apple\", \"banana\", \"cherry\"]\n",
        "thislist.pop(1)\n",
        "print(thislist)"
      ],
      "metadata": {
        "colab": {
          "base_uri": "https://localhost:8080/"
        },
        "id": "_e1ww4YFuSv4",
        "outputId": "f89c74da-794d-4d5f-dc97-1545a8432af4"
      },
      "execution_count": null,
      "outputs": [
        {
          "output_type": "stream",
          "name": "stdout",
          "text": [
            "['apple', 'cherry']\n"
          ]
        }
      ]
    },
    {
      "cell_type": "code",
      "source": [
        "thislist = [\"apple\", \"banana\", \"cherry\"]\n",
        "thislist.remove(\"banana\")\n",
        "print(thislist)"
      ],
      "metadata": {
        "colab": {
          "base_uri": "https://localhost:8080/"
        },
        "id": "VQcVEAHhujMl",
        "outputId": "067f9d71-3825-4b8a-8cd0-b8db85f7afd7"
      },
      "execution_count": null,
      "outputs": [
        {
          "output_type": "stream",
          "name": "stdout",
          "text": [
            "['apple', 'cherry']\n"
          ]
        }
      ]
    },
    {
      "cell_type": "code",
      "source": [
        "thislist = [\"apple\", \"banana\", \"cherry\"]\n",
        "del thislist[0]\n",
        "print(thislist)"
      ],
      "metadata": {
        "colab": {
          "base_uri": "https://localhost:8080/"
        },
        "id": "SvMkeiXhuuVz",
        "outputId": "18302608-7907-430f-fc8a-675e30b32a63"
      },
      "execution_count": null,
      "outputs": [
        {
          "output_type": "stream",
          "name": "stdout",
          "text": [
            "['banana', 'cherry']\n"
          ]
        }
      ]
    },
    {
      "cell_type": "code",
      "source": [
        "thislist = [\"orange\", \"mango\", \"kiwi\", \"pineapple\", \"banana\"]\n",
        "thislist.sort()\n",
        "print(thislist)"
      ],
      "metadata": {
        "colab": {
          "base_uri": "https://localhost:8080/"
        },
        "id": "bzOJsqnKviYx",
        "outputId": "274c37a5-4b17-431e-96c5-8bb6daf854b9"
      },
      "execution_count": null,
      "outputs": [
        {
          "output_type": "stream",
          "name": "stdout",
          "text": [
            "['banana', 'kiwi', 'mango', 'orange', 'pineapple']\n"
          ]
        }
      ]
    },
    {
      "cell_type": "code",
      "source": [
        "thislist = [9,10,11,89,0,2,3,4]\n",
        "thislist.sort(reverse = True)\n",
        "print(thislist)"
      ],
      "metadata": {
        "colab": {
          "base_uri": "https://localhost:8080/"
        },
        "id": "Nfkli4OFvkuU",
        "outputId": "9fc17d4a-2440-431c-a5e4-f3c4682553e7"
      },
      "execution_count": null,
      "outputs": [
        {
          "output_type": "stream",
          "name": "stdout",
          "text": [
            "[89, 11, 10, 9, 4, 3, 2, 0]\n"
          ]
        }
      ]
    },
    {
      "cell_type": "code",
      "source": [
        "thislist = [9,10,11,89,0,2,3,4]\n",
        "thislist.sort( )\n",
        "print(thislist)"
      ],
      "metadata": {
        "colab": {
          "base_uri": "https://localhost:8080/"
        },
        "id": "7jhAMRC2voqL",
        "outputId": "8f92efa2-25d2-410a-fdb7-44d353d0cfc4"
      },
      "execution_count": null,
      "outputs": [
        {
          "output_type": "stream",
          "name": "stdout",
          "text": [
            "[0, 2, 3, 4, 9, 10, 11, 89]\n"
          ]
        }
      ]
    },
    {
      "cell_type": "code",
      "source": [
        "list1 = [\"a\", \"b\", \"c\"]\n",
        "list2 = [1, 2, 3]\n",
        "\n",
        "list3 = list1 + list2\n",
        "print(list3)"
      ],
      "metadata": {
        "colab": {
          "base_uri": "https://localhost:8080/"
        },
        "id": "lm7i1nukvtH0",
        "outputId": "a1f0d8b6-6429-44c6-8676-010e5888f2a0"
      },
      "execution_count": null,
      "outputs": [
        {
          "output_type": "stream",
          "name": "stdout",
          "text": [
            "['a', 'b', 'c', 1, 2, 3]\n"
          ]
        }
      ]
    },
    {
      "cell_type": "code",
      "source": [
        "Company = [\"Kolte-Patil Develope\",\"Apcotex Industries L\",\"Genus Power Infrastr\",\"Rallis India\",\"MCX\",\"Mahindra CIE Auto\"]\n",
        "print(len(Company))"
      ],
      "metadata": {
        "colab": {
          "base_uri": "https://localhost:8080/"
        },
        "id": "4moNYyEcxDsj",
        "outputId": "873f5d1a-e040-4603-8ce3-7bb3ee7d3afd"
      },
      "execution_count": null,
      "outputs": [
        {
          "output_type": "stream",
          "name": "stdout",
          "text": [
            "6\n"
          ]
        }
      ]
    },
    {
      "cell_type": "code",
      "source": [
        "Listofpreviousclose = [\"262.50\",\"432.20\",\"84.75\",\"241.50\",\"1,509.35\",\"356.70\"]\n",
        "Listofcurrentprice = [\"307.85\",\"466.85\",\"91.10\",\"258.05\",\"1,604.15\",\"377.50\"]\n",
        "Listofpreviousclose .remove(\"1,509.35\")\n",
        "print(Listofpreviousclose)"
      ],
      "metadata": {
        "colab": {
          "base_uri": "https://localhost:8080/"
        },
        "id": "Y_MlsLByxrS9",
        "outputId": "658383b9-a847-49ff-8017-5e3c62c0d37d"
      },
      "execution_count": null,
      "outputs": [
        {
          "output_type": "stream",
          "name": "stdout",
          "text": [
            "['262.50', '432.20', '84.75', '241.50', '356.70']\n"
          ]
        }
      ]
    },
    {
      "cell_type": "code",
      "source": [
        "Company = [\"Kolte-Patil Develope\",\"Apcotex Industries L\",\"Genus Power Infrastr\",\"Rallis India\",\"MCX\",\"Mahindra CIE Auto\"]\n",
        "Company.insert(2, \"TCS\")\n",
        "print(Company)"
      ],
      "metadata": {
        "colab": {
          "base_uri": "https://localhost:8080/"
        },
        "id": "F9gu6odxzLzT",
        "outputId": "2777b189-634f-4016-c737-fd52c1845b75"
      },
      "execution_count": null,
      "outputs": [
        {
          "output_type": "stream",
          "name": "stdout",
          "text": [
            "['Kolte-Patil Develope', 'Apcotex Industries L', 'TCS', 'Genus Power Infrastr', 'Rallis India', 'MCX', 'Mahindra CIE Auto']\n"
          ]
        }
      ]
    },
    {
      "cell_type": "code",
      "source": [
        "Company = [\"Kolte-Patil Develope\",\"Apcotex Industries L\",\"Genus Power Infrastr\",\"Rallis India\",\"MCX\",\"Mahindra CIE Auto\"]\n",
        "del Company[4]\n",
        "print(Company)"
      ],
      "metadata": {
        "colab": {
          "base_uri": "https://localhost:8080/"
        },
        "id": "Xo4AnaUM-oBE",
        "outputId": "f972eed1-dc19-465b-daaf-6638e9ce007f"
      },
      "execution_count": null,
      "outputs": [
        {
          "output_type": "stream",
          "name": "stdout",
          "text": [
            "['Kolte-Patil Develope', 'Apcotex Industries L', 'Genus Power Infrastr', 'Rallis India', 'Mahindra CIE Auto']\n"
          ]
        }
      ]
    },
    {
      "cell_type": "code",
      "source": [
        "Listofpreviousclose = [\"262.50\",\"432.20\",\"84.75\",\"241.50\",\"1,509.35\",\"356.70\"]\n",
        "Listofcurrentprice = [\"307.85\",\"466.85\",\"91.10\",\"258.05\",\"1,604.15\",\"377.50\"]\n",
        "Listofpreviousclose.append(\"466.85\")\n",
        "print(Listofpreviousclose)\n",
        "Listofcurrentprice.append(\"432.20\")\n",
        "print(Listofcurrentprice)"
      ],
      "metadata": {
        "colab": {
          "base_uri": "https://localhost:8080/"
        },
        "id": "Qp9ZTEf8zoMW",
        "outputId": "eb4f7b2b-276f-4486-e8dd-ad29bf9a538c"
      },
      "execution_count": null,
      "outputs": [
        {
          "output_type": "stream",
          "name": "stdout",
          "text": [
            "['262.50', '432.20', '84.75', '241.50', '1,509.35', '356.70', '466.85']\n",
            "['307.85', '466.85', '91.10', '258.05', '1,604.15', '377.50', '432.20']\n"
          ]
        }
      ]
    },
    {
      "cell_type": "code",
      "source": [
        "\n",
        "Listofpreviousclose = [\"262.50\",\"432.20\",\"84.75\",\"241.50\",\"1,509.35\",\"356.70\"]\n",
        "Listofcurrentprice = [\"307.85\",\"466.85\",\"91.10\",\"258.05\",\"1,604.15\",\"377.50\"]\n",
        "Listofpreviousclose.extend(Listofcurrentprice)\n",
        "print(Listofpreviousclose)"
      ],
      "metadata": {
        "colab": {
          "base_uri": "https://localhost:8080/"
        },
        "id": "W6kC0XS-1aB_",
        "outputId": "8e2600a6-39cf-49aa-b31d-fcc4d6f8caef"
      },
      "execution_count": null,
      "outputs": [
        {
          "output_type": "stream",
          "name": "stdout",
          "text": [
            "['262.50', '432.20', '84.75', '241.50', '1,509.35', '356.70', '307.85', '466.85', '91.10', '258.05', '1,604.15', '377.50']\n"
          ]
        }
      ]
    },
    {
      "cell_type": "code",
      "source": [
        "Listofpreviousclose = [\"262.50\",\"432.20\",\"84.75\",\"241.50\",\"1,509.35\",\"356.70\"]\n",
        "Listofcurrentprice = [\"307.85\",\"466.85\",\"91.10\",\"258.05\",\"1,604.15\",\"377.50\"]\n",
        "Listofcurrentprice.extend(Listofpreviousclose)\n",
        "print(Listofcurrentprice)"
      ],
      "metadata": {
        "colab": {
          "base_uri": "https://localhost:8080/"
        },
        "id": "1WNS_Ik-1wFX",
        "outputId": "6e9da604-0825-4fe7-a82a-90563713dca5"
      },
      "execution_count": null,
      "outputs": [
        {
          "output_type": "stream",
          "name": "stdout",
          "text": [
            "['307.85', '466.85', '91.10', '258.05', '1,604.15', '377.50', '262.50', '432.20', '84.75', '241.50', '1,509.35', '356.70']\n"
          ]
        }
      ]
    },
    {
      "cell_type": "code",
      "source": [
        "Squad = [\"Rohit Sharma\",\"Shubman Gill,\",\"Ishan Kishan\",\"Virat Kohli\",\"Shreyas Iyer\",\"Suryakumar Yadav\",\"KS Bharat\",\"Hardik Pandya\",\"Washington Sundar\",\"Shahbaz Ahmed\", \"Shardul Thakur\", \"Yuzvendra Chahal\",\"Kuldeep Yadav\", \"Mohd. Shami\", \"Mohd. Siraj\", \"Umran Malik\"]\n",
        "print(len(Squad))"
      ],
      "metadata": {
        "colab": {
          "base_uri": "https://localhost:8080/"
        },
        "id": "dp7E54Mv15gg",
        "outputId": "904976ec-20a9-4215-8bfa-a6c0f94cb043"
      },
      "execution_count": null,
      "outputs": [
        {
          "output_type": "stream",
          "name": "stdout",
          "text": [
            "16\n"
          ]
        }
      ]
    },
    {
      "cell_type": "code",
      "source": [
        "Squad = [\"Rohit Sharma\",\"Shubman Gill,\",\"Ishan Kishan\",\"Virat Kohli\",\"Shreyas Iyer\",\"Suryakumar Yadav\",\"KS Bharat\",\"Hardik Pandya\",\"Washington Sundar\",\"Shahbaz Ahmed\", \"Shardul Thakur\", \"Yuzvendra Chahal\",\"Kuldeep Yadav\", \"Mohd. Shami\", \"Mohd. Siraj\", \"Umran Malik\"]\n",
        "print(Squad[:11])"
      ],
      "metadata": {
        "colab": {
          "base_uri": "https://localhost:8080/"
        },
        "id": "fkAArqFYBYZC",
        "outputId": "f72b60dc-86c8-42aa-aa16-bca0759f2096"
      },
      "execution_count": null,
      "outputs": [
        {
          "output_type": "stream",
          "name": "stdout",
          "text": [
            "['Rohit Sharma', 'Shubman Gill,', 'Ishan Kishan', 'Virat Kohli', 'Shreyas Iyer', 'Suryakumar Yadav', 'KS Bharat', 'Hardik Pandya', 'Washington Sundar', 'Shahbaz Ahmed', 'Shardul Thakur']\n"
          ]
        }
      ]
    },
    {
      "cell_type": "code",
      "source": [
        "Squad = [\"Rohit Sharma\",\"Shubman Gill,\",\"Ishan Kishan\",\"Virat Kohli\",\"Shreyas Iyer\",\"Suryakumar Yadav\",\"KS Bharat\",\"Hardik Pandya\",\"Washington Sundar\",\"Shahbaz Ahmed\", \"Shardul Thakur\", \"Yuzvendra Chahal\",\"Kuldeep Yadav\", \"Mohd. Shami\", \"Mohd. Siraj\", \"Umran Malik\"]\n",
        "print(Squad[0])"
      ],
      "metadata": {
        "colab": {
          "base_uri": "https://localhost:8080/"
        },
        "id": "qubpcn5ABcAS",
        "outputId": "5563564b-0348-4b41-df3a-28e1ba239aa8"
      },
      "execution_count": null,
      "outputs": [
        {
          "output_type": "stream",
          "name": "stdout",
          "text": [
            "Rohit Sharma\n"
          ]
        }
      ]
    },
    {
      "cell_type": "code",
      "source": [
        "Squad = [\"Rohit Sharma\",\"Shubman Gill,\",\"Ishan Kishan\",\"Virat Kohli\",\"Shreyas Iyer\",\"Suryakumar Yadav\",\"KS Bharat\",\"Hardik Pandya\",\"Washington Sundar\",\"Shahbaz Ahmed\", \"Shardul Thakur\", \"Yuzvendra Chahal\",\"Kuldeep Yadav\", \"Mohd. Shami\", \"Mohd. Siraj\", \"Umran Malik\"]\n",
        "print(Squad[:4])"
      ],
      "metadata": {
        "colab": {
          "base_uri": "https://localhost:8080/"
        },
        "id": "Jl5aPXtoBewx",
        "outputId": "f3d902b6-8087-40b0-d610-4b2da6a2420a"
      },
      "execution_count": null,
      "outputs": [
        {
          "output_type": "stream",
          "name": "stdout",
          "text": [
            "['Rohit Sharma', 'Shubman Gill,', 'Ishan Kishan', 'Virat Kohli']\n"
          ]
        }
      ]
    },
    {
      "cell_type": "code",
      "source": [
        "Squad = [\"Rohit Sharma\",\"Shubman Gill,\",\"Ishan Kishan\",\"Virat Kohli\",\"Shreyas Iyer\",\"Suryakumar Yadav\",\"KS Bharat\",\"Hardik Pandya\",\"Washington Sundar\",\"Shahbaz Ahmed\", \"Shardul Thakur\", \"Yuzvendra Chahal\",\"Kuldeep Yadav\", \"Mohd. Shami\", \"Mohd. Siraj\", \"Umran Malik\"]\n",
        "print(Squad[4])"
      ],
      "metadata": {
        "colab": {
          "base_uri": "https://localhost:8080/"
        },
        "id": "TquHJu5nBhbB",
        "outputId": "071f607b-6818-4160-fe31-4884c0c57b4f"
      },
      "execution_count": null,
      "outputs": [
        {
          "output_type": "stream",
          "name": "stdout",
          "text": [
            "Shreyas Iyer\n"
          ]
        }
      ]
    },
    {
      "cell_type": "code",
      "source": [
        "Squad = [\"Rohit Sharma\",\"Shubman Gill,\",\"Ishan Kishan\",\"Virat Kohli\",\"Shreyas Iyer\",\"Suryakumar Yadav\",\"KS Bharat\",\"Hardik Pandya\",\"Washington Sundar\",\"Shahbaz Ahmed\", \"Shardul Thakur\", \"Yuzvendra Chahal\",\"Kuldeep Yadav\", \"Mohd. Shami\", \"Mohd. Siraj\", \"Umran Malik\"]\n",
        "print(Squad[-4:])"
      ],
      "metadata": {
        "colab": {
          "base_uri": "https://localhost:8080/"
        },
        "id": "oPgG3XzxBkax",
        "outputId": "1a61da60-00cd-48f4-fab4-f21769bbe8d2"
      },
      "execution_count": null,
      "outputs": [
        {
          "output_type": "stream",
          "name": "stdout",
          "text": [
            "['Kuldeep Yadav', 'Mohd. Shami', 'Mohd. Siraj', 'Umran Malik']\n"
          ]
        }
      ]
    },
    {
      "cell_type": "code",
      "source": [
        "Squad = [\"Rohit Sharma\",\"Shubman Gill,\",\"Ishan Kishan\",\"Virat Kohli\",\"Shreyas Iyer\",\"Suryakumar Yadav\",\"KS Bharat\",\"Hardik Pandya\",\"Washington Sundar\",\"Shahbaz Ahmed\", \"Shardul Thakur\", \"Yuzvendra Chahal\",\"Kuldeep Yadav\", \"Mohd. Shami\", \"Mohd. Siraj\", \"Umran Malik\"]\n",
        "Squad.insert(0, \"MS Dhoni\")\n",
        "print(Squad)"
      ],
      "metadata": {
        "colab": {
          "base_uri": "https://localhost:8080/"
        },
        "id": "o_t0yBqDBmxR",
        "outputId": "77849a98-b3a0-4bf5-8359-112ee3c53cc9"
      },
      "execution_count": null,
      "outputs": [
        {
          "output_type": "stream",
          "name": "stdout",
          "text": [
            "['MS Dhoni', 'Rohit Sharma', 'Shubman Gill,', 'Ishan Kishan', 'Virat Kohli', 'Shreyas Iyer', 'Suryakumar Yadav', 'KS Bharat', 'Hardik Pandya', 'Washington Sundar', 'Shahbaz Ahmed', 'Shardul Thakur', 'Yuzvendra Chahal', 'Kuldeep Yadav', 'Mohd. Shami', 'Mohd. Siraj', 'Umran Malik']\n"
          ]
        }
      ]
    },
    {
      "cell_type": "code",
      "source": [
        "Squad = [\"Rohit Sharma\",\"Shubman Gill,\",\"Ishan Kishan\",\"Virat Kohli\",\"Shreyas Iyer\",\"Suryakumar Yadav\",\"KS Bharat\",\"Hardik Pandya\",\"Washington Sundar\",\"Shahbaz Ahmed\", \"Shardul Thakur\", \"Yuzvendra Chahal\",\"Kuldeep Yadav\", \"Mohd. Shami\", \"Mohd. Siraj\", \"Umran Malik\"]\n",
        "print(len(Squad))\n",
        "print(Squad[:11])\n",
        "print(Squad[0])\n",
        "print(Squad[:4])\n",
        "print(Squad[4])\n",
        "print(Squad[-4:])\n",
        "Squad.insert(0, \"MS Dhoni\")\n",
        "print(Squad)"
      ],
      "metadata": {
        "colab": {
          "base_uri": "https://localhost:8080/"
        },
        "id": "O97Wt4Da4-xO",
        "outputId": "0bacde9e-2d2b-4c05-bada-f46b0adeae2c"
      },
      "execution_count": null,
      "outputs": [
        {
          "output_type": "stream",
          "name": "stdout",
          "text": [
            "16\n",
            "['Rohit Sharma', 'Shubman Gill,', 'Ishan Kishan', 'Virat Kohli', 'Shreyas Iyer', 'Suryakumar Yadav', 'KS Bharat', 'Hardik Pandya', 'Washington Sundar', 'Shahbaz Ahmed', 'Shardul Thakur']\n",
            "Rohit Sharma\n",
            "['Rohit Sharma', 'Shubman Gill,', 'Ishan Kishan', 'Virat Kohli']\n",
            "Shreyas Iyer\n",
            "['Kuldeep Yadav', 'Mohd. Shami', 'Mohd. Siraj', 'Umran Malik']\n",
            "['MS Dhoni', 'Rohit Sharma', 'Shubman Gill,', 'Ishan Kishan', 'Virat Kohli', 'Shreyas Iyer', 'Suryakumar Yadav', 'KS Bharat', 'Hardik Pandya', 'Washington Sundar', 'Shahbaz Ahmed', 'Shardul Thakur', 'Yuzvendra Chahal', 'Kuldeep Yadav', 'Mohd. Shami', 'Mohd. Siraj', 'Umran Malik']\n"
          ]
        }
      ]
    },
    {
      "cell_type": "code",
      "source": [
        "Squad = [\"Rohit Sharma\",\"Shubman Gill\",\"Ishan Kishan\",\"Virat Kohli\",\"Shreyas Iyer\",\"Suryakumar Yadav\",\"KS Bharat\",\"Hardik Pandya\",\"Washington Sundar\",\"Shahbaz Ahmed\", \"Shardul Thakur\", \"Yuzvendra Chahal\",\"Kuldeep Yadav\", \"Mohd. Shami\", \"Mohd. Siraj\", \"Umran Malik\"]\n",
        "Captian = Squad[0]\n",
        "print(Captian)"
      ],
      "metadata": {
        "colab": {
          "base_uri": "https://localhost:8080/"
        },
        "id": "UnHIG-Cs8jA_",
        "outputId": "d394115d-36f1-45e6-b1b3-01e91a385a57"
      },
      "execution_count": null,
      "outputs": [
        {
          "output_type": "stream",
          "name": "stdout",
          "text": [
            "Rohit Sharma\n"
          ]
        }
      ]
    },
    {
      "cell_type": "code",
      "source": [
        "FCB = [\"Messi\",\"Suarez\",\"Neymar\",\"Iniesta\",\"Xavi\",\"Busquets\",\"Puyol\",\"Pique\",\"Alves\",\"Roberto\",\"Ter Stegen\"]\n",
        "print(len(FCB))\n",
        "print(FCB[:10])\n",
        "del FCB[-5]\n",
        "print(FCB)"
      ],
      "metadata": {
        "colab": {
          "base_uri": "https://localhost:8080/"
        },
        "id": "28CXwoMKB5rp",
        "outputId": "8b7f8769-31a5-471c-a73b-9583ddc0426f"
      },
      "execution_count": null,
      "outputs": [
        {
          "output_type": "stream",
          "name": "stdout",
          "text": [
            "11\n",
            "['Messi', 'Suarez', 'Neymar', 'Iniesta', 'Xavi', 'Busquets', 'Puyol', 'Pique', 'Alves', 'Roberto']\n",
            "['Messi', 'Suarez', 'Neymar', 'Iniesta', 'Xavi', 'Busquets', 'Pique', 'Alves', 'Roberto', 'Ter Stegen']\n"
          ]
        }
      ]
    },
    {
      "cell_type": "code",
      "source": [
        "FCB = [\"Messi\",\"Suarez\",\"Neymar\",\"Iniesta\",\"Xavi\",\"Busquets\",\"Puyol\",\"Pique\",\"Alves\",\"Roberto\",\"Ter Stegen\"]\n",
        "del FCB[-5]\n",
        "print(FCB)"
      ],
      "metadata": {
        "colab": {
          "base_uri": "https://localhost:8080/"
        },
        "id": "z4QYYyLXDhZX",
        "outputId": "e80a4061-8c2b-4cba-eaed-c657a0d9d228"
      },
      "execution_count": null,
      "outputs": [
        {
          "output_type": "stream",
          "name": "stdout",
          "text": [
            "['Messi', 'Suarez', 'Neymar', 'Iniesta', 'Xavi', 'Busquets', 'Pique', 'Alves', 'Roberto', 'Ter Stegen']\n"
          ]
        }
      ]
    },
    {
      "cell_type": "code",
      "source": [
        "FCB = [\"Messi\",\"Suarez\",\"Neymar\",\"Iniesta\",\"Xavi\",\"Busquets\",\"Puyol\",\"Pique\",\"Alves\",\"Roberto\",\"Ter Stegen\"]\n",
        "RM = [\"Ronaldo\",\"Benzema\",\"Bale\",\"Modric\",\"Alonso\",\"Kroos\",\"Ramos\",\"Pepe\",\"Carvajal\",\"Varane\",\"Casillas\"]\n",
        "FCB.extend(RM)\n",
        "print(FCB)\n",
        "print(len(FCB))"
      ],
      "metadata": {
        "colab": {
          "base_uri": "https://localhost:8080/"
        },
        "id": "kQiv6wAhDrUH",
        "outputId": "e3d5f6d7-634b-48d4-f314-cb7fa2ca6ccb"
      },
      "execution_count": null,
      "outputs": [
        {
          "output_type": "stream",
          "name": "stdout",
          "text": [
            "['Messi', 'Suarez', 'Neymar', 'Iniesta', 'Xavi', 'Busquets', 'Puyol', 'Pique', 'Alves', 'Roberto', 'Ter Stegen', 'Ronaldo', 'Benzema', 'Bale', 'Modric', 'Alonso', 'Kroos', 'Ramos', 'Pepe', 'Carvajal', 'Varane', 'Casillas']\n",
            "22\n"
          ]
        }
      ]
    },
    {
      "cell_type": "code",
      "source": [
        "import numpy as np\n",
        "\n",
        "print(np.__version__)"
      ],
      "metadata": {
        "colab": {
          "base_uri": "https://localhost:8080/"
        },
        "id": "FZhaaRuNPWXi",
        "outputId": "4617c78f-be0a-4a62-8834-3abfb9777a7d"
      },
      "execution_count": null,
      "outputs": [
        {
          "output_type": "stream",
          "name": "stdout",
          "text": [
            "1.26.4\n"
          ]
        }
      ]
    },
    {
      "cell_type": "code",
      "source": [
        "import numpy as np\n",
        "\n",
        "a = np.array([1, 2, 3, 4, 5])\n",
        "\n",
        "print(a)"
      ],
      "metadata": {
        "colab": {
          "base_uri": "https://localhost:8080/"
        },
        "id": "sijG9V1aP9QH",
        "outputId": "d82a1f40-4d05-4b44-a5b8-8f5f7509a241"
      },
      "execution_count": null,
      "outputs": [
        {
          "output_type": "stream",
          "name": "stdout",
          "text": [
            "[1 2 3 4 5]\n"
          ]
        }
      ]
    },
    {
      "cell_type": "code",
      "source": [
        "import numpy as np\n",
        "\n",
        "arr = np.array([\"a\", \"b\", \"c\", \"d\", \"e\"])\n",
        "\n",
        "print(arr)"
      ],
      "metadata": {
        "colab": {
          "base_uri": "https://localhost:8080/"
        },
        "id": "eK4Kku95QKx2",
        "outputId": "d5b03769-8f5f-4e63-f1a8-1d2d7adfe3d5"
      },
      "execution_count": null,
      "outputs": [
        {
          "output_type": "stream",
          "name": "stdout",
          "text": [
            "['a' 'b' 'c' 'd' 'e']\n"
          ]
        }
      ]
    },
    {
      "cell_type": "code",
      "source": [
        "import numpy as np\n",
        "\n",
        "arr = np.array(42)\n",
        "\n",
        "print(arr)"
      ],
      "metadata": {
        "colab": {
          "base_uri": "https://localhost:8080/"
        },
        "id": "VOrSXZsCQbo4",
        "outputId": "79eb9232-7e8b-45b0-ad73-63d263f373a6"
      },
      "execution_count": null,
      "outputs": [
        {
          "output_type": "stream",
          "name": "stdout",
          "text": [
            "42\n"
          ]
        }
      ]
    },
    {
      "cell_type": "code",
      "source": [
        "import numpy as np\n",
        "a = np.array([1,2,3,4,5,6])\n",
        "b = np.array([2])\n",
        "c = a+b;\n",
        "print(a)\n",
        "print(b)\n",
        "print(c)"
      ],
      "metadata": {
        "colab": {
          "base_uri": "https://localhost:8080/"
        },
        "id": "3qNuQG5eQcc_",
        "outputId": "10fda919-3123-44a3-e9fc-85ebce2ae843"
      },
      "execution_count": null,
      "outputs": [
        {
          "output_type": "stream",
          "name": "stdout",
          "text": [
            "[1 2 3 4 5 6]\n",
            "[2]\n",
            "[3 4 5 6 7 8]\n"
          ]
        }
      ]
    },
    {
      "cell_type": "code",
      "source": [
        "import numpy as np\n",
        "\n",
        "a = np.array([1,2,3,4,5,6])\n",
        "b = ([2])\n",
        "c = a-b\n",
        "print(a)\n",
        "print(b)\n",
        "print(c)"
      ],
      "metadata": {
        "colab": {
          "base_uri": "https://localhost:8080/"
        },
        "id": "EhJcbbNBRHwm",
        "outputId": "5d91225b-66a2-445a-e406-374e11cf11bc"
      },
      "execution_count": null,
      "outputs": [
        {
          "output_type": "stream",
          "name": "stdout",
          "text": [
            "[1 2 3 4 5 6]\n",
            "[2]\n",
            "[-1  0  1  2  3  4]\n"
          ]
        }
      ]
    },
    {
      "cell_type": "code",
      "source": [
        "import numpy as np\n",
        "\n",
        "a = np.array([1,2,3,4,5,6])\n",
        "b = ([2])\n",
        "c = a*b\n",
        "print(a)\n",
        "print(b)\n",
        "print(c)"
      ],
      "metadata": {
        "colab": {
          "base_uri": "https://localhost:8080/"
        },
        "id": "5V2aXn8eRcW2",
        "outputId": "1d09ac5c-f462-45d0-be93-bd5020d56b67"
      },
      "execution_count": null,
      "outputs": [
        {
          "output_type": "stream",
          "name": "stdout",
          "text": [
            "[1 2 3 4 5 6]\n",
            "[2]\n",
            "[ 2  4  6  8 10 12]\n"
          ]
        }
      ]
    },
    {
      "cell_type": "code",
      "source": [
        "import numpy as np\n",
        "\n",
        "a = np.array([1,2,3,4,5,6])\n",
        "b = ([2])\n",
        "c = a/b\n",
        "print(a)\n",
        "print(b)\n",
        "print(c)"
      ],
      "metadata": {
        "colab": {
          "base_uri": "https://localhost:8080/"
        },
        "id": "1QPIanLkRlGF",
        "outputId": "b46e4665-e868-4d06-ce34-c050112b4aa2"
      },
      "execution_count": null,
      "outputs": [
        {
          "output_type": "stream",
          "name": "stdout",
          "text": [
            "[1 2 3 4 5 6]\n",
            "[2]\n",
            "[0.5 1.  1.5 2.  2.5 3. ]\n"
          ]
        }
      ]
    },
    {
      "cell_type": "code",
      "source": [
        "import numpy as np\n",
        "a = np.array([1,2,3,4,5,6])\n",
        "b = np.array([2])\n",
        "c = a<b;\n",
        "print(a)\n",
        "print(b)\n",
        "print(c)\n",
        "d = a > b\n",
        "print(d)\n",
        "e = a < b\n",
        "print(e)\n",
        "f = a != b\n",
        "print(f)\n",
        "g = a == b\n",
        "print(g)\n",
        "h = a <= b\n",
        "print(h)\n",
        "i = a >= b\n",
        "print(i)"
      ],
      "metadata": {
        "colab": {
          "base_uri": "https://localhost:8080/"
        },
        "id": "AgGhDGEESVZt",
        "outputId": "4ad3c8c0-76b6-4245-a114-678579f63feb"
      },
      "execution_count": null,
      "outputs": [
        {
          "output_type": "stream",
          "name": "stdout",
          "text": [
            "[1 2 3 4 5 6]\n",
            "[2]\n",
            "[ True False False False False False]\n",
            "[False False  True  True  True  True]\n",
            "[ True False False False False False]\n",
            "[ True False  True  True  True  True]\n",
            "[False  True False False False False]\n",
            "[ True  True False False False False]\n",
            "[False  True  True  True  True  True]\n"
          ]
        }
      ]
    },
    {
      "cell_type": "code",
      "source": [
        "import numpy as np\n",
        "a = np.array([1,2,3,4,5,6])\n",
        "b = np.array([2,1,1,1,12,9])\n",
        "c = a+b;\n",
        "print(a)\n",
        "print(b)\n",
        "print(c)\n",
        "d = a - b\n",
        "print(d)\n",
        "e = a * b\n",
        "print(e)\n",
        "f = a / b\n",
        "print(f)\n",
        "g = a ** b\n",
        "print(g)\n",
        "h = a < b\n",
        "print(h)\n",
        "i = a > b\n",
        "print(i)\n",
        "j = a == b\n",
        "print(j)\n",
        "k = a != b\n",
        "print(k)\n",
        "l = a >= b\n",
        "print(l)\n",
        "m = a <= b\n",
        "print(m)\n",
        "\n"
      ],
      "metadata": {
        "colab": {
          "base_uri": "https://localhost:8080/"
        },
        "id": "he14c70uTkRM",
        "outputId": "9af92846-c1ec-4747-e888-3556cb657a71"
      },
      "execution_count": null,
      "outputs": [
        {
          "output_type": "stream",
          "name": "stdout",
          "text": [
            "[1 2 3 4 5 6]\n",
            "[ 2  1  1  1 12  9]\n",
            "[ 3  3  4  5 17 15]\n",
            "[-1  1  2  3 -7 -3]\n",
            "[ 2  2  3  4 60 54]\n",
            "[0.5        2.         3.         4.         0.41666667 0.66666667]\n",
            "[        1         2         3         4 244140625  10077696]\n",
            "[ True False False False  True  True]\n",
            "[False  True  True  True False False]\n",
            "[False False False False False False]\n",
            "[ True  True  True  True  True  True]\n",
            "[False  True  True  True False False]\n",
            "[ True False False False  True  True]\n"
          ]
        }
      ]
    },
    {
      "cell_type": "code",
      "source": [
        "import numpy as np\n",
        "a = np.array([1,2,3,4,5,6])\n",
        "b = np.array([2,1,1,1,12,9])\n",
        "d = a - b\n",
        "print(d)"
      ],
      "metadata": {
        "colab": {
          "base_uri": "https://localhost:8080/"
        },
        "id": "8Ecv3tQSUz4w",
        "outputId": "f735b7ac-62dc-4659-a30d-43a3b91d4dc8"
      },
      "execution_count": null,
      "outputs": [
        {
          "output_type": "stream",
          "name": "stdout",
          "text": [
            "[-1  1  2  3 -7 -3]\n"
          ]
        }
      ]
    },
    {
      "cell_type": "code",
      "source": [
        "import numpy as np\n",
        "a = np.array([1,2,3,4,5,6])\n",
        "b = np.array([2,1,1,1,12,9])\n",
        "e = a * b\n",
        "print(e)"
      ],
      "metadata": {
        "colab": {
          "base_uri": "https://localhost:8080/"
        },
        "id": "ulHznGvhU5QL",
        "outputId": "25e8e41a-85ca-48d1-db9c-2cb8fdf257fd"
      },
      "execution_count": null,
      "outputs": [
        {
          "output_type": "stream",
          "name": "stdout",
          "text": [
            "[ 2  2  3  4 60 54]\n"
          ]
        }
      ]
    },
    {
      "cell_type": "code",
      "source": [
        "import numpy as np\n",
        "a = np.array([1,2,3,4,5,6])\n",
        "b = np.array([2,1,1,1,12,9])\n",
        "f = a / b\n",
        "print(f)"
      ],
      "metadata": {
        "colab": {
          "base_uri": "https://localhost:8080/"
        },
        "id": "1DV_PNFlU51r",
        "outputId": "973a140d-d7c1-4efe-e8f3-c9aca79db5ee"
      },
      "execution_count": null,
      "outputs": [
        {
          "output_type": "stream",
          "name": "stdout",
          "text": [
            "[0.5        2.         3.         4.         0.41666667 0.66666667]\n"
          ]
        }
      ]
    },
    {
      "cell_type": "code",
      "source": [
        "import numpy as np\n",
        "a = np.array([1,2,3,4,5,6])\n",
        "b = np.array([2,1,1,1,12,9])\n",
        "g = a ** b\n",
        "print(g)"
      ],
      "metadata": {
        "colab": {
          "base_uri": "https://localhost:8080/"
        },
        "id": "LHnstQaHU6dt",
        "outputId": "211c8ab2-a429-4cce-b83e-b2d9d6d72439"
      },
      "execution_count": null,
      "outputs": [
        {
          "output_type": "stream",
          "name": "stdout",
          "text": [
            "[        1         2         3         4 244140625  10077696]\n"
          ]
        }
      ]
    },
    {
      "cell_type": "code",
      "source": [
        "import numpy as np\n",
        "a = np.array([1,2,3,4,5,6])\n",
        "b = np.array([2,1,1,1,12,9])\n",
        "h = a < b\n",
        "print(h)"
      ],
      "metadata": {
        "colab": {
          "base_uri": "https://localhost:8080/"
        },
        "id": "KGgbm1iuU61l",
        "outputId": "338cf0ae-ba2b-4dce-fb48-99a14b2ea3c4"
      },
      "execution_count": null,
      "outputs": [
        {
          "output_type": "stream",
          "name": "stdout",
          "text": [
            "[ True False False False  True  True]\n"
          ]
        }
      ]
    },
    {
      "cell_type": "code",
      "source": [
        "import numpy as np\n",
        "a = np.array([1,2,3,4,5,6])\n",
        "b = np.array([2,1,1,1,12,9])\n",
        "i = a > b\n",
        "print(i)"
      ],
      "metadata": {
        "colab": {
          "base_uri": "https://localhost:8080/"
        },
        "id": "owndUQfiU7Zs",
        "outputId": "1e0e45ff-ccd4-4e0f-a5e6-223238b03f10"
      },
      "execution_count": null,
      "outputs": [
        {
          "output_type": "stream",
          "name": "stdout",
          "text": [
            "[False  True  True  True False False]\n"
          ]
        }
      ]
    },
    {
      "cell_type": "code",
      "source": [
        "import numpy as np\n",
        "a = np.array([1,2,3,4,5,6])\n",
        "b = np.array([2,1,1,1,12,9])\n",
        "j = a == b\n",
        "print(j)\n"
      ],
      "metadata": {
        "colab": {
          "base_uri": "https://localhost:8080/"
        },
        "id": "sdtdz9YnU777",
        "outputId": "9eba69aa-0289-4aa8-c2c2-4da41a242f90"
      },
      "execution_count": null,
      "outputs": [
        {
          "output_type": "stream",
          "name": "stdout",
          "text": [
            "[False False False False False False]\n"
          ]
        }
      ]
    },
    {
      "cell_type": "code",
      "source": [
        "import numpy as np\n",
        "a = np.array([1,2,3,4,5,6])\n",
        "b = np.array([2,1,1,1,12,9])\n",
        "k = a != b\n",
        "print(k)\n"
      ],
      "metadata": {
        "colab": {
          "base_uri": "https://localhost:8080/"
        },
        "id": "ZHIDe0l3U8Zz",
        "outputId": "06482301-e02b-4374-979a-7ca136d29821"
      },
      "execution_count": null,
      "outputs": [
        {
          "output_type": "stream",
          "name": "stdout",
          "text": [
            "[ True  True  True  True  True  True]\n"
          ]
        }
      ]
    },
    {
      "cell_type": "code",
      "source": [
        "import numpy as np\n",
        "a = np.array([1,2,3,4,5,6])\n",
        "b = np.array([2,1,1,1,12,9])\n",
        "l = a >= b\n",
        "print(l)"
      ],
      "metadata": {
        "colab": {
          "base_uri": "https://localhost:8080/"
        },
        "id": "hQw1H06RVO67",
        "outputId": "725a0f49-6c74-4514-c901-24145c7b268e"
      },
      "execution_count": null,
      "outputs": [
        {
          "output_type": "stream",
          "name": "stdout",
          "text": [
            "[False  True  True  True False False]\n"
          ]
        }
      ]
    },
    {
      "cell_type": "code",
      "source": [
        "import numpy as np\n",
        "a = np.array([1,2,3,4,5,6])\n",
        "b = np.array([2,1,1,1,12,9])\n",
        "m = a <= b\n",
        "print(m)"
      ],
      "metadata": {
        "colab": {
          "base_uri": "https://localhost:8080/"
        },
        "id": "qCc0ZTqlVQVe",
        "outputId": "d6739b30-e325-4b84-9ed7-079b4bfd615f"
      },
      "execution_count": null,
      "outputs": [
        {
          "output_type": "stream",
          "name": "stdout",
          "text": [
            "[ True False False False  True  True]\n"
          ]
        }
      ]
    },
    {
      "cell_type": "code",
      "source": [
        "import numpy as np\n",
        "arr = np.array([1, 2, 3, 4])\n",
        "c=arr[0]\n",
        "d=arr[1]\n",
        "e=arr[2]\n",
        "f=d+e\n",
        "print(f)"
      ],
      "metadata": {
        "colab": {
          "base_uri": "https://localhost:8080/"
        },
        "id": "iUf6kuCBWfo8",
        "outputId": "aaf1145f-a32b-4a79-a1d8-6f728a27b6af"
      },
      "execution_count": null,
      "outputs": [
        {
          "output_type": "stream",
          "name": "stdout",
          "text": [
            "5\n"
          ]
        }
      ]
    },
    {
      "cell_type": "code",
      "source": [
        "import numpy as np\n",
        "arr = np.array([10,20,30,40,50,60,70,80,90,100])\n",
        "c =arr[0]\n",
        "print(c)\n",
        "d =arr[1]\n",
        "print(d)\n",
        "e =arr[3]\n",
        "print(e)\n",
        "f =arr[4]\n",
        "print(f)\n",
        "g =arr[5]\n",
        "print(g)\n",
        "h =arr[6]\n",
        "print(h)\n",
        "i =arr[7]\n",
        "print(i)\n",
        "j =arr[8]\n",
        "print(j)\n",
        "k =arr[9]\n",
        "print(k)"
      ],
      "metadata": {
        "colab": {
          "base_uri": "https://localhost:8080/"
        },
        "id": "v1qaaCTVWqm8",
        "outputId": "1d599eeb-c22c-4e75-e317-07f811c8bc07"
      },
      "execution_count": null,
      "outputs": [
        {
          "output_type": "stream",
          "name": "stdout",
          "text": [
            "10\n",
            "20\n",
            "40\n",
            "50\n",
            "60\n",
            "70\n",
            "80\n",
            "90\n",
            "100\n"
          ]
        }
      ]
    },
    {
      "cell_type": "code",
      "source": [
        "import numpy as np\n",
        "arr = np.array([10,20,30,40,50,60,70,80,90,100])\n",
        "c =arr[-1]\n",
        "print(c)\n",
        "d =arr[-2]\n",
        "print(d)\n",
        "e =arr[-3]\n",
        "print(e)\n",
        "f =arr[-4]\n",
        "print(f)\n",
        "g =arr[-5]\n",
        "print(g)\n",
        "h =arr[-6]\n",
        "print(h)\n",
        "i =arr[-7]\n",
        "print(i)\n",
        "j =arr[-8]\n",
        "print(j)\n",
        "k =arr[-9]\n",
        "print(k)\n",
        "l =arr[-10]\n",
        "print(l)"
      ],
      "metadata": {
        "colab": {
          "base_uri": "https://localhost:8080/"
        },
        "id": "kIup7xlTXlTm",
        "outputId": "f9e3f6f0-ca48-494c-c2cf-cc31a630a822"
      },
      "execution_count": null,
      "outputs": [
        {
          "output_type": "stream",
          "name": "stdout",
          "text": [
            "100\n",
            "90\n",
            "80\n",
            "70\n",
            "60\n",
            "50\n",
            "40\n",
            "30\n",
            "20\n",
            "10\n"
          ]
        }
      ]
    },
    {
      "cell_type": "code",
      "source": [
        "import numpy as np\n",
        "arr = np.array([10,20,30,40,50,60,70,80,90,100])\n"
      ],
      "metadata": {
        "id": "EkEahMSrX9Ej"
      },
      "execution_count": null,
      "outputs": []
    },
    {
      "cell_type": "code",
      "source": [
        "import numpy as np\n",
        "b = np.array([1, 2, 3, 4, 5])\n",
        "x=b.size\n",
        "print(x)"
      ],
      "metadata": {
        "colab": {
          "base_uri": "https://localhost:8080/"
        },
        "id": "3WGYC5_VZG5g",
        "outputId": "7b3e7b9b-96c7-4bdc-9056-05740fe504c9"
      },
      "execution_count": null,
      "outputs": [
        {
          "output_type": "stream",
          "name": "stdout",
          "text": [
            "5\n"
          ]
        }
      ]
    },
    {
      "cell_type": "code",
      "source": [
        "#Dynamic array\n",
        "import numpy as np\n",
        "x = int(input(\"Enter x? \"));\n",
        "y = int(input(\"Enter y? \"));\n",
        "z = int(input(\"Enter z? \"));\n",
        "a = np.array([x,y,z])\n",
        "b = np.array([z,y,x])\n",
        "c = a*b;\n",
        "print(a)\n",
        "print(b)\n",
        "print(c)"
      ],
      "metadata": {
        "colab": {
          "base_uri": "https://localhost:8080/"
        },
        "id": "E0dL-aVEZhoM",
        "outputId": "0e7e0e52-480a-4088-9944-98f5d1b7e93d"
      },
      "execution_count": null,
      "outputs": [
        {
          "output_type": "stream",
          "name": "stdout",
          "text": [
            "Enter x? 12\n",
            "Enter y? 45\n",
            "Enter z? 54\n",
            "[12 45 54]\n",
            "[54 45 12]\n",
            "[ 648 2025  648]\n"
          ]
        }
      ]
    },
    {
      "cell_type": "code",
      "source": [
        "x = np.array([12, 38,65,87,67])\n",
        "print(\"Original array:\")\n",
        "print(x)\n",
        "print(\"Reverse array:\")\n",
        "y = x[::-1]# -1 inside colon\n",
        "print(y)"
      ],
      "metadata": {
        "colab": {
          "base_uri": "https://localhost:8080/"
        },
        "id": "QvNfiyfrausV",
        "outputId": "5ff466b5-5888-499f-aae4-7f9ce1bdb67f"
      },
      "execution_count": null,
      "outputs": [
        {
          "output_type": "stream",
          "name": "stdout",
          "text": [
            "Original array:\n",
            "[12 38 65 87 67]\n",
            "Reverse array:\n",
            "[67 87 65 38 12]\n"
          ]
        }
      ]
    },
    {
      "cell_type": "code",
      "source": [
        "#Reverse an array\n",
        "import numpy as np\n",
        "#Reverse an array\n",
        "x = np.array([12, 38,65,87,67])\n",
        "ra= np.flip(x)\n",
        "print(ra)"
      ],
      "metadata": {
        "colab": {
          "base_uri": "https://localhost:8080/"
        },
        "id": "L5GEmnaCayWi",
        "outputId": "a0c46ae8-7db0-471e-c36d-5073696aca7b"
      },
      "execution_count": null,
      "outputs": [
        {
          "output_type": "stream",
          "name": "stdout",
          "text": [
            "[67 87 65 38 12]\n"
          ]
        }
      ]
    },
    {
      "cell_type": "code",
      "source": [
        "\n",
        "import numpy as np\n",
        "x = np.array([12, 38,65,87,67])\n",
        "y = x[::-1]# -1 inside colon\n",
        "print(y)"
      ],
      "metadata": {
        "colab": {
          "base_uri": "https://localhost:8080/"
        },
        "id": "j9BugafKa1SS",
        "outputId": "8f806593-1dd8-43b6-b137-0bbfc8bfba83"
      },
      "execution_count": null,
      "outputs": [
        {
          "output_type": "stream",
          "name": "stdout",
          "text": [
            "[67 87 65 38 12]\n",
            "[67 87 65 38 12]\n"
          ]
        }
      ]
    },
    {
      "cell_type": "code",
      "source": [
        "# sorting a array\n",
        "import numpy as np\n",
        "\n",
        "arr = np.array([0, 12, 1, 3, 4, 5, 6])\n",
        "\n",
        "arr1 = np.sort(arr)\n",
        "\n",
        "print(\"After Sorting\",arr1)\n",
        "## Sort NumPy Array in decreasing order\n",
        "arr2=np.sort(arr)[::-1]\n",
        "print(\"After Sorting in decending order\",arr2)"
      ],
      "metadata": {
        "colab": {
          "base_uri": "https://localhost:8080/"
        },
        "id": "aRTCRzuSbCCk",
        "outputId": "14de9131-0373-4b2d-d13e-8cbe8bc6f45f"
      },
      "execution_count": null,
      "outputs": [
        {
          "output_type": "stream",
          "name": "stdout",
          "text": [
            "After Sorting [ 0  1  3  4  5  6 12]\n",
            "After Sorting in decending order [12  6  5  4  3  1  0]\n"
          ]
        }
      ]
    },
    {
      "cell_type": "code",
      "source": [
        "import numpy as np\n",
        "\n",
        "V = int(input(\"Enter value of V \"));\n",
        "W = int(input(\"Enter value of W \"));\n",
        "X = int(input(\"Enter value of X \"));\n",
        "Y = int(input(\"Enter value of Y \"));\n",
        "Z = int(input(\"Enter value of Z \"))\n",
        "A = np.array([V,W,X,Y,Z])\n",
        "B = np.array([X,Y,Z,V,W])\n",
        "C = np.sort(A)\n",
        "print(C)\n",
        "D = np.sort(B)\n",
        "print(D)\n",
        "E = np.sort(A)[::-1]\n",
        "print(E)\n",
        "F = np.sort(A)[::-1]\n",
        "print(F)"
      ],
      "metadata": {
        "colab": {
          "base_uri": "https://localhost:8080/"
        },
        "id": "y49J-grmbEXy",
        "outputId": "b6afc71f-35a5-423c-fe08-ad69af8c37ec"
      },
      "execution_count": null,
      "outputs": [
        {
          "output_type": "stream",
          "name": "stdout",
          "text": [
            "Enter value of V 7\n",
            "Enter value of W 77\n",
            "Enter value of X 0\n",
            "Enter value of Y 25\n",
            "Enter value of Z 65\n",
            "[ 0  7 25 65 77]\n",
            "[ 0  7 25 65 77]\n",
            "[77 65 25  7  0]\n",
            "[77 65 25  7  0]\n"
          ]
        }
      ]
    },
    {
      "cell_type": "code",
      "source": [
        "import numpy as np\n",
        "\n",
        "V = int(input(\"Enter value of V \"));\n",
        "W = int(input(\"Enter value of W \"));\n",
        "X = int(input(\"Enter value of X \"));\n",
        "Y = int(input(\"Enter value of Y \"));\n",
        "Z = int(input(\"Enter value of Z \"))\n",
        "A = np.array([V,W,X,Y,Z])\n",
        "B = np.array([X,Y,Z,V,W])\n",
        "C = np.flip(B)\n",
        "print(C)\n",
        "D = np.flip(A)\n",
        "print(D)"
      ],
      "metadata": {
        "id": "liyXsHBBg3El",
        "colab": {
          "base_uri": "https://localhost:8080/"
        },
        "outputId": "ee7fc3a1-4d4a-488a-d265-7d2982e55d6e"
      },
      "execution_count": null,
      "outputs": [
        {
          "output_type": "stream",
          "name": "stdout",
          "text": [
            "Enter value of V 10\n",
            "Enter value of W 77\n",
            "Enter value of X 7\n",
            "Enter value of Y 12\n",
            "Enter value of Z 10\n",
            "[77 10 10 12  7]\n",
            "[10 12  7 77 10]\n"
          ]
        }
      ]
    },
    {
      "cell_type": "code",
      "source": [
        "import numpy as np\n",
        "arr = np.array([0, 12, 1, 3, 4, 5, 6])\n",
        "min=np.min([arr])\n",
        "max=np.max([arr])\n",
        "print(min)\n",
        "print(max)"
      ],
      "metadata": {
        "colab": {
          "base_uri": "https://localhost:8080/"
        },
        "id": "FCeqCJMb1cnw",
        "outputId": "8d673f41-abc5-4f3a-e62c-5020cabe667b"
      },
      "execution_count": null,
      "outputs": [
        {
          "output_type": "stream",
          "name": "stdout",
          "text": [
            "0\n",
            "12\n"
          ]
        }
      ]
    },
    {
      "cell_type": "code",
      "source": [
        "import numpy as np\n",
        "\n",
        "arr = np.array([1, 2, 3, 5, 9])\n",
        "sum=np.sum([arr])\n",
        "mean=np.mean([arr])\n",
        "print(sum)\n",
        "print(mean)"
      ],
      "metadata": {
        "colab": {
          "base_uri": "https://localhost:8080/"
        },
        "id": "Q85nKYua138e",
        "outputId": "6c12df24-eccf-4b7e-df79-8116ec704a7f"
      },
      "execution_count": null,
      "outputs": [
        {
          "output_type": "stream",
          "name": "stdout",
          "text": [
            "20\n",
            "4.0\n"
          ]
        }
      ]
    },
    {
      "cell_type": "code",
      "source": [
        "import numpy as np\n",
        "\n",
        "arr = np.array([-1, -2, 1, 2, +3, -4])\n",
        "\n",
        "newarr = np.absolute(arr)#polarity will be removed\n",
        "\n",
        "print(newarr)"
      ],
      "metadata": {
        "colab": {
          "base_uri": "https://localhost:8080/"
        },
        "id": "EhUmpdfW2pBt",
        "outputId": "1b83eb10-be31-4224-e58f-143739a4422f"
      },
      "execution_count": null,
      "outputs": [
        {
          "output_type": "stream",
          "name": "stdout",
          "text": [
            "[1 2 1 2 3 4]\n"
          ]
        }
      ]
    },
    {
      "cell_type": "code",
      "source": [
        "import numpy as np\n",
        "arr = np.array([41.25, 42.32, 43.25, 44.9])\n",
        "\n",
        "arr1 = np.around(arr, 1)\n",
        "\n",
        "print(arr1)\n",
        "#Round off\n",
        "\n",
        "import numpy as np\n",
        "arr = np.array([41.25, 42.32, 43.65, 44.9999])\n",
        "arr1 = np.around(arr, 0)\n",
        "print(arr1)"
      ],
      "metadata": {
        "colab": {
          "base_uri": "https://localhost:8080/"
        },
        "id": "kb28ceo63Tsa",
        "outputId": "aa56d3f6-152d-4127-9fca-edc239053628"
      },
      "execution_count": null,
      "outputs": [
        {
          "output_type": "stream",
          "name": "stdout",
          "text": [
            "[41.2 42.3 43.2 44.9]\n",
            "[41. 42. 44. 45.]\n"
          ]
        }
      ]
    },
    {
      "cell_type": "code",
      "source": [
        "import numpy as np\n",
        "arr = np.array([41.25, 42.9, 43.25, 44])\n",
        "arr1 = np.ceil([arr])\n",
        "arr2=np.floor([arr])\n",
        "print(\"Ceil=\",arr1)\n",
        "print(\"Floor=\",arr2)"
      ],
      "metadata": {
        "colab": {
          "base_uri": "https://localhost:8080/"
        },
        "id": "k-Oy8VMZ4M98",
        "outputId": "b3e0f259-e8ab-492a-baf3-5663c94c9da8"
      },
      "execution_count": null,
      "outputs": [
        {
          "output_type": "stream",
          "name": "stdout",
          "text": [
            "Ceil= [[42. 43. 44. 44.]]\n",
            "Floor= [[41. 42. 43. 44.]]\n"
          ]
        }
      ]
    },
    {
      "cell_type": "code",
      "source": [
        "import numpy as np\n",
        "\n",
        "arr = np.array([1, 1, 1, 2, 3, 4, 5, 5, 6, 7])\n",
        "\n",
        "m = np.mean(arr)\n",
        "\n",
        "print(m)"
      ],
      "metadata": {
        "colab": {
          "base_uri": "https://localhost:8080/"
        },
        "id": "pX-wLFfi44C5",
        "outputId": "7c14229d-a7ad-497e-8ee9-b65b8bef15f1"
      },
      "execution_count": null,
      "outputs": [
        {
          "output_type": "stream",
          "name": "stdout",
          "text": [
            "3.5\n"
          ]
        }
      ]
    },
    {
      "cell_type": "code",
      "source": [
        "import numpy as np\n",
        "A = np.array ([1497.55,165.55,7537.95,238.35,36.30,61.35,636.50])\n",
        "B = np.array([672.80,183.60,8291.70,256.25,38.85,65.05,674.50])\n",
        "C = np.array([11.70,10.90,10.00,7.51,7.02,6.03,5.97])\n",
        "print(\"\\nA =\",A)\n",
        "print(\"\\nB =\",B)\n",
        "print(\"\\nC =\",C)\n",
        "Z = A-B\n",
        "print(\"\\nZ =\",Z)\n",
        "X = A*C\n",
        "print(\"\\nX =\",X)\n",
        "E = A[-1]\n",
        "F = C[-1]\n",
        "Y = E*F\n",
        "print(\"\\nY =\", Y)\n",
        "W = A[4:7]\n",
        "print(\"\\nW =\",W)\n",
        "V = B[4:7]\n",
        "print(\"\\nV =\",V)\n",
        "U = C[4:7]\n",
        "print(\"\\nU =\",U)\n",
        "G = np.min([A])\n",
        "print(\"\\n G =\", G)\n",
        "H = np.min([B])\n",
        "print(\"\\n H =\", H)\n",
        "I = np.min([C])\n",
        "print(\"\\n I =\", I)\n",
        "J = np.max([A])\n",
        "print(\"\\n J =\", J)\n",
        "K = np.max([B])\n",
        "print(\"\\n K =\", K)\n",
        "L = np.max([C])\n",
        "print(\"\\n L =\", L)\n",
        "M = np.sort(A)\n",
        "print(\"\\n M =\", M)\n",
        "N = np.sort(B)\n",
        "print(\"\\n N =\", N)\n",
        "O = np.sort(C)\n",
        "print(\"\\n O =\", O)\n",
        "P = np.sort(A)[::-1]\n",
        "print(\"\\n P =\", P)\n",
        "Q = np.sort(B)[::-1]\n",
        "print(\"\\n Q =\", Q)\n",
        "R = np.sort(C)[::-1]\n",
        "print(\"\\n R =\", R)"
      ],
      "metadata": {
        "colab": {
          "base_uri": "https://localhost:8080/"
        },
        "id": "Emvd_nJs7Y4a",
        "outputId": "67db2fd2-46c0-4a2e-a187-ca974e4fccd9"
      },
      "execution_count": null,
      "outputs": [
        {
          "output_type": "stream",
          "name": "stdout",
          "text": [
            "\n",
            "A = [1497.55  165.55 7537.95  238.35   36.3    61.35  636.5 ]\n",
            "\n",
            "B = [ 672.8   183.6  8291.7   256.25   38.85   65.05  674.5 ]\n",
            "\n",
            "C = [11.7  10.9  10.    7.51  7.02  6.03  5.97]\n",
            "\n",
            "Z = [ 824.75  -18.05 -753.75  -17.9    -2.55   -3.7   -38.  ]\n",
            "\n",
            "X = [17521.335   1804.495  75379.5     1790.0085   254.826    369.9405\n",
            "  3799.905 ]\n",
            "\n",
            "Y = 3799.9049999999997\n",
            "\n",
            "W = [ 36.3   61.35 636.5 ]\n",
            "\n",
            "V = [ 38.85  65.05 674.5 ]\n",
            "\n",
            "U = [7.02 6.03 5.97]\n",
            "\n",
            " G = 36.3\n",
            "\n",
            " H = 38.85\n",
            "\n",
            " I = 5.97\n",
            "\n",
            " J = 7537.95\n",
            "\n",
            " K = 8291.7\n",
            "\n",
            " L = 11.7\n",
            "\n",
            " M = [  36.3    61.35  165.55  238.35  636.5  1497.55 7537.95]\n",
            "\n",
            " N = [  38.85   65.05  183.6   256.25  672.8   674.5  8291.7 ]\n",
            "\n",
            " O = [ 5.97  6.03  7.02  7.51 10.   10.9  11.7 ]\n",
            "\n",
            " P = [7537.95 1497.55  636.5   238.35  165.55   61.35   36.3 ]\n",
            "\n",
            " Q = [8291.7   674.5   672.8   256.25  183.6    65.05   38.85]\n",
            "\n",
            " R = [11.7  10.9  10.    7.51  7.02  6.03  5.97]\n"
          ]
        }
      ]
    },
    {
      "cell_type": "code",
      "source": [
        "import numpy as np\n",
        "A = input(\"Enter the value of A = \");\n",
        "B = input(\"Enter the value of B = \");\n",
        "C = input(\"Enter the value of C = \");\n",
        "D = input(\"Enter the value of D = \")\n",
        "X = np.array([A,B,C,D])\n",
        "Y = np.array([B,A,D,C])\n",
        "print(\"\\nX =\", X)\n",
        "print(\"\\nY =\", Y)"
      ],
      "metadata": {
        "colab": {
          "base_uri": "https://localhost:8080/",
          "height": 332
        },
        "id": "o-2DsBFez42N",
        "outputId": "aaf5092f-2fd2-46c8-b0c8-c4fe867b9b5f"
      },
      "execution_count": null,
      "outputs": [
        {
          "output_type": "stream",
          "name": "stdout",
          "text": [
            "Enter the value of A = 12.75\n",
            "Enter the value of B = 25.50\n",
            "Enter the value of C = 10.45\n",
            "Enter the value of D = 7.77\n",
            "\n",
            "X = ['12.75' '25.50' '10.45' '7.77']\n",
            "\n",
            "Y = ['25.50' '12.75' '7.77' '10.45']\n"
          ]
        },
        {
          "output_type": "error",
          "ename": "UFuncTypeError",
          "evalue": "ufunc 'multiply' did not contain a loop with signature matching types (dtype('<U5'), dtype('<U5')) -> None",
          "traceback": [
            "\u001b[0;31m---------------------------------------------------------------------------\u001b[0m",
            "\u001b[0;31mUFuncTypeError\u001b[0m                            Traceback (most recent call last)",
            "\u001b[0;32m<ipython-input-28-86602de6a1dd>\u001b[0m in \u001b[0;36m<cell line: 10>\u001b[0;34m()\u001b[0m\n\u001b[1;32m      8\u001b[0m \u001b[0mprint\u001b[0m\u001b[0;34m(\u001b[0m\u001b[0;34m\"\\nX =\"\u001b[0m\u001b[0;34m,\u001b[0m \u001b[0mX\u001b[0m\u001b[0;34m)\u001b[0m\u001b[0;34m\u001b[0m\u001b[0;34m\u001b[0m\u001b[0m\n\u001b[1;32m      9\u001b[0m \u001b[0mprint\u001b[0m\u001b[0;34m(\u001b[0m\u001b[0;34m\"\\nY =\"\u001b[0m\u001b[0;34m,\u001b[0m \u001b[0mY\u001b[0m\u001b[0;34m)\u001b[0m\u001b[0;34m\u001b[0m\u001b[0;34m\u001b[0m\u001b[0m\n\u001b[0;32m---> 10\u001b[0;31m \u001b[0mE\u001b[0m \u001b[0;34m=\u001b[0m \u001b[0mX\u001b[0m\u001b[0;34m*\u001b[0m\u001b[0mY\u001b[0m\u001b[0;34m\u001b[0m\u001b[0;34m\u001b[0m\u001b[0m\n\u001b[0m\u001b[1;32m     11\u001b[0m \u001b[0mprint\u001b[0m\u001b[0;34m(\u001b[0m\u001b[0;34m\"\\nE =\"\u001b[0m\u001b[0;34m,\u001b[0m \u001b[0mE\u001b[0m\u001b[0;34m)\u001b[0m\u001b[0;34m\u001b[0m\u001b[0;34m\u001b[0m\u001b[0m\n",
            "\u001b[0;31mUFuncTypeError\u001b[0m: ufunc 'multiply' did not contain a loop with signature matching types (dtype('<U5'), dtype('<U5')) -> None"
          ]
        }
      ]
    },
    {
      "cell_type": "code",
      "source": [
        "import numpy as np\n",
        "A = np.array ([1497.55,165.55,7537.95,238.35,36.30,61.35,636.50])\n",
        "B = np.array([672.80,183.60,8291.70,256.25,38.85,65.05,674.50])\n",
        "C = np.array([11.70,10.90,10.00,7.51,7.02,6.03,5.97])\n",
        "D = np.ceil([A])\n",
        "E=np.floor([B])\n",
        "print(\"Ceil=\",D)\n",
        "print(\"Floor=\",E)"
      ],
      "metadata": {
        "colab": {
          "base_uri": "https://localhost:8080/"
        },
        "id": "dqHu-6vJ5JEk",
        "outputId": "a61ec67a-3bcf-40a3-9d57-f0d513bfde70"
      },
      "execution_count": null,
      "outputs": [
        {
          "output_type": "stream",
          "name": "stdout",
          "text": [
            "Ceil= [[1498.  166. 7538.  239.   37.   62.  637.]]\n",
            "Floor= [[ 672.  183. 8291.  256.   38.   65.  674.]]\n"
          ]
        }
      ]
    },
    {
      "cell_type": "code",
      "source": [
        "import numpy as np\n",
        "\n",
        "A = float(input(\"Enter the value of A = \"))\n",
        "B = float(input(\"Enter the value of B = \"))\n",
        "C = float(input(\"Enter the value of C = \"))\n",
        "D = float(input(\"Enter the value of D = \"))\n",
        "\n",
        "X = np.array([A, B, C, D])\n",
        "Y = np.array([B, A, D, C])\n",
        "\n",
        "print(\"\\nX =\", X)\n",
        "print(\"\\nY =\", Y)\n",
        "\n",
        "E = np.ceil(X)\n",
        "print(\"E =\", E)\n",
        "F = X*Y\n",
        "print(\"\\nF =\", F)\n",
        "G = np.floor(X)\n",
        "print(\"G =\", G)"
      ],
      "metadata": {
        "colab": {
          "base_uri": "https://localhost:8080/"
        },
        "id": "-42AkZt-64tH",
        "outputId": "f5a26777-466c-4b4f-bb8c-7a44c97dbb96"
      },
      "execution_count": null,
      "outputs": [
        {
          "output_type": "stream",
          "name": "stdout",
          "text": [
            "Enter the value of A = 7.77\n",
            "Enter the value of B = 10.25\n",
            "Enter the value of C = 12.50\n",
            "Enter the value of D = 15.75\n",
            "\n",
            "X = [ 7.77 10.25 12.5  15.75]\n",
            "\n",
            "Y = [10.25  7.77 15.75 12.5 ]\n",
            "E = [ 8. 11. 13. 16.]\n",
            "\n",
            "F = [ 79.6425  79.6425 196.875  196.875 ]\n",
            "G = [ 7. 10. 12. 15.]\n"
          ]
        }
      ]
    },
    {
      "cell_type": "code",
      "source": [
        "import numpy as np\n",
        "\n",
        "A = np.array([2021,2020,2019,2018,2017,2016,2015,2014,2013,2012]);\n",
        "B = np.array([3173.4,2667.69,2831.55,2702.93,2651.47,2294.8,2103.59,2039.13,1856.72,1827.64]);\n",
        "C = np.array([182160,154640,165760,159840,158480,138640,128480,125920,116000,115520]);\n",
        "D = np.array([8.95,6.6,3.74,6.45,6.8,8.26,8,7.41,6.39,5.46])\n",
        "\n",
        "E = np.mean(A)#average of A\n",
        "print(\"\\nE = \", E)\n",
        "a1 = np.sum([A])\n",
        "F = a1/10\n",
        "print(\"\\nF = \", F)\n",
        "G = np.mean(B)#average of B\n",
        "print(\"\\nG = \", G)\n",
        "b1 = np.sum([B])\n",
        "H = b1/10\n",
        "print(\"\\nH = \", H)\n",
        "I = np.mean(C)#average of C\n",
        "print(\"\\nI = \", I)\n",
        "c1 = np.sum([C])\n",
        "J = c1/10\n",
        "print(\"\\nJ = \", J)\n",
        "K = np.mean(D)#average of D\n",
        "print(\"\\nK = \", K)\n",
        "l1 = np.sum([D])\n",
        "L = l1/10\n",
        "print(\"\\nL = \", L)\n",
        "M = np.sort(B)#sor asc of B\n",
        "print(\"\\nM = \", M)\n",
        "N = np.sort(B)[::-1]#sort desc of B\n",
        "print(\"\\nN = \", N)\n",
        "O = np.sort(C)#sor asc of C\n",
        "print(\"\\nO = \", O)\n",
        "P = np.sort(C)[::-1]#sort desc of C\n",
        "print(\"\\nP = \", P)\n",
        "Q = np.sort(D)#sor asc of D\n",
        "print(\"\\nQ = \", Q)\n",
        "S = np.sort(D)[::-1]#sort desc of D\n",
        "print(\"\\nS = \", S)\n",
        "T = M+S\n",
        "print(\"\\nT =\", T)\n",
        "U = np.max(B)#max value of B\n",
        "print(\"\\nU =\", U)\n",
        "V = np.min(B)#min value of B\n",
        "print(\"\\nV =\", V)\n",
        "W = np.max(C)#max value of C\n",
        "print(\"\\nW =\", W)\n",
        "X = np.min(C)#min value of C\n",
        "print(\"\\nX =\", X)\n",
        "Y = np.max(D)#max value of D\n",
        "print(\"\\nY =\", Y)\n",
        "Z = np.min(D)#min value of D\n",
        "print(\"\\nZ =\", Z)\n",
        "B1 = C+D\n",
        "B2 = 2*B1\n",
        "print(\"\\nB2 =\",B2)#2*C+D\n",
        "B3 = 4*C\n",
        "B4 = 3*D\n",
        "B5 = B3+B4\n",
        "print(\"\\nB5 =\",B5)#4C+2D\n",
        "B6 = (C*D)/C\n",
        "print(\"\\nB6 =\", B6)#(C*D)/C"
      ],
      "metadata": {
        "colab": {
          "base_uri": "https://localhost:8080/"
        },
        "id": "UDEF1jrfeWfD",
        "outputId": "5ced0a05-6ad4-4427-be74-082ab5846af7"
      },
      "execution_count": null,
      "outputs": [
        {
          "output_type": "stream",
          "name": "stdout",
          "text": [
            "\n",
            "E =  2016.5\n",
            "\n",
            "F =  2016.5\n",
            "\n",
            "G =  2414.8920000000003\n",
            "\n",
            "H =  2414.8920000000003\n",
            "\n",
            "I =  144544.0\n",
            "\n",
            "J =  144544.0\n",
            "\n",
            "K =  6.806\n",
            "\n",
            "L =  6.806\n",
            "\n",
            "M =  [1827.64 1856.72 2039.13 2103.59 2294.8  2651.47 2667.69 2702.93 2831.55\n",
            " 3173.4 ]\n",
            "\n",
            "N =  [3173.4  2831.55 2702.93 2667.69 2651.47 2294.8  2103.59 2039.13 1856.72\n",
            " 1827.64]\n",
            "\n",
            "O =  [115520 116000 125920 128480 138640 154640 158480 159840 165760 182160]\n",
            "\n",
            "P =  [182160 165760 159840 158480 154640 138640 128480 125920 116000 115520]\n",
            "\n",
            "Q =  [3.74 5.46 6.39 6.45 6.6  6.8  7.41 8.   8.26 8.95]\n",
            "\n",
            "S =  [8.95 8.26 8.   7.41 6.8  6.6  6.45 6.39 5.46 3.74]\n",
            "\n",
            "T = [1836.59 1864.98 2047.13 2111.   2301.6  2658.07 2674.14 2709.32 2837.01\n",
            " 3177.14]\n",
            "\n",
            "U = 3173.4\n",
            "\n",
            "V = 1827.64\n",
            "\n",
            "W = 182160\n",
            "\n",
            "X = 115520\n",
            "\n",
            "Y = 8.95\n",
            "\n",
            "Z = 3.74\n",
            "\n",
            "B2 = [364337.9  309293.2  331527.48 319692.9  316973.6  277296.52 256976.\n",
            " 251854.82 232012.78 231050.92]\n",
            "\n",
            "B5 = [728666.85 618579.8  663051.22 639379.35 633940.4  554584.78 513944.\n",
            " 503702.23 464019.17 462096.38]\n",
            "\n",
            "B6 = [8.95 6.6  3.74 6.45 6.8  8.26 8.   7.41 6.39 5.46]\n"
          ]
        }
      ]
    },
    {
      "cell_type": "code",
      "source": [
        "import numpy as np\n",
        "\n",
        "A = np.array([\"Sudarshan Chem\",\"Usha Martin Ltd\",\"Neuland Laborat\",\"Bandhan Bank\",\"AGI Greenpac\",\"Kirloskar Pneumatic\",\"Nippon Life AMC\",\"Dodla Dairy\",\"Ashapura Min. Lt\",\"Hind.ConstructionCo\"]);\n",
        "Close = np.array([1013.80,367.20,12500.75,187.75,941.90,1305.10,641.70,1181.30,295.70,39.50]);\n",
        "Current = np.array([1207.50,422.30,14268.20,211.00,1033.95,1427.05,700.85,1286.75,322.10,42.27]);\n",
        "P = np.array([19.11,15.01,14.14,12.38,9.77,9.34,9.22,8.93,8.93,7.01])\n",
        "D = np.array(Close-Current)\n",
        "E = np.absolute(D)\n",
        "print(\"\\nE =\",E)\n",
        "F = Close/100*10\n",
        "G = Close+F\n",
        "H = Current/100*10\n",
        "I = Current+H\n",
        "J = G-I\n",
        "print(\"\\nJ = \",J)\n",
        "K = np.absolute(J)\n",
        "print(\"\\nK =\",K)\n",
        "\n"
      ],
      "metadata": {
        "colab": {
          "base_uri": "https://localhost:8080/"
        },
        "id": "lCi5Nmh6oms7",
        "outputId": "4ca970fd-dfec-4f3e-fb22-e25d90f7707f"
      },
      "execution_count": null,
      "outputs": [
        {
          "output_type": "stream",
          "name": "stdout",
          "text": [
            "\n",
            "E = [ 193.7    55.1  1767.45   23.25   92.05  121.95   59.15  105.45   26.4\n",
            "    2.77]\n",
            "\n",
            "J =  [ -213.07    -60.61  -1944.195   -25.575  -101.255  -134.145   -65.065\n",
            "  -115.995   -29.04     -3.047]\n",
            "\n",
            "K = [ 213.07    60.61  1944.195   25.575  101.255  134.145   65.065  115.995\n",
            "   29.04     3.047]\n",
            "\n",
            "G = Usha Martin Ltd\n",
            "\n",
            "G1 = 367.2\n",
            "\n",
            "G2 = 422.3\n",
            "\n",
            "G3 = 15.01\n"
          ]
        }
      ]
    },
    {
      "cell_type": "code",
      "source": [
        "import numpy as np\n",
        "\n",
        "A = np.array([\"Sudarshan Chem\",\"Usha Martin Ltd\",\"Neuland Laborat\",\"Bandhan Bank\",\"AGI Greenpac\",\"Kirloskar Pneumatic\",\"Nippon Life AMC\",\"Dodla Dairy\",\"Ashapura Min. Lt\",\"Hind.ConstructionCo\"]);\n",
        "Close = np.array([1013.80,367.20,12500.75,187.75,941.90,1305.10,641.70,1181.30,295.70,39.50]);\n",
        "Current = np.array([1207.50,422.30,14268.20,211.00,1033.95,1427.05,700.85,1286.75,322.10,42.27]);\n",
        "P = np.array([19.11,15.01,14.14,12.38,9.77,9.34,9.22,8.93,8.93,7.01])\n",
        "print(\"\\nCompany =\",A[1])\n",
        "print(\"\\nClose =\",Close[1])\n",
        "print(\"\\nCurrent =\",Current[1])\n",
        "print(\"\\nRatio =\",P[1])\n",
        "B = (Close[1])\n",
        "C = B/100*10\n",
        "print(\"\\nIncreased value of Close = Rs\",C)\n",
        "D = (Close[1]+C)\n",
        "print(\"\\nDiff of increased value = Rs\",D)\n",
        "E = (Current[1])\n",
        "F = E/100*10\n",
        "print(\"\\nIncreased value of Current = Rs\",F)\n",
        "G = (Current[1]+F)\n",
        "print(\"\\nDiff of increased value = Rs\",G)"
      ],
      "metadata": {
        "colab": {
          "base_uri": "https://localhost:8080/"
        },
        "id": "H63vZMkBtYbS",
        "outputId": "d329c1b6-3ce8-4a57-a617-0a5df02ec537"
      },
      "execution_count": null,
      "outputs": [
        {
          "output_type": "stream",
          "name": "stdout",
          "text": [
            "\n",
            "Company = Usha Martin Ltd\n",
            "\n",
            "Close = 367.2\n",
            "\n",
            "Current = 422.3\n",
            "\n",
            "Ratio = 15.01\n",
            "\n",
            "Increased value of Close = Rs 36.72\n",
            "\n",
            "Diff of increased value = Rs 403.91999999999996\n",
            "\n",
            "Increased value of Current = Rs 42.23\n",
            "\n",
            "Diff of increased value = Rs 464.53000000000003\n"
          ]
        }
      ]
    },
    {
      "cell_type": "code",
      "source": [
        "import numpy as np\n",
        "\n",
        "A = np.array([\"Sudarshan Chem\",\"Usha Martin Ltd\",\"Neuland Laborat\",\"Bandhan Bank\",\"AGI Greenpac\",\"Kirloskar Pneumatic\",\"Nippon Life AMC\",\"Dodla Dairy\",\"Ashapura Min. Lt\",\"Hind.ConstructionCo\"]);\n",
        "Close = np.array([1013.80,367.20,12500.75,187.75,941.90,1305.10,641.70,1181.30,295.70,39.50]);\n",
        "Current = np.array([1207.50,422.30,14268.20,211.00,1033.95,1427.05,700.85,1286.75,322.10,42.27]);\n",
        "P = np.array([19.11,15.01,14.14,12.38,9.77,9.34,9.22,8.93,8.93,7.01])\n",
        "print(\"\\nCompany =\",A[0])\n",
        "print(\"\\nClose =\",Close[0])\n",
        "print(\"\\nCurrent =\",Current[0])\n",
        "print(\"\\nRatio =\",P[0])\n",
        "B = (Close[0])\n",
        "C = B/100*10\n",
        "print(\"\\nIncreased value of Close = Rs\",C)\n",
        "D = (Close[0]+C)\n",
        "print(\"\\nDiff of increased value = Rs\",D)\n",
        "E = (Current[0])\n",
        "F = E/100*10\n",
        "print(\"\\nIncreased value of Current = Rs\",F)\n",
        "G = (Current[0]+F)\n",
        "print(\"\\nDiff of increased value = Rs\",G)"
      ],
      "metadata": {
        "colab": {
          "base_uri": "https://localhost:8080/"
        },
        "id": "CCWJtEsJ1uIN",
        "outputId": "c753bbfd-42d7-4854-8486-5072e915bce5"
      },
      "execution_count": null,
      "outputs": [
        {
          "output_type": "stream",
          "name": "stdout",
          "text": [
            "\n",
            "Company = Sudarshan Chem\n",
            "\n",
            "Close = 1013.8\n",
            "\n",
            "Current = 1207.5\n",
            "\n",
            "Ratio = 19.11\n",
            "\n",
            "Increased value of Close = Rs 101.38\n",
            "\n",
            "Diff of increased value = Rs 1115.1799999999998\n",
            "\n",
            "Increased value of Current = Rs 120.75\n",
            "\n",
            "Diff of increased value = Rs 1328.25\n"
          ]
        }
      ]
    },
    {
      "cell_type": "code",
      "source": [
        "import numpy as np\n",
        "\n",
        "A = np.array([\"Sudarshan Chem\",\"Usha Martin Ltd\",\"Neuland Laborat\",\"Bandhan Bank\",\"AGI Greenpac\",\"Kirloskar Pneumatic\",\"Nippon Life AMC\",\"Dodla Dairy\",\"Ashapura Min. Lt\",\"Hind.ConstructionCo\"]);\n",
        "Close = np.array([1013.80,367.20,12500.75,187.75,941.90,1305.10,641.70,1181.30,295.70,39.50]);\n",
        "Current = np.array([1207.50,422.30,14268.20,211.00,1033.95,1427.05,700.85,1286.75,322.10,42.27]);\n",
        "P = np.array([19.11,15.01,14.14,12.38,9.77,9.34,9.22,8.93,8.93,7.01])\n",
        "print(\"\\nCompany =\",A[2])\n",
        "print(\"\\nClose =\",Close[2])\n",
        "print(\"\\nCurrent =\",Current[2])\n",
        "print(\"\\nRatio =\",P[2])\n",
        "B = (Close[2])\n",
        "C = B/100*10\n",
        "print(\"\\nIncreased value of Close = Rs\",C)\n",
        "D = (Close[2]+C)\n",
        "print(\"\\nDiff of increased value = Rs\",D)\n",
        "E = (Current[2])\n",
        "F = E/100*10\n",
        "print(\"\\nIncreased value of Current = Rs\",F)\n",
        "G = (Current[2]+F)\n",
        "print(\"\\nDiff of increased value = Rs\",G)"
      ],
      "metadata": {
        "colab": {
          "base_uri": "https://localhost:8080/"
        },
        "id": "gsUm7g8q3BS7",
        "outputId": "46218c81-e544-4456-ed14-b69b775de6b2"
      },
      "execution_count": null,
      "outputs": [
        {
          "output_type": "stream",
          "name": "stdout",
          "text": [
            "\n",
            "Company = Neuland Laborat\n",
            "\n",
            "Close = 12500.75\n",
            "\n",
            "Current = 14268.2\n",
            "\n",
            "Ratio = 14.14\n",
            "\n",
            "Increased value of Close = Rs 1250.0749999999998\n",
            "\n",
            "Diff of increased value = Rs 13750.825\n",
            "\n",
            "Increased value of Current = Rs 1426.8200000000002\n",
            "\n",
            "Diff of increased value = Rs 15695.02\n"
          ]
        }
      ]
    },
    {
      "cell_type": "code",
      "source": [
        "import numpy as np\n",
        "\n",
        "A = np.array([\"Sudarshan Chem\",\"Usha Martin Ltd\",\"Neuland Laborat\",\"Bandhan Bank\",\"AGI Greenpac\",\"Kirloskar Pneumatic\",\"Nippon Life AMC\",\"Dodla Dairy\",\"Ashapura Min. Lt\",\"Hind.ConstructionCo\"]);\n",
        "Close = np.array([1013.80,367.20,12500.75,187.75,941.90,1305.10,641.70,1181.30,295.70,39.50]);\n",
        "Current = np.array([1207.50,422.30,14268.20,211.00,1033.95,1427.05,700.85,1286.75,322.10,42.27]);\n",
        "P = np.array([19.11,15.01,14.14,12.38,9.77,9.34,9.22,8.93,8.93,7.01])\n",
        "print(\"\\nCompany =\",A[3])\n",
        "print(\"\\nClose =\",Close[3])\n",
        "print(\"\\nCurrent =\",Current[3])\n",
        "print(\"\\nRatio =\",P[3])\n",
        "B = (Close[3])\n",
        "C = B/100*10\n",
        "print(\"\\nIncreased value of Close = Rs\",C)\n",
        "D = (Close[3]+C)\n",
        "print(\"\\nDiff of increased value = Rs\",D)\n",
        "E = (Current[3])\n",
        "F = E/100*10\n",
        "print(\"\\nIncreased value of Current = Rs\",F)\n",
        "G = (Current[3]+F)\n",
        "print(\"\\nDiff of increased value = Rs\",G)"
      ],
      "metadata": {
        "colab": {
          "base_uri": "https://localhost:8080/"
        },
        "id": "YNHjQcuS3Nsb",
        "outputId": "4c017276-a250-4041-9d4a-51b28c335e91"
      },
      "execution_count": null,
      "outputs": [
        {
          "output_type": "stream",
          "name": "stdout",
          "text": [
            "\n",
            "Company = Bandhan Bank\n",
            "\n",
            "Close = 187.75\n",
            "\n",
            "Current = 211.0\n",
            "\n",
            "Ratio = 12.38\n",
            "\n",
            "Increased value of Close = Rs 18.775\n",
            "\n",
            "Diff of increased value = Rs 206.525\n",
            "\n",
            "Increased value of Current = Rs 21.099999999999998\n",
            "\n",
            "Diff of increased value = Rs 232.1\n"
          ]
        }
      ]
    },
    {
      "cell_type": "code",
      "source": [
        "import numpy as np\n",
        "\n",
        "A = np.array([\"Sudarshan Chem\",\"Usha Martin Ltd\",\"Neuland Laborat\",\"Bandhan Bank\",\"AGI Greenpac\",\"Kirloskar Pneumatic\",\"Nippon Life AMC\",\"Dodla Dairy\",\"Ashapura Min. Lt\",\"Hind.ConstructionCo\"]);\n",
        "Close = np.array([1013.80,367.20,12500.75,187.75,941.90,1305.10,641.70,1181.30,295.70,39.50]);\n",
        "Current = np.array([1207.50,422.30,14268.20,211.00,1033.95,1427.05,700.85,1286.75,322.10,42.27]);\n",
        "P = np.array([19.11,15.01,14.14,12.38,9.77,9.34,9.22,8.93,8.93,7.01])\n",
        "print(\"\\nCompany =\",A[4])\n",
        "print(\"\\nClose =\",Close[4])\n",
        "print(\"\\nCurrent =\",Current[4])\n",
        "print(\"\\nRatio =\",P[4])\n",
        "B = (Close[4])\n",
        "C = B/100*10\n",
        "print(\"\\nIncreased value of Close = Rs\",C)\n",
        "D = (Close[4]+C)\n",
        "print(\"\\nDiff of increased value = Rs\",D)\n",
        "E = (Current[4])\n",
        "F = E/100*10\n",
        "print(\"\\nIncreased value of Current = Rs\",F)\n",
        "G = (Current[4]+F)\n",
        "print(\"\\nDiff of increased value = Rs\",G)"
      ],
      "metadata": {
        "colab": {
          "base_uri": "https://localhost:8080/"
        },
        "id": "7Z5xQbMd3VeT",
        "outputId": "91763d20-13a1-4dfa-c29f-077e58919641"
      },
      "execution_count": null,
      "outputs": [
        {
          "output_type": "stream",
          "name": "stdout",
          "text": [
            "\n",
            "Company = AGI Greenpac\n",
            "\n",
            "Close = 941.9\n",
            "\n",
            "Current = 1033.95\n",
            "\n",
            "Ratio = 9.77\n",
            "\n",
            "Increased value of Close = Rs 94.19\n",
            "\n",
            "Diff of increased value = Rs 1036.09\n",
            "\n",
            "Increased value of Current = Rs 103.39500000000001\n",
            "\n",
            "Diff of increased value = Rs 1137.345\n"
          ]
        }
      ]
    },
    {
      "cell_type": "code",
      "source": [
        "import numpy as np\n",
        "\n",
        "A = np.array([\"Sudarshan Chem\",\"Usha Martin Ltd\",\"Neuland Laborat\",\"Bandhan Bank\",\"AGI Greenpac\",\"Kirloskar Pneumatic\",\"Nippon Life AMC\",\"Dodla Dairy\",\"Ashapura Min. Lt\",\"Hind.ConstructionCo\"]);\n",
        "Close = np.array([1013.80,367.20,12500.75,187.75,941.90,1305.10,641.70,1181.30,295.70,39.50]);\n",
        "Current = np.array([1207.50,422.30,14268.20,211.00,1033.95,1427.05,700.85,1286.75,322.10,42.27]);\n",
        "P = np.array([19.11,15.01,14.14,12.38,9.77,9.34,9.22,8.93,8.93,7.01])\n",
        "print(\"\\nCompany =\",A[5])\n",
        "print(\"\\nClose =\",Close[5])\n",
        "print(\"\\nCurrent =\",Current[5])\n",
        "print(\"\\nRatio =\",P[5])\n",
        "B = (Close[5])\n",
        "C = B/100*10\n",
        "print(\"\\nIncreased value of Close = Rs\",C)\n",
        "D = (Close[5]+C)\n",
        "print(\"\\nDiff of increased value = Rs\",D)\n",
        "E = (Current[5])\n",
        "F = E/100*10\n",
        "print(\"\\nIncreased value of Current = Rs\",F)\n",
        "G = (Current[5]+F)\n",
        "print(\"\\nDiff of increased value = Rs\",G)"
      ],
      "metadata": {
        "colab": {
          "base_uri": "https://localhost:8080/"
        },
        "id": "iJHCALjX3bCb",
        "outputId": "f60995cb-483d-4fb9-b83c-0ff9ab36a13e"
      },
      "execution_count": null,
      "outputs": [
        {
          "output_type": "stream",
          "name": "stdout",
          "text": [
            "\n",
            "Company = Kirloskar Pneumatic\n",
            "\n",
            "Close = 1305.1\n",
            "\n",
            "Current = 1427.05\n",
            "\n",
            "Ratio = 9.34\n",
            "\n",
            "Increased value of Close = Rs 130.51\n",
            "\n",
            "Diff of increased value = Rs 1435.61\n",
            "\n",
            "Increased value of Current = Rs 142.705\n",
            "\n",
            "Diff of increased value = Rs 1569.7549999999999\n"
          ]
        }
      ]
    },
    {
      "cell_type": "code",
      "source": [
        "import numpy as np\n",
        "\n",
        "A = np.array([\"Sudarshan Chem\",\"Usha Martin Ltd\",\"Neuland Laborat\",\"Bandhan Bank\",\"AGI Greenpac\",\"Kirloskar Pneumatic\",\"Nippon Life AMC\",\"Dodla Dairy\",\"Ashapura Min. Lt\",\"Hind.ConstructionCo\"]);\n",
        "Close = np.array([1013.80,367.20,12500.75,187.75,941.90,1305.10,641.70,1181.30,295.70,39.50]);\n",
        "Current = np.array([1207.50,422.30,14268.20,211.00,1033.95,1427.05,700.85,1286.75,322.10,42.27]);\n",
        "P = np.array([19.11,15.01,14.14,12.38,9.77,9.34,9.22,8.93,8.93,7.01])\n",
        "print(\"\\nCompany =\",A[6])\n",
        "print(\"\\nClose =\",Close[6])\n",
        "print(\"\\nCurrent =\",Current[6])\n",
        "print(\"\\nRatio =\",P[6])\n",
        "B = (Close[6])\n",
        "C = B/100*10\n",
        "print(\"\\nIncreased value of Close = Rs\",C)\n",
        "D = (Close[6]+C)\n",
        "print(\"\\nDiff of increased value = Rs\",D)\n",
        "E = (Current[6])\n",
        "F = E/100*10\n",
        "print(\"\\nIncreased value of Current = Rs\",F)\n",
        "G = (Current[6]+F)\n",
        "print(\"\\nDiff of increased value = Rs\",G)"
      ],
      "metadata": {
        "colab": {
          "base_uri": "https://localhost:8080/"
        },
        "id": "PCCrzrFi3ep5",
        "outputId": "2bc459b7-70a9-41a4-e147-dd2e4a90ad44"
      },
      "execution_count": null,
      "outputs": [
        {
          "output_type": "stream",
          "name": "stdout",
          "text": [
            "\n",
            "Company = Nippon Life AMC\n",
            "\n",
            "Close = 641.7\n",
            "\n",
            "Current = 700.85\n",
            "\n",
            "Ratio = 9.22\n",
            "\n",
            "Increased value of Close = Rs 64.17\n",
            "\n",
            "Diff of increased value = Rs 705.87\n",
            "\n",
            "Increased value of Current = Rs 70.08500000000001\n",
            "\n",
            "Diff of increased value = Rs 770.9350000000001\n"
          ]
        }
      ]
    },
    {
      "cell_type": "code",
      "source": [
        "import numpy as np\n",
        "\n",
        "A = np.array([\"Sudarshan Chem\",\"Usha Martin Ltd\",\"Neuland Laborat\",\"Bandhan Bank\",\"AGI Greenpac\",\"Kirloskar Pneumatic\",\"Nippon Life AMC\",\"Dodla Dairy\",\"Ashapura Min. Lt\",\"Hind.ConstructionCo\"]);\n",
        "Close = np.array([1013.80,367.20,12500.75,187.75,941.90,1305.10,641.70,1181.30,295.70,39.50]);\n",
        "Current = np.array([1207.50,422.30,14268.20,211.00,1033.95,1427.05,700.85,1286.75,322.10,42.27]);\n",
        "P = np.array([19.11,15.01,14.14,12.38,9.77,9.34,9.22,8.93,8.93,7.01])\n",
        "print(\"\\nCompany =\",A[7])\n",
        "print(\"\\nClose =\",Close[7])\n",
        "print(\"\\nCurrent =\",Current[7])\n",
        "print(\"\\nRatio =\",P[7])\n",
        "B = (Close[7])\n",
        "C = B/100*10\n",
        "print(\"\\nIncreased value of Close = Rs\",C)\n",
        "D = (Close[7]+C)\n",
        "print(\"\\nDiff of increased value = Rs\",D)\n",
        "E = (Current[7])\n",
        "F = E/100*10\n",
        "print(\"\\nIncreased value of Current = Rs\",F)\n",
        "G = (Current[7]+F)\n",
        "print(\"\\nDiff of increased value = Rs\",G)"
      ],
      "metadata": {
        "colab": {
          "base_uri": "https://localhost:8080/"
        },
        "id": "1tn3kTTc3iyp",
        "outputId": "51a8b7df-9d94-420e-b793-f2c9350ba9f6"
      },
      "execution_count": null,
      "outputs": [
        {
          "output_type": "stream",
          "name": "stdout",
          "text": [
            "\n",
            "Company = Dodla Dairy\n",
            "\n",
            "Close = 1181.3\n",
            "\n",
            "Current = 1286.75\n",
            "\n",
            "Ratio = 8.93\n",
            "\n",
            "Increased value of Close = Rs 118.13\n",
            "\n",
            "Diff of increased value = Rs 1299.4299999999998\n",
            "\n",
            "Increased value of Current = Rs 128.675\n",
            "\n",
            "Diff of increased value = Rs 1415.425\n"
          ]
        }
      ]
    },
    {
      "cell_type": "code",
      "source": [
        "import numpy as np\n",
        "\n",
        "A = np.array([\"Sudarshan Chem\",\"Usha Martin Ltd\",\"Neuland Laborat\",\"Bandhan Bank\",\"AGI Greenpac\",\"Kirloskar Pneumatic\",\"Nippon Life AMC\",\"Dodla Dairy\",\"Ashapura Min. Lt\",\"Hind.ConstructionCo\"]);\n",
        "Close = np.array([1013.80,367.20,12500.75,187.75,941.90,1305.10,641.70,1181.30,295.70,39.50]);\n",
        "Current = np.array([1207.50,422.30,14268.20,211.00,1033.95,1427.05,700.85,1286.75,322.10,42.27]);\n",
        "P = np.array([19.11,15.01,14.14,12.38,9.77,9.34,9.22,8.93,8.93,7.01])\n",
        "print(\"\\nCompany =\",A[8])\n",
        "print(\"\\nClose =\",Close[8])\n",
        "print(\"\\nCurrent =\",Current[8])\n",
        "print(\"\\nRatio =\",P[8])\n",
        "B = (Close[8])\n",
        "C = B/100*10\n",
        "print(\"\\nIncreased value of Close = Rs\",C)\n",
        "D = (Close[8]+C)\n",
        "print(\"\\nDiff of increased value = Rs\",D)\n",
        "E = (Current[8])\n",
        "F = E/100*10\n",
        "print(\"\\nIncreased value of Current = Rs\",F)\n",
        "G = (Current[8]+F)\n",
        "print(\"\\nDiff of increased value = Rs\",G)"
      ],
      "metadata": {
        "colab": {
          "base_uri": "https://localhost:8080/"
        },
        "id": "wlWZKtoo3mwp",
        "outputId": "34dac8ba-8ab1-40ca-cd89-38c146dbd9d4"
      },
      "execution_count": null,
      "outputs": [
        {
          "output_type": "stream",
          "name": "stdout",
          "text": [
            "\n",
            "Company = Ashapura Min. Lt\n",
            "\n",
            "Close = 295.7\n",
            "\n",
            "Current = 322.1\n",
            "\n",
            "Ratio = 8.93\n",
            "\n",
            "Increased value of Close = Rs 29.57\n",
            "\n",
            "Diff of increased value = Rs 325.27\n",
            "\n",
            "Increased value of Current = Rs 32.21\n",
            "\n",
            "Diff of increased value = Rs 354.31\n"
          ]
        }
      ]
    },
    {
      "cell_type": "code",
      "source": [
        "import numpy as np\n",
        "\n",
        "A = np.array([\"Sudarshan Chem\",\"Usha Martin Ltd\",\"Neuland Laborat\",\"Bandhan Bank\",\"AGI Greenpac\",\"Kirloskar Pneumatic\",\"Nippon Life AMC\",\"Dodla Dairy\",\"Ashapura Min. Lt\",\"Hind.ConstructionCo\"]);\n",
        "Close = np.array([1013.80,367.20,12500.75,187.75,941.90,1305.10,641.70,1181.30,295.70,39.50]);\n",
        "Current = np.array([1207.50,422.30,14268.20,211.00,1033.95,1427.05,700.85,1286.75,322.10,42.27]);\n",
        "P = np.array([19.11,15.01,14.14,12.38,9.77,9.34,9.22,8.93,8.93,7.01])\n",
        "print(\"\\nCompany =\",A[9])\n",
        "print(\"\\nClose =\",Close[9])\n",
        "print(\"\\nCurrent =\",Current[9])\n",
        "print(\"\\nRatio =\",P[9])\n",
        "B = (Close[9])\n",
        "C = B/100*10\n",
        "print(\"\\nIncreased value of Close = Rs\",C)\n",
        "D = (Close[9]+C)\n",
        "print(\"\\nDiff of increased value = Rs\",D)\n",
        "E = (Current[9])\n",
        "F = E/100*10\n",
        "print(\"\\nIncreased value of Current = Rs\",F)\n",
        "G = (Current[9]+F)\n",
        "print(\"\\nDiff of increased value = Rs\",G)"
      ],
      "metadata": {
        "colab": {
          "base_uri": "https://localhost:8080/"
        },
        "id": "UPZHISTt3rYl",
        "outputId": "1e7bdb23-8c84-4b1d-d4b0-d8572dad524b"
      },
      "execution_count": null,
      "outputs": [
        {
          "output_type": "stream",
          "name": "stdout",
          "text": [
            "\n",
            "Company = Hind.ConstructionCo\n",
            "\n",
            "Close = 39.5\n",
            "\n",
            "Current = 42.27\n",
            "\n",
            "Ratio = 7.01\n",
            "\n",
            "Increased value of Close = Rs 3.95\n",
            "\n",
            "Diff of increased value = Rs 43.45\n",
            "\n",
            "Increased value of Current = Rs 4.227\n",
            "\n",
            "Diff of increased value = Rs 46.497\n"
          ]
        }
      ]
    },
    {
      "cell_type": "code",
      "source": [
        "import numpy as np\n",
        "\n",
        "a=np.array([2,2,3,4,5,6,1,7,2])\n",
        "b=np.array([23,6,7,8,9,8,1,11,34])\n",
        "c1=a+b\n",
        "print(\"\\nc1 =\",c1)\n",
        "c2=a-b\n",
        "print(\"\\nc2 =\",c2)\n",
        "c3=a/b\n",
        "print(\"\\nc3 =\",c3)\n",
        "c4=a*b\n",
        "print(\"\\nc4 =\",c4)\n",
        "c5=a**b\n",
        "print(\"\\nc5 =\",c5)\n",
        "c6=b-a\n",
        "print(\"\\nc6 =\",c6)\n",
        "c7=b**a\n",
        "print(\"\\nc7 =\",c7)\n",
        "c8= np.sort(a)+ np.sort(b)\n",
        "print(\"\\nc8 =\",c8)\n",
        "c9=np.sort(b)-np.sort(a)\n",
        "print(\"\\nc9 =\",c9)\n",
        "c10=np.sort(a)[::-1]+np.sort(b)[::-1]\n",
        "print(\"\\nc10 =\",c10)\n",
        "c11=np.sort(a)[::-1]+np.sort(b)\n",
        "print(\"\\nc11 =\",c11)\n",
        "c12=np.sort(b)[::-1]+np.sort(a)\n",
        "print(\"\\nc12 =\",c12)\n",
        "c13=np.sort(b)[::-1]+np.sort(b)\n",
        "print(\"\\nc13 =\",c13)\n",
        "c14=np.sort(a)[::-1]+np.sort(a)\n",
        "print(\"\\nc14 =\",c14)\n",
        "c15=a+a\n",
        "print(\"\\nc15 =\",c15)\n",
        "c16=b+b\n",
        "print(\"\\nc16 =\",c16)\n",
        "c17=a*a\n",
        "print(\"\\nc17 =\",c17)\n",
        "c18=b*B\n",
        "print(\"\\nc18 =\",c18)\n",
        "c19=np.max(a)+np.max(b)\n",
        "print(\"\\nc19 =\",c19)\n",
        "c20 = np.min(a)+np.min(b)\n",
        "print(\"\\nc20 =\",c20)\n",
        "c21 = np.min(a)-np.min(b)\n",
        "print(\"\\nc21 =\",c21)\n",
        "c22 = np.min(a)*np.min(b)\n",
        "print(\"\\nc22 =\",c22)\n",
        "c23 = np.min(a)**np.min(b)\n",
        "print(\"\\nc23 =\",c23)\n",
        "c24 = np.min(a)/np.min(b)\n",
        "print(\"\\nc24 =\",c24)\n",
        "c25=np.max(a)*np.max(b)\n",
        "print(\"\\nc25 =\",c25)\n",
        "c26=np.max(a)*np.min(b)\n",
        "print(\"\\nc26 =\",c26)\n",
        "c27=np.max(b)*np.min(a)\n",
        "print(\"\\nc27 =\",c27)\n",
        "c28=np.mean(a)+np.mean(b)\n",
        "print(\"\\nc28 =\",c28)\n",
        "c29=np.mean(a)-np.mean(b)\n",
        "print(\"\\nc29 =\",c29)\n",
        "c30=np.mean(a)*np.mean(b)\n",
        "print(\"\\nc30 =\",c30)\n",
        "c31=np.mean(a)/np.mean(b)\n",
        "print(\"\\nc31 =\",c31)\n",
        "c32=np.flip(a)+b\n",
        "print(\"\\nc32 =\",c32)\n",
        "c33=np.flip(a)-b\n",
        "print(\"\\nc33 =\",c33)\n",
        "c34=np.flip(a)*b\n",
        "print(\"\\nc34 =\",c34)\n",
        "c35=np.flip(a)/b\n",
        "print(\"\\nc35 =\",c35)\n",
        "c36=np.flip(a)**b\n",
        "print(\"\\nc36 =\",c36)\n",
        "c37=np.flip(b)+a\n",
        "print(\"\\nc37 =\",c37)\n",
        "c38=np.flip(b)-a\n",
        "print(\"\\nc38 =\",c38)\n",
        "c39=np.flip(b)*a\n",
        "print(\"\\nc39 =\",c39)\n",
        "c40=np.flip(b)/a\n",
        "print(\"\\nc40 =\",c40)\n",
        "c41=np.flip(b)**a\n",
        "print(\"\\nc41 =\",c41)\n",
        "c42=np.sort(a)[::-1]+np.flip(b)\n",
        "print(\"\\nc42 =\",c42)\n",
        "c43=np.sort(a)[::-1]-b\n",
        "print(\"\\nc43 =\",c43)\n",
        "c44=np.sort(a)[::-1]*b\n",
        "print(\"\\nc44 =\",c44)\n",
        "c45=np.sort(a)[::-1]/b\n",
        "print(\"\\nc45 =\",c45)\n",
        "c46=np.sort(b)[::-1]*a\n",
        "print(\"\\nc46 =\",c46)\n",
        "c47=np.sort(b)[::-1]+np.flip(a)\n",
        "print(\"\\nc47 =\",c47)\n",
        "c48=np.sort(b)[::-1]*np.flip(a)\n",
        "print(\"\\nc48 =\",c48)\n",
        "c49=np.sort(b)[::-1]/a\n",
        "print(\"\\nc49 =\",c49)\n",
        "c50=np.sort(b)[::-1]*np.sort(a)[::-1]\n",
        "print(\"\\nc50 =\",c50)\n",
        "c51=np.sort(b)[::-1]/np.flip(b)\n",
        "print(\"\\nc51 =\",c51)\n",
        "c52=np.sort(a)+np.flip(b)\n",
        "print(\"\\nc52 =\",c52)\n",
        "c53=np.sort(a)*np.flip(b)\n",
        "print(\"\\nc53 =\",c53)\n",
        "c54=np.sort(a)-np.flip(b)\n",
        "print(\"\\nc54 =\",c54)\n",
        "c55=np.sort(a)/np.flip(b)\n",
        "print(\"\\nc54 =\",c55)\n",
        "c56=np.sort(b)+np.flip(a)\n",
        "print(\"\\nc56 =\",c56)\n",
        "c57=np.sort(b)*np.flip(a)\n",
        "print(\"\\nc57 =\",c57)\n",
        "c58=np.sort(b)-np.flip(a)\n",
        "print(\"\\nc58 =\",c58)\n",
        "c59=np.sort(b)/np.flip(a)\n",
        "print(\"\\nc59 =\",c59)\n",
        "c60=np.flip(a)+np.flip(b)\n",
        "print(\"\\nc60 =\",c60)"
      ],
      "metadata": {
        "colab": {
          "base_uri": "https://localhost:8080/"
        },
        "id": "qSklB9308Y44",
        "outputId": "024a4f4c-511c-4d8e-b791-cbf7eb0d1a7e"
      },
      "execution_count": null,
      "outputs": [
        {
          "output_type": "stream",
          "name": "stdout",
          "text": [
            "\n",
            "c1 = [25  8 10 12 14 14  2 18 36]\n",
            "\n",
            "c2 = [-21  -4  -4  -4  -4  -2   0  -4 -32]\n",
            "\n",
            "c3 = [0.08695652 0.33333333 0.42857143 0.5        0.55555556 0.75\n",
            " 1.         0.63636364 0.05882353]\n",
            "\n",
            "c4 = [46 12 21 32 45 48  1 77 68]\n",
            "\n",
            "c5 = [    8388608          64        2187       65536     1953125     1679616\n",
            "           1  1977326743 17179869184]\n",
            "\n",
            "c6 = [21  4  4  4  4  2  0  4 32]\n",
            "\n",
            "c7 = [     529       36      343     4096    59049   262144        1 19487171\n",
            "     1156]\n",
            "\n",
            "c8 = [ 2  8  9 10 11 13 16 29 41]\n",
            "\n",
            "c9 = [ 0  4  5  6  5  5  6 17 27]\n",
            "\n",
            "c10 = [41 29 16 13 11 10  9  8  2]\n",
            "\n",
            "c11 = [ 8 12 12 12 11 11 13 25 35]\n",
            "\n",
            "c12 = [35 25 13 11 11 12 12 12  8]\n",
            "\n",
            "c13 = [35 29 18 17 16 17 18 29 35]\n",
            "\n",
            "c14 = [8 8 7 6 6 6 7 8 8]\n",
            "\n",
            "c15 = [ 4  4  6  8 10 12  2 14  4]\n",
            "\n",
            "c16 = [46 12 14 16 18 16  2 22 68]\n",
            "\n",
            "c17 = [ 4  4  9 16 25 36  1 49  4]\n",
            "\n",
            "c18 = [ 908.5  237.   276.5  316.   355.5  316.    39.5  434.5 1343. ]\n",
            "\n",
            "c19 = 41\n",
            "\n",
            "c20 = 2\n",
            "\n",
            "c21 = 0\n",
            "\n",
            "c22 = 1\n",
            "\n",
            "c23 = 1\n",
            "\n",
            "c24 = 1.0\n",
            "\n",
            "c25 = 238\n",
            "\n",
            "c26 = 7\n",
            "\n",
            "c27 = 34\n",
            "\n",
            "c28 = 15.444444444444445\n",
            "\n",
            "c29 = -8.333333333333334\n",
            "\n",
            "c30 = 42.2716049382716\n",
            "\n",
            "c31 = 0.29906542056074764\n",
            "\n",
            "c32 = [25 13  8 14 14 12  4 13 36]\n",
            "\n",
            "c33 = [-21   1  -6  -2  -4  -4   2  -9 -32]\n",
            "\n",
            "c34 = [46 42  7 48 45 32  3 22 68]\n",
            "\n",
            "c35 = [0.08695652 1.16666667 0.14285714 0.75       0.55555556 0.5\n",
            " 3.         0.18181818 0.05882353]\n",
            "\n",
            "c36 = [    8388608      117649           1     1679616     1953125       65536\n",
            "           3        2048 17179869184]\n",
            "\n",
            "c37 = [36 13  4 12 14 14  8 13 25]\n",
            "\n",
            "c38 = [32  9 -2  4  4  2  6 -1 21]\n",
            "\n",
            "c39 = [68 22  3 32 45 48  7 42 46]\n",
            "\n",
            "c40 = [17.          5.5         0.33333333  2.          1.8         1.33333333\n",
            "  7.          0.85714286 11.5       ]\n",
            "\n",
            "c41 = [  1156    121      1   4096  59049 262144      7 279936    529]\n",
            "\n",
            "c42 = [41 17  6 12 12 10  9  8 24]\n",
            "\n",
            "c43 = [-16   0  -2  -4  -6  -6   1  -9 -33]\n",
            "\n",
            "c44 = [161  36  35  32  27  16   2  22  34]\n",
            "\n",
            "c45 = [0.30434783 1.         0.71428571 0.5        0.33333333 0.25\n",
            " 2.         0.18181818 0.02941176]\n",
            "\n",
            "c46 = [68 46 33 36 40 48  7 42  2]\n",
            "\n",
            "c47 = [36 30 12 15 13 12 10  8  3]\n",
            "\n",
            "c48 = [ 68 161  11  54  40  32  21  12   2]\n",
            "\n",
            "c49 = [17.         11.5         3.66666667  2.25        1.6         1.33333333\n",
            "  7.          0.85714286  0.5       ]\n",
            "\n",
            "c50 = [238 138  55  36  24  16  14  12   1]\n",
            "\n",
            "c51 = [ 1.          2.09090909 11.          1.125       0.88888889  1.\n",
            "  1.          1.          0.04347826]\n",
            "\n",
            "c52 = [35 13  3 10 12 12 12 12 30]\n",
            "\n",
            "c53 = [ 34  22   2  16  27  32  35  36 161]\n",
            "\n",
            "c54 = [-33  -9   1  -6  -6  -4  -2   0 -16]\n",
            "\n",
            "c54 = [0.02941176 0.18181818 2.         0.25       0.33333333 0.5\n",
            " 0.71428571 1.         0.30434783]\n",
            "\n",
            "c56 = [ 3 13  8 14 13 13 14 25 36]\n",
            "\n",
            "c57 = [ 2 42  7 48 40 36 33 46 68]\n",
            "\n",
            "c58 = [-1 -1  6  2  3  5  8 21 32]\n",
            "\n",
            "c59 = [ 0.5         0.85714286  7.          1.33333333  1.6         2.25\n",
            "  3.66666667 11.5        17.        ]\n",
            "\n",
            "c60 = [36 18  2 14 14 12 10  8 25]\n"
          ]
        }
      ]
    },
    {
      "cell_type": "code",
      "source": [
        "import numpy as np\n",
        "\n",
        "a=np.array([2,2,3,4,5,6,1,7,2])\n",
        "b=np.array([23,6,7,8,9,8,1,11,34])\n",
        "c20 = np.min(a)+np.min(b)\n",
        "print(\"\\nc20 =\",c20)\n",
        "c21 = np.min(a)-np.min(b)\n",
        "print(\"\\nc21 =\",c21)\n",
        "c22 = np.min(a)*np.min(b)\n",
        "print(\"\\nc22 =\",c22)\n",
        "c23 = np.min(a)**np.min(b)\n",
        "print(\"\\nc23 =\",c23)\n",
        "c24 = np.min(a)/np.min(b)\n",
        "print(\"\\nc24 =\",c24)\n",
        "c25=np.max(a)*np.max(b)\n",
        "print(\"\\nc25 =\",c25)\n",
        "c26=np.max(a)*np.min(b)\n",
        "print(\"\\nc26 =\",c26)\n",
        "c27=np.max(b)*np.min(a)\n",
        "print(\"\\nc27 =\",c27)\n",
        "c28=np.mean(a)+np.mean(b)\n",
        "print(\"\\nc28 =\",c28)\n",
        "c29=np.mean(a)-np.mean(b)\n",
        "print(\"\\nc29 =\",c29)\n",
        "c30=np.mean(a)*np.mean(b)\n",
        "print(\"\\nc30 =\",c30)\n",
        "c31=np.mean(a)/np.mean(b)\n",
        "print(\"\\nc31 =\",c31)\n",
        "c32=np.flip(a)+b\n",
        "print(\"\\nc32 =\",c32)\n",
        "c33=np.flip(a)-b\n",
        "print(\"\\nc33 =\",c33)\n",
        "c34=np.flip(a)*b\n",
        "print(\"\\nc34 =\",c34)\n",
        "c35=np.flip(a)/b\n",
        "print(\"\\nc35 =\",c35)\n",
        "c36=np.flip(a)**b\n",
        "print(\"\\nc36 =\",c36)\n",
        "c37=np.flip(b)+a\n",
        "print(\"\\nc37 =\",c37)\n",
        "c38=np.flip(b)-a\n",
        "print(\"\\nc38 =\",c38)\n",
        "c39=np.flip(b)*a\n",
        "print(\"\\nc39 =\",c39)\n",
        "c40=np.flip(b)/a\n",
        "print(\"\\nc40 =\",c40)\n",
        "c41=np.flip(b)**a\n",
        "print(\"\\nc41 =\",c41)\n",
        "c42=np.sort(a)[::-1]+np.flip(b)\n",
        "print(\"\\nc42 =\",c42)\n",
        "c43=np.sort(a)[::-1]-b\n",
        "print(\"\\nc43 =\",c43)\n",
        "c44=np.sort(a)[::-1]*b\n",
        "print(\"\\nc44 =\",c44)\n",
        "c45=np.sort(a)[::-1]/b\n",
        "print(\"\\nc45 =\",c45)\n",
        "c46=np.sort(b)[::-1]*a\n",
        "print(\"\\nc46 =\",c46)\n",
        "c47=np.sort(b)[::-1]+np.flip(a)\n",
        "print(\"\\nc47 =\",c47)\n",
        "c48=np.sort(b)[::-1]*np.flip(a)\n",
        "print(\"\\nc48 =\",c48)\n",
        "c49=np.sort(b)[::-1]/a\n",
        "print(\"\\nc49 =\",c49)\n",
        "c50=np.sort(b)[::-1]*np.sort(a)[::-1]\n",
        "print(\"\\nc50 =\",c50)\n",
        "c51=np.sort(b)[::-1]/np.flip(b)\n",
        "print(\"\\nc51 =\",c51)"
      ],
      "metadata": {
        "colab": {
          "base_uri": "https://localhost:8080/"
        },
        "id": "ofJ83VqTBXmP",
        "outputId": "fba0e7c1-bcb5-424d-e2a0-2adaba1938a6"
      },
      "execution_count": null,
      "outputs": [
        {
          "output_type": "stream",
          "name": "stdout",
          "text": [
            "\n",
            "c20 = 2\n",
            "\n",
            "c21 = 0\n",
            "\n",
            "c22 = 1\n",
            "\n",
            "c23 = 1\n",
            "\n",
            "c24 = 1.0\n",
            "\n",
            "c25 = 238\n",
            "\n",
            "c26 = 7\n",
            "\n",
            "c27 = 34\n",
            "\n",
            "c28 = 15.444444444444445\n",
            "\n",
            "c29 = -8.333333333333334\n",
            "\n",
            "c30 = 42.2716049382716\n",
            "\n",
            "c31 = 0.29906542056074764\n",
            "\n",
            "c32 = [25 13  8 14 14 12  4 13 36]\n",
            "\n",
            "c33 = [-21   1  -6  -2  -4  -4   2  -9 -32]\n",
            "\n",
            "c34 = [46 42  7 48 45 32  3 22 68]\n",
            "\n",
            "c35 = [0.08695652 1.16666667 0.14285714 0.75       0.55555556 0.5\n",
            " 3.         0.18181818 0.05882353]\n",
            "\n",
            "c36 = [    8388608      117649           1     1679616     1953125       65536\n",
            "           3        2048 17179869184]\n",
            "\n",
            "c37 = [36 13  4 12 14 14  8 13 25]\n",
            "\n",
            "c38 = [32  9 -2  4  4  2  6 -1 21]\n",
            "\n",
            "c39 = [68 22  3 32 45 48  7 42 46]\n",
            "\n",
            "c40 = [17.          5.5         0.33333333  2.          1.8         1.33333333\n",
            "  7.          0.85714286 11.5       ]\n",
            "\n",
            "c41 = [  1156    121      1   4096  59049 262144      7 279936    529]\n",
            "\n",
            "c42 = [41 17  6 12 12 10  9  8 24]\n",
            "\n",
            "c43 = [-16   0  -2  -4  -6  -6   1  -9 -33]\n",
            "\n",
            "c44 = [161  36  35  32  27  16   2  22  34]\n",
            "\n",
            "c45 = [0.30434783 1.         0.71428571 0.5        0.33333333 0.25\n",
            " 2.         0.18181818 0.02941176]\n",
            "\n",
            "c46 = [68 46 33 36 40 48  7 42  2]\n",
            "\n",
            "c47 = [36 30 12 15 13 12 10  8  3]\n",
            "\n",
            "c48 = [ 68 161  11  54  40  32  21  12   2]\n",
            "\n",
            "c49 = [17.         11.5         3.66666667  2.25        1.6         1.33333333\n",
            "  7.          0.85714286  0.5       ]\n",
            "\n",
            "c50 = [238 138  55  36  24  16  14  12   1]\n",
            "\n",
            "c51 = [ 1.          2.09090909 11.          1.125       0.88888889  1.\n",
            "  1.          1.          0.04347826]\n"
          ]
        }
      ]
    },
    {
      "cell_type": "code",
      "source": [
        "#print as numpy\n",
        "import pandas as pd\n",
        "import numpy as np\n",
        "a=np.array([11,99,303,44,55,6])\n",
        "b=np.array([1,2,3,4,5,6])\n",
        "c=a+b\n",
        "d=np.array([\"Abi\",\"Bala\",\"Coulins\",\"Dinesh\",\"Elger\",\"Ganesh\"])\n",
        "print(\"a=\",a)\n",
        "print(\"b=\",b)\n",
        "print(\"c=\",c)\n",
        "print(\"Name=\",d)"
      ],
      "metadata": {
        "colab": {
          "base_uri": "https://localhost:8080/"
        },
        "id": "webvAz_yFnvP",
        "outputId": "8321c042-63b0-418f-de28-21b6943ccfe9"
      },
      "execution_count": null,
      "outputs": [
        {
          "output_type": "stream",
          "name": "stdout",
          "text": [
            "a= [ 11  99 303  44  55   6]\n",
            "b= [1 2 3 4 5 6]\n",
            "c= [ 12 101 306  48  60  12]\n",
            "Name= ['Abi' 'Bala' 'Coulins' 'Dinesh' 'Elger' 'Ganesh']\n"
          ]
        }
      ]
    },
    {
      "cell_type": "code",
      "source": [
        "#first panda\n",
        "import pandas as pd\n",
        "import numpy as np\n",
        "a=np.array([11,99,303,44,55,6])\n",
        "b=np.array([1,2,3,4,5,6])\n",
        "c=a+b\n",
        "d=np.array([\"Abi\",\"Bala\",\"Coulins\",\"Dinesh\",\"Elger\",\"Ganesh\"])\n",
        "frame={\"Name\":d, \"A\":a, \"B\":b, \"C\":c}\n",
        "g=pd.DataFrame(frame)\n",
        "print(g)\n",
        "g.to_excel('output1.xlsx', index=False)\n",
        "g.to_csv('file1.csv', index=False)"
      ],
      "metadata": {
        "colab": {
          "base_uri": "https://localhost:8080/"
        },
        "id": "lvhnM_6-HhM3",
        "outputId": "05243e9d-ef10-4220-ea27-ac18da8f06af"
      },
      "execution_count": null,
      "outputs": [
        {
          "output_type": "stream",
          "name": "stdout",
          "text": [
            "      Name    A  B    C\n",
            "0      Abi   11  1   12\n",
            "1     Bala   99  2  101\n",
            "2  Coulins  303  3  306\n",
            "3   Dinesh   44  4   48\n",
            "4    Elger   55  5   60\n",
            "5   Ganesh    6  6   12\n"
          ]
        }
      ]
    },
    {
      "cell_type": "code",
      "source": [
        "import numpy as np\n",
        "import pandas as pd\n",
        "\n",
        "X = np.array([120,140,160,180,190])\n",
        "Y = np.array([20,40,60,80,90])\n",
        "Z = np.array([125,145,165,185,195])\n",
        "\n",
        "A = X+Y\n",
        "B = X-Y\n",
        "C = X+Z\n",
        "D = Y+Z\n",
        "frame = {\"X\":X,\"Y\":Y,\"Z\":Z,\"X+Y\":A,\"X-Y\":B,\"X+Z\":C,\"Y+Z\":D}\n",
        "G = pd.DataFrame(frame)\n",
        "print(G)\n",
        "G.to_excel('output2.xlsx', index=False)\n",
        "G.to_csv('file2.csv', index=False)"
      ],
      "metadata": {
        "colab": {
          "base_uri": "https://localhost:8080/"
        },
        "id": "_3dewaj3JUK2",
        "outputId": "2c86e5dc-cf3f-46af-9d6a-48f1eed610ac"
      },
      "execution_count": null,
      "outputs": [
        {
          "output_type": "stream",
          "name": "stdout",
          "text": [
            "     X   Y    Z  X+Y  X-Y  X+Z  Y+Z\n",
            "0  120  20  125  140  100  245  145\n",
            "1  140  40  145  180  100  285  185\n",
            "2  160  60  165  220  100  325  225\n",
            "3  180  80  185  260  100  365  265\n",
            "4  190  90  195  280  100  385  285\n"
          ]
        }
      ]
    },
    {
      "cell_type": "code",
      "source": [
        "import numpy as np\n",
        "import pandas as pd\n",
        "\n",
        "Company= np.array([\"Rallis India\",\"Aditya Birla SL AMC\",\"Orient Cement Ltd.\",\"SJS Enterprises\",\"UTI AMC\",\"RailTel Corporation\",\"South Indian Ban\",\"Amber Enterprises\",\"HDFC AMC\",\"DCM Shriram\"]);\n",
        "PC = np.array([321.60,698.20,300.25,1013.45,1232.70,408.10,23.95,5163.95,4548.65,1058.40])\n",
        "CP = np.array([362.45,778.65,328.35,1092.40,1326.20,438.75,25.51,5482.90,4813.30,1118.25])\n",
        "Percentage = np.array([12.70,11.52,9.36,7.79,7.58,7.51,6.51,6.18,5.82,5.65])\n",
        "\n",
        "A = PC-CP\n",
        "Diff = np.absolute(A)\n",
        "B = PC/100*10\n",
        "B1 = B+PC\n",
        "C = CP/100*10\n",
        "C1 = C+CP\n",
        "D = B1-C1\n",
        "Diff_10 = np.absolute(D)\n",
        "frame={\"Company\":Company,\"Previous_Close\":PC,\"Current_Value\":CP,\"Percentage\":Percentage,\"Difference\":Diff,\"Previous_Close_10%\":B1,\"Current_Value_10%\":C1,\"Difference_10%\":Diff}\n",
        "E = pd.DataFrame(frame)\n",
        "print(E)\n",
        "E.to_excel('output3.xlsx', index=False)\n",
        "E.to_csv('file3.csv', index=False)"
      ],
      "metadata": {
        "colab": {
          "base_uri": "https://localhost:8080/"
        },
        "id": "p2qznkAbMegv",
        "outputId": "61bbed89-f469-4fa9-dd08-0255de93d6af"
      },
      "execution_count": null,
      "outputs": [
        {
          "output_type": "stream",
          "name": "stdout",
          "text": [
            "               Company  Previous_Close  Current_Value  Percentage  Difference  \\\n",
            "0         Rallis India          321.60         362.45       12.70       40.85   \n",
            "1  Aditya Birla SL AMC          698.20         778.65       11.52       80.45   \n",
            "2   Orient Cement Ltd.          300.25         328.35        9.36       28.10   \n",
            "3      SJS Enterprises         1013.45        1092.40        7.79       78.95   \n",
            "4              UTI AMC         1232.70        1326.20        7.58       93.50   \n",
            "5  RailTel Corporation          408.10         438.75        7.51       30.65   \n",
            "6     South Indian Ban           23.95          25.51        6.51        1.56   \n",
            "7    Amber Enterprises         5163.95        5482.90        6.18      318.95   \n",
            "8             HDFC AMC         4548.65        4813.30        5.82      264.65   \n",
            "9          DCM Shriram         1058.40        1118.25        5.65       59.85   \n",
            "\n",
            "   Previous_Close_10%  Current_Value_10%  Difference_10%  \n",
            "0             353.760            398.695           40.85  \n",
            "1             768.020            856.515           80.45  \n",
            "2             330.275            361.185           28.10  \n",
            "3            1114.795           1201.640           78.95  \n",
            "4            1355.970           1458.820           93.50  \n",
            "5             448.910            482.625           30.65  \n",
            "6              26.345             28.061            1.56  \n",
            "7            5680.345           6031.190          318.95  \n",
            "8            5003.515           5294.630          264.65  \n",
            "9            1164.240           1230.075           59.85  \n"
          ]
        }
      ]
    },
    {
      "cell_type": "code",
      "source": [
        "import numpy as np\n",
        "import pandas as pd\n",
        "\n",
        "Company= np.array([\"Rallis India\",\"Aditya Birla SL AMC\",\"Orient Cement Ltd.\",\"SJS Enterprises\",\"UTI AMC\",\"RailTel Corporation\",\"South Indian Ban\",\"Amber Enterprises\",\"HDFC AMC\",\"DCM Shriram\"]);\n",
        "PC = np.array([321.60,698.20,300.25,1013.45,1232.70,408.10,23.95,5163.95,4548.65,1058.40])\n",
        "CP = np.array([362.45,778.65,328.35,1092.40,1326.20,438.75,25.51,5482.90,4813.30,1118.25])\n",
        "Percentage = np.array([12.70,11.52,9.36,7.79,7.58,7.51,6.51,6.18,5.82,5.65])\n",
        "\n",
        "A = PC-CP\n",
        "Diff = np.absolute(A)\n",
        "B = PC/100*10\n",
        "B1 = B+PC\n",
        "C = CP/100*10\n",
        "C1 = C+CP\n",
        "D = B1-C1\n",
        "Diff_10 = np.absolute(D)\n",
        "E = B-PC\n",
        "E = np.absolute(E)\n",
        "F = C-CP\n",
        "F = np.absolute(F)\n",
        "frame={\"Company\":Company,\"Previous_Close\":PC,\"Current_Value\":CP,\"Percentage\":Percentage,\"Difference\":Diff,\"Previous_Close_10%\":B1,\"Current_Value_10%\":C1,\"Difference_10%\":Diff,\"Decreased_PC_10%\":E,\"Decreased_CP_10%\":F}\n",
        "E = pd.DataFrame(frame)\n",
        "print(E)\n",
        "E.to_excel('output4.xlsx', index=False)\n",
        "E.to_csv('file4.csv', index=False)"
      ],
      "metadata": {
        "colab": {
          "base_uri": "https://localhost:8080/"
        },
        "id": "xt7jwwsriECN",
        "outputId": "b38e12ac-8b15-4041-d8b0-68c21f0f967a"
      },
      "execution_count": null,
      "outputs": [
        {
          "output_type": "stream",
          "name": "stdout",
          "text": [
            "               Company  Previous_Close  Current_Value  Percentage  Difference  \\\n",
            "0         Rallis India          321.60         362.45       12.70       40.85   \n",
            "1  Aditya Birla SL AMC          698.20         778.65       11.52       80.45   \n",
            "2   Orient Cement Ltd.          300.25         328.35        9.36       28.10   \n",
            "3      SJS Enterprises         1013.45        1092.40        7.79       78.95   \n",
            "4              UTI AMC         1232.70        1326.20        7.58       93.50   \n",
            "5  RailTel Corporation          408.10         438.75        7.51       30.65   \n",
            "6     South Indian Ban           23.95          25.51        6.51        1.56   \n",
            "7    Amber Enterprises         5163.95        5482.90        6.18      318.95   \n",
            "8             HDFC AMC         4548.65        4813.30        5.82      264.65   \n",
            "9          DCM Shriram         1058.40        1118.25        5.65       59.85   \n",
            "\n",
            "   Previous_Close_10%  Current_Value_10%  Difference_10%  Decreased_PC_10%  \\\n",
            "0             353.760            398.695           40.85           289.440   \n",
            "1             768.020            856.515           80.45           628.380   \n",
            "2             330.275            361.185           28.10           270.225   \n",
            "3            1114.795           1201.640           78.95           912.105   \n",
            "4            1355.970           1458.820           93.50          1109.430   \n",
            "5             448.910            482.625           30.65           367.290   \n",
            "6              26.345             28.061            1.56            21.555   \n",
            "7            5680.345           6031.190          318.95          4647.555   \n",
            "8            5003.515           5294.630          264.65          4093.785   \n",
            "9            1164.240           1230.075           59.85           952.560   \n",
            "\n",
            "   Decreased_CP_10%  \n",
            "0           326.205  \n",
            "1           700.785  \n",
            "2           295.515  \n",
            "3           983.160  \n",
            "4          1193.580  \n",
            "5           394.875  \n",
            "6            22.959  \n",
            "7          4934.610  \n",
            "8          4331.970  \n",
            "9          1006.425  \n"
          ]
        }
      ]
    },
    {
      "cell_type": "code",
      "source": [
        "import pandas as pd\n",
        "\n",
        "df = pd.read_excel(\"mark.xlsx\")\n",
        "#print(df)\n",
        "information=df.info()\n",
        "print(information)\n",
        "#size=df.size\n",
        "#print(\"Size = \",size)\n",
        "#shape=df.shape\n",
        "#print(\"Shape = \",shape)\n",
        "col = df[[\"Name\",\"Phy\"]]\n",
        "#print(col)\n",
        "D = pd.DataFrame(col)\n",
        "print(D)\n",
        "E = D.to_csv('Name_phy.csv')\n",
        "G = D.to_excel('Name_phy.xlsx')\n",
        "math = df[[\"Name\",\"Math\"]]\n",
        "H = math.to_excel('Name_Math.xlsx')\n",
        "I = math.to_csv('Name_Math.csv')\n",
        "Che = df[[\"Name\",\"Che\"]]\n",
        "K = Che.to_excel('Name_Che.xlsx')\n",
        "L = Che.to_csv('Name_Che.csv')\n",
        "Eng = df[[\"Name\",\"Eng\"]]\n",
        "N = Eng.to_excel('Name_Eng.xlsx')\n",
        "O = Eng.to_csv('Name_Eng.csv')\n",
        "Bio = df[[\"Name\",\"Bio\"]]\n",
        "Q = Bio.to_excel('Name_Bio.xlsx')\n",
        "R = Bio.to_csv('Name_Bio.csv')\n",
        "Tamil = df[[\"Name\",\"Tamil\"]]\n",
        "T = Tamil.to_excel('Name_Tamil.xlsx')\n",
        "U = Tamil.to_csv('Name_Tamil.csv')"
      ],
      "metadata": {
        "colab": {
          "base_uri": "https://localhost:8080/"
        },
        "id": "MgdByxC8htgP",
        "outputId": "f6355337-0421-479b-d865-e30ab9f020ee"
      },
      "execution_count": null,
      "outputs": [
        {
          "output_type": "stream",
          "name": "stdout",
          "text": [
            "<class 'pandas.core.frame.DataFrame'>\n",
            "RangeIndex: 15 entries, 0 to 14\n",
            "Data columns (total 7 columns):\n",
            " #   Column  Non-Null Count  Dtype \n",
            "---  ------  --------------  ----- \n",
            " 0   Name    15 non-null     object\n",
            " 1   Math    15 non-null     int64 \n",
            " 2   Phy     15 non-null     int64 \n",
            " 3   Che     15 non-null     int64 \n",
            " 4   Eng     15 non-null     int64 \n",
            " 5   Bio     15 non-null     int64 \n",
            " 6   Tamil   15 non-null     int64 \n",
            "dtypes: int64(6), object(1)\n",
            "memory usage: 968.0+ bytes\n",
            "None\n",
            "      Name  Phy\n",
            "0     Manu   72\n",
            "1     Arun   30\n",
            "2     Arun   52\n",
            "3     Arun   52\n",
            "4     Arun   60\n",
            "5     Arun   80\n",
            "6     Arun   80\n",
            "7     Arun   52\n",
            "8   Sanjay   72\n",
            "9   Sanjay   72\n",
            "10  Sanjay   52\n",
            "11    Arun   60\n",
            "12    Manu   60\n",
            "13    Arun   91\n",
            "14    Manu   91\n"
          ]
        }
      ]
    },
    {
      "cell_type": "code",
      "source": [
        "import pandas as pd\n",
        "\n",
        "df = pd.read_csv(\"customer_churn_data.csv\")\n",
        "#print(df)\n",
        "information=df.info()\n",
        "print(information)\n",
        "size=df.size\n",
        "print(\"Size = \",size)\n",
        "shape=df.shape\n",
        "print(\"Shape = \",shape)\n",
        "#col = df[[\"\"]]"
      ],
      "metadata": {
        "colab": {
          "base_uri": "https://localhost:8080/",
          "height": 373
        },
        "id": "Edb6V3Pyjn25",
        "outputId": "6505166f-0761-485e-a77a-34a3f27da93d"
      },
      "execution_count": null,
      "outputs": [
        {
          "output_type": "error",
          "ename": "FileNotFoundError",
          "evalue": "[Errno 2] No such file or directory: 'customer_churn_data.csv'",
          "traceback": [
            "\u001b[0;31m---------------------------------------------------------------------------\u001b[0m",
            "\u001b[0;31mFileNotFoundError\u001b[0m                         Traceback (most recent call last)",
            "\u001b[0;32m<ipython-input-1-8a0417851243>\u001b[0m in \u001b[0;36m<cell line: 3>\u001b[0;34m()\u001b[0m\n\u001b[1;32m      1\u001b[0m \u001b[0;32mimport\u001b[0m \u001b[0mpandas\u001b[0m \u001b[0;32mas\u001b[0m \u001b[0mpd\u001b[0m\u001b[0;34m\u001b[0m\u001b[0;34m\u001b[0m\u001b[0m\n\u001b[1;32m      2\u001b[0m \u001b[0;34m\u001b[0m\u001b[0m\n\u001b[0;32m----> 3\u001b[0;31m \u001b[0mdf\u001b[0m \u001b[0;34m=\u001b[0m \u001b[0mpd\u001b[0m\u001b[0;34m.\u001b[0m\u001b[0mread_csv\u001b[0m\u001b[0;34m(\u001b[0m\u001b[0;34m\"customer_churn_data.csv\"\u001b[0m\u001b[0;34m)\u001b[0m\u001b[0;34m\u001b[0m\u001b[0;34m\u001b[0m\u001b[0m\n\u001b[0m\u001b[1;32m      4\u001b[0m \u001b[0;31m#print(df)\u001b[0m\u001b[0;34m\u001b[0m\u001b[0;34m\u001b[0m\u001b[0m\n\u001b[1;32m      5\u001b[0m \u001b[0minformation\u001b[0m\u001b[0;34m=\u001b[0m\u001b[0mdf\u001b[0m\u001b[0;34m.\u001b[0m\u001b[0minfo\u001b[0m\u001b[0;34m(\u001b[0m\u001b[0;34m)\u001b[0m\u001b[0;34m\u001b[0m\u001b[0;34m\u001b[0m\u001b[0m\n",
            "\u001b[0;32m/usr/local/lib/python3.10/dist-packages/pandas/io/parsers/readers.py\u001b[0m in \u001b[0;36mread_csv\u001b[0;34m(filepath_or_buffer, sep, delimiter, header, names, index_col, usecols, dtype, engine, converters, true_values, false_values, skipinitialspace, skiprows, skipfooter, nrows, na_values, keep_default_na, na_filter, verbose, skip_blank_lines, parse_dates, infer_datetime_format, keep_date_col, date_parser, date_format, dayfirst, cache_dates, iterator, chunksize, compression, thousands, decimal, lineterminator, quotechar, quoting, doublequote, escapechar, comment, encoding, encoding_errors, dialect, on_bad_lines, delim_whitespace, low_memory, memory_map, float_precision, storage_options, dtype_backend)\u001b[0m\n\u001b[1;32m   1024\u001b[0m     \u001b[0mkwds\u001b[0m\u001b[0;34m.\u001b[0m\u001b[0mupdate\u001b[0m\u001b[0;34m(\u001b[0m\u001b[0mkwds_defaults\u001b[0m\u001b[0;34m)\u001b[0m\u001b[0;34m\u001b[0m\u001b[0;34m\u001b[0m\u001b[0m\n\u001b[1;32m   1025\u001b[0m \u001b[0;34m\u001b[0m\u001b[0m\n\u001b[0;32m-> 1026\u001b[0;31m     \u001b[0;32mreturn\u001b[0m \u001b[0m_read\u001b[0m\u001b[0;34m(\u001b[0m\u001b[0mfilepath_or_buffer\u001b[0m\u001b[0;34m,\u001b[0m \u001b[0mkwds\u001b[0m\u001b[0;34m)\u001b[0m\u001b[0;34m\u001b[0m\u001b[0;34m\u001b[0m\u001b[0m\n\u001b[0m\u001b[1;32m   1027\u001b[0m \u001b[0;34m\u001b[0m\u001b[0m\n\u001b[1;32m   1028\u001b[0m \u001b[0;34m\u001b[0m\u001b[0m\n",
            "\u001b[0;32m/usr/local/lib/python3.10/dist-packages/pandas/io/parsers/readers.py\u001b[0m in \u001b[0;36m_read\u001b[0;34m(filepath_or_buffer, kwds)\u001b[0m\n\u001b[1;32m    618\u001b[0m \u001b[0;34m\u001b[0m\u001b[0m\n\u001b[1;32m    619\u001b[0m     \u001b[0;31m# Create the parser.\u001b[0m\u001b[0;34m\u001b[0m\u001b[0;34m\u001b[0m\u001b[0m\n\u001b[0;32m--> 620\u001b[0;31m     \u001b[0mparser\u001b[0m \u001b[0;34m=\u001b[0m \u001b[0mTextFileReader\u001b[0m\u001b[0;34m(\u001b[0m\u001b[0mfilepath_or_buffer\u001b[0m\u001b[0;34m,\u001b[0m \u001b[0;34m**\u001b[0m\u001b[0mkwds\u001b[0m\u001b[0;34m)\u001b[0m\u001b[0;34m\u001b[0m\u001b[0;34m\u001b[0m\u001b[0m\n\u001b[0m\u001b[1;32m    621\u001b[0m \u001b[0;34m\u001b[0m\u001b[0m\n\u001b[1;32m    622\u001b[0m     \u001b[0;32mif\u001b[0m \u001b[0mchunksize\u001b[0m \u001b[0;32mor\u001b[0m \u001b[0miterator\u001b[0m\u001b[0;34m:\u001b[0m\u001b[0;34m\u001b[0m\u001b[0;34m\u001b[0m\u001b[0m\n",
            "\u001b[0;32m/usr/local/lib/python3.10/dist-packages/pandas/io/parsers/readers.py\u001b[0m in \u001b[0;36m__init__\u001b[0;34m(self, f, engine, **kwds)\u001b[0m\n\u001b[1;32m   1618\u001b[0m \u001b[0;34m\u001b[0m\u001b[0m\n\u001b[1;32m   1619\u001b[0m         \u001b[0mself\u001b[0m\u001b[0;34m.\u001b[0m\u001b[0mhandles\u001b[0m\u001b[0;34m:\u001b[0m \u001b[0mIOHandles\u001b[0m \u001b[0;34m|\u001b[0m \u001b[0;32mNone\u001b[0m \u001b[0;34m=\u001b[0m \u001b[0;32mNone\u001b[0m\u001b[0;34m\u001b[0m\u001b[0;34m\u001b[0m\u001b[0m\n\u001b[0;32m-> 1620\u001b[0;31m         \u001b[0mself\u001b[0m\u001b[0;34m.\u001b[0m\u001b[0m_engine\u001b[0m \u001b[0;34m=\u001b[0m \u001b[0mself\u001b[0m\u001b[0;34m.\u001b[0m\u001b[0m_make_engine\u001b[0m\u001b[0;34m(\u001b[0m\u001b[0mf\u001b[0m\u001b[0;34m,\u001b[0m \u001b[0mself\u001b[0m\u001b[0;34m.\u001b[0m\u001b[0mengine\u001b[0m\u001b[0;34m)\u001b[0m\u001b[0;34m\u001b[0m\u001b[0;34m\u001b[0m\u001b[0m\n\u001b[0m\u001b[1;32m   1621\u001b[0m \u001b[0;34m\u001b[0m\u001b[0m\n\u001b[1;32m   1622\u001b[0m     \u001b[0;32mdef\u001b[0m \u001b[0mclose\u001b[0m\u001b[0;34m(\u001b[0m\u001b[0mself\u001b[0m\u001b[0;34m)\u001b[0m \u001b[0;34m->\u001b[0m \u001b[0;32mNone\u001b[0m\u001b[0;34m:\u001b[0m\u001b[0;34m\u001b[0m\u001b[0;34m\u001b[0m\u001b[0m\n",
            "\u001b[0;32m/usr/local/lib/python3.10/dist-packages/pandas/io/parsers/readers.py\u001b[0m in \u001b[0;36m_make_engine\u001b[0;34m(self, f, engine)\u001b[0m\n\u001b[1;32m   1878\u001b[0m                 \u001b[0;32mif\u001b[0m \u001b[0;34m\"b\"\u001b[0m \u001b[0;32mnot\u001b[0m \u001b[0;32min\u001b[0m \u001b[0mmode\u001b[0m\u001b[0;34m:\u001b[0m\u001b[0;34m\u001b[0m\u001b[0;34m\u001b[0m\u001b[0m\n\u001b[1;32m   1879\u001b[0m                     \u001b[0mmode\u001b[0m \u001b[0;34m+=\u001b[0m \u001b[0;34m\"b\"\u001b[0m\u001b[0;34m\u001b[0m\u001b[0;34m\u001b[0m\u001b[0m\n\u001b[0;32m-> 1880\u001b[0;31m             self.handles = get_handle(\n\u001b[0m\u001b[1;32m   1881\u001b[0m                 \u001b[0mf\u001b[0m\u001b[0;34m,\u001b[0m\u001b[0;34m\u001b[0m\u001b[0;34m\u001b[0m\u001b[0m\n\u001b[1;32m   1882\u001b[0m                 \u001b[0mmode\u001b[0m\u001b[0;34m,\u001b[0m\u001b[0;34m\u001b[0m\u001b[0;34m\u001b[0m\u001b[0m\n",
            "\u001b[0;32m/usr/local/lib/python3.10/dist-packages/pandas/io/common.py\u001b[0m in \u001b[0;36mget_handle\u001b[0;34m(path_or_buf, mode, encoding, compression, memory_map, is_text, errors, storage_options)\u001b[0m\n\u001b[1;32m    871\u001b[0m         \u001b[0;32mif\u001b[0m \u001b[0mioargs\u001b[0m\u001b[0;34m.\u001b[0m\u001b[0mencoding\u001b[0m \u001b[0;32mand\u001b[0m \u001b[0;34m\"b\"\u001b[0m \u001b[0;32mnot\u001b[0m \u001b[0;32min\u001b[0m \u001b[0mioargs\u001b[0m\u001b[0;34m.\u001b[0m\u001b[0mmode\u001b[0m\u001b[0;34m:\u001b[0m\u001b[0;34m\u001b[0m\u001b[0;34m\u001b[0m\u001b[0m\n\u001b[1;32m    872\u001b[0m             \u001b[0;31m# Encoding\u001b[0m\u001b[0;34m\u001b[0m\u001b[0;34m\u001b[0m\u001b[0m\n\u001b[0;32m--> 873\u001b[0;31m             handle = open(\n\u001b[0m\u001b[1;32m    874\u001b[0m                 \u001b[0mhandle\u001b[0m\u001b[0;34m,\u001b[0m\u001b[0;34m\u001b[0m\u001b[0;34m\u001b[0m\u001b[0m\n\u001b[1;32m    875\u001b[0m                 \u001b[0mioargs\u001b[0m\u001b[0;34m.\u001b[0m\u001b[0mmode\u001b[0m\u001b[0;34m,\u001b[0m\u001b[0;34m\u001b[0m\u001b[0;34m\u001b[0m\u001b[0m\n",
            "\u001b[0;31mFileNotFoundError\u001b[0m: [Errno 2] No such file or directory: 'customer_churn_data.csv'"
          ]
        }
      ]
    },
    {
      "cell_type": "code",
      "source": [
        "import pandas as pd\n",
        "\n",
        "df = pd.read_excel(\"bank_data.xlsx\")\n",
        "#print(df)\n",
        "#information=df.info()\n",
        "#print(information)\n",
        "size=df.size\n",
        "print(\"Size = \",size)\n",
        "shape=df.shape\n",
        "print(\"Shape = \",shape)"
      ],
      "metadata": {
        "colab": {
          "base_uri": "https://localhost:8080/"
        },
        "id": "eSkEmWvnj8rB",
        "outputId": "0f878bd3-b860-4d72-8ce7-3b63b97b2ded"
      },
      "execution_count": null,
      "outputs": [
        {
          "output_type": "stream",
          "name": "stdout",
          "text": [
            "Size =  1400\n",
            "Shape =  (100, 14)\n"
          ]
        }
      ]
    },
    {
      "cell_type": "code",
      "source": [
        "import pandas as pd\n",
        "\n",
        "df = pd.read_excel(\"bodybuilding_data.xlsx\")\n",
        "#print(df)\n",
        "#information=df.info()\n",
        "#print(information)\n",
        "size=df.size\n",
        "print(\"Size = \",size)\n",
        "shape=df.shape\n",
        "print(\"Shape = \",shape)"
      ],
      "metadata": {
        "colab": {
          "base_uri": "https://localhost:8080/"
        },
        "id": "3QgSdjI1kW4P",
        "outputId": "16140429-7a6b-4efb-cc74-6724b9fc4250"
      },
      "execution_count": null,
      "outputs": [
        {
          "output_type": "stream",
          "name": "stdout",
          "text": [
            "Size =  13000\n",
            "Shape =  (1000, 13)\n"
          ]
        }
      ]
    },
    {
      "cell_type": "code",
      "source": [
        "import pandas as pd\n",
        "\n",
        "df = pd.read_excel(\"car_sales_data.xlsx\")\n",
        "#print(df)\n",
        "#information=df.info()\n",
        "#print(information)\n",
        "size=df.size\n",
        "print(\"Size = \",size)\n",
        "shape=df.shape\n",
        "print(\"Shape = \",shape)"
      ],
      "metadata": {
        "colab": {
          "base_uri": "https://localhost:8080/"
        },
        "id": "HLPq63L6kjaC",
        "outputId": "d2fe5134-1386-4482-e7f7-477c6088a13e"
      },
      "execution_count": null,
      "outputs": [
        {
          "output_type": "stream",
          "name": "stdout",
          "text": [
            "Size =  9000\n",
            "Shape =  (1000, 9)\n"
          ]
        }
      ]
    },
    {
      "cell_type": "code",
      "source": [
        "import pandas as pd\n",
        "\n",
        "df = pd.read_excel(\"cement_factory_data.xlsx\")\n",
        "#print(df)\n",
        "#information=df.info()\n",
        "#print(information)\n",
        "size=df.size\n",
        "print(\"Size = \",size)\n",
        "shape=df.shape\n",
        "print(\"Shape = \",shape)"
      ],
      "metadata": {
        "colab": {
          "base_uri": "https://localhost:8080/"
        },
        "id": "NCGnBcYBk0-z",
        "outputId": "3a36441d-b800-4e31-dad3-e3719c09084a"
      },
      "execution_count": null,
      "outputs": [
        {
          "output_type": "stream",
          "name": "stdout",
          "text": [
            "Size =  8000\n",
            "Shape =  (1000, 8)\n"
          ]
        }
      ]
    },
    {
      "cell_type": "code",
      "source": [
        "import pandas as pd\n",
        "\n",
        "df = pd.read_excel(\"cnc_machines_data.xlsx\")\n",
        "#print(df)\n",
        "#information=df.info()\n",
        "#print(information)\n",
        "size=df.size\n",
        "print(\"Size = \",size)\n",
        "shape=df.shape\n",
        "print(\"Shape = \",shape)"
      ],
      "metadata": {
        "colab": {
          "base_uri": "https://localhost:8080/"
        },
        "id": "cSCXuKohk8R_",
        "outputId": "b3cfffdd-0a98-47eb-d062-52f2d68f2df4"
      },
      "execution_count": null,
      "outputs": [
        {
          "output_type": "stream",
          "name": "stdout",
          "text": [
            "Size =  20000\n",
            "Shape =  (2000, 10)\n"
          ]
        }
      ]
    },
    {
      "cell_type": "code",
      "source": [
        "import pandas as pd\n",
        "\n",
        "df = pd.read_excel(\"cricket_players_data.xlsx\")\n",
        "#print(df)\n",
        "#information=df.info()\n",
        "#print(information)\n",
        "size=df.size\n",
        "print(\"Size = \",size)\n",
        "shape=df.shape\n",
        "print(\"Shape = \",shape)"
      ],
      "metadata": {
        "colab": {
          "base_uri": "https://localhost:8080/"
        },
        "id": "Ax5aVfL0lEq-",
        "outputId": "496a1599-ff1c-4eee-8fe0-8b924b829762"
      },
      "execution_count": null,
      "outputs": [
        {
          "output_type": "stream",
          "name": "stdout",
          "text": [
            "Size =  15000\n",
            "Shape =  (1000, 15)\n"
          ]
        }
      ]
    },
    {
      "cell_type": "code",
      "source": [
        "import pandas as pd\n",
        "\n",
        "df = pd.read_csv(\"credit_scoring_data.csv\")\n",
        "#print(df)\n",
        "#information=df.info()\n",
        "#print(information)\n",
        "size=df.size\n",
        "print(\"Size = \",size)\n",
        "shape=df.shape\n",
        "print(\"Shape = \",shape)"
      ],
      "metadata": {
        "colab": {
          "base_uri": "https://localhost:8080/"
        },
        "id": "rZeAanhelK1q",
        "outputId": "f15e1fe5-2f21-4a11-9866-204f117995bc"
      },
      "execution_count": null,
      "outputs": [
        {
          "output_type": "stream",
          "name": "stdout",
          "text": [
            "Size =  8000\n",
            "Shape =  (1000, 8)\n"
          ]
        }
      ]
    },
    {
      "cell_type": "code",
      "source": [
        "import pandas as pd\n",
        "\n",
        "df = pd.read_csv(\"marketing_campaign_data.csv\")\n",
        "#print(df)\n",
        "#information=df.info()\n",
        "#print(information)\n",
        "size=df.size\n",
        "print(\"Size = \",size)\n",
        "shape=df.shape\n",
        "print(\"Shape = \",shape)"
      ],
      "metadata": {
        "colab": {
          "base_uri": "https://localhost:8080/"
        },
        "id": "buf0Pf_4lTcG",
        "outputId": "1358da56-40b4-4a78-dc81-05c0c30f5123"
      },
      "execution_count": null,
      "outputs": [
        {
          "output_type": "stream",
          "name": "stdout",
          "text": [
            "Size =  8000\n",
            "Shape =  (1000, 8)\n"
          ]
        }
      ]
    },
    {
      "cell_type": "code",
      "source": [
        "import pandas as pd\n",
        "\n",
        "df = pd.read_csv(\"spam_detection_data.csv\")\n",
        "#print(df)\n",
        "#information=df.info()\n",
        "#print(information)\n",
        "size=df.size\n",
        "print(\"Size = \",size)\n",
        "shape=df.shape\n",
        "print(\"Shape = \",shape)"
      ],
      "metadata": {
        "colab": {
          "base_uri": "https://localhost:8080/"
        },
        "id": "z1IHngsRla8K",
        "outputId": "86ec2520-8609-4200-a6ed-bec70b7bb1bd"
      },
      "execution_count": null,
      "outputs": [
        {
          "output_type": "stream",
          "name": "stdout",
          "text": [
            "Size =  8000\n",
            "Shape =  (1000, 8)\n"
          ]
        }
      ]
    },
    {
      "cell_type": "code",
      "source": [
        "import pandas as pd\n",
        "\n",
        "df = pd.read_excel(\"mark.xlsx\")\n",
        "\n",
        "location =df.loc[[0, 1]]\n",
        "print(location)\n",
        "D = location.to_excel(\"Location.xlsx\")\n",
        "E = location.to_csv(\"Location.csv\")\n"
      ],
      "metadata": {
        "colab": {
          "base_uri": "https://localhost:8080/"
        },
        "id": "pXcR6WXY2QGa",
        "outputId": "c3addf85-e9c3-48ab-d95f-12c7dd22abb7"
      },
      "execution_count": null,
      "outputs": [
        {
          "output_type": "stream",
          "name": "stdout",
          "text": [
            "   Name  Math  Phy  Che  Eng  Bio  Tamil\n",
            "0  Manu    72   72   72   72   30     72\n",
            "1  Arun    30   30   60   30   30     60\n"
          ]
        }
      ]
    },
    {
      "cell_type": "code",
      "source": [
        "import pandas as pd\n",
        "\n",
        "df = pd.read_excel(\"mark.xlsx\")\n",
        "\n",
        "location1 =df.loc[[5,0, 1]]\n",
        "print(location1)\n",
        "D = location1.to_excel(\"Location1.xlsx\")\n",
        "E = location1.to_csv(\"Location1.csv\")"
      ],
      "metadata": {
        "colab": {
          "base_uri": "https://localhost:8080/"
        },
        "id": "Zjh1z7b73Rxk",
        "outputId": "f9990b30-fc50-4e60-e4ea-8a12bb8c8522"
      },
      "execution_count": null,
      "outputs": [
        {
          "output_type": "stream",
          "name": "stdout",
          "text": [
            "   Name  Math  Phy  Che  Eng  Bio  Tamil\n",
            "5  Arun    80   80   52   52   72     30\n",
            "0  Manu    72   72   72   72   30     72\n",
            "1  Arun    30   30   60   30   30     60\n"
          ]
        }
      ]
    },
    {
      "cell_type": "code",
      "source": [
        "df = pd.read_excel(\"mark.xlsx\")\n",
        "selected_rows = df.iloc[1:4]\n",
        "print(selected_rows)\n",
        "D = selected_rows.to_csv(\"Selected_Row.csv\")"
      ],
      "metadata": {
        "colab": {
          "base_uri": "https://localhost:8080/"
        },
        "id": "ZT3w7shC49Zc",
        "outputId": "8edd7e18-3145-4876-cdec-437dd67ad197"
      },
      "execution_count": null,
      "outputs": [
        {
          "output_type": "stream",
          "name": "stdout",
          "text": [
            "   Name  Math  Phy  Che  Eng  Bio  Tamil\n",
            "1  Arun    30   30   60   30   30     60\n",
            "2  Arun    52   52   60   80   52     60\n",
            "3  Arun    52   52   72   52   30     80\n"
          ]
        }
      ]
    },
    {
      "cell_type": "code",
      "source": [
        "df = pd.read_excel(\"mark.xlsx\")\n",
        "#selected_rows1 = df.iloc[:4]\n",
        "#print(selected_rows1)\n",
        "#D = selected_rows1.to_excel(\"Rows1.xlsx\")\n",
        "h=df.head(2)\n",
        "t=df.tail(4)\n",
        "print(h)\n",
        "print(t)"
      ],
      "metadata": {
        "colab": {
          "base_uri": "https://localhost:8080/"
        },
        "id": "u9kXs0385EJB",
        "outputId": "e1c52f6e-4f69-4e72-8af1-eb50ae340bc1"
      },
      "execution_count": null,
      "outputs": [
        {
          "output_type": "stream",
          "name": "stdout",
          "text": [
            "   Name  Math  Phy  Che  Eng  Bio  Tamil\n",
            "0  Manu    72   72   72   72   30     72\n",
            "1  Arun    30   30   60   30   30     60\n",
            "    Name  Math  Phy  Che  Eng  Bio  Tamil\n",
            "11  Arun    60   60   72   72   60     80\n",
            "12  Manu    60   60   30   52   52     60\n",
            "13  Arun    91   91   52   80   91     72\n",
            "14  Manu    91   91   91   80   60     52\n"
          ]
        }
      ]
    },
    {
      "cell_type": "code",
      "source": [
        "df = pd.read_excel(\"mark.xlsx\")\n",
        "#selected_rows2 = df.iloc[10:]\n",
        "#print(selected_rows2)\n",
        "#D = selected_rows2.to_csv(\"Rows2.csv\")\n",
        "h=df.head(4)\n",
        "t=df.tail(4)\n",
        "print(h)\n",
        "print(t)"
      ],
      "metadata": {
        "colab": {
          "base_uri": "https://localhost:8080/"
        },
        "id": "63HS8jv65Htp",
        "outputId": "f562fa9b-2c22-4731-83d6-d980adc41aca"
      },
      "execution_count": null,
      "outputs": [
        {
          "output_type": "stream",
          "name": "stdout",
          "text": [
            "   Name  Math  Phy  Che  Eng  Bio  Tamil\n",
            "0  Manu    72   72   72   72   30     72\n",
            "1  Arun    30   30   60   30   30     60\n",
            "2  Arun    52   52   60   80   52     60\n",
            "3  Arun    52   52   72   52   30     80\n",
            "    Name  Math  Phy  Che  Eng  Bio  Tamil\n",
            "11  Arun    60   60   72   72   60     80\n",
            "12  Manu    60   60   30   52   52     60\n",
            "13  Arun    91   91   52   80   91     72\n",
            "14  Manu    91   91   91   80   60     52\n"
          ]
        }
      ]
    },
    {
      "cell_type": "code",
      "source": [
        "df = pd.read_excel(\"mark.xlsx\")\n",
        "sort=df.sort_values(by=[\"Math\"])\n",
        "print(sort)\n"
      ],
      "metadata": {
        "colab": {
          "base_uri": "https://localhost:8080/"
        },
        "id": "XFfcFCrS7vPi",
        "outputId": "ac3c55c9-2a12-4af6-f72e-a041f31d79c6"
      },
      "execution_count": null,
      "outputs": [
        {
          "output_type": "stream",
          "name": "stdout",
          "text": [
            "      Name  Math  Phy  Che  Eng  Bio  Tamil\n",
            "1     Arun    30   30   60   30   30     60\n",
            "2     Arun    52   52   60   80   52     60\n",
            "3     Arun    52   52   72   52   30     80\n",
            "7     Arun    52   52   80   72   72     52\n",
            "10  Sanjay    52   52   80   80   52     60\n",
            "4     Arun    60   60   80   52   91     60\n",
            "11    Arun    60   60   72   72   60     80\n",
            "12    Manu    60   60   30   52   52     60\n",
            "0     Manu    72   72   72   72   30     72\n",
            "8   Sanjay    72   72   52   72   60     72\n",
            "9   Sanjay    72   72   72   72   52     52\n",
            "5     Arun    80   80   52   52   72     30\n",
            "6     Arun    80   80   60   80   72     52\n",
            "13    Arun    91   91   52   80   91     72\n",
            "14    Manu    91   91   91   80   60     52\n"
          ]
        }
      ]
    },
    {
      "cell_type": "code",
      "source": [
        "df = pd.read_excel(\"mark.xlsx\")\n",
        "\n",
        "dsort=df.sort_values(by='Math', ascending=False)\n",
        "print(dsort)"
      ],
      "metadata": {
        "colab": {
          "base_uri": "https://localhost:8080/"
        },
        "id": "H0Zuo_ID7zzQ",
        "outputId": "3df61319-27bb-4d8f-c3d6-874f2bcadf2e"
      },
      "execution_count": null,
      "outputs": [
        {
          "output_type": "stream",
          "name": "stdout",
          "text": [
            "      Name  Math  Phy  Che  Eng  Bio  Tamil\n",
            "13    Arun    91   91   52   80   91     72\n",
            "14    Manu    91   91   91   80   60     52\n",
            "5     Arun    80   80   52   52   72     30\n",
            "6     Arun    80   80   60   80   72     52\n",
            "0     Manu    72   72   72   72   30     72\n",
            "8   Sanjay    72   72   52   72   60     72\n",
            "9   Sanjay    72   72   72   72   52     52\n",
            "4     Arun    60   60   80   52   91     60\n",
            "11    Arun    60   60   72   72   60     80\n",
            "12    Manu    60   60   30   52   52     60\n",
            "2     Arun    52   52   60   80   52     60\n",
            "3     Arun    52   52   72   52   30     80\n",
            "7     Arun    52   52   80   72   72     52\n",
            "10  Sanjay    52   52   80   80   52     60\n",
            "1     Arun    30   30   60   30   30     60\n"
          ]
        }
      ]
    },
    {
      "cell_type": "code",
      "source": [
        "import pandas as pd\n",
        "df = pd.read_excel(\"mark.xlsx\")\n",
        "\n",
        "replace = df.replace(60,35)\n",
        "print(replace)"
      ],
      "metadata": {
        "colab": {
          "base_uri": "https://localhost:8080/"
        },
        "id": "0MLKTorQ8OCQ",
        "outputId": "514e2b9b-84ab-4b74-b7f5-5ab10c5dbd5f"
      },
      "execution_count": null,
      "outputs": [
        {
          "output_type": "stream",
          "name": "stdout",
          "text": [
            "      Name  Math  Phy  Che  Eng  Bio  Tamil\n",
            "0     Manu    72   72   72   72   30     72\n",
            "1     Arun    30   30   35   30   30     35\n",
            "2     Arun    52   52   35   80   52     35\n",
            "3     Arun    52   52   72   52   30     80\n",
            "4     Arun    35   35   80   52   91     35\n",
            "5     Arun    80   80   52   52   72     30\n",
            "6     Arun    80   80   35   80   72     52\n",
            "7     Arun    52   52   80   72   72     52\n",
            "8   Sanjay    72   72   52   72   35     72\n",
            "9   Sanjay    72   72   72   72   52     52\n",
            "10  Sanjay    52   52   80   80   52     35\n",
            "11    Arun    35   35   72   72   35     80\n",
            "12    Manu    35   35   30   52   52     35\n",
            "13    Arun    91   91   52   80   91     72\n",
            "14    Manu    91   91   91   80   35     52\n"
          ]
        }
      ]
    },
    {
      "cell_type": "code",
      "source": [
        "import pandas as pd\n",
        "df = pd.read_excel(\"mark.xlsx\")\n",
        "df1 = df[[\"Math\",\"Phy\",\"Che\",\"Eng\",\"Bio\",\"Tamil\"]]\n",
        "Sum = df1.sum()\n",
        "print(Sum)"
      ],
      "metadata": {
        "colab": {
          "base_uri": "https://localhost:8080/"
        },
        "id": "UhQ_jhnz9l_n",
        "outputId": "f336f8d7-fabc-43d1-ed21-9ab5358b342b"
      },
      "execution_count": null,
      "outputs": [
        {
          "output_type": "stream",
          "name": "stdout",
          "text": [
            "Math     976\n",
            "Phy      976\n",
            "Che      985\n",
            "Eng      998\n",
            "Bio      876\n",
            "Tamil    914\n",
            "dtype: int64\n"
          ]
        }
      ]
    },
    {
      "cell_type": "code",
      "source": [
        "import pandas as pd\n",
        "df = pd.read_excel(\"mark.xlsx\")\n",
        "df1 = df[[\"Math\",\"Phy\",\"Che\",\"Eng\",\"Bio\",\"Tamil\"]]\n",
        "Min = df1.min()\n",
        "print(Min)"
      ],
      "metadata": {
        "colab": {
          "base_uri": "https://localhost:8080/"
        },
        "id": "ahuQ0cdF-FeZ",
        "outputId": "183a4c1f-a129-4f53-afca-c4e213953619"
      },
      "execution_count": null,
      "outputs": [
        {
          "output_type": "stream",
          "name": "stdout",
          "text": [
            "Math     30\n",
            "Phy      30\n",
            "Che      30\n",
            "Eng      30\n",
            "Bio      30\n",
            "Tamil    30\n",
            "dtype: int64\n"
          ]
        }
      ]
    },
    {
      "cell_type": "code",
      "source": [
        "import pandas as pd\n",
        "df = pd.read_excel(\"mark.xlsx\")\n",
        "df1 = df[[\"Math\",\"Phy\",\"Che\",\"Eng\",\"Bio\",\"Tamil\"]]\n",
        "Max = df1.max()\n",
        "print(Max)"
      ],
      "metadata": {
        "colab": {
          "base_uri": "https://localhost:8080/"
        },
        "id": "10ZQljen-Lkg",
        "outputId": "1d97f088-de27-4711-b7f8-f6a6c96f859c"
      },
      "execution_count": null,
      "outputs": [
        {
          "output_type": "stream",
          "name": "stdout",
          "text": [
            "Math     91\n",
            "Phy      91\n",
            "Che      91\n",
            "Eng      80\n",
            "Bio      91\n",
            "Tamil    80\n",
            "dtype: int64\n"
          ]
        }
      ]
    },
    {
      "cell_type": "code",
      "source": [
        "import pandas as pd\n",
        "df = pd.read_excel(\"mark.xlsx\")\n",
        "df1 = df[[\"Math\",\"Phy\",\"Che\",\"Eng\",\"Bio\",\"Tamil\"]]\n",
        "Mean = df1.mean()\n",
        "print(Mean)"
      ],
      "metadata": {
        "colab": {
          "base_uri": "https://localhost:8080/"
        },
        "id": "jWnZdEqm-P6C",
        "outputId": "b6b742bc-988c-494c-96a2-0834851a7eb4"
      },
      "execution_count": null,
      "outputs": [
        {
          "output_type": "stream",
          "name": "stdout",
          "text": [
            "Math     65.066667\n",
            "Phy      65.066667\n",
            "Che      65.666667\n",
            "Eng      66.533333\n",
            "Bio      58.400000\n",
            "Tamil    60.933333\n",
            "dtype: float64\n"
          ]
        }
      ]
    },
    {
      "cell_type": "code",
      "source": [
        "import pandas as pd\n",
        "df = pd.read_excel(\"mark.xlsx\")\n",
        "df1 = df[[\"Math\",\"Phy\",\"Che\",\"Eng\",\"Bio\",\"Tamil\"]]\n",
        "Mean = df1.mean()\n",
        "Round = Mean.round()\n",
        "print(Round)"
      ],
      "metadata": {
        "colab": {
          "base_uri": "https://localhost:8080/"
        },
        "id": "thXB7_gq-Y4A",
        "outputId": "f01af5fd-fd44-4066-fc14-661109ef2f02"
      },
      "execution_count": null,
      "outputs": [
        {
          "output_type": "stream",
          "name": "stdout",
          "text": [
            "Math     65.0\n",
            "Phy      65.0\n",
            "Che      66.0\n",
            "Eng      67.0\n",
            "Bio      58.0\n",
            "Tamil    61.0\n",
            "dtype: float64\n"
          ]
        }
      ]
    },
    {
      "cell_type": "code",
      "source": [
        "import pandas as pd\n",
        "df = pd.read_excel(\"mark.xlsx\")\n",
        "df.rename(columns={'Math': 'M','Phy':'P'}, inplace=True)\n",
        "h=df.head(1)\n",
        "print(h)"
      ],
      "metadata": {
        "colab": {
          "base_uri": "https://localhost:8080/"
        },
        "id": "7-LsWBJF_QbA",
        "outputId": "c497f337-8e07-4f20-94b0-5bf1d7a5e02e"
      },
      "execution_count": null,
      "outputs": [
        {
          "output_type": "stream",
          "name": "stdout",
          "text": [
            "   Name   M   P  Che  Eng  Bio  Tamil\n",
            "0  Manu  72  72   72   72   30     72\n"
          ]
        }
      ]
    },
    {
      "cell_type": "code",
      "source": [
        "import pandas as pd\n",
        "df = pd.read_excel(\"sales11.xlsx\")\n",
        "Size = df.size\n",
        "print(\"\\nSize = \",Size)\n",
        "Shape = df.shape\n",
        "print(\"\\nShape = \",Shape)\n",
        "Information = df.info\n",
        "print(Information)\n",
        "#Low quantity\n",
        "OrderbyQuantity = df.sort_values(by=[\"Quantity\"])\n",
        "#print(OrderbyQuantity)\n",
        "F = OrderbyQuantity.to_excel(\"order_by_Quantity2.xlsx\")\n",
        "G = OrderbyQuantity.to_csv(\"order_by_Quantity2.csv\")\n",
        "#High quantity\n",
        "Orderbyquantity = df.sort_values(by='Quantity', ascending=False)\n",
        "H = OrderbyQuantity.to_excel(\"order_by_Highquantity.xlsx\")\n",
        "I = OrderbyQuantity.to_csv(\"order_by_Highquantity.csv\")\n",
        "df.rename(columns={\"Profit_percentage\":\"Profit\"}, inplace=True)\n",
        "#High profit\n",
        "OrderbyProfit = df.sort_values(by='Profit', ascending=False)\n",
        "J = OrderbyProfit.to_excel(\"order_by_HighProfit.xlsx\")\n",
        "K = OrderbyProfit.to_csv(\"order_by_HighProfit.csv\")\n",
        "#Low profit\n",
        "Orderbyprofit = df.sort_values(by=[\"Profit\"])\n",
        "J = Orderbyprofit.to_excel(\"order_by_profit.xlsx\")\n",
        "K = Orderbyprofit.to_csv(\"order_by_profit.csv\")\n",
        "#Low feedback star\n",
        "D =  df.sort_values(by=[\"Feedbackstar\"])\n",
        "J = D.to_excel(\"Feedback_star.xlsx\")\n",
        "K = D.to_csv(\"Feedback_star.csv\")\n",
        "#High feedback star\n",
        "L =  df.sort_values(by='Feedbackstar', ascending = False)\n",
        "M = D.to_excel(\"Feedback_High.xlsx\")\n",
        "N = D.to_csv(\"Feedback_High.csv\")\n",
        "#Low Advertisement star\n",
        "O =  df.sort_values(by=[\"Advertisementstar\"])\n",
        "P = D.to_excel(\"Advertisementstar_Low.xlsx\")\n",
        "Q = D.to_csv(\"Advertisementstar_Low.csv\")\n",
        "\n"
      ],
      "metadata": {
        "colab": {
          "base_uri": "https://localhost:8080/"
        },
        "id": "MQUhrMKq__BI",
        "outputId": "00b59e35-a604-46b0-e627-83750e2222f1"
      },
      "execution_count": null,
      "outputs": [
        {
          "output_type": "stream",
          "name": "stdout",
          "text": [
            "\n",
            "Size =  16000\n",
            "\n",
            "Shape =  (1000, 16)\n"
          ]
        }
      ]
    },
    {
      "cell_type": "code",
      "source": [
        "#Average profit percentage\n",
        "import pandas as pd\n",
        "df = pd.read_excel(\"sales11.xlsx\")\n",
        "\n",
        "R = df[[\"Profit_percentage\"]]\n",
        "S = R.mean()\n",
        "print(S)"
      ],
      "metadata": {
        "colab": {
          "base_uri": "https://localhost:8080/"
        },
        "id": "IArlR_zUArF6",
        "outputId": "a756dab5-5d08-44f5-aee5-b35e9e9b8a9f"
      },
      "execution_count": null,
      "outputs": [
        {
          "output_type": "stream",
          "name": "stdout",
          "text": [
            "Profit_percentage    15.91\n",
            "dtype: float64\n"
          ]
        }
      ]
    },
    {
      "cell_type": "code",
      "source": [
        "import pandas as pd\n",
        "df = pd.read_excel(\"sales11.xlsx\")\n",
        "A = df[[\"Feedbackstar\"]]\n",
        "B = A.mean()\n",
        "print(B)"
      ],
      "metadata": {
        "colab": {
          "base_uri": "https://localhost:8080/"
        },
        "id": "kR55kTeRK_hu",
        "outputId": "4fe783de-d3d7-411a-8b33-919ee1a450f3"
      },
      "execution_count": null,
      "outputs": [
        {
          "output_type": "stream",
          "name": "stdout",
          "text": [
            "Feedbackstar    3.042\n",
            "dtype: float64\n"
          ]
        }
      ]
    },
    {
      "cell_type": "code",
      "source": [
        "import pandas as pd\n",
        "df = pd.read_excel(\"sales11.xlsx\")\n",
        "A =  df[[\"Advertisementstar\"]]\n",
        "B = A.mean()\n",
        "print(B)"
      ],
      "metadata": {
        "colab": {
          "base_uri": "https://localhost:8080/"
        },
        "id": "ep5Lr3CpLP2l",
        "outputId": "0ba4380a-efc4-466a-ddcd-f72813db9b72"
      },
      "execution_count": null,
      "outputs": [
        {
          "output_type": "stream",
          "name": "stdout",
          "text": [
            "Advertisementstar    3.022\n",
            "dtype: float64\n"
          ]
        }
      ]
    },
    {
      "cell_type": "code",
      "source": [
        "import pandas as pd\n",
        "df = pd.read_excel(\"sales11.xlsx\")\n",
        "A =  df[[\"Advertisementstar\"]]\n",
        "B = A.max()\n",
        "print(B)"
      ],
      "metadata": {
        "colab": {
          "base_uri": "https://localhost:8080/"
        },
        "id": "pTUZYV-FLZkC",
        "outputId": "204376a3-68c8-4e63-d323-30fe9fd60ca6"
      },
      "execution_count": null,
      "outputs": [
        {
          "output_type": "stream",
          "name": "stdout",
          "text": [
            "Advertisementstar    5\n",
            "dtype: int64\n"
          ]
        }
      ]
    },
    {
      "cell_type": "code",
      "source": [
        "import pandas as pd\n",
        "df = pd.read_excel(\"sales11.xlsx\")\n",
        "A =  df[[\"Advertisementstar\"]]\n",
        "B = A.min()\n",
        "print(B)"
      ],
      "metadata": {
        "colab": {
          "base_uri": "https://localhost:8080/"
        },
        "id": "OJbEEZwOLfFb",
        "outputId": "03945f85-dee0-4ead-a865-3ffce84eb650"
      },
      "execution_count": null,
      "outputs": [
        {
          "output_type": "stream",
          "name": "stdout",
          "text": [
            "Advertisementstar    1\n",
            "dtype: int64\n"
          ]
        }
      ]
    },
    {
      "cell_type": "code",
      "source": [
        "import pandas as pd\n",
        "df = pd.read_excel(\"sales11.xlsx\")\n",
        "A =  df[[\"Profit_percentage\"]]\n",
        "B = A.max()\n",
        "print(B)"
      ],
      "metadata": {
        "colab": {
          "base_uri": "https://localhost:8080/"
        },
        "id": "xgOYzfcZLih4",
        "outputId": "f222e11f-f91d-4d4f-e6cc-e8fe0c69f886"
      },
      "execution_count": null,
      "outputs": [
        {
          "output_type": "stream",
          "name": "stdout",
          "text": [
            "Profit_percentage    25\n",
            "dtype: int64\n"
          ]
        }
      ]
    },
    {
      "cell_type": "code",
      "source": [
        "import pandas as pd\n",
        "df = pd.read_excel(\"sales11.xlsx\")\n",
        "A =  df[[\"Profit_percentage\"]]\n",
        "B = A.min()\n",
        "print(B)"
      ],
      "metadata": {
        "colab": {
          "base_uri": "https://localhost:8080/"
        },
        "id": "HpKe0o2iLrBx",
        "outputId": "04d88ffa-47d9-4182-92ce-826860a29c08"
      },
      "execution_count": null,
      "outputs": [
        {
          "output_type": "stream",
          "name": "stdout",
          "text": [
            "Profit_percentage    5\n",
            "dtype: int64\n"
          ]
        }
      ]
    },
    {
      "cell_type": "code",
      "source": [
        "import pandas as pd\n",
        "df = pd.read_excel(\"sales11.xlsx\")\n",
        "OrderbyQuantity = df.sort_values(by=[\"Quantity\"])\n",
        "A = OrderbyQuantity.head(10)\n",
        "B = OrderbyQuantity.tail(10)\n",
        "D = A.to_excel(\"order_by_Quantity1.xlsx\")\n",
        "E = A.to_csv(\"order_by_Quantity1.csv\")\n",
        "F = B.to_excel(\"order_by_Quantity.xlsx\")\n",
        "G = B.to_csv(\"order_by_Quantity.csv\")\n",
        "#df.rename(columns={\"Profit_percentage\":\"Profit\"}, inplace=True)\n",
        "#OrderbyProfit = df.sort_values(by='Profit', ascending=False)\n",
        "#C = OrderbyProfit.head(10)\n",
        "#D = OrderbyProfit.tail(10)\n",
        "#J = C.to_excel(\"order_by_HighProfit1.xlsx\")\n",
        "#K = D.to_csv(\"order_by_HighProfit1.csv\")\n"
      ],
      "metadata": {
        "id": "RLIVzcFIEeeH"
      },
      "execution_count": null,
      "outputs": []
    },
    {
      "cell_type": "code",
      "source": [
        "import pandas as pd\n",
        "df = pd.read_excel(\"sales11.xlsx\")\n",
        "df.rename(columns={\"Profit_percentage\":\"Profit\"}, inplace=True)\n",
        "OrderbyProfit = df.sort_values(by='Profit', ascending=False)\n",
        "C = OrderbyProfit.head(10)\n",
        "D = OrderbyProfit.tail(10)\n",
        "J = C.to_excel(\"order_by_HighProfit1.xlsx\")\n",
        "K = D.to_csv(\"order_by_HighProfit1.csv\")\n"
      ],
      "metadata": {
        "id": "0OFp7EEk_nz1"
      },
      "execution_count": null,
      "outputs": []
    },
    {
      "cell_type": "code",
      "source": [
        "import pandas as pd\n",
        "df = pd.read_excel(\"sales11.xlsx\")\n",
        "Size = df.size\n",
        "print(\"\\nSize = \",Size)\n",
        "\n",
        "\n"
      ],
      "metadata": {
        "colab": {
          "base_uri": "https://localhost:8080/"
        },
        "id": "mB-7XXdEBjIq",
        "outputId": "0eeb3f51-a686-4106-9d8c-2b7f649f44a0"
      },
      "execution_count": null,
      "outputs": [
        {
          "output_type": "stream",
          "name": "stdout",
          "text": [
            "\n",
            "Size =  16000\n"
          ]
        }
      ]
    },
    {
      "cell_type": "code",
      "source": [
        "import pandas as pd\n",
        "df = pd.read_excel(\"sales11.xlsx\")\n",
        "Shape = df.shape\n",
        "print(\"\\nShape = \",Shape)"
      ],
      "metadata": {
        "colab": {
          "base_uri": "https://localhost:8080/"
        },
        "id": "1HHJlRxGJLk1",
        "outputId": "2d1d1ebb-1072-4963-99ba-34b166c8580b"
      },
      "execution_count": null,
      "outputs": [
        {
          "output_type": "stream",
          "name": "stdout",
          "text": [
            "\n",
            "Shape =  (1000, 16)\n"
          ]
        }
      ]
    },
    {
      "cell_type": "code",
      "source": [
        "import pandas as pd\n",
        "df = pd.read_excel(\"sales11.xlsx\")\n",
        "Information = df.info()\n",
        "print(Information)"
      ],
      "metadata": {
        "colab": {
          "base_uri": "https://localhost:8080/"
        },
        "id": "DKipiunyJPZb",
        "outputId": "a831d556-db27-45af-8f48-b07f69380c26"
      },
      "execution_count": null,
      "outputs": [
        {
          "output_type": "stream",
          "name": "stdout",
          "text": [
            "<class 'pandas.core.frame.DataFrame'>\n",
            "RangeIndex: 1000 entries, 0 to 999\n",
            "Data columns (total 16 columns):\n",
            " #   Column             Non-Null Count  Dtype  \n",
            "---  ------             --------------  -----  \n",
            " 0   StoreID            1000 non-null   int64  \n",
            " 1   StoreSize          1000 non-null   object \n",
            " 2   Parking            1000 non-null   object \n",
            " 3   ClosingTime        1000 non-null   int64  \n",
            " 4   Month              1000 non-null   int64  \n",
            " 5   CustomerID         1000 non-null   int64  \n",
            " 6   ProductID          1000 non-null   float64\n",
            " 7   UnitPrice          1000 non-null   int64  \n",
            " 8   Quantity           1000 non-null   int64  \n",
            " 9   CompetitorPrice    1000 non-null   object \n",
            " 10  Supply             1000 non-null   object \n",
            " 11  Profit_percentage  1000 non-null   int64  \n",
            " 12  Advertisementstar  1000 non-null   int64  \n",
            " 13  PaymentType        1000 non-null   object \n",
            " 14  Employee           1000 non-null   object \n",
            " 15  Feedbackstar       1000 non-null   int64  \n",
            "dtypes: float64(1), int64(9), object(6)\n",
            "memory usage: 125.1+ KB\n",
            "None\n"
          ]
        }
      ]
    },
    {
      "cell_type": "code",
      "source": [
        "#Low quantity\n",
        "import pandas as pd\n",
        "df = pd.read_excel(\"sales11.xlsx\")\n",
        "OrderbyQuantity = df.sort_values(by=[\"Quantity\"])\n",
        "#print(OrderbyQuantity)\n",
        "F = OrderbyQuantity.to_excel(\"order_by_Quantity2.xlsx\")\n",
        "G = OrderbyQuantity.to_csv(\"order_by_Quantity2.csv\")"
      ],
      "metadata": {
        "id": "qCHC69p0JUgB"
      },
      "execution_count": null,
      "outputs": []
    },
    {
      "cell_type": "code",
      "source": [
        "#High quantity\n",
        "import pandas as pd\n",
        "df = pd.read_excel(\"sales11.xlsx\")\n",
        "Orderbyquantity = df.sort_values(by='Quantity', ascending=False)\n",
        "H = OrderbyQuantity.to_excel(\"order_by_Highquantity.xlsx\")\n",
        "I = OrderbyQuantity.to_csv(\"order_by_Highquantity.csv\")"
      ],
      "metadata": {
        "id": "b5aMc36UJcQ1"
      },
      "execution_count": null,
      "outputs": []
    },
    {
      "cell_type": "code",
      "source": [
        "#High profit\n",
        "import pandas as pd\n",
        "df = pd.read_excel(\"sales11.xlsx\")\n",
        "df.rename(columns={\"Profit_percentage\":\"Profit\"}, inplace=True)\n",
        "OrderbyProfit = df.sort_values(by='Profit', ascending=False)\n",
        "J = OrderbyProfit.to_excel(\"order_by_HighProfit.xlsx\")\n",
        "K = OrderbyProfit.to_csv(\"order_by_HighProfit.csv\")"
      ],
      "metadata": {
        "id": "Iy9L6r82JlKx"
      },
      "execution_count": null,
      "outputs": []
    },
    {
      "cell_type": "code",
      "source": [
        "#Low profit\n",
        "import pandas as pd\n",
        "df = pd.read_excel(\"sales11.xlsx\")\n",
        "df.rename(columns={\"Profit_percentage\":\"Profit\"}, inplace=True)\n",
        "Orderbyprofit = df.sort_values(by=[\"Profit\"])\n",
        "J = Orderbyprofit.to_excel(\"order_by_profit.xlsx\")\n",
        "K = Orderbyprofit.to_csv(\"order_by_profit.csv\")"
      ],
      "metadata": {
        "id": "WuZWY_-ZJuHw"
      },
      "execution_count": null,
      "outputs": []
    },
    {
      "cell_type": "code",
      "source": [
        "#Low feedback star\n",
        "import pandas as pd\n",
        "df = pd.read_excel(\"sales11.xlsx\")\n",
        "D =  df.sort_values(by=[\"Feedbackstar\"])\n",
        "J = D.to_excel(\"Feedback_star.xlsx\")\n",
        "K = D.to_csv(\"Feedback_star.csv\")"
      ],
      "metadata": {
        "id": "pMwBUtYWJ1rx"
      },
      "execution_count": null,
      "outputs": []
    },
    {
      "cell_type": "code",
      "source": [
        "#High feedback star\n",
        "import pandas as pd\n",
        "df = pd.read_excel(\"sales11.xlsx\")\n",
        "L =  df.sort_values(by='Feedbackstar', ascending = False)\n",
        "M = D.to_excel(\"Feedback_High.xlsx\")\n",
        "N = D.to_csv(\"Feedback_High.csv\")"
      ],
      "metadata": {
        "id": "_nk-IAonJ4ig"
      },
      "execution_count": null,
      "outputs": []
    },
    {
      "cell_type": "code",
      "source": [
        "#Low Advertisement star\n",
        "import pandas as pd\n",
        "df = pd.read_excel(\"sales11.xlsx\")\n",
        "O =  df.sort_values(by=[\"Advertisementstar\"])\n",
        "P = D.to_excel(\"Advertisementstar_Low.xlsx\")\n",
        "Q = D.to_csv(\"Advertisementstar_Low.csv\")"
      ],
      "metadata": {
        "id": "PrOu0bG_J8rS"
      },
      "execution_count": null,
      "outputs": []
    },
    {
      "cell_type": "code",
      "source": [
        "#Query\n",
        "import pandas as pd\n",
        "df = pd.read_excel(\"mark.xlsx\")\n",
        "q1=df.query('Math > 90')\n",
        "print(\" Math > 90\\n\",q1)"
      ],
      "metadata": {
        "colab": {
          "base_uri": "https://localhost:8080/"
        },
        "id": "fs92_xvxMy1l",
        "outputId": "334509c0-1b1c-402e-d9f7-10f345307679"
      },
      "execution_count": null,
      "outputs": [
        {
          "output_type": "stream",
          "name": "stdout",
          "text": [
            " Math > 90\n",
            "     Name  Math  Phy  Che  Eng  Bio  Tamil\n",
            "13  Arun    91   91   52   80   91     72\n",
            "14  Manu    91   91   91   80   60     52\n"
          ]
        }
      ]
    },
    {
      "cell_type": "code",
      "source": [
        "#Query\n",
        "import pandas as pd\n",
        "df = pd.read_excel(\"mark.xlsx\")\n",
        "q2=df.query('Math > 90 and Phy >90')\n",
        "print(q2)"
      ],
      "metadata": {
        "colab": {
          "base_uri": "https://localhost:8080/"
        },
        "id": "TTeEZ799NHEw",
        "outputId": "66aba93a-646f-46b4-9e0b-0ed16f5be80c"
      },
      "execution_count": null,
      "outputs": [
        {
          "output_type": "stream",
          "name": "stdout",
          "text": [
            "    Name  Math  Phy  Che  Eng  Bio  Tamil\n",
            "13  Arun    91   91   52   80   91     72\n",
            "14  Manu    91   91   91   80   60     52\n"
          ]
        }
      ]
    },
    {
      "cell_type": "code",
      "source": [
        "#Query\n",
        "import pandas as pd\n",
        "df = pd.read_excel(\"mark.xlsx\")\n",
        "q3=df.query('Math > 90 and Phy >90 and Eng >90')\n",
        "print(q3)"
      ],
      "metadata": {
        "colab": {
          "base_uri": "https://localhost:8080/"
        },
        "id": "PCFsNr2LNLC-",
        "outputId": "0dccaedd-9bb8-4a4f-9f09-111afe1a5b7c"
      },
      "execution_count": null,
      "outputs": [
        {
          "output_type": "stream",
          "name": "stdout",
          "text": [
            "Empty DataFrame\n",
            "Columns: [Name, Math, Phy, Che, Eng, Bio, Tamil]\n",
            "Index: []\n"
          ]
        }
      ]
    },
    {
      "cell_type": "code",
      "source": [
        "#Query\n",
        "import pandas as pd\n",
        "df = pd.read_excel(\"mark.xlsx\")\n",
        "q4=df.query('Math > 90 and Phy >90 and Eng >90 and Che>90')\n",
        "print(q4)"
      ],
      "metadata": {
        "colab": {
          "base_uri": "https://localhost:8080/"
        },
        "id": "IRMt_Ei4NQgH",
        "outputId": "5c4eab51-43d4-45b8-de09-412d8a06ba5b"
      },
      "execution_count": null,
      "outputs": [
        {
          "output_type": "stream",
          "name": "stdout",
          "text": [
            "Empty DataFrame\n",
            "Columns: [Name, Math, Phy, Che, Eng, Bio, Tamil]\n",
            "Index: []\n"
          ]
        }
      ]
    },
    {
      "cell_type": "code",
      "source": [
        "#Query\n",
        "import numpy as np\n",
        "import pandas as pd\n",
        "df = pd.read_excel(\"mark.xlsx\")\n",
        "aarM = df[['Math']].to_numpy().flatten()\n",
        "print(aarM)"
      ],
      "metadata": {
        "colab": {
          "base_uri": "https://localhost:8080/"
        },
        "id": "RwBngy5nOImI",
        "outputId": "079ecf2f-acd2-431b-92fe-25ddae411225"
      },
      "execution_count": null,
      "outputs": [
        {
          "output_type": "stream",
          "name": "stdout",
          "text": [
            "[72 30 52 52 60 80 80 52 72 72 52 60 60 91 91]\n"
          ]
        }
      ]
    },
    {
      "cell_type": "code",
      "source": [
        "import numpy as np\n",
        "import pandas as pd\n",
        "df = pd.read_excel(\"mark.xlsx\")\n",
        "aarM = df[['Math']].to_numpy().flatten()\n",
        "M = aarM+5\n",
        "arrN=df[['Name']].to_numpy().flatten()\n",
        "Frame = {\"Name\":arrN, \"Math +\":M}\n",
        "S = pd.DataFrame(Frame)\n",
        "print(S)"
      ],
      "metadata": {
        "colab": {
          "base_uri": "https://localhost:8080/"
        },
        "id": "k-gDlX2uOb_w",
        "outputId": "9ee14ced-7c5f-4ff9-c6c5-aa3751887122"
      },
      "execution_count": null,
      "outputs": [
        {
          "output_type": "stream",
          "name": "stdout",
          "text": [
            "      Name  Math +\n",
            "0     Manu      77\n",
            "1     Arun      35\n",
            "2     Arun      57\n",
            "3     Arun      57\n",
            "4     Arun      65\n",
            "5     Arun      85\n",
            "6     Arun      85\n",
            "7     Arun      57\n",
            "8   Sanjay      77\n",
            "9   Sanjay      77\n",
            "10  Sanjay      57\n",
            "11    Arun      65\n",
            "12    Manu      65\n",
            "13    Arun      96\n",
            "14    Manu      96\n"
          ]
        }
      ]
    },
    {
      "cell_type": "code",
      "source": [
        "import numpy as np\n",
        "import pandas as pd\n",
        "df = pd.read_excel(\"mark.xlsx\")\n",
        "aarM = df[['Math']].to_numpy().flatten()\n",
        "M = aarM+5\n",
        "arrN=df[['Name']].to_numpy().flatten()\n",
        "aarP = df[['Phy']].to_numpy().flatten()\n",
        "P = aarP+5\n",
        "aarC = df[['Che']].to_numpy().flatten()\n",
        "C = aarC+5\n",
        "aarB = df[['Bio']].to_numpy().flatten()\n",
        "B = aarB+5\n",
        "aarT = df[['Tamil']].to_numpy().flatten()\n",
        "T = aarT+5\n",
        "Total = M+P+C+B+T\n",
        "Frame = {\"Name\":arrN, \"Math +\":M, \"Phy+\":P, \"Che+\":C,\"Bio+\":B,\"Tamil+\":T,\"Total\":Total}\n",
        "Z = pd.DataFrame(Frame)\n",
        "print(Z)\n",
        "Marksheet = Z.to_excel(\"Mark_Sheet.xlsx\")\n",
        "Marksheet1 = Z.to_csv(\"Mark_Sheet.csv\")"
      ],
      "metadata": {
        "colab": {
          "base_uri": "https://localhost:8080/"
        },
        "id": "psNWUtr3P8gY",
        "outputId": "0729bba3-596c-40f0-e026-2aca8d3b01a9"
      },
      "execution_count": null,
      "outputs": [
        {
          "output_type": "stream",
          "name": "stdout",
          "text": [
            "      Name  Math +  Phy+  Che+  Bio+  Tamil+  Total\n",
            "0     Manu      77    77    77    35      77    343\n",
            "1     Arun      35    35    65    35      65    235\n",
            "2     Arun      57    57    65    57      65    301\n",
            "3     Arun      57    57    77    35      85    311\n",
            "4     Arun      65    65    85    96      65    376\n",
            "5     Arun      85    85    57    77      35    339\n",
            "6     Arun      85    85    65    77      57    369\n",
            "7     Arun      57    57    85    77      57    333\n",
            "8   Sanjay      77    77    57    65      77    353\n",
            "9   Sanjay      77    77    77    57      57    345\n",
            "10  Sanjay      57    57    85    57      65    321\n",
            "11    Arun      65    65    77    65      85    357\n",
            "12    Manu      65    65    35    57      65    287\n",
            "13    Arun      96    96    57    96      77    422\n",
            "14    Manu      96    96    96    65      57    410\n"
          ]
        }
      ]
    },
    {
      "cell_type": "code",
      "source": [
        "import numpy as np\n",
        "import pandas as pd\n",
        "df = pd.read_excel(\"sales11.xlsx\")\n",
        "Profit = df[[\"Profit_percentage\"]].to_numpy().flatten()\n",
        "A = Profit/100*5\n",
        "P = Profit+A\n",
        "StoreID = df[[\"StoreID\"]].to_numpy().flatten()\n",
        "CustomerID = df[[\"CustomerID\"]].to_numpy().flatten()\n",
        "ProductID = df[[\"ProductID\"]].to_numpy().flatten()\n",
        "Advertisementstar = df[[\"Advertisementstar\"]].to_numpy().flatten()\n",
        "Feedbackstar = df[[\"Feedbackstar\"]].to_numpy().flatten()\n",
        "Supply = df[[\"Supply\"]].to_numpy().flatten()\n",
        "#print(P)\n",
        "P1 = Profit-A\n",
        "#print(P1)\n",
        "Unit = df[[\"UnitPrice\"]].to_numpy().flatten()\n",
        "B = Unit+2\n",
        "#print(B)\n",
        "Quantity = df[[\"Quantity\"]].to_numpy().flatten()\n",
        "C = Quantity+100\n",
        "#print(C)\n",
        "D=df.query('Quantity > 50')\n",
        "#print(D)\n",
        "E=df.query('CustomerID == 307')\n",
        "#print(E)\n",
        "Frame = {\"StoreID\":StoreID,\"ProductID\":ProductID,\"Quantity\":Quantity,\"Quantity+\":C,\"Unit_Price\":Unit,\"UnitPrice+2\":B,\"Current_Profit\":Profit,\"Profit_Increase\":P,\"Profit_Decrease\":P1}\n",
        "P = pd.DataFrame(Frame)\n",
        "Z = P.to_excel(\"Sales_report.xlsx\")"
      ],
      "metadata": {
        "id": "5Don7d_hV8r7",
        "colab": {
          "base_uri": "https://localhost:8080/",
          "height": 373
        },
        "outputId": "af120897-5176-4302-e80d-bbeb1116628d"
      },
      "execution_count": null,
      "outputs": [
        {
          "output_type": "error",
          "ename": "FileNotFoundError",
          "evalue": "[Errno 2] No such file or directory: 'sales11.xlsx'",
          "traceback": [
            "\u001b[0;31m---------------------------------------------------------------------------\u001b[0m",
            "\u001b[0;31mFileNotFoundError\u001b[0m                         Traceback (most recent call last)",
            "\u001b[0;32m<ipython-input-1-45763c63ad80>\u001b[0m in \u001b[0;36m<cell line: 3>\u001b[0;34m()\u001b[0m\n\u001b[1;32m      1\u001b[0m \u001b[0;32mimport\u001b[0m \u001b[0mnumpy\u001b[0m \u001b[0;32mas\u001b[0m \u001b[0mnp\u001b[0m\u001b[0;34m\u001b[0m\u001b[0;34m\u001b[0m\u001b[0m\n\u001b[1;32m      2\u001b[0m \u001b[0;32mimport\u001b[0m \u001b[0mpandas\u001b[0m \u001b[0;32mas\u001b[0m \u001b[0mpd\u001b[0m\u001b[0;34m\u001b[0m\u001b[0;34m\u001b[0m\u001b[0m\n\u001b[0;32m----> 3\u001b[0;31m \u001b[0mdf\u001b[0m \u001b[0;34m=\u001b[0m \u001b[0mpd\u001b[0m\u001b[0;34m.\u001b[0m\u001b[0mread_excel\u001b[0m\u001b[0;34m(\u001b[0m\u001b[0;34m\"sales11.xlsx\"\u001b[0m\u001b[0;34m)\u001b[0m\u001b[0;34m\u001b[0m\u001b[0;34m\u001b[0m\u001b[0m\n\u001b[0m\u001b[1;32m      4\u001b[0m \u001b[0mProfit\u001b[0m \u001b[0;34m=\u001b[0m \u001b[0mdf\u001b[0m\u001b[0;34m[\u001b[0m\u001b[0;34m[\u001b[0m\u001b[0;34m\"Profit_percentage\"\u001b[0m\u001b[0;34m]\u001b[0m\u001b[0;34m]\u001b[0m\u001b[0;34m.\u001b[0m\u001b[0mto_numpy\u001b[0m\u001b[0;34m(\u001b[0m\u001b[0;34m)\u001b[0m\u001b[0;34m.\u001b[0m\u001b[0mflatten\u001b[0m\u001b[0;34m(\u001b[0m\u001b[0;34m)\u001b[0m\u001b[0;34m\u001b[0m\u001b[0;34m\u001b[0m\u001b[0m\n\u001b[1;32m      5\u001b[0m \u001b[0mA\u001b[0m \u001b[0;34m=\u001b[0m \u001b[0mProfit\u001b[0m\u001b[0;34m/\u001b[0m\u001b[0;36m100\u001b[0m\u001b[0;34m*\u001b[0m\u001b[0;36m5\u001b[0m\u001b[0;34m\u001b[0m\u001b[0;34m\u001b[0m\u001b[0m\n",
            "\u001b[0;32m/usr/local/lib/python3.10/dist-packages/pandas/io/excel/_base.py\u001b[0m in \u001b[0;36mread_excel\u001b[0;34m(io, sheet_name, header, names, index_col, usecols, dtype, engine, converters, true_values, false_values, skiprows, nrows, na_values, keep_default_na, na_filter, verbose, parse_dates, date_parser, date_format, thousands, decimal, comment, skipfooter, storage_options, dtype_backend, engine_kwargs)\u001b[0m\n\u001b[1;32m    493\u001b[0m     \u001b[0;32mif\u001b[0m \u001b[0;32mnot\u001b[0m \u001b[0misinstance\u001b[0m\u001b[0;34m(\u001b[0m\u001b[0mio\u001b[0m\u001b[0;34m,\u001b[0m \u001b[0mExcelFile\u001b[0m\u001b[0;34m)\u001b[0m\u001b[0;34m:\u001b[0m\u001b[0;34m\u001b[0m\u001b[0;34m\u001b[0m\u001b[0m\n\u001b[1;32m    494\u001b[0m         \u001b[0mshould_close\u001b[0m \u001b[0;34m=\u001b[0m \u001b[0;32mTrue\u001b[0m\u001b[0;34m\u001b[0m\u001b[0;34m\u001b[0m\u001b[0m\n\u001b[0;32m--> 495\u001b[0;31m         io = ExcelFile(\n\u001b[0m\u001b[1;32m    496\u001b[0m             \u001b[0mio\u001b[0m\u001b[0;34m,\u001b[0m\u001b[0;34m\u001b[0m\u001b[0;34m\u001b[0m\u001b[0m\n\u001b[1;32m    497\u001b[0m             \u001b[0mstorage_options\u001b[0m\u001b[0;34m=\u001b[0m\u001b[0mstorage_options\u001b[0m\u001b[0;34m,\u001b[0m\u001b[0;34m\u001b[0m\u001b[0;34m\u001b[0m\u001b[0m\n",
            "\u001b[0;32m/usr/local/lib/python3.10/dist-packages/pandas/io/excel/_base.py\u001b[0m in \u001b[0;36m__init__\u001b[0;34m(self, path_or_buffer, engine, storage_options, engine_kwargs)\u001b[0m\n\u001b[1;32m   1548\u001b[0m                 \u001b[0mext\u001b[0m \u001b[0;34m=\u001b[0m \u001b[0;34m\"xls\"\u001b[0m\u001b[0;34m\u001b[0m\u001b[0;34m\u001b[0m\u001b[0m\n\u001b[1;32m   1549\u001b[0m             \u001b[0;32melse\u001b[0m\u001b[0;34m:\u001b[0m\u001b[0;34m\u001b[0m\u001b[0;34m\u001b[0m\u001b[0m\n\u001b[0;32m-> 1550\u001b[0;31m                 ext = inspect_excel_format(\n\u001b[0m\u001b[1;32m   1551\u001b[0m                     \u001b[0mcontent_or_path\u001b[0m\u001b[0;34m=\u001b[0m\u001b[0mpath_or_buffer\u001b[0m\u001b[0;34m,\u001b[0m \u001b[0mstorage_options\u001b[0m\u001b[0;34m=\u001b[0m\u001b[0mstorage_options\u001b[0m\u001b[0;34m\u001b[0m\u001b[0;34m\u001b[0m\u001b[0m\n\u001b[1;32m   1552\u001b[0m                 )\n",
            "\u001b[0;32m/usr/local/lib/python3.10/dist-packages/pandas/io/excel/_base.py\u001b[0m in \u001b[0;36minspect_excel_format\u001b[0;34m(content_or_path, storage_options)\u001b[0m\n\u001b[1;32m   1400\u001b[0m         \u001b[0mcontent_or_path\u001b[0m \u001b[0;34m=\u001b[0m \u001b[0mBytesIO\u001b[0m\u001b[0;34m(\u001b[0m\u001b[0mcontent_or_path\u001b[0m\u001b[0;34m)\u001b[0m\u001b[0;34m\u001b[0m\u001b[0;34m\u001b[0m\u001b[0m\n\u001b[1;32m   1401\u001b[0m \u001b[0;34m\u001b[0m\u001b[0m\n\u001b[0;32m-> 1402\u001b[0;31m     with get_handle(\n\u001b[0m\u001b[1;32m   1403\u001b[0m         \u001b[0mcontent_or_path\u001b[0m\u001b[0;34m,\u001b[0m \u001b[0;34m\"rb\"\u001b[0m\u001b[0;34m,\u001b[0m \u001b[0mstorage_options\u001b[0m\u001b[0;34m=\u001b[0m\u001b[0mstorage_options\u001b[0m\u001b[0;34m,\u001b[0m \u001b[0mis_text\u001b[0m\u001b[0;34m=\u001b[0m\u001b[0;32mFalse\u001b[0m\u001b[0;34m\u001b[0m\u001b[0;34m\u001b[0m\u001b[0m\n\u001b[1;32m   1404\u001b[0m     ) as handle:\n",
            "\u001b[0;32m/usr/local/lib/python3.10/dist-packages/pandas/io/common.py\u001b[0m in \u001b[0;36mget_handle\u001b[0;34m(path_or_buf, mode, encoding, compression, memory_map, is_text, errors, storage_options)\u001b[0m\n\u001b[1;32m    880\u001b[0m         \u001b[0;32melse\u001b[0m\u001b[0;34m:\u001b[0m\u001b[0;34m\u001b[0m\u001b[0;34m\u001b[0m\u001b[0m\n\u001b[1;32m    881\u001b[0m             \u001b[0;31m# Binary mode\u001b[0m\u001b[0;34m\u001b[0m\u001b[0;34m\u001b[0m\u001b[0m\n\u001b[0;32m--> 882\u001b[0;31m             \u001b[0mhandle\u001b[0m \u001b[0;34m=\u001b[0m \u001b[0mopen\u001b[0m\u001b[0;34m(\u001b[0m\u001b[0mhandle\u001b[0m\u001b[0;34m,\u001b[0m \u001b[0mioargs\u001b[0m\u001b[0;34m.\u001b[0m\u001b[0mmode\u001b[0m\u001b[0;34m)\u001b[0m\u001b[0;34m\u001b[0m\u001b[0;34m\u001b[0m\u001b[0m\n\u001b[0m\u001b[1;32m    883\u001b[0m         \u001b[0mhandles\u001b[0m\u001b[0;34m.\u001b[0m\u001b[0mappend\u001b[0m\u001b[0;34m(\u001b[0m\u001b[0mhandle\u001b[0m\u001b[0;34m)\u001b[0m\u001b[0;34m\u001b[0m\u001b[0;34m\u001b[0m\u001b[0m\n\u001b[1;32m    884\u001b[0m \u001b[0;34m\u001b[0m\u001b[0m\n",
            "\u001b[0;31mFileNotFoundError\u001b[0m: [Errno 2] No such file or directory: 'sales11.xlsx'"
          ]
        }
      ]
    },
    {
      "cell_type": "code",
      "source": [
        "import numpy as np\n",
        "import pandas as pd\n",
        "\n",
        "A = pd.read_excel(\"income.xlsx\")\n",
        "B = A.info()\n",
        "print(B)\n",
        "C = A [[\"Month\"]].to_numpy().flatten()\n",
        "\n",
        "D = A [[\"Income\"]].to_numpy().flatten()\n",
        "\n",
        "E = A [[\"Expense\"]].to_numpy().flatten()\n",
        "\n",
        "F = A [[\"Others\"]].to_numpy().flatten()\n",
        "\n",
        "G = D-E-F\n",
        "\n",
        "Frame = {\"Month\":C,\"Income\":D,\"Expense\":E,\"Others\":F,\"Savings\":G}\n",
        "H = pd.DataFrame(Frame)\n",
        "print(H)\n",
        "I = H.to_excel(\"Saving.xlsx\")"
      ],
      "metadata": {
        "colab": {
          "base_uri": "https://localhost:8080/"
        },
        "id": "pIriRs6sbu1c",
        "outputId": "584965f0-bffe-4a95-b55a-411a7d0b35c3"
      },
      "execution_count": null,
      "outputs": [
        {
          "output_type": "stream",
          "name": "stdout",
          "text": [
            "<class 'pandas.core.frame.DataFrame'>\n",
            "RangeIndex: 12 entries, 0 to 11\n",
            "Data columns (total 4 columns):\n",
            " #   Column   Non-Null Count  Dtype\n",
            "---  ------   --------------  -----\n",
            " 0   Month    12 non-null     int64\n",
            " 1   Income   12 non-null     int64\n",
            " 2   Expense  12 non-null     int64\n",
            " 3   Others   12 non-null     int64\n",
            "dtypes: int64(4)\n",
            "memory usage: 512.0 bytes\n",
            "None\n",
            "    Month  Income  Expense  Others  Savings\n",
            "0       1   80000    50000   10000    20000\n",
            "1       2   81000    45000   11000    25000\n",
            "2       3   82000    54000   13000    15000\n",
            "3       4   84000    56000   12000    16000\n",
            "4       5   86000    43000   16000    27000\n",
            "5       6   88000    42000   17000    29000\n",
            "6       7   90000    54000   18000    18000\n",
            "7       8   92000    45000   19000    28000\n",
            "8       9   94000    34000   20000    40000\n",
            "9      10   96000    43000   19000    34000\n",
            "10     11   98000    42000   21000    35000\n",
            "11     12  100000    50000   22000    28000\n"
          ]
        }
      ]
    },
    {
      "cell_type": "code",
      "source": [
        "import numpy as np\n",
        "import pandas as pd\n",
        "\n",
        "A = pd.read_excel(\"bank_data.xlsx\")\n",
        "B = A.info()\n",
        "C = A[[\"Customer_ID\"]].to_numpy().flatten()\n",
        "D = A[[\"Bank_Balance\"]].to_numpy().flatten()\n",
        "E = D/100*10\n",
        "#print(E)\n",
        "F = D+E\n",
        "#print(F)\n",
        "Frame = {\"Customer_ID\":C,\"Bank_Balance\":D,\"Interest\":E,\"Balance_After_Interest\":F}\n",
        "G = pd.DataFrame(Frame)\n",
        "print(G.head())\n",
        "H = G.to_excel(\"Interest.xlsx\")"
      ],
      "metadata": {
        "colab": {
          "base_uri": "https://localhost:8080/"
        },
        "id": "IOgBsupxfAjk",
        "outputId": "b2352dfa-60fe-4c5e-a031-2cfdb0180b7f"
      },
      "execution_count": null,
      "outputs": [
        {
          "output_type": "stream",
          "name": "stdout",
          "text": [
            "<class 'pandas.core.frame.DataFrame'>\n",
            "RangeIndex: 100 entries, 0 to 99\n",
            "Data columns (total 14 columns):\n",
            " #   Column             Non-Null Count  Dtype \n",
            "---  ------             --------------  ----- \n",
            " 0   Customer_ID        100 non-null    int64 \n",
            " 1   Bank_Balance       100 non-null    int64 \n",
            " 2   Debit_Card         100 non-null    object\n",
            " 3   Credit_Card        100 non-null    object\n",
            " 4   Credit             100 non-null    int64 \n",
            " 5   Loan               100 non-null    int64 \n",
            " 6   EMI                100 non-null    int64 \n",
            " 7   Mutual_Fund        100 non-null    int64 \n",
            " 8   Insurance          100 non-null    object\n",
            " 9   Insurance_Premium  100 non-null    int64 \n",
            " 10  Star_Rating        100 non-null    int64 \n",
            " 11  Feedback           100 non-null    int64 \n",
            " 12  Cibil_Score        100 non-null    int64 \n",
            " 13  Parking            100 non-null    object\n",
            "dtypes: int64(10), object(4)\n",
            "memory usage: 11.1+ KB\n",
            "   Customer_ID  Bank_Balance  Interest  Balance_After_Interest\n",
            "0            1         69801    6980.1                 76781.1\n",
            "1            2          4828     482.8                  5310.8\n",
            "2            3          9525     952.5                 10477.5\n",
            "3            4         21483    2148.3                 23631.3\n",
            "4            5         78228    7822.8                 86050.8\n"
          ]
        }
      ]
    },
    {
      "cell_type": "code",
      "source": [
        "import pandas as pd\n",
        "import sqlite3\n",
        "df= pd.read_excel('mark.xlsx')\n",
        "database = \"mark.sqlite\"\n",
        "conn = sqlite3.connect(database)\n",
        "df.to_sql(name='Users',con=conn,if_exists='replace',index=False)\n",
        "\n",
        "conn.close()"
      ],
      "metadata": {
        "id": "HAhCjsaggWNE"
      },
      "execution_count": null,
      "outputs": []
    },
    {
      "cell_type": "code",
      "source": [
        "import pandas as pd\n",
        "import sqlite3\n",
        "df = pd.read_excel(\"Interest.xlsx\")\n",
        "database = \"Interest.sqlite\"\n",
        "conn = sqlite3.connect(database)\n",
        "df.to_sql(name='User',con=conn,if_exists='replace',index=False)\n",
        "\n",
        "conn.close()"
      ],
      "metadata": {
        "id": "XUQglNkRiyjM"
      },
      "execution_count": null,
      "outputs": []
    },
    {
      "cell_type": "code",
      "source": [
        "import pandas as pd\n",
        "import sqlite3\n",
        "df = pd.read_excel(\"Saving.xlsx\")\n",
        "database = \"Saving.sqlite\"\n",
        "conn = sqlite3.connect(database)\n",
        "df.to_sql(name='User',con=conn,if_exists='replace',index=False)\n",
        "\n",
        "conn.close()\n"
      ],
      "metadata": {
        "id": "g1JuiPwjjciM"
      },
      "execution_count": null,
      "outputs": []
    },
    {
      "cell_type": "code",
      "source": [
        "import pandas as pd\n",
        "import sqlite3\n",
        "df = pd.read_excel(\"sales11.xlsx\")\n",
        "database = \"Sales.sqlite\"\n",
        "conn = sqlite3.connect(database)\n",
        "df.to_sql(name='User',con=conn,if_exists='replace',index=False)\n",
        "\n",
        "conn.close()"
      ],
      "metadata": {
        "id": "XxrYq5FjkCal"
      },
      "execution_count": null,
      "outputs": []
    },
    {
      "cell_type": "code",
      "source": [
        "import pandas as pd\n",
        "import sqlite3\n",
        "df = pd.read_excel(\"bank_data.xlsx\")\n",
        "database = \"bank_data.sqlite\"\n",
        "conn = sqlite3.connect(database)\n",
        "df.to_sql(name='user',con=conn,if_exists='replace',index=False)\n",
        "\n",
        "conn.close()"
      ],
      "metadata": {
        "id": "cd-GdcZckwK-"
      },
      "execution_count": null,
      "outputs": []
    },
    {
      "cell_type": "code",
      "source": [
        "import pandas as pd\n",
        "import sqlite3 as db\n",
        "con = db.connect('mark.sqlite')\n",
        "df = pd.read_sql_query(\"SELECT * FROM Users\", con)\n",
        "print(df)\n",
        "con.commit()\n",
        "con.close()"
      ],
      "metadata": {
        "colab": {
          "base_uri": "https://localhost:8080/"
        },
        "id": "sZNHW38UouDN",
        "outputId": "1b4c7a6c-1117-4b45-a669-c6198b44765e"
      },
      "execution_count": null,
      "outputs": [
        {
          "output_type": "stream",
          "name": "stdout",
          "text": [
            "      Name  Math  Phy  Che  Eng  Bio  Tamil\n",
            "0     Manu    72   72   72   72   30     72\n",
            "1     Arun    30   30   60   30   30     60\n",
            "2     Arun    52   52   60   80   52     60\n",
            "3     Arun    52   52   72   52   30     80\n",
            "4     Arun    60   60   80   52   91     60\n",
            "5     Arun    80   80   52   52   72     30\n",
            "6     Arun    80   80   60   80   72     52\n",
            "7     Arun    52   52   80   72   72     52\n",
            "8   Sanjay    72   72   52   72   60     72\n",
            "9   Sanjay    72   72   72   72   52     52\n",
            "10  Sanjay    52   52   80   80   52     60\n",
            "11    Arun    60   60   72   72   60     80\n",
            "12    Manu    60   60   30   52   52     60\n",
            "13    Arun    91   91   52   80   91     72\n",
            "14    Manu    91   91   91   80   60     52\n"
          ]
        }
      ]
    },
    {
      "cell_type": "code",
      "source": [
        "import pandas as pd\n",
        "import sqlite3 as db\n",
        "con = db.connect('mark.sqlite')\n",
        "df = pd.read_sql_query(\"SELECT Name,phy FROM Users\", con)\n",
        "print(df)\n",
        "con.commit()\n",
        "con.close()"
      ],
      "metadata": {
        "colab": {
          "base_uri": "https://localhost:8080/"
        },
        "id": "yD3k2BfwpY-m",
        "outputId": "d2cb9f06-dcc7-46e6-ab0a-66ce10289387"
      },
      "execution_count": null,
      "outputs": [
        {
          "output_type": "stream",
          "name": "stdout",
          "text": [
            "      Name  Phy\n",
            "0     Manu   72\n",
            "1     Arun   30\n",
            "2     Arun   52\n",
            "3     Arun   52\n",
            "4     Arun   60\n",
            "5     Arun   80\n",
            "6     Arun   80\n",
            "7     Arun   52\n",
            "8   Sanjay   72\n",
            "9   Sanjay   72\n",
            "10  Sanjay   52\n",
            "11    Arun   60\n",
            "12    Manu   60\n",
            "13    Arun   91\n",
            "14    Manu   91\n"
          ]
        }
      ]
    },
    {
      "cell_type": "code",
      "source": [
        "import pandas as pd\n",
        "import sqlite3 as db\n",
        "con = db.connect('mark.sqlite')\n",
        "df = pd.read_sql_query(\"SELECT Name,Bio FROM Users\", con)\n",
        "print(df)\n",
        "con.commit()\n",
        "con.close()"
      ],
      "metadata": {
        "colab": {
          "base_uri": "https://localhost:8080/"
        },
        "id": "Ej-OEawwqHY8",
        "outputId": "b778d1a3-9765-4ccb-f212-223fa3cd8dac"
      },
      "execution_count": null,
      "outputs": [
        {
          "output_type": "stream",
          "name": "stdout",
          "text": [
            "      Name  Bio\n",
            "0     Manu   30\n",
            "1     Arun   30\n",
            "2     Arun   52\n",
            "3     Arun   30\n",
            "4     Arun   91\n",
            "5     Arun   72\n",
            "6     Arun   72\n",
            "7     Arun   72\n",
            "8   Sanjay   60\n",
            "9   Sanjay   52\n",
            "10  Sanjay   52\n",
            "11    Arun   60\n",
            "12    Manu   52\n",
            "13    Arun   91\n",
            "14    Manu   60\n"
          ]
        }
      ]
    },
    {
      "cell_type": "code",
      "source": [
        "\n",
        "import pandas as pd\n",
        "import sqlite3 as db\n",
        "con = db.connect('mark.sqlite')\n",
        "df = pd.read_sql_query(\"SELECT min(Math) FROM Users\", con)\n",
        "print(df)\n",
        "con.commit()\n",
        "con.close()"
      ],
      "metadata": {
        "colab": {
          "base_uri": "https://localhost:8080/"
        },
        "id": "hD47Y_ZnsQ9s",
        "outputId": "0c9f1129-cfb6-4000-bbf5-5471a82c5697"
      },
      "execution_count": null,
      "outputs": [
        {
          "output_type": "stream",
          "name": "stdout",
          "text": [
            "   min(Math)\n",
            "0         30\n"
          ]
        }
      ]
    },
    {
      "cell_type": "code",
      "source": [
        "import pandas as pd\n",
        "import sqlite3 as db\n",
        "con = db.connect('mark.sqlite')\n",
        "df = pd.read_sql_query(\"SELECT max(Math) FROM Users\", con)\n",
        "print(df)\n",
        "con.commit()\n",
        "con.close()"
      ],
      "metadata": {
        "colab": {
          "base_uri": "https://localhost:8080/"
        },
        "id": "DcsW-JpYtviT",
        "outputId": "4a213a89-4742-478e-bdf2-72c0ed251034"
      },
      "execution_count": null,
      "outputs": [
        {
          "output_type": "stream",
          "name": "stdout",
          "text": [
            "   max(Math)\n",
            "0         91\n"
          ]
        }
      ]
    },
    {
      "cell_type": "code",
      "source": [
        "import pandas as pd\n",
        "import sqlite3 as db\n",
        "con = db.connect('mark.sqlite')\n",
        "df = pd.read_sql_query(\"SELECT min(Math) FROM Users\", con)\n",
        "print(df)\n",
        "con.commit()\n",
        "con.close()"
      ],
      "metadata": {
        "id": "OeW_7Ycltx6R"
      },
      "execution_count": null,
      "outputs": []
    },
    {
      "cell_type": "code",
      "source": [
        "import pandas as pd\n",
        "import sqlite3 as db\n",
        "con = db.connect('mark.sqlite')\n",
        "df = pd.read_sql_query(\"SELECT avg(Math) FROM Users\", con)\n",
        "print(df)\n",
        "con.commit()\n",
        "con.close()"
      ],
      "metadata": {
        "colab": {
          "base_uri": "https://localhost:8080/"
        },
        "id": "5AN2FHPat0hh",
        "outputId": "1b7ec48d-5e25-4baf-8228-5d0a562ffddb"
      },
      "execution_count": null,
      "outputs": [
        {
          "output_type": "stream",
          "name": "stdout",
          "text": [
            "   avg(Math)\n",
            "0  65.066667\n"
          ]
        }
      ]
    },
    {
      "cell_type": "code",
      "source": [
        "import pandas as pd\n",
        "import sqlite3 as db\n",
        "con = db.connect('mark.sqlite')\n",
        "df = pd.read_sql_query(\"SELECT count(Math) FROM Users\", con)\n",
        "print(df)\n",
        "con.commit()\n",
        "con.close()"
      ],
      "metadata": {
        "colab": {
          "base_uri": "https://localhost:8080/"
        },
        "id": "KLsGzf2kt244",
        "outputId": "813e42a7-d339-41e1-c599-dbc71d4179da"
      },
      "execution_count": null,
      "outputs": [
        {
          "output_type": "stream",
          "name": "stdout",
          "text": [
            "   count(Math)\n",
            "0           15\n"
          ]
        }
      ]
    },
    {
      "cell_type": "code",
      "source": [
        "import pandas as pd\n",
        "import sqlite3 as db\n",
        "con = db.connect('mark.sqlite')\n",
        "df = pd.read_sql_query(\"SELECT *,min(Math) FROM Users\", con)\n",
        "print(df)\n",
        "con.commit()\n",
        "con.close()"
      ],
      "metadata": {
        "colab": {
          "base_uri": "https://localhost:8080/"
        },
        "id": "eC9KB36it-JJ",
        "outputId": "7303a538-03b1-4232-e07a-2b605612479d"
      },
      "execution_count": null,
      "outputs": [
        {
          "output_type": "stream",
          "name": "stdout",
          "text": [
            "   Name  Math  Phy  Che  Eng  Bio  Tamil  min(Math)\n",
            "0  Arun    30   30   60   30   30     60         30\n"
          ]
        }
      ]
    },
    {
      "cell_type": "code",
      "source": [
        "import pandas as pd\n",
        "import sqlite3 as db\n",
        "con = db.connect('mark.sqlite')\n",
        "df = pd.read_sql_query(\"SELECT *,(Math+Phy) FROM Users\", con)\n",
        "print(df)\n",
        "con.commit()\n",
        "con.close()"
      ],
      "metadata": {
        "colab": {
          "base_uri": "https://localhost:8080/"
        },
        "id": "OW3Th3q1uFuR",
        "outputId": "201e2085-10eb-40ff-c20f-6d6c46034586"
      },
      "execution_count": null,
      "outputs": [
        {
          "output_type": "stream",
          "name": "stdout",
          "text": [
            "      Name  Math  Phy  Che  Eng  Bio  Tamil  (Math+Phy)\n",
            "0     Manu    72   72   72   72   30     72         144\n",
            "1     Arun    30   30   60   30   30     60          60\n",
            "2     Arun    52   52   60   80   52     60         104\n",
            "3     Arun    52   52   72   52   30     80         104\n",
            "4     Arun    60   60   80   52   91     60         120\n",
            "5     Arun    80   80   52   52   72     30         160\n",
            "6     Arun    80   80   60   80   72     52         160\n",
            "7     Arun    52   52   80   72   72     52         104\n",
            "8   Sanjay    72   72   52   72   60     72         144\n",
            "9   Sanjay    72   72   72   72   52     52         144\n",
            "10  Sanjay    52   52   80   80   52     60         104\n",
            "11    Arun    60   60   72   72   60     80         120\n",
            "12    Manu    60   60   30   52   52     60         120\n",
            "13    Arun    91   91   52   80   91     72         182\n",
            "14    Manu    91   91   91   80   60     52         182\n"
          ]
        }
      ]
    },
    {
      "cell_type": "code",
      "source": [
        "import pandas as pd\n",
        "import sqlite3 as db\n",
        "con = db.connect('mark.sqlite')\n",
        "df = pd.read_sql_query(\"SELECT *,(Math+Phy+Bio+Che+Tamil) FROM Users\", con)\n",
        "print(df)\n",
        "con.commit()\n",
        "con.close()"
      ],
      "metadata": {
        "colab": {
          "base_uri": "https://localhost:8080/"
        },
        "id": "H_2tSyiWuMJa",
        "outputId": "d918d7f7-3d9d-47b3-b2f8-c4973319f0ff"
      },
      "execution_count": null,
      "outputs": [
        {
          "output_type": "stream",
          "name": "stdout",
          "text": [
            "      Name  Math  Phy  Che  Eng  Bio  Tamil  (Math+Phy+Bio+Che+Tamil)\n",
            "0     Manu    72   72   72   72   30     72                       318\n",
            "1     Arun    30   30   60   30   30     60                       210\n",
            "2     Arun    52   52   60   80   52     60                       276\n",
            "3     Arun    52   52   72   52   30     80                       286\n",
            "4     Arun    60   60   80   52   91     60                       351\n",
            "5     Arun    80   80   52   52   72     30                       314\n",
            "6     Arun    80   80   60   80   72     52                       344\n",
            "7     Arun    52   52   80   72   72     52                       308\n",
            "8   Sanjay    72   72   52   72   60     72                       328\n",
            "9   Sanjay    72   72   72   72   52     52                       320\n",
            "10  Sanjay    52   52   80   80   52     60                       296\n",
            "11    Arun    60   60   72   72   60     80                       332\n",
            "12    Manu    60   60   30   52   52     60                       262\n",
            "13    Arun    91   91   52   80   91     72                       397\n",
            "14    Manu    91   91   91   80   60     52                       385\n"
          ]
        }
      ]
    },
    {
      "cell_type": "code",
      "source": [
        "import pandas as pd\n",
        "import sqlite3 as db\n",
        "con = db.connect('mark.sqlite')\n",
        "df = pd.read_sql_query(\"SELECT FROM Users WHERE Math>90\", con)\n",
        "print(df)\n",
        "con.commit()\n",
        "con.close()"
      ],
      "metadata": {
        "colab": {
          "base_uri": "https://localhost:8080/",
          "height": 423
        },
        "id": "V5FMZCx9uV3Q",
        "outputId": "854bd293-c462-4f08-c389-1f67ef81838e"
      },
      "execution_count": null,
      "outputs": [
        {
          "output_type": "error",
          "ename": "DatabaseError",
          "evalue": "Execution failed on sql 'SELECT FROM Users WHERE Math>90': near \"FROM\": syntax error",
          "traceback": [
            "\u001b[0;31m---------------------------------------------------------------------------\u001b[0m",
            "\u001b[0;31mOperationalError\u001b[0m                          Traceback (most recent call last)",
            "\u001b[0;32m/usr/local/lib/python3.10/dist-packages/pandas/io/sql.py\u001b[0m in \u001b[0;36mexecute\u001b[0;34m(self, sql, params)\u001b[0m\n\u001b[1;32m   2673\u001b[0m         \u001b[0;32mtry\u001b[0m\u001b[0;34m:\u001b[0m\u001b[0;34m\u001b[0m\u001b[0;34m\u001b[0m\u001b[0m\n\u001b[0;32m-> 2674\u001b[0;31m             \u001b[0mcur\u001b[0m\u001b[0;34m.\u001b[0m\u001b[0mexecute\u001b[0m\u001b[0;34m(\u001b[0m\u001b[0msql\u001b[0m\u001b[0;34m,\u001b[0m \u001b[0;34m*\u001b[0m\u001b[0margs\u001b[0m\u001b[0;34m)\u001b[0m\u001b[0;34m\u001b[0m\u001b[0;34m\u001b[0m\u001b[0m\n\u001b[0m\u001b[1;32m   2675\u001b[0m             \u001b[0;32mreturn\u001b[0m \u001b[0mcur\u001b[0m\u001b[0;34m\u001b[0m\u001b[0;34m\u001b[0m\u001b[0m\n",
            "\u001b[0;31mOperationalError\u001b[0m: near \"FROM\": syntax error",
            "\nThe above exception was the direct cause of the following exception:\n",
            "\u001b[0;31mDatabaseError\u001b[0m                             Traceback (most recent call last)",
            "\u001b[0;32m<ipython-input-36-723663cade01>\u001b[0m in \u001b[0;36m<cell line: 4>\u001b[0;34m()\u001b[0m\n\u001b[1;32m      2\u001b[0m \u001b[0;32mimport\u001b[0m \u001b[0msqlite3\u001b[0m \u001b[0;32mas\u001b[0m \u001b[0mdb\u001b[0m\u001b[0;34m\u001b[0m\u001b[0;34m\u001b[0m\u001b[0m\n\u001b[1;32m      3\u001b[0m \u001b[0mcon\u001b[0m \u001b[0;34m=\u001b[0m \u001b[0mdb\u001b[0m\u001b[0;34m.\u001b[0m\u001b[0mconnect\u001b[0m\u001b[0;34m(\u001b[0m\u001b[0;34m'mark.sqlite'\u001b[0m\u001b[0;34m)\u001b[0m\u001b[0;34m\u001b[0m\u001b[0;34m\u001b[0m\u001b[0m\n\u001b[0;32m----> 4\u001b[0;31m \u001b[0mdf\u001b[0m \u001b[0;34m=\u001b[0m \u001b[0mpd\u001b[0m\u001b[0;34m.\u001b[0m\u001b[0mread_sql_query\u001b[0m\u001b[0;34m(\u001b[0m\u001b[0;34m\"SELECT FROM Users WHERE Math>90\"\u001b[0m\u001b[0;34m,\u001b[0m \u001b[0mcon\u001b[0m\u001b[0;34m)\u001b[0m\u001b[0;34m\u001b[0m\u001b[0;34m\u001b[0m\u001b[0m\n\u001b[0m\u001b[1;32m      5\u001b[0m \u001b[0mprint\u001b[0m\u001b[0;34m(\u001b[0m\u001b[0mdf\u001b[0m\u001b[0;34m)\u001b[0m\u001b[0;34m\u001b[0m\u001b[0;34m\u001b[0m\u001b[0m\n\u001b[1;32m      6\u001b[0m \u001b[0mcon\u001b[0m\u001b[0;34m.\u001b[0m\u001b[0mcommit\u001b[0m\u001b[0;34m(\u001b[0m\u001b[0;34m)\u001b[0m\u001b[0;34m\u001b[0m\u001b[0;34m\u001b[0m\u001b[0m\n",
            "\u001b[0;32m/usr/local/lib/python3.10/dist-packages/pandas/io/sql.py\u001b[0m in \u001b[0;36mread_sql_query\u001b[0;34m(sql, con, index_col, coerce_float, params, parse_dates, chunksize, dtype, dtype_backend)\u001b[0m\n\u001b[1;32m    524\u001b[0m \u001b[0;34m\u001b[0m\u001b[0m\n\u001b[1;32m    525\u001b[0m     \u001b[0;32mwith\u001b[0m \u001b[0mpandasSQL_builder\u001b[0m\u001b[0;34m(\u001b[0m\u001b[0mcon\u001b[0m\u001b[0;34m)\u001b[0m \u001b[0;32mas\u001b[0m \u001b[0mpandas_sql\u001b[0m\u001b[0;34m:\u001b[0m\u001b[0;34m\u001b[0m\u001b[0;34m\u001b[0m\u001b[0m\n\u001b[0;32m--> 526\u001b[0;31m         return pandas_sql.read_query(\n\u001b[0m\u001b[1;32m    527\u001b[0m             \u001b[0msql\u001b[0m\u001b[0;34m,\u001b[0m\u001b[0;34m\u001b[0m\u001b[0;34m\u001b[0m\u001b[0m\n\u001b[1;32m    528\u001b[0m             \u001b[0mindex_col\u001b[0m\u001b[0;34m=\u001b[0m\u001b[0mindex_col\u001b[0m\u001b[0;34m,\u001b[0m\u001b[0;34m\u001b[0m\u001b[0;34m\u001b[0m\u001b[0m\n",
            "\u001b[0;32m/usr/local/lib/python3.10/dist-packages/pandas/io/sql.py\u001b[0m in \u001b[0;36mread_query\u001b[0;34m(self, sql, index_col, coerce_float, parse_dates, params, chunksize, dtype, dtype_backend)\u001b[0m\n\u001b[1;32m   2736\u001b[0m         \u001b[0mdtype_backend\u001b[0m\u001b[0;34m:\u001b[0m \u001b[0mDtypeBackend\u001b[0m \u001b[0;34m|\u001b[0m \u001b[0mLiteral\u001b[0m\u001b[0;34m[\u001b[0m\u001b[0;34m\"numpy\"\u001b[0m\u001b[0;34m]\u001b[0m \u001b[0;34m=\u001b[0m \u001b[0;34m\"numpy\"\u001b[0m\u001b[0;34m,\u001b[0m\u001b[0;34m\u001b[0m\u001b[0;34m\u001b[0m\u001b[0m\n\u001b[1;32m   2737\u001b[0m     ) -> DataFrame | Iterator[DataFrame]:\n\u001b[0;32m-> 2738\u001b[0;31m         \u001b[0mcursor\u001b[0m \u001b[0;34m=\u001b[0m \u001b[0mself\u001b[0m\u001b[0;34m.\u001b[0m\u001b[0mexecute\u001b[0m\u001b[0;34m(\u001b[0m\u001b[0msql\u001b[0m\u001b[0;34m,\u001b[0m \u001b[0mparams\u001b[0m\u001b[0;34m)\u001b[0m\u001b[0;34m\u001b[0m\u001b[0;34m\u001b[0m\u001b[0m\n\u001b[0m\u001b[1;32m   2739\u001b[0m         \u001b[0mcolumns\u001b[0m \u001b[0;34m=\u001b[0m \u001b[0;34m[\u001b[0m\u001b[0mcol_desc\u001b[0m\u001b[0;34m[\u001b[0m\u001b[0;36m0\u001b[0m\u001b[0;34m]\u001b[0m \u001b[0;32mfor\u001b[0m \u001b[0mcol_desc\u001b[0m \u001b[0;32min\u001b[0m \u001b[0mcursor\u001b[0m\u001b[0;34m.\u001b[0m\u001b[0mdescription\u001b[0m\u001b[0;34m]\u001b[0m\u001b[0;34m\u001b[0m\u001b[0;34m\u001b[0m\u001b[0m\n\u001b[1;32m   2740\u001b[0m \u001b[0;34m\u001b[0m\u001b[0m\n",
            "\u001b[0;32m/usr/local/lib/python3.10/dist-packages/pandas/io/sql.py\u001b[0m in \u001b[0;36mexecute\u001b[0;34m(self, sql, params)\u001b[0m\n\u001b[1;32m   2684\u001b[0m \u001b[0;34m\u001b[0m\u001b[0m\n\u001b[1;32m   2685\u001b[0m             \u001b[0mex\u001b[0m \u001b[0;34m=\u001b[0m \u001b[0mDatabaseError\u001b[0m\u001b[0;34m(\u001b[0m\u001b[0;34mf\"Execution failed on sql '{sql}': {exc}\"\u001b[0m\u001b[0;34m)\u001b[0m\u001b[0;34m\u001b[0m\u001b[0;34m\u001b[0m\u001b[0m\n\u001b[0;32m-> 2686\u001b[0;31m             \u001b[0;32mraise\u001b[0m \u001b[0mex\u001b[0m \u001b[0;32mfrom\u001b[0m \u001b[0mexc\u001b[0m\u001b[0;34m\u001b[0m\u001b[0;34m\u001b[0m\u001b[0m\n\u001b[0m\u001b[1;32m   2687\u001b[0m \u001b[0;34m\u001b[0m\u001b[0m\n\u001b[1;32m   2688\u001b[0m     \u001b[0;34m@\u001b[0m\u001b[0mstaticmethod\u001b[0m\u001b[0;34m\u001b[0m\u001b[0;34m\u001b[0m\u001b[0m\n",
            "\u001b[0;31mDatabaseError\u001b[0m: Execution failed on sql 'SELECT FROM Users WHERE Math>90': near \"FROM\": syntax error"
          ]
        }
      ]
    },
    {
      "cell_type": "code",
      "source": [
        "import pandas as pd\n",
        "import sqlite3 as db\n",
        "con = db.connect('mark.sqlite')\n",
        "df = pd.read_sql_query(\"SELECT Math FROM Users ORDER BY Math ASC\", con)\n",
        "print(df)\n",
        "con.commit()\n",
        "con.close()"
      ],
      "metadata": {
        "colab": {
          "base_uri": "https://localhost:8080/"
        },
        "id": "rcsCM9_wujwB",
        "outputId": "48af536b-c835-49bb-c316-5501ce29d6af"
      },
      "execution_count": null,
      "outputs": [
        {
          "output_type": "stream",
          "name": "stdout",
          "text": [
            "    Math\n",
            "0     30\n",
            "1     52\n",
            "2     52\n",
            "3     52\n",
            "4     52\n",
            "5     60\n",
            "6     60\n",
            "7     60\n",
            "8     72\n",
            "9     72\n",
            "10    72\n",
            "11    80\n",
            "12    80\n",
            "13    91\n",
            "14    91\n"
          ]
        }
      ]
    },
    {
      "cell_type": "code",
      "source": [
        "import pandas as pd\n",
        "import sqlite3 as db\n",
        "con = db.connect('mark.sqlite')\n",
        "df = pd.read_sql_query(\"SELECT *,Bio FROM Users ORDER BY Math ASC\", con)\n",
        "print(df)\n",
        "con.commit()\n",
        "con.close()"
      ],
      "metadata": {
        "colab": {
          "base_uri": "https://localhost:8080/"
        },
        "id": "5Z8lcDDZvT9j",
        "outputId": "bd68f5ad-49a3-4a30-d73f-2546837017f8"
      },
      "execution_count": null,
      "outputs": [
        {
          "output_type": "stream",
          "name": "stdout",
          "text": [
            "      Name  Math  Phy  Che  Eng  Bio  Tamil  Bio\n",
            "0     Arun    30   30   60   30   30     60   30\n",
            "1     Arun    52   52   60   80   52     60   52\n",
            "2     Arun    52   52   72   52   30     80   30\n",
            "3     Arun    52   52   80   72   72     52   72\n",
            "4   Sanjay    52   52   80   80   52     60   52\n",
            "5     Arun    60   60   80   52   91     60   91\n",
            "6     Arun    60   60   72   72   60     80   60\n",
            "7     Manu    60   60   30   52   52     60   52\n",
            "8     Manu    72   72   72   72   30     72   30\n",
            "9   Sanjay    72   72   52   72   60     72   60\n",
            "10  Sanjay    72   72   72   72   52     52   52\n",
            "11    Arun    80   80   52   52   72     30   72\n",
            "12    Arun    80   80   60   80   72     52   72\n",
            "13    Arun    91   91   52   80   91     72   91\n",
            "14    Manu    91   91   91   80   60     52   60\n"
          ]
        }
      ]
    },
    {
      "cell_type": "code",
      "source": [
        "import pandas as pd\n",
        "import sqlite3 as db\n",
        "con = db.connect('mark.sqlite')\n",
        "df = pd.read_sql_query(\"SELECT * FROM Users WHERE Math>90\", con)\n",
        "print(df)\n",
        "con.commit()\n",
        "con.close()"
      ],
      "metadata": {
        "colab": {
          "base_uri": "https://localhost:8080/"
        },
        "id": "tV_AH5DdvY5g",
        "outputId": "3ec4a604-f2cc-4727-ddd6-97c798c23eb5"
      },
      "execution_count": null,
      "outputs": [
        {
          "output_type": "stream",
          "name": "stdout",
          "text": [
            "   Name  Math  Phy  Che  Eng  Bio  Tamil\n",
            "0  Arun    91   91   52   80   91     72\n",
            "1  Manu    91   91   91   80   60     52\n"
          ]
        }
      ]
    },
    {
      "cell_type": "code",
      "source": [
        "import pandas as pd\n",
        "import sqlite3 as db\n",
        "con = db.connect('mark.sqlite')\n",
        "df = pd.read_sql_query(\"SELECT * FROM Users WHERE Math>90 AND Che>90\", con)\n",
        "print(df)\n",
        "con.commit()\n",
        "con.close()"
      ],
      "metadata": {
        "colab": {
          "base_uri": "https://localhost:8080/"
        },
        "id": "P_Ge6WpCviUj",
        "outputId": "0cfa0463-dc2e-47de-d86b-7595656f5beb"
      },
      "execution_count": null,
      "outputs": [
        {
          "output_type": "stream",
          "name": "stdout",
          "text": [
            "   Name  Math  Phy  Che  Eng  Bio  Tamil\n",
            "0  Manu    91   91   91   80   60     52\n"
          ]
        }
      ]
    },
    {
      "cell_type": "code",
      "source": [
        "import pandas as pd\n",
        "import sqlite3 as db\n",
        "con = db.connect('mark.sqlite')\n",
        "df = pd.read_sql_query(\"SELECT * FROM Users WHERE Math IN (72,91)\", con)\n",
        "print(df)\n",
        "con.commit()\n",
        "con.close()"
      ],
      "metadata": {
        "colab": {
          "base_uri": "https://localhost:8080/"
        },
        "id": "EIWPK7NAv8RW",
        "outputId": "47b2a5be-aef3-4d71-fc5c-913c2195b00a"
      },
      "execution_count": null,
      "outputs": [
        {
          "output_type": "stream",
          "name": "stdout",
          "text": [
            "     Name  Math  Phy  Che  Eng  Bio  Tamil\n",
            "0    Manu    72   72   72   72   30     72\n",
            "1  Sanjay    72   72   52   72   60     72\n",
            "2  Sanjay    72   72   72   72   52     52\n",
            "3    Arun    91   91   52   80   91     72\n",
            "4    Manu    91   91   91   80   60     52\n"
          ]
        }
      ]
    },
    {
      "cell_type": "code",
      "source": [
        "import pandas as pd\n",
        "import sqlite3 as db\n",
        "con = db.connect('mark.sqlite')\n",
        "df = pd.read_sql_query(\"SELECT * FROM Users WHERE Math  between 70 and 80\", con)\n",
        "print(df)\n",
        "con.commit()\n",
        "con.close()"
      ],
      "metadata": {
        "colab": {
          "base_uri": "https://localhost:8080/"
        },
        "id": "LG4KP4xKwMbC",
        "outputId": "f5e15413-e7aa-45d9-dc1e-07e841442212"
      },
      "execution_count": null,
      "outputs": [
        {
          "output_type": "stream",
          "name": "stdout",
          "text": [
            "     Name  Math  Phy  Che  Eng  Bio  Tamil\n",
            "0    Manu    72   72   72   72   30     72\n",
            "1    Arun    80   80   52   52   72     30\n",
            "2    Arun    80   80   60   80   72     52\n",
            "3  Sanjay    72   72   52   72   60     72\n",
            "4  Sanjay    72   72   72   72   52     52\n"
          ]
        }
      ]
    },
    {
      "cell_type": "code",
      "source": [
        "import pandas as pd\n",
        "import sqlite3 as db\n",
        "A = pd.read_excel(\"sales11.xlsx\")\n",
        "database = \"Sales1.sqlite\"\n",
        "conn = db.connect(database)\n",
        "A.to_sql(name='Sales', con = conn,if_exists=\"replace\",index =False)\n",
        "conn.close()"
      ],
      "metadata": {
        "id": "OSL5oLxfxI_I"
      },
      "execution_count": null,
      "outputs": []
    },
    {
      "cell_type": "code",
      "source": [
        "import pandas as pd\n",
        "import sqlite3 as db\n",
        "con = db.connect('Sales1.sqlite')\n",
        "df = pd.read_sql_query(\"SELECT * FROM Sales\", con)\n",
        "print(df)\n",
        "con.commit()\n",
        "con.close()"
      ],
      "metadata": {
        "colab": {
          "base_uri": "https://localhost:8080/"
        },
        "id": "MpYd2RvmybZF",
        "outputId": "d11d03d4-f18c-4dc3-eac3-f594374ad69c"
      },
      "execution_count": null,
      "outputs": [
        {
          "output_type": "stream",
          "name": "stdout",
          "text": [
            "     StoreID      StoreSize    Parking  ClosingTime  Month  CustomerID  \\\n",
            "0       1309  Valueformoney   Spacious           20      6         313   \n",
            "1       1305        Branded  Available           22      3         315   \n",
            "2       1315        Premium  Available           23      1         301   \n",
            "3       1316  Factoryoutlet  Available           21      4         310   \n",
            "4       1313        Branded  Available           20      6         319   \n",
            "..       ...            ...        ...          ...    ...         ...   \n",
            "995     1307        Economy  Available           23     10         315   \n",
            "996     1306        Branded   Spacious           21      6         308   \n",
            "997     1316        Economy  Available           20      6         319   \n",
            "998     1300           Sale  Available           22      1         306   \n",
            "999     1307         Retail   Spacious           20      8         305   \n",
            "\n",
            "     ProductID  UnitPrice  Quantity CompetitorPrice          Supply  \\\n",
            "0        66.72        677        25             Low         Surplus   \n",
            "1        21.77        666        47           Equal  StockAvailable   \n",
            "2        50.22        489        49           Equal         Surplus   \n",
            "3        45.33        307         6            High        LowStock   \n",
            "4        99.14        729        38             Low         Surplus   \n",
            "..         ...        ...       ...             ...             ...   \n",
            "995      14.25        467        59           Equal        LowStock   \n",
            "996      52.23        468        98           Equal  StockAvailable   \n",
            "997      46.02        567        49           Equal  StockAvailable   \n",
            "998       0.49         65        78           Equal        LowStock   \n",
            "999       6.24        833        19            High         Surplus   \n",
            "\n",
            "     Profit_percentage  Advertisementstar PaymentType  Employee  Feedbackstar  \n",
            "0                   10                  5         EMI       50+             4  \n",
            "1                   10                  4  CreditCard      100+             1  \n",
            "2                   25                  3        Cash  below_50             1  \n",
            "3                   10                  3  CreditCard  below_50             2  \n",
            "4                   10                  3   DebitCard      100+             2  \n",
            "..                 ...                ...         ...       ...           ...  \n",
            "995                 10                  1  CreditCard      100+             1  \n",
            "996                 25                  5         EMI      100+             5  \n",
            "997                 10                  3  CreditCard  below_50             5  \n",
            "998                 10                  3         EMI  below_50             3  \n",
            "999                 20                  3         UPI      100+             4  \n",
            "\n",
            "[1000 rows x 16 columns]\n"
          ]
        }
      ]
    },
    {
      "cell_type": "code",
      "source": [
        "import pandas as pd\n",
        "import sqlite3 as db\n",
        "con = db.connect('Sales1.sqlite')\n",
        "df = pd.read_sql_query(\"SELECT * FROM Sales WHERE Quantity<50\", con)\n",
        "print(df)\n",
        "con.commit()\n",
        "con.close()"
      ],
      "metadata": {
        "colab": {
          "base_uri": "https://localhost:8080/"
        },
        "id": "EXHLD5_60t_B",
        "outputId": "1c6340ca-e35d-4636-b806-524ce0395dc4"
      },
      "execution_count": null,
      "outputs": [
        {
          "output_type": "stream",
          "name": "stdout",
          "text": [
            "     StoreID      StoreSize    Parking  ClosingTime  Month  CustomerID  \\\n",
            "0       1309  Valueformoney   Spacious           20      6         313   \n",
            "1       1305        Branded  Available           22      3         315   \n",
            "2       1315        Premium  Available           23      1         301   \n",
            "3       1316  Factoryoutlet  Available           21      4         310   \n",
            "4       1313        Branded  Available           20      6         319   \n",
            "..       ...            ...        ...          ...    ...         ...   \n",
            "478     1315        Premium  Available           23      6         317   \n",
            "479     1315  Factoryoutlet   Spacious           20      5         309   \n",
            "480     1313  Factoryoutlet   Spacious           20      2         315   \n",
            "481     1316        Economy  Available           20      6         319   \n",
            "482     1307         Retail   Spacious           20      8         305   \n",
            "\n",
            "     ProductID  UnitPrice  Quantity CompetitorPrice          Supply  \\\n",
            "0        66.72        677        25             Low         Surplus   \n",
            "1        21.77        666        47           Equal  StockAvailable   \n",
            "2        50.22        489        49           Equal         Surplus   \n",
            "3        45.33        307         6            High        LowStock   \n",
            "4        99.14        729        38             Low         Surplus   \n",
            "..         ...        ...       ...             ...             ...   \n",
            "478      58.17        359        23           Equal  StockAvailable   \n",
            "479      48.95        231        17           Equal         Surplus   \n",
            "480      95.23        304         5            High  StockAvailable   \n",
            "481      46.02        567        49           Equal  StockAvailable   \n",
            "482       6.24        833        19            High         Surplus   \n",
            "\n",
            "     Profit_percentage  Advertisementstar PaymentType  Employee  Feedbackstar  \n",
            "0                   10                  5         EMI       50+             4  \n",
            "1                   10                  4  CreditCard      100+             1  \n",
            "2                   25                  3        Cash  below_50             1  \n",
            "3                   10                  3  CreditCard  below_50             2  \n",
            "4                   10                  3   DebitCard      100+             2  \n",
            "..                 ...                ...         ...       ...           ...  \n",
            "478                 25                  1  CreditCard      100+             4  \n",
            "479                 10                  5  CreditCard       50+             1  \n",
            "480                 15                  5         EMI       50+             1  \n",
            "481                 10                  3  CreditCard  below_50             5  \n",
            "482                 20                  3         UPI      100+             4  \n",
            "\n",
            "[483 rows x 16 columns]\n"
          ]
        }
      ]
    },
    {
      "cell_type": "code",
      "source": [
        "import pandas as pd\n",
        "import sqlite3 as db\n",
        "con = db.connect('Sales1.sqlite')\n",
        "df = pd.read_sql_query(\"SELECT * FROM Sales WHERE Profit_percentage IN (25)\", con)\n",
        "print(df)\n",
        "con.commit()\n",
        "con.close()"
      ],
      "metadata": {
        "colab": {
          "base_uri": "https://localhost:8080/"
        },
        "id": "YXu4nk4w0_Oh",
        "outputId": "74add036-43cf-4b48-e636-ca707974f68b"
      },
      "execution_count": null,
      "outputs": [
        {
          "output_type": "stream",
          "name": "stdout",
          "text": [
            "     StoreID      StoreSize       Parking  ClosingTime  Month  CustomerID  \\\n",
            "0       1315        Premium     Available           23      1         301   \n",
            "1       1316  Factoryoutlet  NotAvailable           20      7         316   \n",
            "2       1308        Branded     Available           20      4         317   \n",
            "3       1314        Premium     Available           21      7         314   \n",
            "4       1309  Valueformoney  NotAvailable           20      4         318   \n",
            "..       ...            ...           ...          ...    ...         ...   \n",
            "325     1318  Factoryoutlet     Available           22      4         318   \n",
            "326     1315        Premium     Available           23      6         317   \n",
            "327     1310         Retail     Available           20      3         301   \n",
            "328     1310        Premium     Available           22     12         305   \n",
            "329     1306        Branded      Spacious           21      6         308   \n",
            "\n",
            "     ProductID  UnitPrice  Quantity CompetitorPrice          Supply  \\\n",
            "0        50.22        489        49           Equal         Surplus   \n",
            "1        58.74         34         0           Equal  StockAvailable   \n",
            "2        14.84        150        64             Low  StockAvailable   \n",
            "3        63.65        317        47             Low  StockAvailable   \n",
            "4        57.16        202        52             Low  StockAvailable   \n",
            "..         ...        ...       ...             ...             ...   \n",
            "325      89.25        307        57             Low  StockAvailable   \n",
            "326      58.17        359        23           Equal  StockAvailable   \n",
            "327      29.20        292        85             Low        LowStock   \n",
            "328      46.26        283        83             Low  StockAvailable   \n",
            "329      52.23        468        98           Equal  StockAvailable   \n",
            "\n",
            "     Profit_percentage  Advertisementstar PaymentType  Employee  Feedbackstar  \n",
            "0                   25                  3        Cash  below_50             1  \n",
            "1                   25                  3   DebitCard       50+             2  \n",
            "2                   25                  5         EMI      100+             5  \n",
            "3                   25                  1         EMI  below_50             3  \n",
            "4                   25                  4        Cash      100+             3  \n",
            "..                 ...                ...         ...       ...           ...  \n",
            "325                 25                  4  CreditCard  below_50             2  \n",
            "326                 25                  1  CreditCard      100+             4  \n",
            "327                 25                  2         EMI       50+             4  \n",
            "328                 25                  1  CreditCard      100+             4  \n",
            "329                 25                  5         EMI      100+             5  \n",
            "\n",
            "[330 rows x 16 columns]\n"
          ]
        }
      ]
    },
    {
      "cell_type": "code",
      "source": [
        "import pandas as pd\n",
        "import sqlite3 as db\n",
        "con = db.connect('Sales1.sqlite')\n",
        "df = pd.read_sql_query(\"SELECT * FROM Sales WHERE Profit_percentage between 20 and 25\", con)\n",
        "print(df)\n",
        "con.commit()\n",
        "con.close()"
      ],
      "metadata": {
        "colab": {
          "base_uri": "https://localhost:8080/"
        },
        "id": "LB87Kjmj1BoV",
        "outputId": "d13f5ba3-6a9f-4f39-b8d9-d0c271a4e497"
      },
      "execution_count": null,
      "outputs": [
        {
          "output_type": "stream",
          "name": "stdout",
          "text": [
            "     StoreID      StoreSize       Parking  ClosingTime  Month  CustomerID  \\\n",
            "0       1315        Premium     Available           23      1         301   \n",
            "1       1316  Factoryoutlet  NotAvailable           20      7         316   \n",
            "2       1308        Branded     Available           20      4         317   \n",
            "3       1314        Premium     Available           21      7         314   \n",
            "4       1316           Sale      Spacious           23      1         305   \n",
            "..       ...            ...           ...          ...    ...         ...   \n",
            "415     1312        Economy     Available           20      1         306   \n",
            "416     1310         Retail     Available           20      3         301   \n",
            "417     1310        Premium     Available           22     12         305   \n",
            "418     1306        Branded      Spacious           21      6         308   \n",
            "419     1307         Retail      Spacious           20      8         305   \n",
            "\n",
            "     ProductID  UnitPrice  Quantity CompetitorPrice          Supply  \\\n",
            "0        50.22        489        49           Equal         Surplus   \n",
            "1        58.74         34         0           Equal  StockAvailable   \n",
            "2        14.84        150        64             Low  StockAvailable   \n",
            "3        63.65        317        47             Low  StockAvailable   \n",
            "4        35.44        495        56           Equal  StockAvailable   \n",
            "..         ...        ...       ...             ...             ...   \n",
            "415      74.37        496        94            High  StockAvailable   \n",
            "416      29.20        292        85             Low        LowStock   \n",
            "417      46.26        283        83             Low  StockAvailable   \n",
            "418      52.23        468        98           Equal  StockAvailable   \n",
            "419       6.24        833        19            High         Surplus   \n",
            "\n",
            "     Profit_percentage  Advertisementstar PaymentType  Employee  Feedbackstar  \n",
            "0                   25                  3        Cash  below_50             1  \n",
            "1                   25                  3   DebitCard       50+             2  \n",
            "2                   25                  5         EMI      100+             5  \n",
            "3                   25                  1         EMI  below_50             3  \n",
            "4                   20                  4  CreditCard  below_50             2  \n",
            "..                 ...                ...         ...       ...           ...  \n",
            "415                 20                  4        Cash  below_50             1  \n",
            "416                 25                  2         EMI       50+             4  \n",
            "417                 25                  1  CreditCard      100+             4  \n",
            "418                 25                  5         EMI      100+             5  \n",
            "419                 20                  3         UPI      100+             4  \n",
            "\n",
            "[420 rows x 16 columns]\n"
          ]
        }
      ]
    },
    {
      "cell_type": "code",
      "source": [
        "import pandas as pd\n",
        "import sqlite3 as db\n",
        "con = db.connect('Sales1.sqlite')\n",
        "df = pd.read_sql_query(\"SELECT * FROM Sales WHERE PaymentType IN ('EMI')\", con)\n",
        "print(df)\n",
        "con.commit()\n",
        "con.close()"
      ],
      "metadata": {
        "colab": {
          "base_uri": "https://localhost:8080/"
        },
        "id": "nhspaWgb1WCo",
        "outputId": "0c2c293f-a89d-4074-d8bf-419e49679a6b"
      },
      "execution_count": null,
      "outputs": [
        {
          "output_type": "stream",
          "name": "stdout",
          "text": [
            "     StoreID      StoreSize       Parking  ClosingTime  Month  CustomerID  \\\n",
            "0       1309  Valueformoney      Spacious           20      6         313   \n",
            "1       1308        Branded     Available           20      4         317   \n",
            "2       1301        Economy     Available           22      5         317   \n",
            "3       1314        Premium     Available           21      7         314   \n",
            "4       1309  Factoryoutlet  NotAvailable           20      5         307   \n",
            "..       ...            ...           ...          ...    ...         ...   \n",
            "287     1315        Economy     Available           20      7         314   \n",
            "288     1310         Retail     Available           20      3         301   \n",
            "289     1313  Factoryoutlet      Spacious           20      2         315   \n",
            "290     1306        Branded      Spacious           21      6         308   \n",
            "291     1300           Sale     Available           22      1         306   \n",
            "\n",
            "     ProductID  UnitPrice  Quantity CompetitorPrice          Supply  \\\n",
            "0        66.72        677        25             Low         Surplus   \n",
            "1        14.84        150        64             Low  StockAvailable   \n",
            "2        83.41        143        87           Equal  StockAvailable   \n",
            "3        63.65        317        47             Low  StockAvailable   \n",
            "4        51.05        256        80           Equal  StockAvailable   \n",
            "..         ...        ...       ...             ...             ...   \n",
            "287      56.56        997        58           Equal  StockAvailable   \n",
            "288      29.20        292        85             Low        LowStock   \n",
            "289      95.23        304         5            High  StockAvailable   \n",
            "290      52.23        468        98           Equal  StockAvailable   \n",
            "291       0.49         65        78           Equal        LowStock   \n",
            "\n",
            "     Profit_percentage  Advertisementstar PaymentType  Employee  Feedbackstar  \n",
            "0                   10                  5         EMI       50+             4  \n",
            "1                   25                  5         EMI      100+             5  \n",
            "2                   15                  2         EMI      100+             1  \n",
            "3                   25                  1         EMI  below_50             3  \n",
            "4                   10                  4         EMI  below_50             3  \n",
            "..                 ...                ...         ...       ...           ...  \n",
            "287                 10                  5         EMI      100+             4  \n",
            "288                 25                  2         EMI       50+             4  \n",
            "289                 15                  5         EMI       50+             1  \n",
            "290                 25                  5         EMI      100+             5  \n",
            "291                 10                  3         EMI  below_50             3  \n",
            "\n",
            "[292 rows x 16 columns]\n"
          ]
        }
      ]
    },
    {
      "cell_type": "code",
      "source": [
        "import pandas as pd\n",
        "import sqlite3 as db\n",
        "con = db.connect('Sales1.sqlite')\n",
        "df = pd.read_sql_query(\"SELECT *,min(Quantity) FROM Sales\", con)\n",
        "print(df)\n",
        "con.commit()\n",
        "con.close()"
      ],
      "metadata": {
        "colab": {
          "base_uri": "https://localhost:8080/"
        },
        "id": "mBYKcmof19Im",
        "outputId": "e5b1638f-7d32-4c73-ef78-21202b54ecdb"
      },
      "execution_count": null,
      "outputs": [
        {
          "output_type": "stream",
          "name": "stdout",
          "text": [
            "   StoreID      StoreSize       Parking  ClosingTime  Month  CustomerID  \\\n",
            "0     1316  Factoryoutlet  NotAvailable           20      7         316   \n",
            "\n",
            "   ProductID  UnitPrice  Quantity CompetitorPrice          Supply  \\\n",
            "0      58.74         34         0           Equal  StockAvailable   \n",
            "\n",
            "   Profit_percentage  Advertisementstar PaymentType Employee  Feedbackstar  \\\n",
            "0                 25                  3   DebitCard      50+             2   \n",
            "\n",
            "   min(Quantity)  \n",
            "0              0  \n"
          ]
        }
      ]
    },
    {
      "cell_type": "code",
      "source": [
        "import pandas as pd\n",
        "import sqlite3 as db\n",
        "con = db.connect('Sales1.sqlite')\n",
        "df = pd.read_sql_query(\"SELECT *,max(Quantity) FROM Sales\", con)\n",
        "print(df)\n",
        "con.commit()\n",
        "con.close()"
      ],
      "metadata": {
        "colab": {
          "base_uri": "https://localhost:8080/"
        },
        "id": "mDfeFI762SmP",
        "outputId": "c342c91d-62bc-45b0-aba7-5d29dd09309b"
      },
      "execution_count": null,
      "outputs": [
        {
          "output_type": "stream",
          "name": "stdout",
          "text": [
            "   StoreID      StoreSize    Parking  ClosingTime  Month  CustomerID  \\\n",
            "0     1312  Valueformoney  Available           23      9         310   \n",
            "\n",
            "   ProductID  UnitPrice  Quantity CompetitorPrice          Supply  \\\n",
            "0      28.22         89       100            High  StockAvailable   \n",
            "\n",
            "   Profit_percentage  Advertisementstar PaymentType Employee  Feedbackstar  \\\n",
            "0                 10                  2         EMI     100+             5   \n",
            "\n",
            "   max(Quantity)  \n",
            "0            100  \n"
          ]
        }
      ]
    },
    {
      "cell_type": "code",
      "source": [
        "import pandas as pd\n",
        "import sqlite3 as db\n",
        "con = db.connect('Sales1.sqlite')\n",
        "df = pd.read_sql_query(\"SELECT *,avg(Unitprice) FROM Sales\", con)\n",
        "print(df)\n",
        "con.commit()\n",
        "con.close()"
      ],
      "metadata": {
        "colab": {
          "base_uri": "https://localhost:8080/"
        },
        "id": "unvIotbE2Yik",
        "outputId": "86ff7ddb-44ef-4223-f5d4-06a5cb061d32"
      },
      "execution_count": null,
      "outputs": [
        {
          "output_type": "stream",
          "name": "stdout",
          "text": [
            "   StoreID      StoreSize   Parking  ClosingTime  Month  CustomerID  \\\n",
            "0     1309  Valueformoney  Spacious           20      6         313   \n",
            "\n",
            "   ProductID  UnitPrice  Quantity CompetitorPrice   Supply  Profit_percentage  \\\n",
            "0      66.72        677        25             Low  Surplus                 10   \n",
            "\n",
            "   Advertisementstar PaymentType Employee  Feedbackstar  avg(Unitprice)  \n",
            "0                  5         EMI      50+             4         494.221  \n"
          ]
        }
      ]
    },
    {
      "cell_type": "code",
      "source": [
        "import pandas as pd\n",
        "import sqlite3 as db\n",
        "con = db.connect('Sales1.sqlite')\n",
        "df = pd.read_sql_query(\"SELECT *,(Quantity*Unitprice) FROM Sales\", con)\n",
        "print(df)\n",
        "con.commit()\n",
        "con.close()"
      ],
      "metadata": {
        "colab": {
          "base_uri": "https://localhost:8080/"
        },
        "id": "BLJcmA0A2oal",
        "outputId": "e9dd4b80-8c2d-4b64-a13b-e8d4edc8c354"
      },
      "execution_count": null,
      "outputs": [
        {
          "output_type": "stream",
          "name": "stdout",
          "text": [
            "     StoreID      StoreSize    Parking  ClosingTime  Month  CustomerID  \\\n",
            "0       1309  Valueformoney   Spacious           20      6         313   \n",
            "1       1305        Branded  Available           22      3         315   \n",
            "2       1315        Premium  Available           23      1         301   \n",
            "3       1316  Factoryoutlet  Available           21      4         310   \n",
            "4       1313        Branded  Available           20      6         319   \n",
            "..       ...            ...        ...          ...    ...         ...   \n",
            "995     1307        Economy  Available           23     10         315   \n",
            "996     1306        Branded   Spacious           21      6         308   \n",
            "997     1316        Economy  Available           20      6         319   \n",
            "998     1300           Sale  Available           22      1         306   \n",
            "999     1307         Retail   Spacious           20      8         305   \n",
            "\n",
            "     ProductID  UnitPrice  Quantity CompetitorPrice          Supply  \\\n",
            "0        66.72        677        25             Low         Surplus   \n",
            "1        21.77        666        47           Equal  StockAvailable   \n",
            "2        50.22        489        49           Equal         Surplus   \n",
            "3        45.33        307         6            High        LowStock   \n",
            "4        99.14        729        38             Low         Surplus   \n",
            "..         ...        ...       ...             ...             ...   \n",
            "995      14.25        467        59           Equal        LowStock   \n",
            "996      52.23        468        98           Equal  StockAvailable   \n",
            "997      46.02        567        49           Equal  StockAvailable   \n",
            "998       0.49         65        78           Equal        LowStock   \n",
            "999       6.24        833        19            High         Surplus   \n",
            "\n",
            "     Profit_percentage  Advertisementstar PaymentType  Employee  Feedbackstar  \\\n",
            "0                   10                  5         EMI       50+             4   \n",
            "1                   10                  4  CreditCard      100+             1   \n",
            "2                   25                  3        Cash  below_50             1   \n",
            "3                   10                  3  CreditCard  below_50             2   \n",
            "4                   10                  3   DebitCard      100+             2   \n",
            "..                 ...                ...         ...       ...           ...   \n",
            "995                 10                  1  CreditCard      100+             1   \n",
            "996                 25                  5         EMI      100+             5   \n",
            "997                 10                  3  CreditCard  below_50             5   \n",
            "998                 10                  3         EMI  below_50             3   \n",
            "999                 20                  3         UPI      100+             4   \n",
            "\n",
            "     (Quantity*Unitprice)  \n",
            "0                   16925  \n",
            "1                   31302  \n",
            "2                   23961  \n",
            "3                    1842  \n",
            "4                   27702  \n",
            "..                    ...  \n",
            "995                 27553  \n",
            "996                 45864  \n",
            "997                 27783  \n",
            "998                  5070  \n",
            "999                 15827  \n",
            "\n",
            "[1000 rows x 17 columns]\n"
          ]
        }
      ]
    },
    {
      "cell_type": "code",
      "source": [
        "import pandas as pd\n",
        "from matplotlib import pyplot as plot\n",
        "\n",
        "# read by default 1st sheet of an excel file\n",
        "df = pd.read_excel('plot.xlsx')\n",
        "\n",
        "df.plot(kind = 'line', x= 'A', y= 'B', color = 'red')\n",
        "\n",
        "# set the title\n",
        "plot.title('Line')\n",
        "plot.savefig('line.pdf')\n",
        "# show the plot\n",
        "plot.show()"
      ],
      "metadata": {
        "colab": {
          "base_uri": "https://localhost:8080/",
          "height": 472
        },
        "id": "0OHUJ5tg7lz2",
        "outputId": "c051546a-7ff6-49c7-a2c4-fb348c164354"
      },
      "execution_count": null,
      "outputs": [
        {
          "output_type": "display_data",
          "data": {
            "text/plain": [
              "<Figure size 640x480 with 1 Axes>"
            ],
            "image/png": "[encoded data removed]"
          },
          "metadata": {}
        }
      ]
    },
    {
      "cell_type": "code",
      "source": [
        "import pandas as pd\n",
        "from matplotlib import pyplot as plot\n",
        "\n",
        "# read by default 1st sheet of an excel file\n",
        "df = pd.read_excel('plot.xlsx')\n",
        "\n",
        "df.plot(kind = 'line', x= 'A', y= 'B', color = 'red')\n",
        "\n",
        "# set the title\n",
        "plot.title('Line')\n",
        "plot.savefig('line.pdf')\n",
        "\n",
        "plot.show()\n"
      ],
      "metadata": {
        "colab": {
          "base_uri": "https://localhost:8080/",
          "height": 472
        },
        "id": "8mbrf06O83Et",
        "outputId": "17673b88-5c09-4879-fd68-6ce44a53b940"
      },
      "execution_count": null,
      "outputs": [
        {
          "output_type": "display_data",
          "data": {
            "text/plain": [
              "<Figure size 640x480 with 1 Axes>"
            ],
            "image/png": "[encoded data removed]"
          },
          "metadata": {}
        }
      ]
    },
    {
      "cell_type": "code",
      "source": [
        "import pandas as pd\n",
        "from matplotlib import pyplot as plot\n",
        "\n",
        "df = pd.read_excel('plot.xlsx')\n",
        "\n",
        "df.plot(kind = 'scatter', x = 'A', y = 'B',  color = 'red')\n",
        "\n",
        "plot.title('Line')\n",
        "plot.savefig('Scatter.pdf')\n",
        "\n",
        "plot.show()\n",
        "\n",
        "\n",
        "\n",
        "\n"
      ],
      "metadata": {
        "colab": {
          "base_uri": "https://localhost:8080/",
          "height": 373
        },
        "id": "DKICer539D8d",
        "outputId": "f009524f-e8dc-4387-9b33-74eb3610878e"
      },
      "execution_count": null,
      "outputs": [
        {
          "output_type": "error",
          "ename": "FileNotFoundError",
          "evalue": "[Errno 2] No such file or directory: 'plot.xlsx'",
          "traceback": [
            "\u001b[0;31m---------------------------------------------------------------------------\u001b[0m",
            "\u001b[0;31mFileNotFoundError\u001b[0m                         Traceback (most recent call last)",
            "\u001b[0;32m<ipython-input-7-1d76755362f6>\u001b[0m in \u001b[0;36m<cell line: 4>\u001b[0;34m()\u001b[0m\n\u001b[1;32m      2\u001b[0m \u001b[0;32mfrom\u001b[0m \u001b[0mmatplotlib\u001b[0m \u001b[0;32mimport\u001b[0m \u001b[0mpyplot\u001b[0m \u001b[0;32mas\u001b[0m \u001b[0mplot\u001b[0m\u001b[0;34m\u001b[0m\u001b[0;34m\u001b[0m\u001b[0m\n\u001b[1;32m      3\u001b[0m \u001b[0;34m\u001b[0m\u001b[0m\n\u001b[0;32m----> 4\u001b[0;31m \u001b[0mdf\u001b[0m \u001b[0;34m=\u001b[0m \u001b[0mpd\u001b[0m\u001b[0;34m.\u001b[0m\u001b[0mread_excel\u001b[0m\u001b[0;34m(\u001b[0m\u001b[0;34m'plot.xlsx'\u001b[0m\u001b[0;34m)\u001b[0m\u001b[0;34m\u001b[0m\u001b[0;34m\u001b[0m\u001b[0m\n\u001b[0m\u001b[1;32m      5\u001b[0m \u001b[0;34m\u001b[0m\u001b[0m\n\u001b[1;32m      6\u001b[0m \u001b[0mdf\u001b[0m\u001b[0;34m.\u001b[0m\u001b[0mplot\u001b[0m\u001b[0;34m(\u001b[0m\u001b[0mkind\u001b[0m \u001b[0;34m=\u001b[0m \u001b[0;34m'scatter'\u001b[0m\u001b[0;34m,\u001b[0m \u001b[0mx\u001b[0m \u001b[0;34m=\u001b[0m \u001b[0;34m'A'\u001b[0m\u001b[0;34m,\u001b[0m \u001b[0my\u001b[0m \u001b[0;34m=\u001b[0m \u001b[0;34m'B'\u001b[0m\u001b[0;34m,\u001b[0m  \u001b[0mcolor\u001b[0m \u001b[0;34m=\u001b[0m \u001b[0;34m'red'\u001b[0m\u001b[0;34m)\u001b[0m\u001b[0;34m\u001b[0m\u001b[0;34m\u001b[0m\u001b[0m\n",
            "\u001b[0;32m/usr/local/lib/python3.10/dist-packages/pandas/io/excel/_base.py\u001b[0m in \u001b[0;36mread_excel\u001b[0;34m(io, sheet_name, header, names, index_col, usecols, dtype, engine, converters, true_values, false_values, skiprows, nrows, na_values, keep_default_na, na_filter, verbose, parse_dates, date_parser, date_format, thousands, decimal, comment, skipfooter, storage_options, dtype_backend, engine_kwargs)\u001b[0m\n\u001b[1;32m    493\u001b[0m     \u001b[0;32mif\u001b[0m \u001b[0;32mnot\u001b[0m \u001b[0misinstance\u001b[0m\u001b[0;34m(\u001b[0m\u001b[0mio\u001b[0m\u001b[0;34m,\u001b[0m \u001b[0mExcelFile\u001b[0m\u001b[0;34m)\u001b[0m\u001b[0;34m:\u001b[0m\u001b[0;34m\u001b[0m\u001b[0;34m\u001b[0m\u001b[0m\n\u001b[1;32m    494\u001b[0m         \u001b[0mshould_close\u001b[0m \u001b[0;34m=\u001b[0m \u001b[0;32mTrue\u001b[0m\u001b[0;34m\u001b[0m\u001b[0;34m\u001b[0m\u001b[0m\n\u001b[0;32m--> 495\u001b[0;31m         io = ExcelFile(\n\u001b[0m\u001b[1;32m    496\u001b[0m             \u001b[0mio\u001b[0m\u001b[0;34m,\u001b[0m\u001b[0;34m\u001b[0m\u001b[0;34m\u001b[0m\u001b[0m\n\u001b[1;32m    497\u001b[0m             \u001b[0mstorage_options\u001b[0m\u001b[0;34m=\u001b[0m\u001b[0mstorage_options\u001b[0m\u001b[0;34m,\u001b[0m\u001b[0;34m\u001b[0m\u001b[0;34m\u001b[0m\u001b[0m\n",
            "\u001b[0;32m/usr/local/lib/python3.10/dist-packages/pandas/io/excel/_base.py\u001b[0m in \u001b[0;36m__init__\u001b[0;34m(self, path_or_buffer, engine, storage_options, engine_kwargs)\u001b[0m\n\u001b[1;32m   1548\u001b[0m                 \u001b[0mext\u001b[0m \u001b[0;34m=\u001b[0m \u001b[0;34m\"xls\"\u001b[0m\u001b[0;34m\u001b[0m\u001b[0;34m\u001b[0m\u001b[0m\n\u001b[1;32m   1549\u001b[0m             \u001b[0;32melse\u001b[0m\u001b[0;34m:\u001b[0m\u001b[0;34m\u001b[0m\u001b[0;34m\u001b[0m\u001b[0m\n\u001b[0;32m-> 1550\u001b[0;31m                 ext = inspect_excel_format(\n\u001b[0m\u001b[1;32m   1551\u001b[0m                     \u001b[0mcontent_or_path\u001b[0m\u001b[0;34m=\u001b[0m\u001b[0mpath_or_buffer\u001b[0m\u001b[0;34m,\u001b[0m \u001b[0mstorage_options\u001b[0m\u001b[0;34m=\u001b[0m\u001b[0mstorage_options\u001b[0m\u001b[0;34m\u001b[0m\u001b[0;34m\u001b[0m\u001b[0m\n\u001b[1;32m   1552\u001b[0m                 )\n",
            "\u001b[0;32m/usr/local/lib/python3.10/dist-packages/pandas/io/excel/_base.py\u001b[0m in \u001b[0;36minspect_excel_format\u001b[0;34m(content_or_path, storage_options)\u001b[0m\n\u001b[1;32m   1400\u001b[0m         \u001b[0mcontent_or_path\u001b[0m \u001b[0;34m=\u001b[0m \u001b[0mBytesIO\u001b[0m\u001b[0;34m(\u001b[0m\u001b[0mcontent_or_path\u001b[0m\u001b[0;34m)\u001b[0m\u001b[0;34m\u001b[0m\u001b[0;34m\u001b[0m\u001b[0m\n\u001b[1;32m   1401\u001b[0m \u001b[0;34m\u001b[0m\u001b[0m\n\u001b[0;32m-> 1402\u001b[0;31m     with get_handle(\n\u001b[0m\u001b[1;32m   1403\u001b[0m         \u001b[0mcontent_or_path\u001b[0m\u001b[0;34m,\u001b[0m \u001b[0;34m\"rb\"\u001b[0m\u001b[0;34m,\u001b[0m \u001b[0mstorage_options\u001b[0m\u001b[0;34m=\u001b[0m\u001b[0mstorage_options\u001b[0m\u001b[0;34m,\u001b[0m \u001b[0mis_text\u001b[0m\u001b[0;34m=\u001b[0m\u001b[0;32mFalse\u001b[0m\u001b[0;34m\u001b[0m\u001b[0;34m\u001b[0m\u001b[0m\n\u001b[1;32m   1404\u001b[0m     ) as handle:\n",
            "\u001b[0;32m/usr/local/lib/python3.10/dist-packages/pandas/io/common.py\u001b[0m in \u001b[0;36mget_handle\u001b[0;34m(path_or_buf, mode, encoding, compression, memory_map, is_text, errors, storage_options)\u001b[0m\n\u001b[1;32m    880\u001b[0m         \u001b[0;32melse\u001b[0m\u001b[0;34m:\u001b[0m\u001b[0;34m\u001b[0m\u001b[0;34m\u001b[0m\u001b[0m\n\u001b[1;32m    881\u001b[0m             \u001b[0;31m# Binary mode\u001b[0m\u001b[0;34m\u001b[0m\u001b[0;34m\u001b[0m\u001b[0m\n\u001b[0;32m--> 882\u001b[0;31m             \u001b[0mhandle\u001b[0m \u001b[0;34m=\u001b[0m \u001b[0mopen\u001b[0m\u001b[0;34m(\u001b[0m\u001b[0mhandle\u001b[0m\u001b[0;34m,\u001b[0m \u001b[0mioargs\u001b[0m\u001b[0;34m.\u001b[0m\u001b[0mmode\u001b[0m\u001b[0;34m)\u001b[0m\u001b[0;34m\u001b[0m\u001b[0;34m\u001b[0m\u001b[0m\n\u001b[0m\u001b[1;32m    883\u001b[0m         \u001b[0mhandles\u001b[0m\u001b[0;34m.\u001b[0m\u001b[0mappend\u001b[0m\u001b[0;34m(\u001b[0m\u001b[0mhandle\u001b[0m\u001b[0;34m)\u001b[0m\u001b[0;34m\u001b[0m\u001b[0;34m\u001b[0m\u001b[0m\n\u001b[1;32m    884\u001b[0m \u001b[0;34m\u001b[0m\u001b[0m\n",
            "\u001b[0;31mFileNotFoundError\u001b[0m: [Errno 2] No such file or directory: 'plot.xlsx'"
          ]
        }
      ]
    },
    {
      "cell_type": "code",
      "source": [
        "import pandas as pd\n",
        "from matplotlib import pyplot as plot\n",
        "\n",
        "df = pd.read_excel('plot.xlsx')\n",
        "\n",
        "df.plot(kind = 'area', x = 'A', y = 'B',  color = 'red')\n",
        "\n",
        "plot.title('Line')\n",
        "plot.savefig('area.pdf')\n",
        "\n",
        "plot.show()"
      ],
      "metadata": {
        "colab": {
          "base_uri": "https://localhost:8080/",
          "height": 472
        },
        "id": "avZV_VAd9KxW",
        "outputId": "b2feb2bb-2cfe-4714-dc4e-2efa6c84165f"
      },
      "execution_count": null,
      "outputs": [
        {
          "output_type": "display_data",
          "data": {
            "text/plain": [
              "<Figure size 640x480 with 1 Axes>"
            ],
            "image/png": "[encoded data removed]"
          },
          "metadata": {}
        }
      ]
    },
    {
      "cell_type": "code",
      "source": [
        "import pandas as pd\n",
        "from matplotlib import pyplot as plot\n",
        "\n",
        "df = pd.read_excel('plot.xlsx')\n",
        "\n",
        "df.plot(kind = 'bar', x= 'A', y= 'B', color = 'red')\n",
        "\n",
        "plot.title('Line')\n",
        "plot.savefig('bar.pdf')\n",
        "\n",
        "plot.show()"
      ],
      "metadata": {
        "colab": {
          "base_uri": "https://localhost:8080/",
          "height": 484
        },
        "id": "mFJJYvHJ9RSM",
        "outputId": "396a2b37-5867-469d-fefc-4442050f15c6"
      },
      "execution_count": null,
      "outputs": [
        {
          "output_type": "display_data",
          "data": {
            "text/plain": [
              "<Figure size 640x480 with 1 Axes>"
            ],
            "image/png": "[encoded data removed]"
          },
          "metadata": {}
        }
      ]
    },
    {
      "cell_type": "code",
      "source": [
        "#bar\n",
        "from matplotlib import pyplot as plot\n",
        "x = [10, 20, 30,40,50,60]\n",
        "y = [100, 200, 300,400,500,600]\n",
        "plot.bar(x, y)\n",
        "plot.title('L graph')\n",
        "plot.ylabel('Y axis')\n",
        "plot.xlabel('X axis')\n",
        "plot.show()"
      ],
      "metadata": {
        "colab": {
          "base_uri": "https://localhost:8080/",
          "height": 472
        },
        "id": "Z67UgJa--eB3",
        "outputId": "7299d765-7bf6-41f1-adbd-81516fde147c"
      },
      "execution_count": null,
      "outputs": [
        {
          "output_type": "display_data",
          "data": {
            "text/plain": [
              "<Figure size 640x480 with 1 Axes>"
            ],
            "image/png": "[encoded data removed]"
          },
          "metadata": {}
        }
      ]
    },
    {
      "cell_type": "code",
      "source": [
        "from matplotlib import pyplot as plot\n",
        "X = [10,20,30,40,50,60]\n",
        "Y = [100,200,300,400,500,600]\n",
        "plot.scatter(X,Y)\n",
        "plot.title('S Graph')\n",
        "plot.ylabel('Y axis')\n",
        "plot.xlabel('X axis')\n",
        "plot.show()"
      ],
      "metadata": {
        "colab": {
          "base_uri": "https://localhost:8080/",
          "height": 472
        },
        "id": "FbXKuF3w_EsN",
        "outputId": "c7a5d9b3-2a6f-46e2-a354-ec5348e01e73"
      },
      "execution_count": null,
      "outputs": [
        {
          "output_type": "display_data",
          "data": {
            "text/plain": [
              "<Figure size 640x480 with 1 Axes>"
            ],
            "image/png": "[encoded data removed]"
          },
          "metadata": {}
        }
      ]
    },
    {
      "cell_type": "code",
      "source": [
        "import pandas as pd\n",
        "from matplotlib import pyplot as plot\n",
        "\n",
        "df = pd.read_excel('plot.xlsx')\n",
        "\n",
        "df.plot(kind = 'bar', x= 'A', y= 'B', color = 'c')\n",
        "\n",
        "plot.title('Line')\n",
        "plot.savefig('bar.pdf')\n",
        "\n",
        "plot.show()"
      ],
      "metadata": {
        "colab": {
          "base_uri": "https://localhost:8080/",
          "height": 484
        },
        "id": "4Hc5FzkHAR1H",
        "outputId": "11790c6a-8862-4a8f-f621-1b9460fded85"
      },
      "execution_count": null,
      "outputs": [
        {
          "output_type": "display_data",
          "data": {
            "text/plain": [
              "<Figure size 640x480 with 1 Axes>"
            ],
            "image/png": "[encoded data removed]"
          },
          "metadata": {}
        }
      ]
    },
    {
      "cell_type": "code",
      "source": [
        "import pandas as pd\n",
        "from matplotlib import pyplot as plot\n",
        "\n",
        "df = pd.read_excel('plot.xlsx')\n",
        "\n",
        "df.plot(kind = 'bar', x= 'A', y= 'B', color = '#00FF00')\n",
        "\n",
        "plot.title('Line')\n",
        "plot.savefig('bar.pdf')\n",
        "\n",
        "plot.show()"
      ],
      "metadata": {
        "colab": {
          "base_uri": "https://localhost:8080/",
          "height": 484
        },
        "id": "76RtUoNTAV4O",
        "outputId": "c33ae4e8-15a7-4d3c-948e-c07a17e15917"
      },
      "execution_count": null,
      "outputs": [
        {
          "output_type": "display_data",
          "data": {
            "text/plain": [
              "<Figure size 640x480 with 1 Axes>"
            ],
            "image/png": "[encoded data removed]"
          },
          "metadata": {}
        }
      ]
    },
    {
      "cell_type": "code",
      "source": [
        "#Explain numpy to pandas with a program\n",
        "\n",
        "import numpy as np\n",
        "import pandas as pd\n",
        "A = np.array([45,50,12,60,77])\n",
        "B = np.array([50,75,25,50,65])\n",
        "C = np.array([12,45,75,25,62])\n",
        "D = np.array([\"Sam\",\"Abi\",\"Dev\",\"Sathya\",\"Ben\"])\n",
        "Frame = {\"Name\":D,\"Math\":A,\"Bio\":B,\"Che\":C}\n",
        "F = pd.DataFrame(Frame)\n",
        "print(F)"
      ],
      "metadata": {
        "colab": {
          "base_uri": "https://localhost:8080/"
        },
        "id": "PpYTKIy9CNGF",
        "outputId": "d19daefd-baed-4173-9321-198b507c8876"
      },
      "execution_count": null,
      "outputs": [
        {
          "output_type": "stream",
          "name": "stdout",
          "text": [
            "     Name  Math  Bio  Che\n",
            "0     Sam    45   50   12\n",
            "1     Abi    50   75   45\n",
            "2     Dev    12   25   75\n",
            "3  Sathya    60   50   25\n",
            "4     Ben    77   65   62\n"
          ]
        }
      ]
    },
    {
      "cell_type": "code",
      "source": [
        "#Explain pandas to numpy with a program\n",
        "\n",
        "import numpy as np\n",
        "import pandas as pd\n",
        "A = pd.read_excel(\"sales11.xlsx\")\n",
        "B = A[['StoreID']].to_numpy().flatten()\n",
        "print(B)"
      ],
      "metadata": {
        "colab": {
          "base_uri": "https://localhost:8080/"
        },
        "id": "WqHyF1xIEADv",
        "outputId": "9860ec4c-d2d1-4dc4-d859-42c4553d7895"
      },
      "execution_count": null,
      "outputs": [
        {
          "output_type": "stream",
          "name": "stdout",
          "text": [
            "[1309 1305 1315 1316 1313 1316 1308 1301 1317 1303 1314 1316 1307 1309\n",
            " 1309 1306 1310 1304 1312 1314 1313 1312 1307 1309 1313 1305 1301 1304\n",
            " 1300 1301 1305 1319 1304 1301 1307 1304 1301 1305 1315 1317 1312 1302\n",
            " 1308 1319 1316 1307 1314 1316 1314 1307 1315 1316 1310 1317 1314 1308\n",
            " 1306 1315 1302 1303 1317 1300 1300 1319 1301 1301 1305 1317 1319 1308\n",
            " 1316 1307 1312 1305 1308 1300 1303 1318 1304 1304 1309 1305 1307 1307\n",
            " 1309 1314 1312 1319 1319 1317 1315 1312 1303 1301 1307 1317 1304 1319\n",
            " 1310 1319 1311 1309 1301 1317 1307 1315 1318 1309 1312 1317 1308 1303\n",
            " 1306 1310 1307 1319 1306 1310 1300 1314 1313 1308 1310 1306 1300 1318\n",
            " 1317 1318 1304 1314 1304 1309 1318 1306 1303 1305 1318 1317 1311 1303\n",
            " 1301 1302 1308 1306 1307 1300 1307 1306 1317 1318 1305 1309 1310 1319\n",
            " 1308 1302 1313 1307 1319 1307 1305 1309 1308 1302 1310 1309 1309 1302\n",
            " 1317 1312 1310 1310 1308 1311 1319 1309 1313 1309 1318 1309 1300 1305\n",
            " 1305 1306 1315 1307 1318 1316 1303 1317 1308 1313 1315 1310 1305 1307\n",
            " 1316 1300 1301 1316 1304 1316 1313 1312 1300 1304 1307 1304 1306 1306\n",
            " 1307 1307 1308 1307 1306 1314 1318 1313 1314 1308 1319 1315 1309 1312\n",
            " 1304 1317 1305 1317 1306 1311 1304 1304 1300 1300 1316 1300 1316 1306\n",
            " 1304 1318 1313 1308 1318 1308 1308 1307 1305 1316 1319 1300 1310 1318\n",
            " 1308 1307 1317 1305 1308 1309 1305 1319 1314 1309 1302 1312 1301 1305\n",
            " 1319 1317 1302 1304 1300 1301 1302 1308 1314 1318 1318 1315 1304 1307\n",
            " 1316 1312 1311 1309 1310 1307 1312 1312 1312 1311 1303 1315 1315 1317\n",
            " 1312 1317 1303 1312 1307 1306 1302 1311 1316 1305 1300 1309 1305 1316\n",
            " 1316 1314 1305 1306 1302 1307 1311 1302 1313 1303 1313 1310 1307 1304\n",
            " 1302 1314 1319 1308 1313 1307 1307 1300 1309 1313 1314 1317 1316 1301\n",
            " 1316 1301 1305 1305 1309 1310 1318 1315 1310 1300 1311 1312 1318 1311\n",
            " 1303 1303 1303 1313 1308 1302 1305 1318 1308 1310 1308 1303 1317 1300\n",
            " 1312 1303 1307 1313 1302 1318 1317 1300 1316 1302 1306 1300 1311 1318\n",
            " 1300 1309 1314 1312 1316 1305 1301 1309 1310 1303 1319 1304 1301 1303\n",
            " 1311 1313 1306 1310 1304 1306 1318 1300 1318 1313 1312 1310 1314 1309\n",
            " 1315 1318 1303 1312 1305 1311 1319 1301 1302 1304 1318 1304 1302 1303\n",
            " 1314 1300 1308 1319 1316 1316 1302 1309 1300 1305 1300 1303 1316 1317\n",
            " 1314 1309 1300 1304 1312 1317 1309 1309 1300 1312 1303 1313 1303 1317\n",
            " 1307 1315 1316 1304 1302 1317 1303 1318 1310 1313 1314 1313 1303 1316\n",
            " 1312 1314 1318 1301 1319 1319 1318 1318 1307 1309 1306 1307 1318 1305\n",
            " 1315 1306 1302 1311 1301 1317 1307 1302 1305 1311 1319 1317 1306 1318\n",
            " 1311 1300 1312 1316 1300 1310 1310 1310 1313 1318 1313 1319 1302 1316\n",
            " 1311 1300 1304 1312 1304 1317 1310 1311 1307 1302 1307 1302 1316 1306\n",
            " 1301 1300 1304 1305 1315 1306 1316 1300 1301 1313 1318 1311 1301 1308\n",
            " 1312 1301 1310 1300 1305 1303 1315 1314 1308 1305 1316 1307 1308 1306\n",
            " 1310 1311 1316 1319 1317 1316 1312 1304 1301 1318 1309 1307 1306 1301\n",
            " 1313 1316 1305 1302 1311 1314 1315 1306 1308 1313 1308 1312 1307 1310\n",
            " 1300 1315 1313 1310 1301 1305 1308 1309 1314 1315 1313 1308 1306 1316\n",
            " 1316 1317 1308 1304 1309 1307 1307 1316 1302 1302 1315 1302 1301 1305\n",
            " 1305 1311 1308 1317 1302 1307 1305 1317 1314 1313 1307 1301 1318 1303\n",
            " 1306 1317 1301 1300 1312 1302 1315 1308 1308 1302 1317 1309 1302 1309\n",
            " 1318 1307 1308 1302 1311 1312 1305 1319 1307 1316 1300 1301 1315 1300\n",
            " 1301 1312 1311 1309 1300 1311 1303 1309 1308 1308 1307 1311 1308 1315\n",
            " 1307 1305 1316 1306 1313 1311 1312 1302 1316 1313 1305 1307 1306 1314\n",
            " 1312 1311 1303 1312 1314 1302 1303 1317 1314 1301 1301 1317 1315 1305\n",
            " 1312 1317 1307 1311 1304 1314 1314 1312 1317 1315 1304 1314 1313 1307\n",
            " 1317 1300 1309 1309 1302 1313 1308 1307 1314 1318 1303 1306 1315 1311\n",
            " 1316 1306 1310 1315 1314 1305 1317 1303 1316 1316 1300 1302 1315 1314\n",
            " 1318 1305 1314 1305 1304 1300 1313 1313 1308 1311 1302 1318 1317 1300\n",
            " 1311 1311 1317 1310 1303 1306 1300 1311 1311 1313 1313 1302 1300 1303\n",
            " 1319 1307 1306 1317 1309 1315 1305 1315 1319 1315 1301 1314 1305 1319\n",
            " 1311 1310 1315 1319 1319 1311 1310 1310 1313 1305 1317 1312 1313 1318\n",
            " 1302 1315 1303 1308 1301 1312 1315 1305 1300 1307 1318 1311 1318 1313\n",
            " 1307 1318 1318 1301 1319 1313 1301 1311 1310 1308 1305 1314 1309 1316\n",
            " 1313 1316 1310 1316 1310 1302 1304 1309 1306 1303 1310 1308 1309 1309\n",
            " 1318 1310 1305 1306 1319 1305 1305 1302 1302 1311 1316 1305 1300 1307\n",
            " 1316 1312 1303 1301 1316 1303 1300 1308 1318 1306 1313 1307 1317 1317\n",
            " 1312 1317 1307 1309 1308 1300 1303 1315 1318 1300 1317 1300 1318 1306\n",
            " 1310 1319 1306 1310 1301 1309 1305 1312 1314 1309 1306 1319 1305 1301\n",
            " 1312 1304 1302 1302 1319 1306 1300 1315 1300 1314 1318 1309 1312 1318\n",
            " 1313 1317 1307 1305 1312 1314 1319 1313 1304 1314 1312 1303 1306 1315\n",
            " 1313 1319 1319 1311 1312 1301 1319 1313 1301 1308 1301 1316 1318 1316\n",
            " 1318 1317 1304 1314 1319 1313 1307 1306 1312 1306 1313 1314 1301 1314\n",
            " 1301 1306 1303 1306 1319 1317 1314 1314 1305 1300 1316 1317 1302 1317\n",
            " 1311 1315 1318 1303 1315 1303 1305 1303 1300 1319 1318 1317 1311 1313\n",
            " 1313 1314 1302 1315 1313 1319 1304 1310 1304 1310 1304 1308 1306 1313\n",
            " 1300 1308 1300 1301 1308 1305 1314 1318 1315 1315 1312 1315 1310 1310\n",
            " 1313 1307 1306 1316 1300 1307]\n"
          ]
        }
      ]
    },
    {
      "cell_type": "code",
      "source": [
        "#Explain pandas to excel with a program\n",
        "#Explain pandas to csv with a program\n",
        "\n",
        "import numpy as np\n",
        "import pandas as pd\n",
        "A = np.array([45,50,12,60,77])\n",
        "B = np.array([50,75,25,50,65])\n",
        "C = np.array([12,45,75,25,62])\n",
        "D = np.array([\"Sam\",\"Abi\",\"Dev\",\"Sathya\",\"Ben\"])\n",
        "Frame = {\"Name\":D,\"Math\":A,\"Bio\":B,\"Che\":C}\n",
        "F = pd.DataFrame(Frame)\n",
        "G = F.to_excel(\"Internal.xlsx\")\n",
        "H = F.to_csv(\"internal.csv\")"
      ],
      "metadata": {
        "id": "DZS5fKf2FH-_"
      },
      "execution_count": null,
      "outputs": []
    },
    {
      "cell_type": "code",
      "source": [
        "#Explain excel to pandas with a program\n",
        "\n",
        "import numpy as np\n",
        "import pandas as pd\n",
        "A = pd.read_excel(\"Internal.xlsx\")\n",
        "print(A)"
      ],
      "metadata": {
        "colab": {
          "base_uri": "https://localhost:8080/"
        },
        "id": "GewVIw5gFaY2",
        "outputId": "1f7a85a8-1fb6-4e9f-e19c-5b22883bba86"
      },
      "execution_count": null,
      "outputs": [
        {
          "output_type": "stream",
          "name": "stdout",
          "text": [
            "   Unnamed: 0    Name  Math  Bio  Che\n",
            "0           0     Sam    45   50   12\n",
            "1           1     Abi    50   75   45\n",
            "2           2     Dev    12   25   75\n",
            "3           3  Sathya    60   50   25\n",
            "4           4     Ben    77   65   62\n"
          ]
        }
      ]
    },
    {
      "cell_type": "code",
      "source": [
        "#Explain CSV to pandas with a program\n",
        "\n",
        "import numpy as np\n",
        "import pandas as pd\n",
        "A = pd.read_csv(\"internal.csv\")\n",
        "print(A)"
      ],
      "metadata": {
        "colab": {
          "base_uri": "https://localhost:8080/"
        },
        "id": "XjUZGCVDFzD-",
        "outputId": "bb8b4b21-6b00-491a-a114-a112dd497c90"
      },
      "execution_count": null,
      "outputs": [
        {
          "output_type": "stream",
          "name": "stdout",
          "text": [
            "   Unnamed: 0    Name  Math  Bio  Che\n",
            "0           0     Sam    45   50   12\n",
            "1           1     Abi    50   75   45\n",
            "2           2     Dev    12   25   75\n",
            "3           3  Sathya    60   50   25\n",
            "4           4     Ben    77   65   62\n"
          ]
        }
      ]
    },
    {
      "cell_type": "code",
      "source": [
        "#What is SQLite with a program\n",
        "\n",
        "import pandas as pd\n",
        "import sqlite3 as db\n",
        "A = pd.read_excel(\"Internal.xlsx\")\n",
        "database = \"Internal.sqlite\"\n",
        "conn = db.connect(database)\n",
        "A.to_sql(name='Mark',con=conn,if_exists='replace',index = False)\n",
        "conn.close()"
      ],
      "metadata": {
        "id": "tLXeFBPAGDKm"
      },
      "execution_count": null,
      "outputs": []
    },
    {
      "cell_type": "code",
      "source": [
        "8.How to install SQLite\n",
        "Open browser - search sqlite3 (Link-https://sqlitebrowser.org/dl/) - Click on DB Browser for SQLite - Standard installer for 64-bit Windows and install sqlite\n",
        "\n",
        "9.How to create Database in SQLite\n",
        "Open sqlite - Click on new database - import sqlite file\n",
        "\n",
        "\n",
        "\n"
      ],
      "metadata": {
        "id": "Kyn8XaoWPoUh"
      },
      "execution_count": null,
      "outputs": []
    },
    {
      "cell_type": "code",
      "source": [
        "#10.How to convert a csv to SQLite\n",
        "import sqlite3 as db\n",
        "import pandas as pd\n",
        "A = pd.read_csv('internal.csv')\n",
        "database = \"internal.sqlite\"\n",
        "conn = db.connect(database)\n",
        "A.to_sql(name ='internal',con=conn,if_exists = 'replace',index=False)\n",
        "conn.close()"
      ],
      "metadata": {
        "id": "B2xjS32-Ps6A"
      },
      "execution_count": null,
      "outputs": []
    },
    {
      "cell_type": "code",
      "source": [
        "#11.Explain SQLite  to pandas\n",
        "import sqlite3 as db\n",
        "import pandas as pd\n",
        "con = db.connect('internal.sqlite')\n",
        "A = pd.read_sql_query(\"SELECT * FROM internal\", con)\n",
        "con.commit()\n",
        "con.close()\n",
        "print(A)\n",
        "\n",
        "\n"
      ],
      "metadata": {
        "colab": {
          "base_uri": "https://localhost:8080/"
        },
        "id": "_BEJkYjySWM0",
        "outputId": "bf5617d2-88db-4868-c779-0b6dba591413"
      },
      "execution_count": null,
      "outputs": [
        {
          "output_type": "stream",
          "name": "stdout",
          "text": [
            "   Unnamed: 0    Name  Math  Bio  Che\n",
            "0           0     Sam    45   50   12\n",
            "1           1     Abi    50   75   45\n",
            "2           2     Dev    12   25   75\n",
            "3           3  Sathya    60   50   25\n",
            "4           4     Ben    77   65   62\n"
          ]
        }
      ]
    },
    {
      "cell_type": "code",
      "source": [
        "#12.Explain pandas to SQLite with a program\n",
        "import sqlite3 as db\n",
        "import pandas as pd\n",
        "import numpy as np\n",
        "\n",
        "A = np.array([45,50,12,60,77])\n",
        "B = np.array([50,75,25,50,65])\n",
        "C = np.array([12,45,75,25,62])\n",
        "D = np.array([\"Sam\",\"Abi\",\"Dev\",\"Sathya\",\"Ben\"])\n",
        "Frame = {\"Name\":D,\"Math\":A,\"Bio\":B,\"Che\":C}\n",
        "E = pd.DataFrame(Frame)\n",
        "database = ('internal1.sqlite')\n",
        "conn = db.connect(database)\n",
        "E.to_sql(name= 'internal1',con=conn,if_exists='replace',index=False)\n",
        "con.close()"
      ],
      "metadata": {
        "id": "DxCUbBe8UEs7"
      },
      "execution_count": null,
      "outputs": []
    },
    {
      "cell_type": "code",
      "source": [
        "#13.SQLite to Pandas to Excel with a program\n",
        "import sqlite3 as db\n",
        "import pandas as pd\n",
        "con = db.connect('internal.sqlite')\n",
        "A = pd.read_sql_query(\"SELECT * FROM internal\",con)\n",
        "con.close()\n",
        "A.to_excel(\"internal2.xlsx\")"
      ],
      "metadata": {
        "id": "It9mZP7_W_CT"
      },
      "execution_count": null,
      "outputs": []
    },
    {
      "cell_type": "code",
      "source": [
        "#14.CSV to pandas to numpy implement any formula to Excel\n",
        "import numpy as np\n",
        "import pandas as pd\n",
        "A = pd.read_csv('internal.csv')\n",
        "#Z = A.info()\n",
        "\n",
        "B = A[['Name']].to_numpy().flatten()\n",
        "C = A[['Math']].to_numpy().flatten()\n",
        "D = A[['Bio']].to_numpy().flatten()\n",
        "E = A[['Che']].to_numpy().flatten()\n",
        "F = C+D+E\n",
        "Frame = {\"Name\":B,\"Math\":C,\"Bio\":D,\"Che\":E,\"Total\":F}\n",
        "G = pd.DataFrame(Frame)\n",
        "H = G.to_excel('Total.xlsx')"
      ],
      "metadata": {
        "id": "kSnqEGNWPuDi"
      },
      "execution_count": null,
      "outputs": []
    },
    {
      "cell_type": "code",
      "source": [
        "#15.Numpy 4 single dimension array perform addition and average and store in SQLite\n",
        "import numpy as np\n",
        "import pandas as pd\n",
        "import sqlite3 as db\n",
        "\n",
        "A = np.array([42,28,50,47,45])\n",
        "B = np.array([45,12,54,84,65])\n",
        "C = np.array([25,65,75,15,24])\n",
        "D = np.array([77,15,14,18,45])\n",
        "F = A+B+C+D\n",
        "\n",
        "Frame = {\"Match\":A,\"T20\":B,\"ODI\":C,\"Test\":D,\"Total\":F}\n",
        "E = pd.DataFrame(Frame)\n",
        "F = E.to_excel('Score.xlsx')\n",
        "database = \"Score.sqlite\"\n",
        "conn = db.connect(database)\n",
        "E.to_sql(name='Score',con=conn,if_exists='replace',index=False)\n",
        "conn.close()\n",
        "J = G.mean()\n",
        "print(\"\\nAverage = \",J)\n"
      ],
      "metadata": {
        "colab": {
          "base_uri": "https://localhost:8080/"
        },
        "id": "AVJUctBLbgJ9",
        "outputId": "7d523e03-a852-43a7-fa53-a676d3b6f5f4"
      },
      "execution_count": null,
      "outputs": [
        {
          "output_type": "stream",
          "name": "stdout",
          "text": [
            "\n",
            "Average =  58360.44979\n"
          ]
        }
      ]
    },
    {
      "cell_type": "code",
      "source": [
        "#16.CSV to numpy (do any math operation ) to panda to SQLite\n",
        "import numpy as np\n",
        "import pandas as pd\n",
        "import sqlite3 as db\n",
        "\n",
        "A = pd.read_csv('credit_scoring_data.csv')\n",
        "B = A.info()\n",
        "C = A[['Income']].to_numpy().flatten()\n",
        "D = A[['Loan Amount']].to_numpy().flatten()\n",
        "E = A[['Credit Score']].to_numpy().flatten()\n",
        "F = A[['Interest Rate (%)']].to_numpy().flatten()\n",
        "G = C-D\n",
        "H = C/100*F\n",
        "Frame = {\"Income\":C,\"Loan Amount\":D,\"Credit Score\":E,\"Interest Rate\":F,\"Balance\":G,\"Interest\":H}\n",
        "I = pd.DataFrame(Frame)\n",
        "print(I)\n",
        "I.to_excel('Income.xlsx')\n",
        "database = \"income.sqlite\"\n",
        "conn = db.connect(database)\n",
        "I.to_sql(name = 'Income',con=conn,if_exists='replace',index=False)\n",
        "conn.close()"
      ],
      "metadata": {
        "colab": {
          "base_uri": "https://localhost:8080/"
        },
        "id": "ltcNaqL0S01x",
        "outputId": "9d2b7eeb-5151-45f9-cff3-8afce307b27d"
      },
      "execution_count": null,
      "outputs": [
        {
          "output_type": "stream",
          "name": "stdout",
          "text": [
            "<class 'pandas.core.frame.DataFrame'>\n",
            "RangeIndex: 1000 entries, 0 to 999\n",
            "Data columns (total 8 columns):\n",
            " #   Column                   Non-Null Count  Dtype  \n",
            "---  ------                   --------------  -----  \n",
            " 0   Income                   1000 non-null   int64  \n",
            " 1   Loan Amount              1000 non-null   float64\n",
            " 2   Credit Score             1000 non-null   int64  \n",
            " 3   Loan Duration (Months)   1000 non-null   int64  \n",
            " 4   Number of Past Defaults  1000 non-null   int64  \n",
            " 5   Has Credit History       1000 non-null   int64  \n",
            " 6   Interest Rate (%)        1000 non-null   float64\n",
            " 7   Default                  1000 non-null   int64  \n",
            "dtypes: float64(2), int64(6)\n",
            "memory usage: 62.6 KB\n",
            "     Income  Loan Amount  Credit Score  Interest Rate    Balance    Interest\n",
            "0    141958     18928.74           520           2.51  123029.26   3563.1458\n",
            "1     35795     41620.78           453          14.70   -5825.78   5261.8650\n",
            "2     20860     35812.90           311           5.15  -14952.90   1074.2900\n",
            "3    123694     12317.76           432          10.62  111376.24  13136.3028\n",
            "4    148106     45991.72           603          12.91  102114.28  19120.4846\n",
            "..      ...          ...           ...            ...        ...         ...\n",
            "995  124346     25857.23           816           5.76   98488.77   7162.3296\n",
            "996   67605     22090.36           463          14.38   45514.64   9721.5990\n",
            "997  141790     43850.01           363           2.65   97939.99   3757.4350\n",
            "998  125616     28358.68           390           3.95   97257.32   4961.8320\n",
            "999   58088     26563.18           416           8.99   31524.82   5222.1112\n",
            "\n",
            "[1000 rows x 6 columns]\n"
          ]
        }
      ]
    },
    {
      "cell_type": "code",
      "source": [
        "#17.SQLite to numpy (do any math operation ) to panda to csv\n",
        "import numpy as np\n",
        "import pandas as pd\n",
        "import sqlite3 as db\n",
        "con = db.connect('income.sqlite')\n",
        "A = pd.read_sql_query('SELECT * FROM Income',con)\n",
        "B = A.info()\n",
        "C = A[['Income']].to_numpy().flatten()\n",
        "D = A[['Loan Amount']].to_numpy().flatten()\n",
        "E = A[['Credit Score']].to_numpy().flatten()\n",
        "F = A[['Interest Rate']].to_numpy().flatten()\n",
        "G = A[['Balance']].to_numpy().flatten()\n",
        "H = A[['Interest']].to_numpy().flatten()\n",
        "I = F-2\n",
        "J = C/100*I\n",
        "M = C-J\n",
        "Frame = {\"Income\":C,\"Loan Amount\":D,\"Credit Score\":E,\"Interest Rate\":F,\"Balance\":G,\"Interest\":H,\"Reduced interest\":I,\"Reduced Interest Amount\":J,\"Balance amount\":M}\n",
        "K = pd.DataFrame(Frame)\n",
        "print(K)\n",
        "L = K.to_csv('Income.csv')"
      ],
      "metadata": {
        "colab": {
          "base_uri": "https://localhost:8080/"
        },
        "id": "cguhEtdQZGeW",
        "outputId": "11ffe975-b0b5-4222-ac19-05c70a5168b7"
      },
      "execution_count": null,
      "outputs": [
        {
          "output_type": "stream",
          "name": "stdout",
          "text": [
            "<class 'pandas.core.frame.DataFrame'>\n",
            "RangeIndex: 1000 entries, 0 to 999\n",
            "Data columns (total 6 columns):\n",
            " #   Column         Non-Null Count  Dtype  \n",
            "---  ------         --------------  -----  \n",
            " 0   Income         1000 non-null   int64  \n",
            " 1   Loan Amount    1000 non-null   float64\n",
            " 2   Credit Score   1000 non-null   int64  \n",
            " 3   Interest Rate  1000 non-null   float64\n",
            " 4   Balance        1000 non-null   float64\n",
            " 5   Interest       1000 non-null   float64\n",
            "dtypes: float64(4), int64(2)\n",
            "memory usage: 47.0 KB\n",
            "     Income  Loan Amount  Credit Score  Interest Rate    Balance    Interest  \\\n",
            "0    141958     18928.74           520           2.51  123029.26   3563.1458   \n",
            "1     35795     41620.78           453          14.70   -5825.78   5261.8650   \n",
            "2     20860     35812.90           311           5.15  -14952.90   1074.2900   \n",
            "3    123694     12317.76           432          10.62  111376.24  13136.3028   \n",
            "4    148106     45991.72           603          12.91  102114.28  19120.4846   \n",
            "..      ...          ...           ...            ...        ...         ...   \n",
            "995  124346     25857.23           816           5.76   98488.77   7162.3296   \n",
            "996   67605     22090.36           463          14.38   45514.64   9721.5990   \n",
            "997  141790     43850.01           363           2.65   97939.99   3757.4350   \n",
            "998  125616     28358.68           390           3.95   97257.32   4961.8320   \n",
            "999   58088     26563.18           416           8.99   31524.82   5222.1112   \n",
            "\n",
            "     Reduced interest  Reduced Interest Amount  Balance amount  \n",
            "0                0.51                 723.9858     141234.0142  \n",
            "1               12.70                4545.9650      31249.0350  \n",
            "2                3.15                 657.0900      20202.9100  \n",
            "3                8.62               10662.4228     113031.5772  \n",
            "4               10.91               16158.3646     131947.6354  \n",
            "..                ...                      ...             ...  \n",
            "995              3.76                4675.4096     119670.5904  \n",
            "996             12.38                8369.4990      59235.5010  \n",
            "997              0.65                 921.6350     140868.3650  \n",
            "998              1.95                2449.5120     123166.4880  \n",
            "999              6.99                4060.3512      54027.6488  \n",
            "\n",
            "[1000 rows x 9 columns]\n"
          ]
        }
      ]
    },
    {
      "cell_type": "code",
      "source": [
        "#18.SQLite to numpy (do any math operation ) to panda to SQLite\n",
        "import numpy as np\n",
        "import pandas as pd\n",
        "import sqlite3 as db\n",
        "con = db.connect('bank_data.sqlite')\n",
        "A = pd.read_sql_query((\"SELECT * FROM User\"),con)\n",
        "B = A[['Customer_ID']].to_numpy().flatten()\n",
        "C = A[['Bank_Balance']].to_numpy().flatten()\n",
        "D = A[['Credit']].to_numpy().flatten()\n",
        "E = A[['Loan']].to_numpy().flatten()\n",
        "F = A[['EMI']].to_numpy().flatten()\n",
        "G = C/100*12\n",
        "H = C+G\n",
        "Frame = {\"Customer_ID\":B,\"Bank_Balance\":C,\"Credit\":D,\"Loan\":E,\"EMI\":F,\"Interest_12%\":G,\"Balance_After_Interest\":H}\n",
        "F = pd.DataFrame(Frame)\n",
        "Database = \"interest1.sqlite\"\n",
        "conn = db.connect(Database)\n",
        "F.to_sql(name = 'Interest',con = conn, if_exists='replace',index=False)\n",
        "con.close()"
      ],
      "metadata": {
        "id": "9iadg6QAa5dz"
      },
      "execution_count": null,
      "outputs": []
    },
    {
      "cell_type": "code",
      "source": [
        "#19.CSV to numpy (do any math operation ) to panda to Excel\n",
        "A = pd.read_csv(\"credit_scoring_data.csv\")\n",
        "B = A[['Income']].to_numpy().flatten()\n",
        "C = A[['Loan Amount']].to_numpy().flatten()\n",
        "D = A[['Interest Rate (%)']].to_numpy().flatten()\n",
        "E = B-C\n",
        "F = B/100*D\n",
        "G = D+5\n",
        "H = B/100*G\n",
        "I = C+H\n",
        "Frame = {\"Income\":B,\"Loan Amount\":C,\"Interest Rate\":D,\"Balance\":E,\"Interest Amount\":F,\"Increased Interest %\":G,\"Increased Interest Amount\":H,\"Increased Loan Amount\":I}\n",
        "J = pd.DataFrame(Frame)\n",
        "J.to_excel('credit.xlsx')"
      ],
      "metadata": {
        "id": "CBVCTGZCdmzw"
      },
      "execution_count": null,
      "outputs": []
    },
    {
      "cell_type": "code",
      "source": [
        "#20.SQLite to numpy (do any math operation ) to panda to Excel\n",
        "import numpy as np\n",
        "import pandas as pd\n",
        "import sqlite3 as db\n",
        "con = db.connect('income.sqlite')\n",
        "A = pd.read_sql_query('SELECT * FROM Income',con)\n",
        "B = A.info()\n",
        "C = A[['Income']].to_numpy().flatten()\n",
        "D = A[['Loan Amount']].to_numpy().flatten()\n",
        "E = A[['Credit Score']].to_numpy().flatten()\n",
        "F = A[['Interest Rate']].to_numpy().flatten()\n",
        "G = A[['Balance']].to_numpy().flatten()\n",
        "H = A[['Interest']].to_numpy().flatten()\n",
        "I = F-2\n",
        "J = C/100*I\n",
        "M = C-J\n",
        "Frame = {\"Income\":C,\"Loan Amount\":D,\"Credit Score\":E,\"Interest Rate\":F,\"Balance\":G,\"Interest\":H,\"Reduced interest\":I,\"Reduced Interest Amount\":J,\"Balance amount\":M}\n",
        "K = pd.DataFrame(Frame)\n",
        "L = K.to_excel('Income.xlsx')"
      ],
      "metadata": {
        "colab": {
          "base_uri": "https://localhost:8080/"
        },
        "id": "C-aEEoyod8b4",
        "outputId": "5a3bddda-bffa-4b74-b5c6-c5dde107fe01"
      },
      "execution_count": null,
      "outputs": [
        {
          "output_type": "stream",
          "name": "stdout",
          "text": [
            "<class 'pandas.core.frame.DataFrame'>\n",
            "RangeIndex: 1000 entries, 0 to 999\n",
            "Data columns (total 6 columns):\n",
            " #   Column         Non-Null Count  Dtype  \n",
            "---  ------         --------------  -----  \n",
            " 0   Income         1000 non-null   int64  \n",
            " 1   Loan Amount    1000 non-null   float64\n",
            " 2   Credit Score   1000 non-null   int64  \n",
            " 3   Interest Rate  1000 non-null   float64\n",
            " 4   Balance        1000 non-null   float64\n",
            " 5   Interest       1000 non-null   float64\n",
            "dtypes: float64(4), int64(2)\n",
            "memory usage: 47.0 KB\n",
            "     Income  Loan Amount  Credit Score  Interest Rate    Balance    Interest  \\\n",
            "0    141958     18928.74           520           2.51  123029.26   3563.1458   \n",
            "1     35795     41620.78           453          14.70   -5825.78   5261.8650   \n",
            "2     20860     35812.90           311           5.15  -14952.90   1074.2900   \n",
            "3    123694     12317.76           432          10.62  111376.24  13136.3028   \n",
            "4    148106     45991.72           603          12.91  102114.28  19120.4846   \n",
            "..      ...          ...           ...            ...        ...         ...   \n",
            "995  124346     25857.23           816           5.76   98488.77   7162.3296   \n",
            "996   67605     22090.36           463          14.38   45514.64   9721.5990   \n",
            "997  141790     43850.01           363           2.65   97939.99   3757.4350   \n",
            "998  125616     28358.68           390           3.95   97257.32   4961.8320   \n",
            "999   58088     26563.18           416           8.99   31524.82   5222.1112   \n",
            "\n",
            "     Reduced interest  Reduced Interest Amount  Balance amount  \n",
            "0                0.51                 723.9858     141234.0142  \n",
            "1               12.70                4545.9650      31249.0350  \n",
            "2                3.15                 657.0900      20202.9100  \n",
            "3                8.62               10662.4228     113031.5772  \n",
            "4               10.91               16158.3646     131947.6354  \n",
            "..                ...                      ...             ...  \n",
            "995              3.76                4675.4096     119670.5904  \n",
            "996             12.38                8369.4990      59235.5010  \n",
            "997              0.65                 921.6350     140868.3650  \n",
            "998              1.95                2449.5120     123166.4880  \n",
            "999              6.99                4060.3512      54027.6488  \n",
            "\n",
            "[1000 rows x 9 columns]\n"
          ]
        }
      ]
    },
    {
      "cell_type": "code",
      "source": [
        "#21.Write a python program to explain all possible queries in SQLite\n",
        "import numpy as np\n",
        "import pandas as pd\n",
        "import sqlite3 as db\n",
        "con = db.connect('income (1).sqlite')\n",
        "A = pd.read_sql_query('SELECT * FROM Income',con)\n",
        "A.info()\n",
        "B = pd.read_sql_query('SELECT Balance FROM Income',con)\n",
        "C = pd.read_sql_query('SELECT BALANCE,Income FROM Income',con)\n",
        "D = pd.read_sql_query('SELECT * FROM Income WHERE Income < 50000',con)\n",
        "E = pd.read_sql_query('SELECT *,avg(Income) FROM Income',con)\n",
        "F = pd.read_sql_query('SELECT *,(Balance-Interest) FROM Income',con)\n",
        "G = pd.read_sql_query('SELECT *,count(*) FROM Income',con)\n",
        "H = pd.read_sql_query('SELECT * FROM Income ORDER BY Balance Asc',con)\n",
        "I = pd.read_sql_query('SELECT * FROM Income WHERE Income Between 50000 and 75000',con)\n",
        "J = pd.read_sql_query('SELECT * FROM Income WHERE Balance IN (50159.16,45514.64)',con)\n",
        "con.commit()\n",
        "con.close()"
      ],
      "metadata": {
        "id": "EnECK7HWjXpu",
        "colab": {
          "base_uri": "https://localhost:8080/"
        },
        "outputId": "5d1e479f-f59e-45a5-853d-8af36f68f4ac"
      },
      "execution_count": null,
      "outputs": [
        {
          "output_type": "stream",
          "name": "stdout",
          "text": [
            "<class 'pandas.core.frame.DataFrame'>\n",
            "RangeIndex: 1000 entries, 0 to 999\n",
            "Data columns (total 6 columns):\n",
            " #   Column         Non-Null Count  Dtype  \n",
            "---  ------         --------------  -----  \n",
            " 0   Income         1000 non-null   int64  \n",
            " 1   Loan Amount    1000 non-null   float64\n",
            " 2   Credit Score   1000 non-null   int64  \n",
            " 3   Interest Rate  1000 non-null   float64\n",
            " 4   Balance        1000 non-null   float64\n",
            " 5   Interest       1000 non-null   float64\n",
            "dtypes: float64(4), int64(2)\n",
            "memory usage: 47.0 KB\n"
          ]
        }
      ]
    },
    {
      "cell_type": "code",
      "source": [
        "#22.Excel to numpy to pandas\n"
      ],
      "metadata": {
        "colab": {
          "base_uri": "https://localhost:8080/"
        },
        "id": "infUqCzFjsCp",
        "outputId": "e586be4d-8496-4fc8-956a-3be2f39f6c24"
      },
      "execution_count": null,
      "outputs": [
        {
          "output_type": "stream",
          "name": "stdout",
          "text": [
            "<class 'pandas.core.frame.DataFrame'>\n",
            "RangeIndex: 1000 entries, 0 to 999\n",
            "Data columns (total 9 columns):\n",
            " #   Column                     Non-Null Count  Dtype  \n",
            "---  ------                     --------------  -----  \n",
            " 0   Unnamed: 0                 1000 non-null   int64  \n",
            " 1   Income                     1000 non-null   int64  \n",
            " 2   Loan Amount                1000 non-null   float64\n",
            " 3   Interest Rate              1000 non-null   float64\n",
            " 4   Balance                    1000 non-null   float64\n",
            " 5   Interest Amount            1000 non-null   float64\n",
            " 6   Increased Interest %       1000 non-null   float64\n",
            " 7   Increased Interest Amount  1000 non-null   float64\n",
            " 8   Increased Loan Amount      1000 non-null   float64\n",
            "dtypes: float64(7), int64(2)\n",
            "memory usage: 70.4 KB\n",
            "     Income  Loan Amount  Interest Rate    Balance  Interest Amount  \\\n",
            "0    141958     18928.74           2.51  123029.26        3563.1458   \n",
            "1     35795     41620.78          14.70   -5825.78        5261.8650   \n",
            "2     20860     35812.90           5.15  -14952.90        1074.2900   \n",
            "3    123694     12317.76          10.62  111376.24       13136.3028   \n",
            "4    148106     45991.72          12.91  102114.28       19120.4846   \n",
            "..      ...          ...            ...        ...              ...   \n",
            "995  124346     25857.23           5.76   98488.77        7162.3296   \n",
            "996   67605     22090.36          14.38   45514.64        9721.5990   \n",
            "997  141790     43850.01           2.65   97939.99        3757.4350   \n",
            "998  125616     28358.68           3.95   97257.32        4961.8320   \n",
            "999   58088     26563.18           8.99   31524.82        5222.1112   \n",
            "\n",
            "     Increased Interest %  Increased Loan Amount  \n",
            "0                    7.51              3563.1458  \n",
            "1                   19.70              5261.8650  \n",
            "2                   10.15              1074.2900  \n",
            "3                   15.62             13136.3028  \n",
            "4                   17.91             19120.4846  \n",
            "..                    ...                    ...  \n",
            "995                 10.76              7162.3296  \n",
            "996                 19.38              9721.5990  \n",
            "997                  7.65              3757.4350  \n",
            "998                  8.95              4961.8320  \n",
            "999                 13.99              5222.1112  \n",
            "\n",
            "[1000 rows x 7 columns]\n"
          ]
        }
      ]
    },
    {
      "cell_type": "code",
      "source": [
        "#23.Excel to pandas to  Sqlite\n",
        "import numpy as np\n",
        "import pandas as pd\n",
        "import sqlite3 as db\n",
        "A = pd.read_excel('car_sales_data.xlsx')\n",
        "database = \"carsale.sqlite\"\n",
        "conn = db.connect(database)\n",
        "A.to_sql(name = \"Car sales\",con=conn,if_exists='replace',index=False)\n",
        "con.close()"
      ],
      "metadata": {
        "id": "mMdi-tJ4k83n"
      },
      "execution_count": null,
      "outputs": []
    },
    {
      "cell_type": "code",
      "source": [
        "#Mutation\n",
        "#Input     a1,a2,a3,a4\n",
        "\n",
        "a1 = int(input(\"Enter value of a1 =\"));\n",
        "a2 = int(input(\"Enter value of a2 =\"));\n",
        "a3 = int(input(\"Enter value of a3 =\"));\n",
        "a4 = int(input(\"Enter value of a4 =\"));\n",
        "X1 = a1,a2,a3,a4\n",
        "print(X1)\n",
        "X2 = a1,a1,a1,a1\n",
        "print(X2)\n",
        "X3 = a1,a1,a1,a2\n",
        "print(X3)\n",
        "X4 = a1,a1,a1,a3\n",
        "print(X4)\n",
        "X5 = a1,a1,a1,a4\n",
        "print(X5)\n",
        "X6 = a1,a1,a2,a1\n",
        "print(X6)\n",
        "X7 = a1,a1,a3,a1\n",
        "print(X7)\n",
        "X8 = a1,a1,a4,a1\n",
        "print(X8)\n",
        "X9 = a1,a2,a1,a1\n",
        "print(X9)\n",
        "X10 = a1,a3,a1,a1\n",
        "print(X10)\n",
        "X11 = a1,a4,a1,a1\n",
        "print(X11)\n",
        "X12 = a2,a1,a1,a1\n",
        "print(X12)\n",
        "X13 = a3,a1,a1,a1\n",
        "print(X13)\n",
        "X14 = a4,a1,a1,a1\n",
        "print(X14)\n",
        "X15 = a1,a1,a2,a2\n",
        "print(X15)\n",
        "X16 = a1,a1,a2,a3\n",
        "print(X16)\n",
        "X17 = a1,a1,a2,a4\n",
        "print(X17)\n",
        "X18 = a1,a2,a2,a1\n",
        "print(X18)\n",
        "X19 = a1,a3,a2,a1\n",
        "print(X19)\n",
        "X20 = a1,a4,a2,a1\n",
        "print(X20)\n",
        "X21 = a1,a2,a3,a4\n",
        "print(X21)\n",
        "X22 = a1,a3,a4,a1\n",
        "print(X22)\n",
        "X23 = a2,a2,a1,a2\n",
        "print(X23)\n",
        "X24 = a2,a2,a2,a2\n",
        "print(X24)\n",
        "X25 = a2,a2,a3,a2\n",
        "print(X25)\n",
        "X26 = a2,a2,a4,a2\n",
        "print(X26)\n",
        "X27 = a2,a1,a2,a2\n",
        "print(X27)\n",
        "X28 = a2,a3,a2,a2\n",
        "print(X28)\n",
        "X29 = a2,a4,a2,a2\n",
        "print(X29)\n",
        "X30 = a1,a2,a2,a2\n",
        "print(X30)\n",
        "X31 = a3,a2,a2,a2\n",
        "print(X31)\n",
        "X32 = a4,a2,a2,a2\n",
        "print(X32)\n",
        "X33 = a1,a2,a3,a3\n",
        "print(X33)\n",
        "X34 = a1,a3,a3,a3\n",
        "print(X34)\n",
        "X35 = a1,a3,a3,a3\n",
        "print(X35)\n",
        "X36 = a1,a3,a3,a4\n",
        "print(X36)\n",
        "X37 = a1,a2,a2,a4\n",
        "print(X37)\n",
        "X38 = a4,a3,a3,a3\n",
        "print(X38)\n",
        "X39 = a1,a3,a4,a3\n",
        "print(X39)\n",
        "X40 = a4,a3,a3,a4\n",
        "print(X40)\n",
        "X41 = a4,a3,a3,a1\n",
        "print(X41)\n",
        "X42 = a4,a3,a3,a2\n",
        "print(X42)\n",
        "X43 = a4,a3,a3,a3\n",
        "print(X43)\n",
        "X44 = a4,a4,a4,a4\n",
        "print(X44)\n",
        "X45 = a4,a1,a1,a1\n",
        "print(X45)\n",
        "X46 = a4,a2,a2,a2\n",
        "print(X46)\n",
        "X47 = a4,a3,a3,a3\n",
        "print(X47)\n",
        "X48 = a1,a1,a4,a4\n",
        "print(X48)\n",
        "X49 = a3,a3,a3,a4\n",
        "print(X49)\n",
        "X50 = a2,a2,a3,a3\n",
        "print(X50)\n",
        "X51 = a2,a1,a1,a4\n",
        "print(X51)\n",
        "X52 = a2,a2,a4,a4\n",
        "print(X52)\n",
        "X53 = a4,a4,a1,a1\n",
        "print(X53)\n",
        "X54 = a3,a3,a1,a4\n",
        "print(X54)\n",
        "X55 = a1,a2,a4,a4\n",
        "print(X55)\n",
        "X56 = a2,a4,a1,a1\n",
        "print(X56)\n",
        "X57 = a3,a3,a1,a1\n",
        "print(X57)\n",
        "X58 = a1,a3,a4,a2\n",
        "print(X58)\n",
        "X59 = a4,a3,a2,a1\n",
        "print(X59)\n",
        "X60 = a4,a4,a1,a1\n",
        "print(X60)\n",
        "X61 = a4,a4,a3,a3\n",
        "print(X61)\n",
        "X62 = a3,a3,a1,a2\n",
        "print(X62)\n",
        "X63 = a4,a2,a3,a1\n",
        "print(X63)\n",
        "X64 = a3,a4,a2,a1\n",
        "print(X64)\n",
        "X65 = a1,a3,a4,a2\n",
        "print(X65)\n",
        "X66 = a2,a4,a3,a1\n",
        "print(X66)\n",
        "X67 = a3,a2,a1,a4\n",
        "print(X67)\n",
        "X68 = a3,a4,a1,a2\n",
        "print(X68)\n",
        "X69 = a4,a4,a1,a3\n",
        "print(X69)\n",
        "X70 = a3,a4,a4,a3\n",
        "print(X70)"
      ],
      "metadata": {
        "id": "-0CZwJCQlR1W",
        "colab": {
          "base_uri": "https://localhost:8080/"
        },
        "outputId": "74df2db5-3ead-4421-df49-cec2ca495202"
      },
      "execution_count": null,
      "outputs": [
        {
          "output_type": "stream",
          "name": "stdout",
          "text": [
            "Enter value of a1 =7\n",
            "Enter value of a2 =77\n",
            "Enter value of a3 =10\n",
            "Enter value of a4 =99\n",
            "(7, 77, 10, 99)\n",
            "(7, 7, 7, 7)\n",
            "(7, 7, 7, 77)\n",
            "(7, 7, 7, 10)\n",
            "(7, 7, 7, 99)\n",
            "(7, 7, 77, 7)\n",
            "(7, 7, 10, 7)\n",
            "(7, 7, 99, 7)\n",
            "(7, 77, 7, 7)\n",
            "(7, 10, 7, 7)\n",
            "(7, 99, 7, 7)\n",
            "(77, 7, 7, 7)\n",
            "(10, 7, 7, 7)\n",
            "(99, 7, 7, 7)\n",
            "(7, 7, 77, 77)\n",
            "(7, 7, 77, 10)\n",
            "(7, 7, 77, 99)\n",
            "(7, 77, 77, 7)\n",
            "(7, 10, 77, 7)\n",
            "(7, 99, 77, 7)\n",
            "(7, 77, 10, 99)\n",
            "(7, 10, 99, 7)\n",
            "(77, 77, 7, 77)\n",
            "(77, 77, 77, 77)\n",
            "(77, 77, 10, 77)\n",
            "(77, 77, 99, 77)\n",
            "(77, 7, 77, 77)\n",
            "(77, 10, 77, 77)\n",
            "(77, 99, 77, 77)\n",
            "(7, 77, 77, 77)\n",
            "(10, 77, 77, 77)\n",
            "(99, 77, 77, 77)\n",
            "(7, 77, 10, 10)\n",
            "(7, 10, 10, 10)\n",
            "(7, 10, 10, 10)\n",
            "(7, 10, 10, 99)\n",
            "(7, 77, 77, 99)\n",
            "(99, 10, 10, 10)\n",
            "(7, 10, 99, 10)\n",
            "(99, 10, 10, 99)\n",
            "(99, 10, 10, 7)\n",
            "(99, 10, 10, 77)\n",
            "(99, 10, 10, 10)\n",
            "(99, 99, 99, 99)\n",
            "(99, 7, 7, 7)\n",
            "(99, 77, 77, 77)\n",
            "(99, 10, 10, 10)\n",
            "(7, 7, 99, 99)\n",
            "(10, 10, 10, 99)\n",
            "(77, 77, 10, 10)\n",
            "(77, 7, 7, 99)\n",
            "(77, 77, 99, 99)\n",
            "(99, 99, 7, 7)\n",
            "(10, 10, 7, 99)\n",
            "(7, 77, 99, 99)\n",
            "(77, 99, 7, 7)\n",
            "(10, 10, 7, 7)\n",
            "(7, 10, 99, 77)\n",
            "(99, 10, 77, 7)\n",
            "(99, 99, 7, 7)\n",
            "(99, 99, 10, 10)\n",
            "(10, 10, 7, 77)\n",
            "(99, 77, 10, 7)\n",
            "(10, 99, 77, 7)\n",
            "(7, 10, 99, 77)\n",
            "(77, 99, 10, 7)\n",
            "(10, 77, 7, 99)\n",
            "(10, 99, 7, 77)\n",
            "(99, 99, 7, 10)\n",
            "(10, 99, 99, 10)\n"
          ]
        }
      ]
    },
    {
      "cell_type": "code",
      "source": [
        "a = 3000\n",
        "b = 4000\n",
        "if b > a:\n",
        "  print(\"b is greater than a\")"
      ],
      "metadata": {
        "colab": {
          "base_uri": "https://localhost:8080/"
        },
        "id": "sDGcIIU1BTHm",
        "outputId": "9eaf2641-2a5c-4ab5-efba-54aeebd10624"
      },
      "execution_count": null,
      "outputs": [
        {
          "output_type": "stream",
          "name": "stdout",
          "text": [
            "b is greater than a\n"
          ]
        }
      ]
    },
    {
      "cell_type": "code",
      "source": [
        "#error sim\n",
        "a = 33\n",
        "b = 200\n",
        "if b > a:\n",
        "print(\"b is greater than a\") # you will get an error"
      ],
      "metadata": {
        "colab": {
          "base_uri": "https://localhost:8080/",
          "height": 106
        },
        "id": "kinbu4cXBXDa",
        "outputId": "b505028f-978e-40cb-ec05-664a34c675b5"
      },
      "execution_count": null,
      "outputs": [
        {
          "output_type": "error",
          "ename": "IndentationError",
          "evalue": "expected an indented block after 'if' statement on line 4 (<ipython-input-6-8cc2579db0bc>, line 5)",
          "traceback": [
            "\u001b[0;36m  File \u001b[0;32m\"<ipython-input-6-8cc2579db0bc>\"\u001b[0;36m, line \u001b[0;32m5\u001b[0m\n\u001b[0;31m    print(\"b is greater than a\") # you will get an error\u001b[0m\n\u001b[0m    ^\u001b[0m\n\u001b[0;31mIndentationError\u001b[0m\u001b[0;31m:\u001b[0m expected an indented block after 'if' statement on line 4\n"
          ]
        }
      ]
    },
    {
      "cell_type": "code",
      "source": [
        "a = 4000\n",
        "b = 4000\n",
        "if b == a:\n",
        "  print(\"b and a are equal\")"
      ],
      "metadata": {
        "colab": {
          "base_uri": "https://localhost:8080/"
        },
        "id": "rselrMhuCFN6",
        "outputId": "71e7702b-d7da-4ec3-c1ec-412e080dc326"
      },
      "execution_count": null,
      "outputs": [
        {
          "output_type": "stream",
          "name": "stdout",
          "text": [
            "b and a are equal\n"
          ]
        }
      ]
    },
    {
      "cell_type": "code",
      "source": [
        "a = 4000\n",
        "b = 5000\n",
        "if b + a <= 8000:\n",
        "  print(\"Less than 8000\"),\n",
        "elif b + a >= 8000:\n",
        "  print(\"Greater than 8000\")"
      ],
      "metadata": {
        "colab": {
          "base_uri": "https://localhost:8080/"
        },
        "id": "mggfx-0tCOEp",
        "outputId": "b368d567-8ee9-4dce-9ef2-0dcd1d42a8af"
      },
      "execution_count": null,
      "outputs": [
        {
          "output_type": "stream",
          "name": "stdout",
          "text": [
            "Greater than 8000\n"
          ]
        }
      ]
    },
    {
      "cell_type": "code",
      "source": [
        "#ELSE IF\n",
        "a = 4330\n",
        "b = 4330\n",
        "if b > a:\n",
        "  print(\"b is greater than a\")\n",
        "elif a == b:\n",
        "  print(\"a and b are equal\")\n",
        "elif a - b == 0:\n",
        "  print(\"Zero\")"
      ],
      "metadata": {
        "colab": {
          "base_uri": "https://localhost:8080/"
        },
        "id": "KhO5FNm1DZVu",
        "outputId": "38376f9f-47cf-4466-dfbd-42cae61bd063"
      },
      "execution_count": null,
      "outputs": [
        {
          "output_type": "stream",
          "name": "stdout",
          "text": [
            "a and b are equal\n"
          ]
        }
      ]
    },
    {
      "cell_type": "code",
      "source": [
        "a = 200\n",
        "b = 33\n",
        "if b > a:\n",
        "  print(\"b is greater than a\")\n",
        "elif a == b:\n",
        "  print(\"a and b are equal\")\n",
        "else:\n",
        "  print(\"else \")"
      ],
      "metadata": {
        "colab": {
          "base_uri": "https://localhost:8080/"
        },
        "id": "LqYcpbvJELyR",
        "outputId": "9466da0b-b18b-48de-c8e7-266ce3d08e90"
      },
      "execution_count": null,
      "outputs": [
        {
          "output_type": "stream",
          "name": "stdout",
          "text": [
            "else \n"
          ]
        }
      ]
    },
    {
      "cell_type": "code",
      "source": [
        "a = 2\n",
        "b = 2\n",
        "c = 2\n",
        "if a > b and a > c:\n",
        "  print(\"a is greater\")\n",
        "elif a == b and a == c:\n",
        "  print(\"all are equal\")\n",
        "elif b > a and b >c:\n",
        "  print(\"b is greater\")\n",
        "else:\n",
        "  print(\"else\")"
      ],
      "metadata": {
        "colab": {
          "base_uri": "https://localhost:8080/"
        },
        "id": "U01fK4KcEqzB",
        "outputId": "302bafa4-a034-4a0e-97c0-2ee9f3012c24"
      },
      "execution_count": null,
      "outputs": [
        {
          "output_type": "stream",
          "name": "stdout",
          "text": [
            "all are equal\n"
          ]
        }
      ]
    },
    {
      "cell_type": "code",
      "source": [
        "# Define user ID and password\n",
        "user_id = \"bala\"\n",
        "password = \"1234\"\n",
        "\n",
        "# Get user input for user ID and password\n",
        "input_user_id = input(\"Enter user ID: \")\n",
        "input_password = input(\"Enter password: \")\n",
        "\n",
        "# Check if the user ID and password are correct\n",
        "if input_user_id == user_id and input_password == password:\n",
        "    # Give access to the module\n",
        "    print(\"Access granted. Welcome to the module!\")\n",
        "else:\n",
        "    # Deny access\n",
        "    print(\"Access denied. Incorrect user ID or password.\")"
      ],
      "metadata": {
        "colab": {
          "base_uri": "https://localhost:8080/"
        },
        "id": "9xtpMatsFb_a",
        "outputId": "57049dc9-d845-4a46-f96b-34c579219802"
      },
      "execution_count": null,
      "outputs": [
        {
          "output_type": "stream",
          "name": "stdout",
          "text": [
            "Enter user ID: bala\n",
            "Enter password: 1234\n",
            "Access granted. Welcome to the module!\n"
          ]
        }
      ]
    },
    {
      "cell_type": "code",
      "source": [
        "import pandas as pd\n",
        "\n",
        "user_id = \"gokul\"\n",
        "password = \"gokul\"\n",
        "\n",
        "input_user_id = input(\"Enter User ID: \")\n",
        "input_password = input(\"Enter Password: \")\n",
        "\n",
        "if input_user_id == user_id and input_password == password:\n",
        "  A = pd.read_excel(\"Internal.xlsx\")\n",
        "  print(A)\n",
        "\n",
        "else:\n",
        "  print(\"User Id does not exist\")"
      ],
      "metadata": {
        "colab": {
          "base_uri": "https://localhost:8080/"
        },
        "id": "FqlTr8FvFfi6",
        "outputId": "cc16aeba-1775-4eab-d2f5-58f32f5b2cf7"
      },
      "execution_count": null,
      "outputs": [
        {
          "output_type": "stream",
          "name": "stdout",
          "text": [
            "Enter User ID: gokul\n",
            "Enter Password: gokul\n",
            "   Unnamed: 0    Name  Math  Bio  Che\n",
            "0           0     Sam    45   50   12\n",
            "1           1     Abi    50   75   45\n",
            "2           2     Dev    12   25   75\n",
            "3           3  Sathya    60   50   25\n",
            "4           4     Ben    77   65   62\n"
          ]
        }
      ]
    },
    {
      "cell_type": "code",
      "source": [
        "score1 = int(input(\"Enter score1: \"))\n",
        "if score1 > 90:\n",
        "    print(\"Student grade is A\")\n",
        "elif score1 >= 80 and score1 <= 89:\n",
        "    print(\"Student grade is B\")\n",
        "elif score1 >= 70 and score1 <= 79:\n",
        "    print(\"Student grade is C\")\n",
        "elif score1 >= 60 and score1 <= 69:\n",
        "    print(\"Student grade is D\")\n",
        "else:\n",
        "    print(\"Student grade is F\")"
      ],
      "metadata": {
        "colab": {
          "base_uri": "https://localhost:8080/"
        },
        "id": "yxixfQtyHjiP",
        "outputId": "9c379de7-aed8-4535-d6aa-45cd7d69de43"
      },
      "execution_count": null,
      "outputs": [
        {
          "output_type": "stream",
          "name": "stdout",
          "text": [
            "Enter score1: 87\n",
            "Student grade is B\n"
          ]
        }
      ]
    },
    {
      "cell_type": "code",
      "source": [
        "#Age Category: Write a program that takes a person's age as input and prints their corresponding age category based on the following criteria:\n",
        "#0 to 2 years: \"Infant\"\n",
        "#3 to 12 years: \"Child\"\n",
        "#13 to 19 years: \"Teenager\"\n",
        "#20 to 59 years: \"Adult\"\n",
        "#60 years and above: \"Senior Citizen\"\n",
        "\n",
        "Age = int(input(\"Enter Age = \"))\n",
        "if Age >= 0 and Age <= 2:\n",
        "  print(\"Infant\")\n",
        "elif Age >=3 and Age <=12:\n",
        "  print(\"Child\")\n",
        "elif Age >=13 and Age <=19:\n",
        "  print(\"Teenager\")\n",
        "elif Age >=20 and Age <= 59:\n",
        "  print(\"Adult\")\n",
        "elif Age >=60:\n",
        "  print(\"Senior citizen\")\n",
        "else\n",
        "  print(\"Unable to access\")"
      ],
      "metadata": {
        "colab": {
          "base_uri": "https://localhost:8080/"
        },
        "id": "EsOBLtplISuy",
        "outputId": "9c0cc933-bbfe-4a63-c15a-4ce31df53fe0"
      },
      "execution_count": null,
      "outputs": [
        {
          "output_type": "stream",
          "name": "stdout",
          "text": [
            "Enter Age = 67\n",
            "Senior citizen\n"
          ]
        }
      ]
    },
    {
      "cell_type": "code",
      "source": [
        "#BMI Calculator: Write a program that takes a person's weight (in kilograms) and height (in meters) as input and calculates their Body Mass Index (BMI). Print their corresponding BMI category based on the following criteria:\n",
        "#Below 18.5: \"Underweight\"\n",
        "#18.5 to 24.9: \"Normal weight\"\n",
        "#25 to 29.9: \"Overweight\"\n",
        "#30 or above: \"Obese\"\n",
        "\n",
        "Weight = float(input(\"Enter Weight (Kg) = \"))\n",
        "Height = float(input(\"Enter Height (m) = \"))\n",
        "BMI = Weight/Height\n",
        "if BMI <= 18.5:\n",
        "  print(\"Under weight\")\n",
        "elif BMI >= 18.5 and BMI <= 24.9:\n",
        "  print(\"Normal weight\")\n",
        "elif BMI >= 25 and BMI <= 29.9:\n",
        "  print(\"Over weight\")\n",
        "elif BMI >= 30 :\n",
        "  print(\"Obese\")"
      ],
      "metadata": {
        "colab": {
          "base_uri": "https://localhost:8080/"
        },
        "id": "gK4F-0P8IUp7",
        "outputId": "5bf6400c-3dc2-4948-9a34-00ad6fa409a6"
      },
      "execution_count": null,
      "outputs": [
        {
          "output_type": "stream",
          "name": "stdout",
          "text": [
            "Enter Weight (Kg) = 75\n",
            "Enter Height (m) = 185\n",
            "Under weight\n"
          ]
        }
      ]
    },
    {
      "cell_type": "code",
      "source": [
        "import pandas as pd\n",
        "c= input(\"Enter the 1 for file 1 ,2 for file 2...\")\n",
        "if c=='1' :\n",
        "   df1=pd.read_excel(\"xlrandom1.xlsx\")\n",
        "   print(df1)\n",
        "elif c=='2' :\n",
        "   df2=pd.read_excel(\"xlrandom2.xlsx\")\n",
        "   print(df2)\n",
        "elif c=='3' :\n",
        "   df3=pd.read_excel(\"xlrandom3.xlsx\")\n",
        "   print(df3)\n",
        "elif c=='4' :\n",
        "   df4=pd.read_excel(\"xlrandom4.xlsx\")\n",
        "   print(df4)\n",
        "elif c=='5':\n",
        "   df5 = pd.read_excel(\"Internal.xlsx\")\n",
        "   print(df5)\n",
        "else:\n",
        "    print(\"File not found \")"
      ],
      "metadata": {
        "colab": {
          "base_uri": "https://localhost:8080/"
        },
        "id": "BWUVshvjL7rC",
        "outputId": "bd6168cb-82a7-45a2-eb80-a927d56bcbb3"
      },
      "execution_count": null,
      "outputs": [
        {
          "output_type": "stream",
          "name": "stdout",
          "text": [
            "Enter the 1 for file 1 ,2 for file 2...5\n",
            "   Unnamed: 0    Name  Math  Bio  Che\n",
            "0           0     Sam    45   50   12\n",
            "1           1     Abi    50   75   45\n",
            "2           2     Dev    12   25   75\n",
            "3           3  Sathya    60   50   25\n",
            "4           4     Ben    77   65   62\n"
          ]
        }
      ]
    },
    {
      "cell_type": "code",
      "source": [
        "import pandas as pd\n",
        "\n",
        "C = input(\"Enter 1 for feedback and customer details 2 for consumables register ... = \")\n",
        "\n",
        "if C=='1' or C=='Customer Details' or C=='Customer details' or C== 'Feedback Details' or C=='customer details' or C=='feedback details' or C=='Feedback' or C=='FEEDBACK' or C=='Feedback and Customer Details' or C=='feedback' or C=='ONE' or C=='One' or C=='one':\n",
        "  A = pd.read_excel(\"Feedback_and_Customer_Details (1).xlsx\")\n",
        "  print(A)\n",
        "elif C=='2' or C=='consumable Register' or C=='Consumable register' or C=='Consumbles register' or C=='consumable register' or C=='Consumables Register' or C=='CONSUMABLES REGISTER':\n",
        "  B = pd.read_excel(\"Consumables_Register (2).xlsx\")\n",
        "  print(B)\n",
        "elif C=='3' or C=='EMPLOYEE ATTENDANCE' or C=='Attendance' or C=='Employee attendance' or C=='employee attendance' or C=='attendance' or C=='ATTENDANCE':\n",
        "  C = pd.read_excel(\"Employee_Attendance (1).xlsx\")\n",
        "  print(C)\n",
        "elif C =='4' or C=='Salary details' or C=='Salary Details' or C=='salary details' or C=='SALARY DETAILS' or C=='salary' or C=='SALARY' or C=='Salary':\n",
        "  D = pd.read_excel(\"Salary_Details (1).xlsx\")\n",
        "  print(D)\n",
        "elif C =='5' or C=='Stock register' or C=='stock register' or C=='STOCK REGISTER' or C=='Stock Register' or C=='Stock' or C=='STOCK' or C=='stock':\n",
        "  E = pd.read_excel(\"Stock_Register (1).xlsx\")\n",
        "  print(E)"
      ],
      "metadata": {
        "colab": {
          "base_uri": "https://localhost:8080/"
        },
        "id": "pfba5PKEUMdt",
        "outputId": "c5e3fc97-0495-4116-f998-1ddb3a632c23"
      },
      "execution_count": null,
      "outputs": [
        {
          "output_type": "stream",
          "name": "stdout",
          "text": [
            "Enter 1 for feedback and customer details 2 for consumables register ... = salary\n",
            "  Employee ID Employee Name  Salary    TA    DA  PF Allowance\n",
            "0        E001    Employee_1   77831  4709  2227          2267\n",
            "1        E002    Employee_2   69302  3389  2365          4801\n",
            "2        E003    Employee_3   66503  2577  2918          4923\n",
            "3        E004    Employee_4   57255  4226  2333          3862\n",
            "4        E005    Employee_5   43657  2321  1440          3865\n",
            "5        E006    Employee_6   72640  2329  2303          4728\n",
            "6        E007    Employee_7   66298  4406  1176          3311\n",
            "7        E008    Employee_8   62559  2680  2135          4461\n",
            "8        E009    Employee_9   78762  4632  1217          1514\n",
            "9        E010   Employee_10   62260  3580  1134          1470\n"
          ]
        }
      ]
    },
    {
      "cell_type": "code",
      "source": [
        "import pandas as pd\n",
        "c= input(\"Enter the 1 for file 1 ,2 for file 2...\")\n",
        "if c=='1' or c=='file1' or c=='f1'or c=='one' or  c=='One' or c=='ONE' or c=='F1':\n",
        "   df1=pd.read_excel(\"xlrandom1.xlsx\")\n",
        "   print(df1)\n",
        "elif c=='2' or c=='file2'or c=='f2' or c=='File2' or c=='Two' or c=='TWO' or c=='two' or c=='FILE2':\n",
        "   df2=pd.read_excel(\"xlrandom2.xlsx\")\n",
        "   print(df2)\n",
        "elif c=='3' or c=='file3'or c=='f3' or c=='File3' or c=='FILE3' or c=='Three' or c=='THREE' or c=='three':\n",
        "   df3=pd.read_excel(\"xlrandom3.xlsx\")\n",
        "   print(df3)\n",
        "elif c=='4' or c=='file4'or c=='f4' or c=='FILE4' or c=='File4' or c=='Four' or c=='FOUR' or c=='four' or c=='F4':\n",
        "   df4=pd.read_excel(\"xlrandom4.xlsx\")\n",
        "   print(df4)\n",
        "else:\n",
        "    print(\"File not found \")"
      ],
      "metadata": {
        "colab": {
          "base_uri": "https://localhost:8080/"
        },
        "id": "AUDUFAriXQFN",
        "outputId": "1d6450e5-d825-438c-97bc-eab2dcd4d0da"
      },
      "execution_count": null,
      "outputs": [
        {
          "output_type": "stream",
          "name": "stdout",
          "text": [
            "Enter the 1 for file 1 ,2 for file 2...f4\n",
            "      Name  English  Math  Physics  Chemistry  Electronics\n",
            "0     Arun       60    80       52         80           60\n",
            "1     Arun       80    91       30         72           60\n",
            "2     Manu       72    91       52         91           72\n",
            "3   Sanjay       72    91       52         30           80\n",
            "4     Arun       80    72       52         52           72\n",
            "5     Arun       30    80       52         91           52\n",
            "6     Arun       52    80       91         72           60\n",
            "7   Sanjay       91    72       72         72           72\n",
            "8    Akash       72    72       72         80           60\n",
            "9     Manu       72    72       72         72           91\n",
            "10  Sanjay       30    30       80         80           52\n",
            "11    Manu       72    30       72         72           52\n",
            "12    Arun       91    52       80         80           72\n",
            "13    Manu       52    30       72         72           72\n",
            "14    Arun       72    80       30         91           72\n"
          ]
        }
      ]
    },
    {
      "cell_type": "code",
      "source": [
        "#for\n",
        "for x in range(5):  #start at 0 end before 5 increment by 1\n",
        "    print(x)\n"
      ],
      "metadata": {
        "colab": {
          "base_uri": "https://localhost:8080/"
        },
        "id": "zUvXm1gjcgVW",
        "outputId": "e8202e7f-79e9-488c-c192-1de71e11bb8d"
      },
      "execution_count": null,
      "outputs": [
        {
          "output_type": "stream",
          "name": "stdout",
          "text": [
            "0\n",
            "1\n",
            "2\n",
            "3\n",
            "4\n"
          ]
        }
      ]
    },
    {
      "cell_type": "code",
      "source": [
        "for x in range(5):  #start at 0 end before 5 increment by 1\n",
        "    print(\"hi\")"
      ],
      "metadata": {
        "colab": {
          "base_uri": "https://localhost:8080/"
        },
        "id": "Sq0GdTkxcmk3",
        "outputId": "c4371625-438c-4c67-b7e3-351e9e6d5902"
      },
      "execution_count": null,
      "outputs": [
        {
          "output_type": "stream",
          "name": "stdout",
          "text": [
            "hi\n",
            "hi\n",
            "hi\n",
            "hi\n",
            "hi\n"
          ]
        }
      ]
    },
    {
      "cell_type": "code",
      "source": [
        "a=int(input(\"Enter salary = \"))\n",
        "print(\"salary=\",a)\n",
        "\n"
      ],
      "metadata": {
        "colab": {
          "base_uri": "https://localhost:8080/"
        },
        "id": "lkFNiY0EdNZb",
        "outputId": "3864462b-f87f-4470-9b0b-82cb9ee51ef2"
      },
      "execution_count": null,
      "outputs": [
        {
          "output_type": "stream",
          "name": "stdout",
          "text": [
            "Enter salary15000\n",
            "salary= 15000\n"
          ]
        }
      ]
    },
    {
      "cell_type": "code",
      "source": [
        "for x in range(5):  #start at 0 end before 5 increment by 1\n",
        "    a=int(input(\"Enter salary = \"))\n",
        "    print(\"salary =\",a)\n",
        "    print(x)"
      ],
      "metadata": {
        "colab": {
          "base_uri": "https://localhost:8080/",
          "height": 408
        },
        "id": "Uw8py5LHdPsr",
        "outputId": "f7e4bb83-d12d-4a86-e91f-7e4fc3bd15ee"
      },
      "execution_count": null,
      "outputs": [
        {
          "output_type": "stream",
          "name": "stdout",
          "text": [
            "Enter salary = 1000\n",
            "salary = 1000\n",
            "0\n"
          ]
        },
        {
          "output_type": "error",
          "ename": "KeyboardInterrupt",
          "evalue": "Interrupted by user",
          "traceback": [
            "\u001b[0;31m---------------------------------------------------------------------------\u001b[0m",
            "\u001b[0;31mKeyboardInterrupt\u001b[0m                         Traceback (most recent call last)",
            "\u001b[0;32m<ipython-input-36-085c347a1fea>\u001b[0m in \u001b[0;36m<cell line: 1>\u001b[0;34m()\u001b[0m\n\u001b[1;32m      1\u001b[0m \u001b[0;32mfor\u001b[0m \u001b[0mx\u001b[0m \u001b[0;32min\u001b[0m \u001b[0mrange\u001b[0m\u001b[0;34m(\u001b[0m\u001b[0;36m5\u001b[0m\u001b[0;34m)\u001b[0m\u001b[0;34m:\u001b[0m  \u001b[0;31m#start at 0 end before 5 increment by 1\u001b[0m\u001b[0;34m\u001b[0m\u001b[0;34m\u001b[0m\u001b[0m\n\u001b[0;32m----> 2\u001b[0;31m     \u001b[0ma\u001b[0m\u001b[0;34m=\u001b[0m\u001b[0mint\u001b[0m\u001b[0;34m(\u001b[0m\u001b[0minput\u001b[0m\u001b[0;34m(\u001b[0m\u001b[0;34m\"Enter salary = \"\u001b[0m\u001b[0;34m)\u001b[0m\u001b[0;34m)\u001b[0m\u001b[0;34m\u001b[0m\u001b[0;34m\u001b[0m\u001b[0m\n\u001b[0m\u001b[1;32m      3\u001b[0m     \u001b[0mprint\u001b[0m\u001b[0;34m(\u001b[0m\u001b[0;34m\"salary =\"\u001b[0m\u001b[0;34m,\u001b[0m\u001b[0ma\u001b[0m\u001b[0;34m)\u001b[0m\u001b[0;34m\u001b[0m\u001b[0;34m\u001b[0m\u001b[0m\n\u001b[1;32m      4\u001b[0m     \u001b[0mprint\u001b[0m\u001b[0;34m(\u001b[0m\u001b[0mx\u001b[0m\u001b[0;34m)\u001b[0m\u001b[0;34m\u001b[0m\u001b[0;34m\u001b[0m\u001b[0m\n",
            "\u001b[0;32m/usr/local/lib/python3.10/dist-packages/ipykernel/kernelbase.py\u001b[0m in \u001b[0;36mraw_input\u001b[0;34m(self, prompt)\u001b[0m\n\u001b[1;32m    849\u001b[0m                 \u001b[0;34m\"raw_input was called, but this frontend does not support input requests.\"\u001b[0m\u001b[0;34m\u001b[0m\u001b[0;34m\u001b[0m\u001b[0m\n\u001b[1;32m    850\u001b[0m             )\n\u001b[0;32m--> 851\u001b[0;31m         return self._input_request(str(prompt),\n\u001b[0m\u001b[1;32m    852\u001b[0m             \u001b[0mself\u001b[0m\u001b[0;34m.\u001b[0m\u001b[0m_parent_ident\u001b[0m\u001b[0;34m,\u001b[0m\u001b[0;34m\u001b[0m\u001b[0;34m\u001b[0m\u001b[0m\n\u001b[1;32m    853\u001b[0m             \u001b[0mself\u001b[0m\u001b[0;34m.\u001b[0m\u001b[0m_parent_header\u001b[0m\u001b[0;34m,\u001b[0m\u001b[0;34m\u001b[0m\u001b[0;34m\u001b[0m\u001b[0m\n",
            "\u001b[0;32m/usr/local/lib/python3.10/dist-packages/ipykernel/kernelbase.py\u001b[0m in \u001b[0;36m_input_request\u001b[0;34m(self, prompt, ident, parent, password)\u001b[0m\n\u001b[1;32m    893\u001b[0m             \u001b[0;32mexcept\u001b[0m \u001b[0mKeyboardInterrupt\u001b[0m\u001b[0;34m:\u001b[0m\u001b[0;34m\u001b[0m\u001b[0;34m\u001b[0m\u001b[0m\n\u001b[1;32m    894\u001b[0m                 \u001b[0;31m# re-raise KeyboardInterrupt, to truncate traceback\u001b[0m\u001b[0;34m\u001b[0m\u001b[0;34m\u001b[0m\u001b[0m\n\u001b[0;32m--> 895\u001b[0;31m                 \u001b[0;32mraise\u001b[0m \u001b[0mKeyboardInterrupt\u001b[0m\u001b[0;34m(\u001b[0m\u001b[0;34m\"Interrupted by user\"\u001b[0m\u001b[0;34m)\u001b[0m \u001b[0;32mfrom\u001b[0m \u001b[0;32mNone\u001b[0m\u001b[0;34m\u001b[0m\u001b[0;34m\u001b[0m\u001b[0m\n\u001b[0m\u001b[1;32m    896\u001b[0m             \u001b[0;32mexcept\u001b[0m \u001b[0mException\u001b[0m \u001b[0;32mas\u001b[0m \u001b[0me\u001b[0m\u001b[0;34m:\u001b[0m\u001b[0;34m\u001b[0m\u001b[0;34m\u001b[0m\u001b[0m\n\u001b[1;32m    897\u001b[0m                 \u001b[0mself\u001b[0m\u001b[0;34m.\u001b[0m\u001b[0mlog\u001b[0m\u001b[0;34m.\u001b[0m\u001b[0mwarning\u001b[0m\u001b[0;34m(\u001b[0m\u001b[0;34m\"Invalid Message:\"\u001b[0m\u001b[0;34m,\u001b[0m \u001b[0mexc_info\u001b[0m\u001b[0;34m=\u001b[0m\u001b[0;32mTrue\u001b[0m\u001b[0;34m)\u001b[0m\u001b[0;34m\u001b[0m\u001b[0;34m\u001b[0m\u001b[0m\n",
            "\u001b[0;31mKeyboardInterrupt\u001b[0m: Interrupted by user"
          ]
        }
      ]
    },
    {
      "cell_type": "code",
      "source": [
        "\n",
        "import pandas as pd\n",
        "\n",
        "for i in range(10):\n",
        "    c= input(\"Enter the 1 for file 1 ,2 for file 2...\")\n",
        "    if c=='1' or c=='file1' or c=='f1':\n",
        "      df1=pd.read_excel(\"xlrandom1.xlsx\")\n",
        "      print(df1)\n",
        "    elif c=='2' or c=='file2'or c=='f2':\n",
        "      df2=pd.read_excel(\"xlrandom2.xlsx\")\n",
        "      print(df2)\n",
        "    elif c=='3' or c=='file3'or c=='f3':\n",
        "      df3=pd.read_excel(\"xlrandom3.xlsx\")\n",
        "      print(df3)\n",
        "    elif c=='4' or c=='file4'or c=='f4':\n",
        "      df4=pd.read_excel(\"xlrandom4.xlsx\")\n",
        "      print(df4)\n",
        "    else:\n",
        "        print(\"File not found \")"
      ],
      "metadata": {
        "colab": {
          "base_uri": "https://localhost:8080/"
        },
        "id": "H2xAQguxeAex",
        "outputId": "edeb9bd1-ed62-41c1-a386-976008427698"
      },
      "execution_count": null,
      "outputs": [
        {
          "output_type": "stream",
          "name": "stdout",
          "text": [
            "Enter the 1 for file 1 ,2 for file 2...1\n",
            "      Name  English  Math  Physics  Chemistry  Electronics\n",
            "0     Manu       80    72       91         60           80\n",
            "1     Manu       72    60       52         52           72\n",
            "2     Arun       52    52       52         52           60\n",
            "3     Manu       91    72       52         72           60\n",
            "4     Manu       52    72       72         72           72\n",
            "5     Arun       30    52       91         60           80\n",
            "6     Arun       30    91       30         52           72\n",
            "7     Arun       52    72       91         91           72\n",
            "8     Arun       91    72       91         91           52\n",
            "9    Akash       91    80       60         72           72\n",
            "10    Manu       80    72       30         30           72\n",
            "11    Arun       52    60       52         72           72\n",
            "12    Arun       52    52       72         80           91\n",
            "13  Sanjay       60    52       72         72           52\n",
            "14   Akash       52    60       52         52           52\n",
            "Enter the 1 for file 1 ,2 for file 2...2\n",
            "      Name  English  Math  Physics  Chemistry  Electronics\n",
            "0     Arun       30    52       60         30           60\n",
            "1     Manu       30    30       72         80           80\n",
            "2     Manu       52    60       72         80           52\n",
            "3     Arun       52    72       72         60           30\n",
            "4     Arun       72    30       30         91           60\n",
            "5     Manu       30    80       30         60           60\n",
            "6     Arun       60    60       60         60           72\n",
            "7     Manu       52    30       52         60           52\n",
            "8     Arun       30    91       30         30           60\n",
            "9     Manu       52    91       91         60           72\n",
            "10    Arun       80    91       80         60           52\n",
            "11    Manu       91    30       60         60           72\n",
            "12  Sanjay       30    72       72         72           80\n",
            "13    Arun       72    52       52         91           52\n",
            "14    Arun       72    72       60         80           72\n",
            "Enter the 1 for file 1 ,2 for file 2...3\n",
            "     Name  English  Math  Physics  Chemistry  Electronics\n",
            "0    Manu       72    30       72         60           91\n",
            "1    Manu       30    30       72         52           91\n",
            "2    Arun       72    80       72         91           72\n",
            "3    Arun       60    52       30         52           60\n",
            "4    Manu       80    91       72         72           52\n",
            "5    Manu       72    80       30         60           72\n",
            "6   Akash       60    72       60         72           30\n",
            "7   Akash       91    72       91         60           91\n",
            "8    Manu       72    30       91         72           72\n",
            "9    Arun       60    72       80         60           91\n",
            "10   Arun       72    72       52         60           72\n",
            "11  Akash       72    52       91         72           72\n",
            "12   Arun       80    80       52         60           60\n",
            "13   Manu       91    60       91         91           72\n",
            "14   Arun       91    60       52         91           52\n",
            "Enter the 1 for file 1 ,2 for file 2...4\n",
            "      Name  English  Math  Physics  Chemistry  Electronics\n",
            "0     Arun       60    80       52         80           60\n",
            "1     Arun       80    91       30         72           60\n",
            "2     Manu       72    91       52         91           72\n",
            "3   Sanjay       72    91       52         30           80\n",
            "4     Arun       80    72       52         52           72\n",
            "5     Arun       30    80       52         91           52\n",
            "6     Arun       52    80       91         72           60\n",
            "7   Sanjay       91    72       72         72           72\n",
            "8    Akash       72    72       72         80           60\n",
            "9     Manu       72    72       72         72           91\n",
            "10  Sanjay       30    30       80         80           52\n",
            "11    Manu       72    30       72         72           52\n",
            "12    Arun       91    52       80         80           72\n",
            "13    Manu       52    30       72         72           72\n",
            "14    Arun       72    80       30         91           72\n",
            "Enter the 1 for file 1 ,2 for file 2...1\n",
            "      Name  English  Math  Physics  Chemistry  Electronics\n",
            "0     Manu       80    72       91         60           80\n",
            "1     Manu       72    60       52         52           72\n",
            "2     Arun       52    52       52         52           60\n",
            "3     Manu       91    72       52         72           60\n",
            "4     Manu       52    72       72         72           72\n",
            "5     Arun       30    52       91         60           80\n",
            "6     Arun       30    91       30         52           72\n",
            "7     Arun       52    72       91         91           72\n",
            "8     Arun       91    72       91         91           52\n",
            "9    Akash       91    80       60         72           72\n",
            "10    Manu       80    72       30         30           72\n",
            "11    Arun       52    60       52         72           72\n",
            "12    Arun       52    52       72         80           91\n",
            "13  Sanjay       60    52       72         72           52\n",
            "14   Akash       52    60       52         52           52\n",
            "Enter the 1 for file 1 ,2 for file 2...3\n",
            "     Name  English  Math  Physics  Chemistry  Electronics\n",
            "0    Manu       72    30       72         60           91\n",
            "1    Manu       30    30       72         52           91\n",
            "2    Arun       72    80       72         91           72\n",
            "3    Arun       60    52       30         52           60\n",
            "4    Manu       80    91       72         72           52\n",
            "5    Manu       72    80       30         60           72\n",
            "6   Akash       60    72       60         72           30\n",
            "7   Akash       91    72       91         60           91\n",
            "8    Manu       72    30       91         72           72\n",
            "9    Arun       60    72       80         60           91\n",
            "10   Arun       72    72       52         60           72\n",
            "11  Akash       72    52       91         72           72\n",
            "12   Arun       80    80       52         60           60\n",
            "13   Manu       91    60       91         91           72\n",
            "14   Arun       91    60       52         91           52\n",
            "Enter the 1 for file 1 ,2 for file 2...1\n",
            "      Name  English  Math  Physics  Chemistry  Electronics\n",
            "0     Manu       80    72       91         60           80\n",
            "1     Manu       72    60       52         52           72\n",
            "2     Arun       52    52       52         52           60\n",
            "3     Manu       91    72       52         72           60\n",
            "4     Manu       52    72       72         72           72\n",
            "5     Arun       30    52       91         60           80\n",
            "6     Arun       30    91       30         52           72\n",
            "7     Arun       52    72       91         91           72\n",
            "8     Arun       91    72       91         91           52\n",
            "9    Akash       91    80       60         72           72\n",
            "10    Manu       80    72       30         30           72\n",
            "11    Arun       52    60       52         72           72\n",
            "12    Arun       52    52       72         80           91\n",
            "13  Sanjay       60    52       72         72           52\n",
            "14   Akash       52    60       52         52           52\n",
            "Enter the 1 for file 1 ,2 for file 2...2\n",
            "      Name  English  Math  Physics  Chemistry  Electronics\n",
            "0     Arun       30    52       60         30           60\n",
            "1     Manu       30    30       72         80           80\n",
            "2     Manu       52    60       72         80           52\n",
            "3     Arun       52    72       72         60           30\n",
            "4     Arun       72    30       30         91           60\n",
            "5     Manu       30    80       30         60           60\n",
            "6     Arun       60    60       60         60           72\n",
            "7     Manu       52    30       52         60           52\n",
            "8     Arun       30    91       30         30           60\n",
            "9     Manu       52    91       91         60           72\n",
            "10    Arun       80    91       80         60           52\n",
            "11    Manu       91    30       60         60           72\n",
            "12  Sanjay       30    72       72         72           80\n",
            "13    Arun       72    52       52         91           52\n",
            "14    Arun       72    72       60         80           72\n",
            "Enter the 1 for file 1 ,2 for file 2...8\n",
            "File not found \n",
            "Enter the 1 for file 1 ,2 for file 2...2\n",
            "      Name  English  Math  Physics  Chemistry  Electronics\n",
            "0     Arun       30    52       60         30           60\n",
            "1     Manu       30    30       72         80           80\n",
            "2     Manu       52    60       72         80           52\n",
            "3     Arun       52    72       72         60           30\n",
            "4     Arun       72    30       30         91           60\n",
            "5     Manu       30    80       30         60           60\n",
            "6     Arun       60    60       60         60           72\n",
            "7     Manu       52    30       52         60           52\n",
            "8     Arun       30    91       30         30           60\n",
            "9     Manu       52    91       91         60           72\n",
            "10    Arun       80    91       80         60           52\n",
            "11    Manu       91    30       60         60           72\n",
            "12  Sanjay       30    72       72         72           80\n",
            "13    Arun       72    52       52         91           52\n",
            "14    Arun       72    72       60         80           72\n"
          ]
        }
      ]
    },
    {
      "cell_type": "code",
      "source": [
        "import pandas as pd\n",
        "for i in range(7):\n",
        "  c= input(\"Enter the 1 for file 1 ,2 for file 2...= \")\n",
        "  if c=='1' or c=='file1' or c=='f1'or c=='one' or  c=='One' or c=='ONE' or c=='F1':\n",
        "   df1=pd.read_excel(\"xlrandom1.xlsx\")\n",
        "   print(df1)\n",
        "  elif c=='2' or c=='file2'or c=='f2' or c=='File2' or c=='Two' or c=='TWO' or c=='two' or c=='FILE2':\n",
        "   df2=pd.read_excel(\"xlrandom2.xlsx\")\n",
        "   print(df2)\n",
        "  elif c=='3' or c=='file3'or c=='f3' or c=='File3' or c=='FILE3' or c=='Three' or c=='THREE' or c=='three':\n",
        "   df3=pd.read_excel(\"xlrandom3.xlsx\")\n",
        "   print(df3)\n",
        "  elif c=='4' or c=='file4'or c=='f4' or c=='FILE4' or c=='File4' or c=='Four' or c=='FOUR' or c=='four' or c=='F4':\n",
        "   df4=pd.read_excel(\"xlrandom4.xlsx\")\n",
        "   print(df4)\n",
        "  else:\n",
        "    print(\"File not found \")\n",
        "print(i)"
      ],
      "metadata": {
        "colab": {
          "base_uri": "https://localhost:8080/"
        },
        "id": "oFGy0xjieSph",
        "outputId": "3a1e32ee-6380-4d79-96fa-aff864d3b207"
      },
      "execution_count": null,
      "outputs": [
        {
          "output_type": "stream",
          "name": "stdout",
          "text": [
            "Enter the 1 for file 1 ,2 for file 2...= 4\n",
            "      Name  English  Math  Physics  Chemistry  Electronics\n",
            "0     Arun       60    80       52         80           60\n",
            "1     Arun       80    91       30         72           60\n",
            "2     Manu       72    91       52         91           72\n",
            "3   Sanjay       72    91       52         30           80\n",
            "4     Arun       80    72       52         52           72\n",
            "5     Arun       30    80       52         91           52\n",
            "6     Arun       52    80       91         72           60\n",
            "7   Sanjay       91    72       72         72           72\n",
            "8    Akash       72    72       72         80           60\n",
            "9     Manu       72    72       72         72           91\n",
            "10  Sanjay       30    30       80         80           52\n",
            "11    Manu       72    30       72         72           52\n",
            "12    Arun       91    52       80         80           72\n",
            "13    Manu       52    30       72         72           72\n",
            "14    Arun       72    80       30         91           72\n",
            "Enter the 1 for file 1 ,2 for file 2...= file2\n",
            "      Name  English  Math  Physics  Chemistry  Electronics\n",
            "0     Arun       30    52       60         30           60\n",
            "1     Manu       30    30       72         80           80\n",
            "2     Manu       52    60       72         80           52\n",
            "3     Arun       52    72       72         60           30\n",
            "4     Arun       72    30       30         91           60\n",
            "5     Manu       30    80       30         60           60\n",
            "6     Arun       60    60       60         60           72\n",
            "7     Manu       52    30       52         60           52\n",
            "8     Arun       30    91       30         30           60\n",
            "9     Manu       52    91       91         60           72\n",
            "10    Arun       80    91       80         60           52\n",
            "11    Manu       91    30       60         60           72\n",
            "12  Sanjay       30    72       72         72           80\n",
            "13    Arun       72    52       52         91           52\n",
            "14    Arun       72    72       60         80           72\n",
            "Enter the 1 for file 1 ,2 for file 2...= 7\n",
            "File not found \n",
            "Enter the 1 for file 1 ,2 for file 2...= three\n",
            "     Name  English  Math  Physics  Chemistry  Electronics\n",
            "0    Manu       72    30       72         60           91\n",
            "1    Manu       30    30       72         52           91\n",
            "2    Arun       72    80       72         91           72\n",
            "3    Arun       60    52       30         52           60\n",
            "4    Manu       80    91       72         72           52\n",
            "5    Manu       72    80       30         60           72\n",
            "6   Akash       60    72       60         72           30\n",
            "7   Akash       91    72       91         60           91\n",
            "8    Manu       72    30       91         72           72\n",
            "9    Arun       60    72       80         60           91\n",
            "10   Arun       72    72       52         60           72\n",
            "11  Akash       72    52       91         72           72\n",
            "12   Arun       80    80       52         60           60\n",
            "13   Manu       91    60       91         91           72\n",
            "14   Arun       91    60       52         91           52\n",
            "Enter the 1 for file 1 ,2 for file 2...= F1\n",
            "      Name  English  Math  Physics  Chemistry  Electronics\n",
            "0     Manu       80    72       91         60           80\n",
            "1     Manu       72    60       52         52           72\n",
            "2     Arun       52    52       52         52           60\n",
            "3     Manu       91    72       52         72           60\n",
            "4     Manu       52    72       72         72           72\n",
            "5     Arun       30    52       91         60           80\n",
            "6     Arun       30    91       30         52           72\n",
            "7     Arun       52    72       91         91           72\n",
            "8     Arun       91    72       91         91           52\n",
            "9    Akash       91    80       60         72           72\n",
            "10    Manu       80    72       30         30           72\n",
            "11    Arun       52    60       52         72           72\n",
            "12    Arun       52    52       72         80           91\n",
            "13  Sanjay       60    52       72         72           52\n",
            "14   Akash       52    60       52         52           52\n",
            "Enter the 1 for file 1 ,2 for file 2...= Four\n",
            "      Name  English  Math  Physics  Chemistry  Electronics\n",
            "0     Arun       60    80       52         80           60\n",
            "1     Arun       80    91       30         72           60\n",
            "2     Manu       72    91       52         91           72\n",
            "3   Sanjay       72    91       52         30           80\n",
            "4     Arun       80    72       52         52           72\n",
            "5     Arun       30    80       52         91           52\n",
            "6     Arun       52    80       91         72           60\n",
            "7   Sanjay       91    72       72         72           72\n",
            "8    Akash       72    72       72         80           60\n",
            "9     Manu       72    72       72         72           91\n",
            "10  Sanjay       30    30       80         80           52\n",
            "11    Manu       72    30       72         72           52\n",
            "12    Arun       91    52       80         80           72\n",
            "13    Manu       52    30       72         72           72\n",
            "14    Arun       72    80       30         91           72\n",
            "Enter the 1 for file 1 ,2 for file 2...= 5\n",
            "File not found \n",
            "6\n"
          ]
        }
      ]
    },
    {
      "cell_type": "code",
      "source": [
        "import pandas as pd\n",
        "\n",
        "for i in range(7):\n",
        "  C = input(\"Enter 1 for feedback and customer details 2 for consumables register ... = \")\n",
        "  if C=='1' or C=='Customer Details' or C=='Customer details' or C== 'Feedback Details' or C=='customer details' or C=='feedback details' or C=='Feedback' or C=='FEEDBACK' or C=='Feedback and Customer Details' or C=='feedback' or C=='ONE' or C=='One' or C=='one':\n",
        "   A = pd.read_excel(\"Feedback_and_Customer_Details (1).xlsx\")\n",
        "   print(A)\n",
        "  elif C=='2' or C=='consumable Register' or C=='Consumable register' or C=='Consumbles register' or C=='consumable register' or C=='Consumables Register' or C=='CONSUMABLES REGISTER':\n",
        "   B = pd.read_excel(\"Consumables_Register (2).xlsx\")\n",
        "   print(B)\n",
        "  elif C=='3' or C=='EMPLOYEE ATTENDANCE' or C=='Attendance' or C=='Employee attendance' or C=='employee attendance' or C=='attendance' or C=='ATTENDANCE':\n",
        "   C = pd.read_excel(\"Employee_Attendance (1).xlsx\")\n",
        "   print(C)\n",
        "  elif C =='4' or C=='Salary details' or C=='Salary Details' or C=='salary details' or C=='SALARY DETAILS' or C=='salary' or C=='SALARY' or C=='Salary':\n",
        "   D = pd.read_excel(\"Salary_Details (1).xlsx\")\n",
        "   print(D)\n",
        "  elif C =='5' or C=='Stock register' or C=='stock register' or C=='STOCK REGISTER' or C=='Stock Register' or C=='Stock' or C=='STOCK' or C=='stock':\n",
        "   E = pd.read_excel(\"Stock_Register (1).xlsx\")\n",
        "   print(E)\n",
        "  else:\n",
        "   print('File not found')"
      ],
      "metadata": {
        "colab": {
          "base_uri": "https://localhost:8080/"
        },
        "id": "iVbhQq22fSXf",
        "outputId": "05dd9c86-54d3-4434-ab39-27a801ff9ef2"
      },
      "execution_count": null,
      "outputs": [
        {
          "output_type": "stream",
          "name": "stdout",
          "text": [
            "Enter 1 for feedback and customer details 2 for consumables register ... = 2\n",
            "  Item ID Item Name  Quantity Consumed\n",
            "0    I001    Item_1                 36\n",
            "1    I002    Item_2                 10\n",
            "2    I003    Item_3                  8\n",
            "3    I004    Item_4                 32\n",
            "4    I005    Item_5                 17\n",
            "5    I006    Item_6                 10\n",
            "6    I007    Item_7                 22\n",
            "7    I008    Item_8                 22\n",
            "8    I009    Item_9                 39\n",
            "9    I010   Item_10                 12\n",
            "Enter 1 for feedback and customer details 2 for consumables register ... = Salary\n",
            "  Employee ID Employee Name  Salary    TA    DA  PF Allowance\n",
            "0        E001    Employee_1   77831  4709  2227          2267\n",
            "1        E002    Employee_2   69302  3389  2365          4801\n",
            "2        E003    Employee_3   66503  2577  2918          4923\n",
            "3        E004    Employee_4   57255  4226  2333          3862\n",
            "4        E005    Employee_5   43657  2321  1440          3865\n",
            "5        E006    Employee_6   72640  2329  2303          4728\n",
            "6        E007    Employee_7   66298  4406  1176          3311\n",
            "7        E008    Employee_8   62559  2680  2135          4461\n",
            "8        E009    Employee_9   78762  4632  1217          1514\n",
            "9        E010   Employee_10   62260  3580  1134          1470\n",
            "Enter 1 for feedback and customer details 2 for consumables register ... = Attendance\n",
            "  Employee ID Employee Name        Date Attendance Status\n",
            "0        E001    Employee_1  2024-08-01            Absent\n",
            "1        E002    Employee_2  2024-08-02           Present\n",
            "2        E003    Employee_3  2024-08-03           Present\n",
            "3        E004    Employee_4  2024-08-04           Present\n",
            "4        E005    Employee_5  2024-08-05           Present\n",
            "5        E006    Employee_6  2024-08-06            Absent\n",
            "6        E007    Employee_7  2024-08-07           Present\n",
            "7        E008    Employee_8  2024-08-08            Absent\n",
            "8        E009    Employee_9  2024-08-09           Present\n",
            "9        E010   Employee_10  2024-08-10            Absent\n",
            "Enter 1 for feedback and customer details 2 for consumables register ... = 7\n",
            "File not found\n",
            "Enter 1 for feedback and customer details 2 for consumables register ... = feedback\n",
            "  Customer Name                 Email ID  Phone Number   Feedback\n",
            "0    Customer_1   customer_1@example.com  919634697987  Excellent\n",
            "1    Customer_2   customer_2@example.com  919184703505  Excellent\n",
            "2    Customer_3   customer_3@example.com  919356199658  Excellent\n",
            "3    Customer_4   customer_4@example.com  919435296286       Good\n",
            "4    Customer_5   customer_5@example.com  919532361135       Poor\n",
            "5    Customer_6   customer_6@example.com  919084117034       Poor\n",
            "6    Customer_7   customer_7@example.com  919343085404    Average\n",
            "7    Customer_8   customer_8@example.com  919870917921       Poor\n",
            "8    Customer_9   customer_9@example.com  919273917066       Good\n",
            "9   Customer_10  customer_10@example.com  919536165456       Good\n",
            "Enter 1 for feedback and customer details 2 for consumables register ... = 4\n",
            "  Employee ID Employee Name  Salary    TA    DA  PF Allowance\n",
            "0        E001    Employee_1   77831  4709  2227          2267\n",
            "1        E002    Employee_2   69302  3389  2365          4801\n",
            "2        E003    Employee_3   66503  2577  2918          4923\n",
            "3        E004    Employee_4   57255  4226  2333          3862\n",
            "4        E005    Employee_5   43657  2321  1440          3865\n",
            "5        E006    Employee_6   72640  2329  2303          4728\n",
            "6        E007    Employee_7   66298  4406  1176          3311\n",
            "7        E008    Employee_8   62559  2680  2135          4461\n",
            "8        E009    Employee_9   78762  4632  1217          1514\n",
            "9        E010   Employee_10   62260  3580  1134          1470\n",
            "Enter 1 for feedback and customer details 2 for consumables register ... = consumable\n",
            "File not found\n"
          ]
        }
      ]
    },
    {
      "cell_type": "code",
      "source": [
        "def add():\n",
        "   x=2\n",
        "   y=4\n",
        "   c=x+y\n",
        "   print(\"add =\",c)\n",
        "\n",
        "def sub():\n",
        "    x=2\n",
        "    y=4\n",
        "    c1=x-y\n",
        "    print(\"sub =\",c1)\n",
        "\n",
        "def mul():\n",
        "  x=2\n",
        "  y=4\n",
        "  c2=x*y\n",
        "  print(\"mul =\",c2)\n",
        "\n",
        "def div():\n",
        "  x=2\n",
        "  y=4\n",
        "  c3=x/y\n",
        "  print(\"div =\",c3)\n",
        "\n",
        "z=add()\n",
        "z1=sub()\n",
        "z2=mul()\n",
        "z3=div()\n",
        "\n",
        "print(z)\n"
      ],
      "metadata": {
        "colab": {
          "base_uri": "https://localhost:8080/"
        },
        "id": "Q7dvMFrFzFsS",
        "outputId": "7aaf237f-3687-4727-cd67-8c11adbf6f90"
      },
      "execution_count": null,
      "outputs": [
        {
          "output_type": "stream",
          "name": "stdout",
          "text": [
            "add = 6\n",
            "sub = -2\n",
            "mul = 8\n",
            "div = 0.5\n",
            "None\n"
          ]
        }
      ]
    },
    {
      "cell_type": "code",
      "source": [
        "def add():\n",
        "   x=2\n",
        "   y=4\n",
        "   c=x+y\n",
        "   print(\"add=\",c)\n",
        "   return c\n",
        "def sub():\n",
        "    x=2\n",
        "    y=4\n",
        "    c1=x-y\n",
        "    print(\"sub=\",c1)\n",
        "    return c1\n",
        "\n",
        "def mul():\n",
        "  x=2\n",
        "  y=4\n",
        "  c2=x*y\n",
        "  print(\"mul =\",c2)\n",
        "  return c2\n",
        "\n",
        "def div():\n",
        "  x=2\n",
        "  y=4\n",
        "  c3=x/y\n",
        "  print(\"div =\",c3)\n",
        "  return c3\n",
        "z=add()\n",
        "print(z)\n",
        "z1=sub()\n",
        "print(z1)\n",
        "z2=mul()\n",
        "print(z2)\n",
        "z3=div()\n",
        "print(z3)"
      ],
      "metadata": {
        "colab": {
          "base_uri": "https://localhost:8080/"
        },
        "id": "xLl7XNou08Oo",
        "outputId": "2ff927f1-4f83-46dc-eb22-094dc547f3a0"
      },
      "execution_count": null,
      "outputs": [
        {
          "output_type": "stream",
          "name": "stdout",
          "text": [
            "add= 6\n",
            "6\n",
            "sub= -2\n",
            "-2\n",
            "mul = 8\n",
            "8\n",
            "div = 0.5\n",
            "0.5\n"
          ]
        }
      ]
    },
    {
      "cell_type": "code",
      "source": [
        "import pandas as pd\n",
        "def file1():\n",
        "    df1=pd.read_excel(\"xlrandom1.xlsx\")\n",
        "    print(df1)\n",
        "    return df1\n",
        "def file2():\n",
        "    df2=pd.read_excel(\"xlrandom2.xlsx\")\n",
        "    print(df2)\n",
        "    return df2\n",
        "def file3():\n",
        "    df3=pd.read_excel(\"xlrandom3.xlsx\")\n",
        "    print(df3)\n",
        "    return df3\n",
        "def file4():\n",
        "    df4=pd.read_excel(\"xlrandom4.xlsx\")\n",
        "    print(df4)\n",
        "    return df4\n",
        "c= input(\"Enter the file you want to read\")\n",
        "if c=='1' or c=='file1' or c=='f1' or c==\"random1\" or c==\"xl1\":\n",
        "   a=file1()\n",
        "elif c=='2' or c=='file2'or c=='f2' or c==\"random2\" or c==\"xl2\":\n",
        "   b=file2()\n",
        "elif c=='3' or c=='file3'or c=='f3' or c==\"random3\" or c==\"xl3\":\n",
        "   c=file3()\n",
        "elif c=='4' or c=='file4'or c=='f4' or c==\"random4\" or c==\"xl5\":\n",
        "   d=file4()\n",
        "else:\n",
        "    print(\"File not found \")"
      ],
      "metadata": {
        "colab": {
          "base_uri": "https://localhost:8080/"
        },
        "id": "d8r4jkAm23-T",
        "outputId": "18a8f6a5-3fe3-4d1c-f01f-0b8d02720dd8"
      },
      "execution_count": null,
      "outputs": [
        {
          "output_type": "stream",
          "name": "stdout",
          "text": [
            "Enter the file you want to readxl2\n",
            "      Name  English  Math  Physics  Chemistry  Electronics\n",
            "0     Arun       30    52       60         30           60\n",
            "1     Manu       30    30       72         80           80\n",
            "2     Manu       52    60       72         80           52\n",
            "3     Arun       52    72       72         60           30\n",
            "4     Arun       72    30       30         91           60\n",
            "5     Manu       30    80       30         60           60\n",
            "6     Arun       60    60       60         60           72\n",
            "7     Manu       52    30       52         60           52\n",
            "8     Arun       30    91       30         30           60\n",
            "9     Manu       52    91       91         60           72\n",
            "10    Arun       80    91       80         60           52\n",
            "11    Manu       91    30       60         60           72\n",
            "12  Sanjay       30    72       72         72           80\n",
            "13    Arun       72    52       52         91           52\n",
            "14    Arun       72    72       60         80           72\n"
          ]
        }
      ]
    },
    {
      "cell_type": "code",
      "source": [],
      "metadata": {
        "id": "Dp5frrXE-rsp"
      },
      "execution_count": null,
      "outputs": []
    },
    {
      "cell_type": "code",
      "source": [
        "import pandas as pd\n",
        "\n",
        "def file1():\n",
        "  df1=pd.read_excel(\"Feedback_and_Customer_Details (1).xlsx\")\n",
        "  print(df1)\n",
        "  return df1\n",
        "\n",
        "def file2():\n",
        "  df2=pd.read_excel(\"Consumables_Register (2).xlsx\")\n",
        "  print(df2)\n",
        "  return df2\n",
        "\n",
        "def file3():\n",
        "  df3=pd.read_excel(\"Employee_Attendance (1).xlsx\")\n",
        "  print(df3)\n",
        "  return df3\n",
        "\n",
        "def file4():\n",
        "  df4=pd.read_excel(\"Income_Tax_Details (1).xlsx\")\n",
        "  print(df4)\n",
        "  return df4\n",
        "\n",
        "def file5():\n",
        "  df5=pd.read_excel(\"Salary_Details (1).xlsx\")\n",
        "  print(df5)\n",
        "  return df5\n",
        "\n",
        "def file6():\n",
        "  df6=pd.read_excel(\"Stock_Register (1).xlsx\")\n",
        "  print(df6)\n",
        "  return df6\n",
        "\n",
        "for i in range(10):\n",
        "  c= input(\"Enter the file you want to read\")\n",
        "  if c=='1' or c=='Feeback' or c=='FEEDBACK' or c=='feedback' or c=='Customer details' or c=='Feeback and customer deatils' or c=='f1' or c=='customer' :\n",
        "    a=file1()\n",
        "  elif c=='2' or c=='Consumables' or c=='CONSUMBALES' or c=='consumbales' or c=='consumables register' or c=='consumable Register' or c=='f2' or c=='F2':\n",
        "    b=file2()\n",
        "  elif c=='3' or c=='employee' or c=='EMPLOYEE' or c=='Employee' or c=='Employee attendance' or c=='Attendance' or c=='Employee Attendance' or c=='f3':\n",
        "    c=file3()\n",
        "  elif c=='4' or c=='Income tax' or c=='income' or c=='Tax' or c=='f3' or c=='Income tax details' or c=='income tax details' or c=='Income' or c=='INCOME':\n",
        "    d=file4()\n",
        "  elif c=='5' or c=='Salary details' or c=='SALARY' or c=='salary' or c=='SALARY DETAILS' or c=='f5':\n",
        "    e=file5()\n",
        "  elif c=='6' or c=='Stock register' or c=='Stock Register' or c=='STOCK' or c=='stock' or c=='STOCK REGISTER' or c=='f6' :\n",
        "    f=file6()\n",
        "  else:\n",
        "    print(\"File not found\")"
      ],
      "metadata": {
        "colab": {
          "base_uri": "https://localhost:8080/"
        },
        "id": "hejs9vl94fy9",
        "outputId": "02933fe8-4354-4b47-aa05-9dd954d3e063"
      },
      "execution_count": null,
      "outputs": [
        {
          "output_type": "stream",
          "name": "stdout",
          "text": [
            "Enter the file you want to readf2\n",
            "  Item ID Item Name  Quantity Consumed\n",
            "0    I001    Item_1                 36\n",
            "1    I002    Item_2                 10\n",
            "2    I003    Item_3                  8\n",
            "3    I004    Item_4                 32\n",
            "4    I005    Item_5                 17\n",
            "5    I006    Item_6                 10\n",
            "6    I007    Item_7                 22\n",
            "7    I008    Item_8                 22\n",
            "8    I009    Item_9                 39\n",
            "9    I010   Item_10                 12\n",
            "Enter the file you want to read5\n",
            "  Employee ID Employee Name  Salary    TA    DA  PF Allowance\n",
            "0        E001    Employee_1   77831  4709  2227          2267\n",
            "1        E002    Employee_2   69302  3389  2365          4801\n",
            "2        E003    Employee_3   66503  2577  2918          4923\n",
            "3        E004    Employee_4   57255  4226  2333          3862\n",
            "4        E005    Employee_5   43657  2321  1440          3865\n",
            "5        E006    Employee_6   72640  2329  2303          4728\n",
            "6        E007    Employee_7   66298  4406  1176          3311\n",
            "7        E008    Employee_8   62559  2680  2135          4461\n",
            "8        E009    Employee_9   78762  4632  1217          1514\n",
            "9        E010   Employee_10   62260  3580  1134          1470\n",
            "Enter the file you want to readstock\n",
            "  Product ID Product Name  Quantity Available\n",
            "0       P001    Product_1                 423\n",
            "1       P002    Product_2                 351\n",
            "2       P003    Product_3                  94\n",
            "3       P004    Product_4                 314\n",
            "4       P005    Product_5                 295\n",
            "5       P006    Product_6                 452\n",
            "6       P007    Product_7                 458\n",
            "7       P008    Product_8                 144\n",
            "8       P009    Product_9                 235\n",
            "9       P010   Product_10                 323\n",
            "Enter the file you want to readattendance\n",
            "File not found\n",
            "Enter the file you want to readstock\n",
            "  Product ID Product Name  Quantity Available\n",
            "0       P001    Product_1                 423\n",
            "1       P002    Product_2                 351\n",
            "2       P003    Product_3                  94\n",
            "3       P004    Product_4                 314\n",
            "4       P005    Product_5                 295\n",
            "5       P006    Product_6                 452\n",
            "6       P007    Product_7                 458\n",
            "7       P008    Product_8                 144\n",
            "8       P009    Product_9                 235\n",
            "9       P010   Product_10                 323\n",
            "Enter the file you want to read9\n",
            "File not found\n",
            "Enter the file you want to readconsumable\n",
            "File not found\n",
            "Enter the file you want to readtax\n",
            "File not found\n",
            "Enter the file you want to readfeedback\n",
            "  Customer Name                 Email ID  Phone Number   Feedback\n",
            "0    Customer_1   customer_1@example.com  919634697987  Excellent\n",
            "1    Customer_2   customer_2@example.com  919184703505  Excellent\n",
            "2    Customer_3   customer_3@example.com  919356199658  Excellent\n",
            "3    Customer_4   customer_4@example.com  919435296286       Good\n",
            "4    Customer_5   customer_5@example.com  919532361135       Poor\n",
            "5    Customer_6   customer_6@example.com  919084117034       Poor\n",
            "6    Customer_7   customer_7@example.com  919343085404    Average\n",
            "7    Customer_8   customer_8@example.com  919870917921       Poor\n",
            "8    Customer_9   customer_9@example.com  919273917066       Good\n",
            "9   Customer_10  customer_10@example.com  919536165456       Good\n",
            "Enter the file you want to readincome\n",
            "  Employee ID Employee Name  Income Tax Paid\n",
            "0        E001    Employee_1             9094\n",
            "1        E002    Employee_2             6594\n",
            "2        E003    Employee_3             9810\n",
            "3        E004    Employee_4            16677\n",
            "4        E005    Employee_5            17638\n",
            "5        E006    Employee_6             6595\n",
            "6        E007    Employee_7             9734\n",
            "7        E008    Employee_8             6142\n",
            "8        E009    Employee_9            17680\n",
            "9        E010   Employee_10             9827\n"
          ]
        }
      ]
    },
    {
      "cell_type": "code",
      "source": [
        "import pandas as pd\n",
        "import numpy as np\n",
        "\n",
        "def A():\n",
        "  A=pd.read_excel(\"mark.xlsx\")\n",
        "  print(A)\n",
        "  return A\n",
        "user_id = \"gokul\"\n",
        "password = \"gokul\"\n",
        "\n",
        "input_user_id = input(\"Enter User ID: \")\n",
        "input_password = input(\"Enter Password: \")\n",
        "\n",
        "if input_user_id == user_id and input_password == password:\n",
        "\n",
        "  Z= A()\n",
        "\n",
        "else:\n",
        "  print(\"User Id does not exist\")\n"
      ],
      "metadata": {
        "colab": {
          "base_uri": "https://localhost:8080/"
        },
        "id": "VpEHJNicDGLQ",
        "outputId": "8cd860ca-b1d5-44df-c7a4-7dfc92856b70"
      },
      "execution_count": null,
      "outputs": [
        {
          "output_type": "stream",
          "name": "stdout",
          "text": [
            "Enter User ID: gokul\n",
            "Enter Password: gokul\n",
            "      Name  Math  Phy  Che  Eng  Bio  Tamil\n",
            "0     Manu    72   72   72   72   30     72\n",
            "1     Arun    30   30   60   30   30     60\n",
            "2     Arun    52   52   60   80   52     60\n",
            "3     Arun    52   52   72   52   30     80\n",
            "4     Arun    60   60   80   52   91     60\n",
            "5     Arun    80   80   52   52   72     30\n",
            "6     Arun    80   80   60   80   72     52\n",
            "7     Arun    52   52   80   72   72     52\n",
            "8   Sanjay    72   72   52   72   60     72\n",
            "9   Sanjay    72   72   72   72   52     52\n",
            "10  Sanjay    52   52   80   80   52     60\n",
            "11    Arun    60   60   72   72   60     80\n",
            "12    Manu    60   60   30   52   52     60\n",
            "13    Arun    91   91   52   80   91     72\n",
            "14    Manu    91   91   91   80   60     52\n"
          ]
        }
      ]
    },
    {
      "cell_type": "code",
      "source": [
        "import pandas as pd\n",
        "\n",
        "def A():\n",
        "  G = np.array([45,50,12,60,77])\n",
        "  B = np.array([50,75,25,50,65])\n",
        "  C = np.array([12,45,75,25,62])\n",
        "  D = np.array([\"Sam\",\"Abi\",\"Dev\",\"Sathya\",\"Ben\"])\n",
        "  Frame = {\"Name\":D,\"Math\":G,\"Bio\":B,\"Che\":C}\n",
        "  A = pd.DataFrame(Frame)\n",
        "  print(A)\n",
        "  return A\n",
        "\n",
        "user_id = \"gokul\"\n",
        "password = \"gokul\"\n",
        "\n",
        "input_user_id = input(\"Enter User ID: \")\n",
        "input_password = input(\"Enter Password: \")\n",
        "\n",
        "if input_user_id == user_id and input_password == password:\n",
        "  Z = A()\n",
        "\n",
        "else:\n",
        "  print(\"User Id does not exist\")"
      ],
      "metadata": {
        "colab": {
          "base_uri": "https://localhost:8080/"
        },
        "id": "1R1XyBQgGz1c",
        "outputId": "03305b81-7ed1-42f3-dc22-75a3c5cce8e2"
      },
      "execution_count": null,
      "outputs": [
        {
          "output_type": "stream",
          "name": "stdout",
          "text": [
            "Enter User ID: gokul\n",
            "Enter Password: gokul\n",
            "     Name  Math  Bio  Che\n",
            "0     Sam    45   50   12\n",
            "1     Abi    50   75   45\n",
            "2     Dev    12   25   75\n",
            "3  Sathya    60   50   25\n",
            "4     Ben    77   65   62\n"
          ]
        }
      ]
    },
    {
      "cell_type": "code",
      "source": [
        "import numpy as np\n",
        "import pandas as pd\n",
        "\n",
        "def Z():\n",
        "  A = pd.read_excel(\"credit.xlsx\")\n",
        "  B = A[['Income']].to_numpy().flatten()\n",
        "  C = A[['Loan Amount']].to_numpy().flatten()\n",
        "  D = A[['Interest Rate']].to_numpy().flatten()\n",
        "  E = A[['Balance']].to_numpy().flatten()\n",
        "  F = A[['Interest Amount']].to_numpy().flatten()\n",
        "  G = A[['Increased Interest %']].to_numpy().flatten()\n",
        "  H = A[['Increased Loan Amount']].to_numpy().flatten()\n",
        "  Frame = {\"Income\":B,\"Loan Amount\":C,\"Interest Rate\":D,\"Balance\":E,\"Interest Amount\":F,\"Increased Interest %\":G,\"Increased Loan Amount\":F}\n",
        "  Z = pd.DataFrame(Frame)\n",
        "  print(Z)\n",
        "  return Z\n",
        "\n",
        "user_id = \"gokul\"\n",
        "password = \"gokul\"\n",
        "\n",
        "input_user_id = input(\"Enter User ID: \")\n",
        "input_password = input(\"Enter Password: \")\n",
        "\n",
        "if input_user_id == user_id and input_password == password:\n",
        "  L = Z()\n",
        "\n",
        "else:\n",
        "  print(\"User Id does not exist\")\n"
      ],
      "metadata": {
        "colab": {
          "base_uri": "https://localhost:8080/"
        },
        "id": "Wqt60kjYKk4F",
        "outputId": "4d83bfbf-eaf7-4255-e7bb-15057630e345"
      },
      "execution_count": null,
      "outputs": [
        {
          "output_type": "stream",
          "name": "stdout",
          "text": [
            "Enter User ID: gokul\n",
            "Enter Password: gokul\n",
            "     Income  Loan Amount  Interest Rate    Balance  Interest Amount  \\\n",
            "0    141958     18928.74           2.51  123029.26        3563.1458   \n",
            "1     35795     41620.78          14.70   -5825.78        5261.8650   \n",
            "2     20860     35812.90           5.15  -14952.90        1074.2900   \n",
            "3    123694     12317.76          10.62  111376.24       13136.3028   \n",
            "4    148106     45991.72          12.91  102114.28       19120.4846   \n",
            "..      ...          ...            ...        ...              ...   \n",
            "995  124346     25857.23           5.76   98488.77        7162.3296   \n",
            "996   67605     22090.36          14.38   45514.64        9721.5990   \n",
            "997  141790     43850.01           2.65   97939.99        3757.4350   \n",
            "998  125616     28358.68           3.95   97257.32        4961.8320   \n",
            "999   58088     26563.18           8.99   31524.82        5222.1112   \n",
            "\n",
            "     Increased Interest %  Increased Loan Amount  \n",
            "0                    7.51              3563.1458  \n",
            "1                   19.70              5261.8650  \n",
            "2                   10.15              1074.2900  \n",
            "3                   15.62             13136.3028  \n",
            "4                   17.91             19120.4846  \n",
            "..                    ...                    ...  \n",
            "995                 10.76              7162.3296  \n",
            "996                 19.38              9721.5990  \n",
            "997                  7.65              3757.4350  \n",
            "998                  8.95              4961.8320  \n",
            "999                 13.99              5222.1112  \n",
            "\n",
            "[1000 rows x 7 columns]\n"
          ]
        }
      ]
    },
    {
      "cell_type": "code",
      "source": [
        "import numpy as np\n",
        "import pandas as pd\n",
        "import sqlite3 as db\n",
        "\n",
        "def Z():\n",
        "  A = np.array([42,28,50,47,45])\n",
        "  B = np.array([45,12,54,84,65])\n",
        "  C = np.array([25,65,75,15,24])\n",
        "  D = np.array([77,15,14,18,45])\n",
        "  F = A+B+C+D\n",
        "  Frame = {\"Match\":A,\"T20\":B,\"ODI\":C,\"Test\":D,\"Total\":F}\n",
        "  E = pd.DataFrame(Frame)\n",
        "  F = E.to_excel('Score.xlsx')\n",
        "  database = \"Score.sqlite\"\n",
        "  conn = db.connect(database)\n",
        "  E.to_sql(name='Score',con=conn,if_exists='replace',index=False)\n",
        "  conn.close()\n",
        "  Z = G.mean()\n",
        "  print(\"\\nAverage = \",J)\n",
        "user_id = \"gokul\"\n",
        "password = \"gokul\"\n",
        "\n",
        "input_user_id = input(\"Enter User ID: \")\n",
        "input_password = input(\"Enter Password: \")\n",
        "\n",
        "if input_user_id == user_id and input_password == password:\n",
        "  L = Z()\n",
        "\n",
        "else:\n",
        "  print(\"User Id does not exist\")"
      ],
      "metadata": {
        "colab": {
          "base_uri": "https://localhost:8080/"
        },
        "id": "BkKHztPPNhwU",
        "outputId": "5d41cd31-3ae6-468a-978c-ae4635ac1cc6"
      },
      "execution_count": null,
      "outputs": [
        {
          "output_type": "stream",
          "name": "stdout",
          "text": [
            "Enter User ID: gokul\n",
            "Enter Password: gokul\n",
            "\n",
            "Average =       Income  Loan Amount  Interest Rate    Balance  Interest Amount  \\\n",
            "0    141958     18928.74           2.51  123029.26        3563.1458   \n",
            "1     35795     41620.78          14.70   -5825.78        5261.8650   \n",
            "2     20860     35812.90           5.15  -14952.90        1074.2900   \n",
            "3    123694     12317.76          10.62  111376.24       13136.3028   \n",
            "4    148106     45991.72          12.91  102114.28       19120.4846   \n",
            "..      ...          ...            ...        ...              ...   \n",
            "995  124346     25857.23           5.76   98488.77        7162.3296   \n",
            "996   67605     22090.36          14.38   45514.64        9721.5990   \n",
            "997  141790     43850.01           2.65   97939.99        3757.4350   \n",
            "998  125616     28358.68           3.95   97257.32        4961.8320   \n",
            "999   58088     26563.18           8.99   31524.82        5222.1112   \n",
            "\n",
            "     Increased Interest %  Increased Interest Amount  Increased Loan Amount  \n",
            "0                    7.51                 10661.0458             29589.7858  \n",
            "1                   19.70                  7051.6150             48672.3950  \n",
            "2                   10.15                  2117.2900             37930.1900  \n",
            "3                   15.62                 19321.0028             31638.7628  \n",
            "4                   17.91                 26525.7846             72517.5046  \n",
            "..                    ...                        ...                    ...  \n",
            "995                 10.76                 13379.6296             39236.8596  \n",
            "996                 19.38                 13101.8490             35192.2090  \n",
            "997                  7.65                 10846.9350             54696.9450  \n",
            "998                  8.95                 11242.6320             39601.3120  \n",
            "999                 13.99                  8126.5112             34689.6912  \n",
            "\n",
            "[1000 rows x 8 columns]\n"
          ]
        }
      ]
    },
    {
      "cell_type": "code",
      "source": [
        "import sqlite3 as db\n",
        "import pandas as pd\n",
        "\n",
        "def I():\n",
        "  A = pd.read_csv('credit_scoring_data.csv')\n",
        "  B = A.info()\n",
        "  C = A[['Income']].to_numpy().flatten()\n",
        "  D = A[['Loan Amount']].to_numpy().flatten()\n",
        "  E = A[['Credit Score']].to_numpy().flatten()\n",
        "  F = A[['Interest Rate (%)']].to_numpy().flatten()\n",
        "  G = C-D\n",
        "  H = C/100*F\n",
        "  Frame = {\"Income\":C,\"Loan Amount\":D,\"Credit Score\":E,\"Interest Rate\":F,\"Balance\":G,\"Interest\":H}\n",
        "  I = pd.DataFrame(Frame)\n",
        "  I.to_excel('Income.xlsx')\n",
        "  database = \"income.sqlite\"\n",
        "  conn = db.connect(database)\n",
        "  I.to_sql(name = 'Income',con=conn,if_exists='replace',index=False)\n",
        "  conn.close()\n",
        "  print(I)\n",
        "  return I\n",
        "\n",
        "user_id = \"gokul\"\n",
        "password = \"gokul\"\n",
        "\n",
        "input_user_id = input(\"Enter User ID: \")\n",
        "input_password = input(\"Enter Password: \")\n",
        "\n",
        "if input_user_id == user_id and input_password == password:\n",
        "  L = I()\n",
        "\n",
        "else:\n",
        "  print(\"User Id does not exist\")"
      ],
      "metadata": {
        "colab": {
          "base_uri": "https://localhost:8080/"
        },
        "id": "hI0I2gLISPmo",
        "outputId": "ad791955-b85f-43cf-e29f-1f321ab9327d"
      },
      "execution_count": null,
      "outputs": [
        {
          "output_type": "stream",
          "name": "stdout",
          "text": [
            "Enter User ID: gokul\n",
            "Enter Password: gokul\n",
            "<class 'pandas.core.frame.DataFrame'>\n",
            "RangeIndex: 1000 entries, 0 to 999\n",
            "Data columns (total 8 columns):\n",
            " #   Column                   Non-Null Count  Dtype  \n",
            "---  ------                   --------------  -----  \n",
            " 0   Income                   1000 non-null   int64  \n",
            " 1   Loan Amount              1000 non-null   float64\n",
            " 2   Credit Score             1000 non-null   int64  \n",
            " 3   Loan Duration (Months)   1000 non-null   int64  \n",
            " 4   Number of Past Defaults  1000 non-null   int64  \n",
            " 5   Has Credit History       1000 non-null   int64  \n",
            " 6   Interest Rate (%)        1000 non-null   float64\n",
            " 7   Default                  1000 non-null   int64  \n",
            "dtypes: float64(2), int64(6)\n",
            "memory usage: 62.6 KB\n",
            "     Income  Loan Amount  Credit Score  Interest Rate    Balance    Interest\n",
            "0    141958     18928.74           520           2.51  123029.26   3563.1458\n",
            "1     35795     41620.78           453          14.70   -5825.78   5261.8650\n",
            "2     20860     35812.90           311           5.15  -14952.90   1074.2900\n",
            "3    123694     12317.76           432          10.62  111376.24  13136.3028\n",
            "4    148106     45991.72           603          12.91  102114.28  19120.4846\n",
            "..      ...          ...           ...            ...        ...         ...\n",
            "995  124346     25857.23           816           5.76   98488.77   7162.3296\n",
            "996   67605     22090.36           463          14.38   45514.64   9721.5990\n",
            "997  141790     43850.01           363           2.65   97939.99   3757.4350\n",
            "998  125616     28358.68           390           3.95   97257.32   4961.8320\n",
            "999   58088     26563.18           416           8.99   31524.82   5222.1112\n",
            "\n",
            "[1000 rows x 6 columns]\n"
          ]
        }
      ]
    },
    {
      "cell_type": "code",
      "source": [
        "import numpy as np\n",
        "import pandas as pd\n",
        "import sqlite3 as db\n",
        "\n",
        "def Z():\n",
        "  con = db.connect('income (1).sqlite')\n",
        "  A = pd.read_sql_query('SELECT * FROM Income',con)\n",
        "  A.info()\n",
        "  B = pd.read_sql_query('SELECT Balance FROM Income',con)\n",
        "  C = pd.read_sql_query('SELECT BALANCE,Income FROM Income',con)\n",
        "  D = pd.read_sql_query('SELECT * FROM Income WHERE Income < 50000',con)\n",
        "  E = pd.read_sql_query('SELECT *,avg(Income) FROM Income',con)\n",
        "  F = pd.read_sql_query('SELECT *,(Balance-Interest) FROM Income',con)\n",
        "  G = pd.read_sql_query('SELECT *,count(*) FROM Income',con)\n",
        "  H = pd.read_sql_query('SELECT * FROM Income ORDER BY Balance Asc',con)\n",
        "  I = pd.read_sql_query('SELECT * FROM Income WHERE Income Between 50000 and 75000',con)\n",
        "  J = pd.read_sql_query('SELECT * FROM Income WHERE Balance IN (50159.16,45514.64)',con)\n",
        "  con.commit()\n",
        "  con.close()\n",
        "  print(J)\n",
        "  return J\n",
        "user_id = \"gokul\"\n",
        "password = \"gokul\"\n",
        "\n",
        "input_user_id = input(\"Enter User ID: \")\n",
        "input_password = input(\"Enter Password: \")\n",
        "\n",
        "if input_user_id == user_id and input_password == password:\n",
        "  L = I()\n",
        "\n",
        "else:\n",
        "  print(\"User Id does not exist\")\n"
      ],
      "metadata": {
        "colab": {
          "base_uri": "https://localhost:8080/"
        },
        "id": "CmUzq9KRWgo5",
        "outputId": "00cec264-727e-4c84-afdf-bf4b178c44cd"
      },
      "execution_count": null,
      "outputs": [
        {
          "output_type": "stream",
          "name": "stdout",
          "text": [
            "Enter User ID: gokul\n",
            "Enter Password: gokul\n",
            "<class 'pandas.core.frame.DataFrame'>\n",
            "RangeIndex: 1000 entries, 0 to 999\n",
            "Data columns (total 8 columns):\n",
            " #   Column                   Non-Null Count  Dtype  \n",
            "---  ------                   --------------  -----  \n",
            " 0   Income                   1000 non-null   int64  \n",
            " 1   Loan Amount              1000 non-null   float64\n",
            " 2   Credit Score             1000 non-null   int64  \n",
            " 3   Loan Duration (Months)   1000 non-null   int64  \n",
            " 4   Number of Past Defaults  1000 non-null   int64  \n",
            " 5   Has Credit History       1000 non-null   int64  \n",
            " 6   Interest Rate (%)        1000 non-null   float64\n",
            " 7   Default                  1000 non-null   int64  \n",
            "dtypes: float64(2), int64(6)\n",
            "memory usage: 62.6 KB\n",
            "     Income  Loan Amount  Credit Score  Interest Rate    Balance    Interest\n",
            "0    141958     18928.74           520           2.51  123029.26   3563.1458\n",
            "1     35795     41620.78           453          14.70   -5825.78   5261.8650\n",
            "2     20860     35812.90           311           5.15  -14952.90   1074.2900\n",
            "3    123694     12317.76           432          10.62  111376.24  13136.3028\n",
            "4    148106     45991.72           603          12.91  102114.28  19120.4846\n",
            "..      ...          ...           ...            ...        ...         ...\n",
            "995  124346     25857.23           816           5.76   98488.77   7162.3296\n",
            "996   67605     22090.36           463          14.38   45514.64   9721.5990\n",
            "997  141790     43850.01           363           2.65   97939.99   3757.4350\n",
            "998  125616     28358.68           390           3.95   97257.32   4961.8320\n",
            "999   58088     26563.18           416           8.99   31524.82   5222.1112\n",
            "\n",
            "[1000 rows x 6 columns]\n"
          ]
        }
      ]
    },
    {
      "cell_type": "code",
      "source": [
        "import numpy as np\n",
        "import pandas as pd\n",
        "import sqlite3 as db\n",
        "\n",
        "def Z():\n",
        "  A = pd.read_csv(\"credit_scoring_data.csv\")\n",
        "  B = A[['Income']].to_numpy().flatten()\n",
        "  C = A[['Loan Amount']].to_numpy().flatten()\n",
        "  D = A[['Interest Rate (%)']].to_numpy().flatten()\n",
        "  E = B-C\n",
        "  F = B/100*D\n",
        "  G = D+5\n",
        "  H = B/100*G\n",
        "  I = C+H\n",
        "  Frame = {\"Income\":B,\"Loan Amount\":C,\"Interest Rate\":D,\"Balance\":E,\"Interest Amount\":F,\"Increased Interest %\":G,\"Increased Interest Amount\":H,\"Increased Loan Amount\":I}\n",
        "  J = pd.DataFrame(Frame)\n",
        "  J.to_excel('credit.xlsx')\n",
        "  print(J)\n",
        "  return J\n",
        "user_id = \"gokul\"\n",
        "password = \"gokul\"\n",
        "\n",
        "input_user_id = input(\"Enter User ID: \")\n",
        "input_password = input(\"Enter Password: \")\n",
        "\n",
        "if input_user_id == user_id and input_password == password:\n",
        "  L = I()\n",
        "\n",
        "else:\n",
        "  print(\"User Id does not exist\")"
      ],
      "metadata": {
        "colab": {
          "base_uri": "https://localhost:8080/"
        },
        "id": "ELntBQlJXfuy",
        "outputId": "d4b50d11-2b46-45d1-d5dd-07e037804ebd"
      },
      "execution_count": null,
      "outputs": [
        {
          "output_type": "stream",
          "name": "stdout",
          "text": [
            "Enter User ID: gokul\n",
            "Enter Password: gokul\n",
            "<class 'pandas.core.frame.DataFrame'>\n",
            "RangeIndex: 1000 entries, 0 to 999\n",
            "Data columns (total 8 columns):\n",
            " #   Column                   Non-Null Count  Dtype  \n",
            "---  ------                   --------------  -----  \n",
            " 0   Income                   1000 non-null   int64  \n",
            " 1   Loan Amount              1000 non-null   float64\n",
            " 2   Credit Score             1000 non-null   int64  \n",
            " 3   Loan Duration (Months)   1000 non-null   int64  \n",
            " 4   Number of Past Defaults  1000 non-null   int64  \n",
            " 5   Has Credit History       1000 non-null   int64  \n",
            " 6   Interest Rate (%)        1000 non-null   float64\n",
            " 7   Default                  1000 non-null   int64  \n",
            "dtypes: float64(2), int64(6)\n",
            "memory usage: 62.6 KB\n",
            "     Income  Loan Amount  Credit Score  Interest Rate    Balance    Interest\n",
            "0    141958     18928.74           520           2.51  123029.26   3563.1458\n",
            "1     35795     41620.78           453          14.70   -5825.78   5261.8650\n",
            "2     20860     35812.90           311           5.15  -14952.90   1074.2900\n",
            "3    123694     12317.76           432          10.62  111376.24  13136.3028\n",
            "4    148106     45991.72           603          12.91  102114.28  19120.4846\n",
            "..      ...          ...           ...            ...        ...         ...\n",
            "995  124346     25857.23           816           5.76   98488.77   7162.3296\n",
            "996   67605     22090.36           463          14.38   45514.64   9721.5990\n",
            "997  141790     43850.01           363           2.65   97939.99   3757.4350\n",
            "998  125616     28358.68           390           3.95   97257.32   4961.8320\n",
            "999   58088     26563.18           416           8.99   31524.82   5222.1112\n",
            "\n",
            "[1000 rows x 6 columns]\n"
          ]
        }
      ]
    },
    {
      "cell_type": "code",
      "source": [
        "# Initialize a variable\n",
        "number = 1\n",
        "\n",
        "while number <= 10:\n",
        "    print(number)\n",
        "    number = number+1"
      ],
      "metadata": {
        "colab": {
          "base_uri": "https://localhost:8080/"
        },
        "id": "NREs04XGWgfK",
        "outputId": "0e8d5f8a-29ee-4968-8c13-c9dc70930230"
      },
      "execution_count": null,
      "outputs": [
        {
          "output_type": "stream",
          "name": "stdout",
          "text": [
            "1\n",
            "2\n",
            "3\n",
            "4\n",
            "5\n",
            "6\n",
            "7\n",
            "8\n",
            "9\n",
            "10\n"
          ]
        }
      ]
    },
    {
      "cell_type": "code",
      "source": [
        "number = 1\n",
        "\n",
        "while number <= 10:\n",
        "    print(number)"
      ],
      "metadata": {
        "colab": {
          "base_uri": "https://localhost:8080/",
          "height": 1000
        },
        "id": "amOsQvCVXBuk",
        "outputId": "7f14d545-af11-434d-9e68-4c14421ee4fe"
      },
      "execution_count": null,
      "outputs": [
        {
          "output_type": "stream",
          "name": "stdout",
          "text": [
            "\u001b[1;30;43mStreaming output truncated to the last 5000 lines.\u001b[0m\n",
            "1\n",
            "1\n",
            "1\n",
            "1\n",
            "1\n",
            "1\n",
            "1\n",
            "1\n",
            "1\n",
            "1\n",
            "1\n",
            "1\n",
            "1\n",
            "1\n",
            "1\n",
            "1\n",
            "1\n",
            "1\n",
            "1\n",
            "1\n",
            "1\n",
            "1\n",
            "1\n",
            "1\n",
            "1\n",
            "1\n",
            "1\n",
            "1\n",
            "1\n",
            "1\n",
            "1\n",
            "1\n",
            "1\n",
            "1\n",
            "1\n",
            "1\n",
            "1\n",
            "1\n",
            "1\n",
            "1\n",
            "1\n",
            "1\n",
            "1\n",
            "1\n",
            "1\n",
            "1\n",
            "1\n",
            "1\n",
            "1\n",
            "1\n",
            "1\n",
            "1\n",
            "1\n",
            "1\n",
            "1\n",
            "1\n",
            "1\n",
            "1\n",
            "1\n",
            "1\n",
            "1\n",
            "1\n",
            "1\n",
            "1\n",
            "1\n",
            "1\n",
            "1\n",
            "1\n",
            "1\n",
            "1\n",
            "1\n",
            "1\n",
            "1\n",
            "1\n",
            "1\n",
            "1\n",
            "1\n",
            "1\n",
            "1\n",
            "1\n",
            "1\n",
            "1\n",
            "1\n",
            "1\n",
            "1\n",
            "1\n",
            "1\n",
            "1\n",
            "1\n",
            "1\n",
            "1\n",
            "1\n",
            "1\n",
            "1\n",
            "1\n",
            "1\n",
            "1\n",
            "1\n",
            "1\n",
            "1\n",
            "1\n",
            "1\n",
            "1\n",
            "1\n",
            "1\n",
            "1\n",
            "1\n",
            "1\n",
            "1\n",
            "1\n",
            "1\n",
            "1\n",
            "1\n",
            "1\n",
            "1\n",
            "1\n",
            "1\n",
            "1\n",
            "1\n",
            "1\n",
            "1\n",
            "1\n",
            "1\n",
            "1\n",
            "1\n",
            "1\n",
            "1\n",
            "1\n",
            "1\n",
            "1\n",
            "1\n",
            "1\n",
            "1\n",
            "1\n",
            "1\n",
            "1\n",
            "1\n",
            "1\n",
            "1\n",
            "1\n",
            "1\n",
            "1\n",
            "1\n",
            "1\n",
            "1\n",
            "1\n",
            "1\n",
            "1\n",
            "1\n",
            "1\n",
            "1\n",
            "1\n",
            "1\n",
            "1\n",
            "1\n",
            "1\n",
            "1\n",
            "1\n",
            "1\n",
            "1\n",
            "1\n",
            "1\n",
            "1\n",
            "1\n",
            "1\n",
            "1\n",
            "1\n",
            "1\n",
            "1\n",
            "1\n",
            "1\n",
            "1\n",
            "1\n",
            "1\n",
            "1\n",
            "1\n",
            "1\n",
            "1\n",
            "1\n",
            "1\n",
            "1\n",
            "1\n",
            "1\n",
            "1\n",
            "1\n",
            "1\n",
            "1\n",
            "1\n",
            "1\n",
            "1\n",
            "1\n",
            "1\n",
            "1\n",
            "1\n",
            "1\n",
            "1\n",
            "1\n",
            "1\n",
            "1\n",
            "1\n",
            "1\n",
            "1\n",
            "1\n",
            "1\n",
            "1\n",
            "1\n",
            "1\n",
            "1\n",
            "1\n",
            "1\n",
            "1\n",
            "1\n",
            "1\n",
            "1\n",
            "1\n",
            "1\n",
            "1\n",
            "1\n",
            "1\n",
            "1\n",
            "1\n",
            "1\n",
            "1\n",
            "1\n",
            "1\n",
            "1\n",
            "1\n",
            "1\n",
            "1\n",
            "1\n",
            "1\n",
            "1\n",
            "1\n",
            "1\n",
            "1\n",
            "1\n",
            "1\n",
            "1\n",
            "1\n",
            "1\n",
            "1\n",
            "1\n",
            "1\n",
            "1\n",
            "1\n",
            "1\n",
            "1\n",
            "1\n",
            "1\n",
            "1\n",
            "1\n",
            "1\n",
            "1\n",
            "1\n",
            "1\n",
            "1\n",
            "1\n",
            "1\n",
            "1\n",
            "1\n",
            "1\n",
            "1\n",
            "1\n",
            "1\n",
            "1\n",
            "1\n",
            "1\n",
            "1\n",
            "1\n",
            "1\n",
            "1\n",
            "1\n",
            "1\n",
            "1\n",
            "1\n",
            "1\n",
            "1\n",
            "1\n",
            "1\n",
            "1\n",
            "1\n",
            "1\n",
            "1\n",
            "1\n",
            "1\n",
            "1\n",
            "1\n",
            "1\n",
            "1\n",
            "1\n",
            "1\n",
            "1\n",
            "1\n",
            "1\n",
            "1\n",
            "1\n",
            "1\n",
            "1\n",
            "1\n",
            "1\n",
            "1\n",
            "1\n",
            "1\n",
            "1\n",
            "1\n",
            "1\n",
            "1\n",
            "1\n",
            "1\n",
            "1\n",
            "1\n",
            "1\n",
            "1\n",
            "1\n",
            "1\n",
            "1\n",
            "1\n",
            "1\n",
            "1\n",
            "1\n",
            "1\n",
            "1\n",
            "1\n",
            "1\n",
            "1\n",
            "1\n",
            "1\n",
            "1\n",
            "1\n",
            "1\n",
            "1\n",
            "1\n",
            "1\n",
            "1\n",
            "1\n",
            "1\n",
            "1\n",
            "1\n",
            "1\n",
            "1\n",
            "1\n",
            "1\n",
            "1\n",
            "1\n",
            "1\n",
            "1\n",
            "1\n",
            "1\n",
            "1\n",
            "1\n",
            "1\n",
            "1\n",
            "1\n",
            "1\n",
            "1\n",
            "1\n",
            "1\n",
            "1\n",
            "1\n",
            "1\n",
            "1\n",
            "1\n",
            "1\n",
            "1\n",
            "1\n",
            "1\n",
            "1\n",
            "1\n",
            "1\n",
            "1\n",
            "1\n",
            "1\n",
            "1\n",
            "1\n",
            "1\n",
            "1\n",
            "1\n",
            "1\n",
            "1\n",
            "1\n",
            "1\n",
            "1\n",
            "1\n",
            "1\n",
            "1\n",
            "1\n",
            "1\n",
            "1\n",
            "1\n",
            "1\n",
            "1\n",
            "1\n",
            "1\n",
            "1\n",
            "1\n",
            "1\n",
            "1\n",
            "1\n",
            "1\n",
            "1\n",
            "1\n",
            "1\n",
            "1\n",
            "1\n",
            "1\n",
            "1\n",
            "1\n",
            "1\n",
            "1\n",
            "1\n",
            "1\n",
            "1\n",
            "1\n",
            "1\n",
            "1\n",
            "1\n",
            "1\n",
            "1\n",
            "1\n",
            "1\n",
            "1\n",
            "1\n",
            "1\n",
            "1\n",
            "1\n",
            "1\n",
            "1\n",
            "1\n",
            "1\n",
            "1\n",
            "1\n",
            "1\n",
            "1\n",
            "1\n",
            "1\n",
            "1\n",
            "1\n",
            "1\n",
            "1\n",
            "1\n",
            "1\n",
            "1\n",
            "1\n",
            "1\n",
            "1\n",
            "1\n",
            "1\n",
            "1\n",
            "1\n",
            "1\n",
            "1\n",
            "1\n",
            "1\n",
            "1\n",
            "1\n",
            "1\n",
            "1\n",
            "1\n",
            "1\n",
            "1\n",
            "1\n",
            "1\n",
            "1\n",
            "1\n",
            "1\n",
            "1\n",
            "1\n",
            "1\n",
            "1\n",
            "1\n",
            "1\n",
            "1\n",
            "1\n",
            "1\n",
            "1\n",
            "1\n",
            "1\n",
            "1\n",
            "1\n",
            "1\n",
            "1\n",
            "1\n",
            "1\n",
            "1\n",
            "1\n",
            "1\n",
            "1\n",
            "1\n",
            "1\n",
            "1\n",
            "1\n",
            "1\n",
            "1\n",
            "1\n",
            "1\n",
            "1\n",
            "1\n",
            "1\n",
            "1\n",
            "1\n",
            "1\n",
            "1\n",
            "1\n",
            "1\n",
            "1\n",
            "1\n",
            "1\n",
            "1\n",
            "1\n",
            "1\n",
            "1\n",
            "1\n",
            "1\n",
            "1\n",
            "1\n",
            "1\n",
            "1\n",
            "1\n",
            "1\n",
            "1\n",
            "1\n",
            "1\n",
            "1\n",
            "1\n",
            "1\n",
            "1\n",
            "1\n",
            "1\n",
            "1\n",
            "1\n",
            "1\n",
            "1\n",
            "1\n",
            "1\n",
            "1\n",
            "1\n",
            "1\n",
            "1\n",
            "1\n",
            "1\n",
            "1\n",
            "1\n",
            "1\n",
            "1\n",
            "1\n",
            "1\n",
            "1\n",
            "1\n",
            "1\n",
            "1\n",
            "1\n",
            "1\n",
            "1\n",
            "1\n",
            "1\n",
            "1\n",
            "1\n",
            "1\n",
            "1\n",
            "1\n",
            "1\n",
            "1\n",
            "1\n",
            "1\n",
            "1\n",
            "1\n",
            "1\n",
            "1\n",
            "1\n",
            "1\n",
            "1\n",
            "1\n",
            "1\n",
            "1\n",
            "1\n",
            "1\n",
            "1\n",
            "1\n",
            "1\n",
            "1\n",
            "1\n",
            "1\n",
            "1\n",
            "1\n",
            "1\n",
            "1\n",
            "1\n",
            "1\n",
            "1\n",
            "1\n",
            "1\n",
            "1\n",
            "1\n",
            "1\n",
            "1\n",
            "1\n",
            "1\n",
            "1\n",
            "1\n",
            "1\n",
            "1\n",
            "1\n",
            "1\n",
            "1\n",
            "1\n",
            "1\n",
            "1\n",
            "1\n",
            "1\n",
            "1\n",
            "1\n",
            "1\n",
            "1\n",
            "1\n",
            "1\n",
            "1\n",
            "1\n",
            "1\n",
            "1\n",
            "1\n",
            "1\n",
            "1\n",
            "1\n",
            "1\n",
            "1\n",
            "1\n",
            "1\n",
            "1\n",
            "1\n",
            "1\n",
            "1\n",
            "1\n",
            "1\n",
            "1\n",
            "1\n",
            "1\n",
            "1\n",
            "1\n",
            "1\n",
            "1\n",
            "1\n",
            "1\n",
            "1\n",
            "1\n",
            "1\n",
            "1\n",
            "1\n",
            "1\n",
            "1\n",
            "1\n",
            "1\n",
            "1\n",
            "1\n",
            "1\n",
            "1\n",
            "1\n",
            "1\n",
            "1\n",
            "1\n",
            "1\n",
            "1\n",
            "1\n",
            "1\n",
            "1\n",
            "1\n",
            "1\n",
            "1\n",
            "1\n",
            "1\n",
            "1\n",
            "1\n",
            "1\n",
            "1\n",
            "1\n",
            "1\n",
            "1\n",
            "1\n",
            "1\n",
            "1\n",
            "1\n",
            "1\n",
            "1\n",
            "1\n",
            "1\n",
            "1\n",
            "1\n",
            "1\n",
            "1\n",
            "1\n",
            "1\n",
            "1\n",
            "1\n",
            "1\n",
            "1\n",
            "1\n",
            "1\n",
            "1\n",
            "1\n",
            "1\n",
            "1\n",
            "1\n",
            "1\n",
            "1\n",
            "1\n",
            "1\n",
            "1\n",
            "1\n",
            "1\n",
            "1\n",
            "1\n",
            "1\n",
            "1\n",
            "1\n",
            "1\n",
            "1\n",
            "1\n",
            "1\n",
            "1\n",
            "1\n",
            "1\n",
            "1\n",
            "1\n",
            "1\n",
            "1\n",
            "1\n",
            "1\n",
            "1\n",
            "1\n",
            "1\n",
            "1\n",
            "1\n",
            "1\n",
            "1\n",
            "1\n",
            "1\n",
            "1\n",
            "1\n",
            "1\n",
            "1\n",
            "1\n",
            "1\n",
            "1\n",
            "1\n",
            "1\n",
            "1\n",
            "1\n",
            "1\n",
            "1\n",
            "1\n",
            "1\n",
            "1\n",
            "1\n",
            "1\n",
            "1\n",
            "1\n",
            "1\n",
            "1\n",
            "1\n",
            "1\n",
            "1\n",
            "1\n",
            "1\n",
            "1\n",
            "1\n",
            "1\n",
            "1\n",
            "1\n",
            "1\n",
            "1\n",
            "1\n",
            "1\n",
            "1\n",
            "1\n",
            "1\n",
            "1\n",
            "1\n",
            "1\n",
            "1\n",
            "1\n",
            "1\n",
            "1\n",
            "1\n",
            "1\n",
            "1\n",
            "1\n",
            "1\n",
            "1\n",
            "1\n",
            "1\n",
            "1\n",
            "1\n",
            "1\n",
            "1\n",
            "1\n",
            "1\n",
            "1\n",
            "1\n",
            "1\n",
            "1\n",
            "1\n",
            "1\n",
            "1\n",
            "1\n",
            "1\n",
            "1\n",
            "1\n",
            "1\n",
            "1\n",
            "1\n",
            "1\n",
            "1\n",
            "1\n",
            "1\n",
            "1\n",
            "1\n",
            "1\n",
            "1\n",
            "1\n",
            "1\n",
            "1\n",
            "1\n",
            "1\n",
            "1\n",
            "1\n",
            "1\n",
            "1\n",
            "1\n",
            "1\n",
            "1\n",
            "1\n",
            "1\n",
            "1\n",
            "1\n",
            "1\n",
            "1\n",
            "1\n",
            "1\n",
            "1\n",
            "1\n",
            "1\n",
            "1\n",
            "1\n",
            "1\n",
            "1\n",
            "1\n",
            "1\n",
            "1\n",
            "1\n",
            "1\n",
            "1\n",
            "1\n",
            "1\n",
            "1\n",
            "1\n",
            "1\n",
            "1\n",
            "1\n",
            "1\n",
            "1\n",
            "1\n",
            "1\n",
            "1\n",
            "1\n",
            "1\n",
            "1\n",
            "1\n",
            "1\n",
            "1\n",
            "1\n",
            "1\n",
            "1\n",
            "1\n",
            "1\n",
            "1\n",
            "1\n",
            "1\n",
            "1\n",
            "1\n",
            "1\n",
            "1\n",
            "1\n",
            "1\n",
            "1\n",
            "1\n",
            "1\n",
            "1\n",
            "1\n",
            "1\n",
            "1\n",
            "1\n",
            "1\n",
            "1\n",
            "1\n",
            "1\n",
            "1\n",
            "1\n",
            "1\n",
            "1\n",
            "1\n",
            "1\n",
            "1\n",
            "1\n",
            "1\n",
            "1\n",
            "1\n",
            "1\n",
            "1\n",
            "1\n",
            "1\n",
            "1\n",
            "1\n",
            "1\n",
            "1\n",
            "1\n",
            "1\n",
            "1\n",
            "1\n",
            "1\n",
            "1\n",
            "1\n",
            "1\n",
            "1\n",
            "1\n",
            "1\n",
            "1\n",
            "1\n",
            "1\n",
            "1\n",
            "1\n",
            "1\n",
            "1\n",
            "1\n",
            "1\n",
            "1\n",
            "1\n",
            "1\n",
            "1\n",
            "1\n",
            "1\n",
            "1\n",
            "1\n",
            "1\n",
            "1\n",
            "1\n",
            "1\n",
            "1\n",
            "1\n",
            "1\n",
            "1\n",
            "1\n",
            "1\n",
            "1\n",
            "1\n",
            "1\n",
            "1\n",
            "1\n",
            "1\n",
            "1\n",
            "1\n",
            "1\n",
            "1\n",
            "1\n",
            "1\n",
            "1\n",
            "1\n",
            "1\n",
            "1\n",
            "1\n",
            "1\n",
            "1\n",
            "1\n",
            "1\n",
            "1\n",
            "1\n",
            "1\n",
            "1\n",
            "1\n",
            "1\n",
            "1\n",
            "1\n",
            "1\n",
            "1\n",
            "1\n",
            "1\n",
            "1\n",
            "1\n",
            "1\n",
            "1\n",
            "1\n",
            "1\n",
            "1\n",
            "1\n",
            "1\n",
            "1\n",
            "1\n",
            "1\n",
            "1\n",
            "1\n",
            "1\n",
            "1\n",
            "1\n",
            "1\n",
            "1\n",
            "1\n",
            "1\n",
            "1\n",
            "1\n",
            "1\n",
            "1\n",
            "1\n",
            "1\n",
            "1\n",
            "1\n",
            "1\n",
            "1\n",
            "1\n",
            "1\n",
            "1\n",
            "1\n",
            "1\n",
            "1\n",
            "1\n",
            "1\n",
            "1\n",
            "1\n",
            "1\n",
            "1\n",
            "1\n",
            "1\n",
            "1\n",
            "1\n",
            "1\n",
            "1\n",
            "1\n",
            "1\n",
            "1\n",
            "1\n",
            "1\n",
            "1\n",
            "1\n",
            "1\n",
            "1\n",
            "1\n",
            "1\n",
            "1\n",
            "1\n",
            "1\n",
            "1\n",
            "1\n",
            "1\n",
            "1\n",
            "1\n",
            "1\n",
            "1\n",
            "1\n",
            "1\n",
            "1\n",
            "1\n",
            "1\n",
            "1\n",
            "1\n",
            "1\n",
            "1\n",
            "1\n",
            "1\n",
            "1\n",
            "1\n",
            "1\n",
            "1\n",
            "1\n",
            "1\n",
            "1\n",
            "1\n",
            "1\n",
            "1\n",
            "1\n",
            "1\n",
            "1\n",
            "1\n",
            "1\n",
            "1\n",
            "1\n",
            "1\n",
            "1\n",
            "1\n",
            "1\n",
            "1\n",
            "1\n",
            "1\n",
            "1\n",
            "1\n",
            "1\n",
            "1\n",
            "1\n",
            "1\n",
            "1\n",
            "1\n",
            "1\n",
            "1\n",
            "1\n",
            "1\n",
            "1\n",
            "1\n",
            "1\n",
            "1\n",
            "1\n",
            "1\n",
            "1\n",
            "1\n",
            "1\n",
            "1\n",
            "1\n",
            "1\n",
            "1\n",
            "1\n",
            "1\n",
            "1\n",
            "1\n",
            "1\n",
            "1\n",
            "1\n",
            "1\n",
            "1\n",
            "1\n",
            "1\n",
            "1\n",
            "1\n",
            "1\n",
            "1\n",
            "1\n",
            "1\n",
            "1\n",
            "1\n",
            "1\n",
            "1\n",
            "1\n",
            "1\n",
            "1\n",
            "1\n",
            "1\n",
            "1\n",
            "1\n",
            "1\n",
            "1\n",
            "1\n",
            "1\n",
            "1\n",
            "1\n",
            "1\n",
            "1\n",
            "1\n",
            "1\n",
            "1\n",
            "1\n",
            "1\n",
            "1\n",
            "1\n",
            "1\n",
            "1\n",
            "1\n",
            "1\n",
            "1\n",
            "1\n",
            "1\n",
            "1\n",
            "1\n",
            "1\n",
            "1\n",
            "1\n",
            "1\n",
            "1\n",
            "1\n",
            "1\n",
            "1\n",
            "1\n",
            "1\n",
            "1\n",
            "1\n",
            "1\n",
            "1\n",
            "1\n",
            "1\n",
            "1\n",
            "1\n",
            "1\n",
            "1\n",
            "1\n",
            "1\n",
            "1\n",
            "1\n",
            "1\n",
            "1\n",
            "1\n",
            "1\n",
            "1\n",
            "1\n",
            "1\n",
            "1\n",
            "1\n",
            "1\n",
            "1\n",
            "1\n",
            "1\n",
            "1\n",
            "1\n",
            "1\n",
            "1\n",
            "1\n",
            "1\n",
            "1\n",
            "1\n",
            "1\n",
            "1\n",
            "1\n",
            "1\n",
            "1\n",
            "1\n",
            "1\n",
            "1\n",
            "1\n",
            "1\n",
            "1\n",
            "1\n",
            "1\n",
            "1\n",
            "1\n",
            "1\n",
            "1\n",
            "1\n",
            "1\n",
            "1\n",
            "1\n",
            "1\n",
            "1\n",
            "1\n",
            "1\n",
            "1\n",
            "1\n",
            "1\n",
            "1\n",
            "1\n",
            "1\n",
            "1\n",
            "1\n",
            "1\n",
            "1\n",
            "1\n",
            "1\n",
            "1\n",
            "1\n",
            "1\n",
            "1\n",
            "1\n",
            "1\n",
            "1\n",
            "1\n",
            "1\n",
            "1\n",
            "1\n",
            "1\n",
            "1\n",
            "1\n",
            "1\n",
            "1\n",
            "1\n",
            "1\n",
            "1\n",
            "1\n",
            "1\n",
            "1\n",
            "1\n",
            "1\n",
            "1\n",
            "1\n",
            "1\n",
            "1\n",
            "1\n",
            "1\n",
            "1\n",
            "1\n",
            "1\n",
            "1\n",
            "1\n",
            "1\n",
            "1\n",
            "1\n",
            "1\n",
            "1\n",
            "1\n",
            "1\n",
            "1\n",
            "1\n",
            "1\n",
            "1\n",
            "1\n",
            "1\n",
            "1\n",
            "1\n",
            "1\n",
            "1\n",
            "1\n",
            "1\n",
            "1\n",
            "1\n",
            "1\n",
            "1\n",
            "1\n",
            "1\n",
            "1\n",
            "1\n",
            "1\n",
            "1\n",
            "1\n",
            "1\n",
            "1\n",
            "1\n",
            "1\n",
            "1\n",
            "1\n",
            "1\n",
            "1\n",
            "1\n",
            "1\n",
            "1\n",
            "1\n",
            "1\n",
            "1\n",
            "1\n",
            "1\n",
            "1\n",
            "1\n",
            "1\n",
            "1\n",
            "1\n",
            "1\n",
            "1\n",
            "1\n",
            "1\n",
            "1\n",
            "1\n",
            "1\n",
            "1\n",
            "1\n",
            "1\n",
            "1\n",
            "1\n",
            "1\n",
            "1\n",
            "1\n",
            "1\n",
            "1\n",
            "1\n",
            "1\n",
            "1\n",
            "1\n",
            "1\n",
            "1\n",
            "1\n",
            "1\n",
            "1\n",
            "1\n",
            "1\n",
            "1\n",
            "1\n",
            "1\n",
            "1\n",
            "1\n",
            "1\n",
            "1\n",
            "1\n",
            "1\n",
            "1\n",
            "1\n",
            "1\n",
            "1\n",
            "1\n",
            "1\n",
            "1\n",
            "1\n",
            "1\n",
            "1\n",
            "1\n",
            "1\n",
            "1\n",
            "1\n",
            "1\n",
            "1\n",
            "1\n",
            "1\n",
            "1\n",
            "1\n",
            "1\n",
            "1\n",
            "1\n",
            "1\n",
            "1\n",
            "1\n",
            "1\n",
            "1\n",
            "1\n",
            "1\n",
            "1\n",
            "1\n",
            "1\n",
            "1\n",
            "1\n",
            "1\n",
            "1\n",
            "1\n",
            "1\n",
            "1\n",
            "1\n",
            "1\n",
            "1\n",
            "1\n",
            "1\n",
            "1\n",
            "1\n",
            "1\n",
            "1\n",
            "1\n",
            "1\n",
            "1\n",
            "1\n",
            "1\n",
            "1\n",
            "1\n",
            "1\n",
            "1\n",
            "1\n",
            "1\n",
            "1\n",
            "1\n",
            "1\n",
            "1\n",
            "1\n",
            "1\n",
            "1\n",
            "1\n",
            "1\n",
            "1\n",
            "1\n",
            "1\n",
            "1\n",
            "1\n",
            "1\n",
            "1\n",
            "1\n",
            "1\n",
            "1\n",
            "1\n",
            "1\n",
            "1\n",
            "1\n",
            "1\n",
            "1\n",
            "1\n",
            "1\n",
            "1\n",
            "1\n",
            "1\n",
            "1\n",
            "1\n",
            "1\n",
            "1\n",
            "1\n",
            "1\n",
            "1\n",
            "1\n",
            "1\n",
            "1\n",
            "1\n",
            "1\n",
            "1\n",
            "1\n",
            "1\n",
            "1\n",
            "1\n",
            "1\n",
            "1\n",
            "1\n",
            "1\n",
            "1\n",
            "1\n",
            "1\n",
            "1\n",
            "1\n",
            "1\n",
            "1\n",
            "1\n",
            "1\n",
            "1\n",
            "1\n",
            "1\n",
            "1\n",
            "1\n",
            "1\n",
            "1\n",
            "1\n",
            "1\n",
            "1\n",
            "1\n",
            "1\n",
            "1\n",
            "1\n",
            "1\n",
            "1\n",
            "1\n",
            "1\n",
            "1\n",
            "1\n",
            "1\n",
            "1\n",
            "1\n",
            "1\n",
            "1\n",
            "1\n",
            "1\n",
            "1\n",
            "1\n",
            "1\n",
            "1\n",
            "1\n",
            "1\n",
            "1\n",
            "1\n",
            "1\n",
            "1\n",
            "1\n",
            "1\n",
            "1\n",
            "1\n",
            "1\n",
            "1\n",
            "1\n",
            "1\n",
            "1\n",
            "1\n",
            "1\n",
            "1\n",
            "1\n",
            "1\n",
            "1\n",
            "1\n",
            "1\n",
            "1\n",
            "1\n",
            "1\n",
            "1\n",
            "1\n",
            "1\n",
            "1\n",
            "1\n",
            "1\n",
            "1\n",
            "1\n",
            "1\n",
            "1\n",
            "1\n",
            "1\n",
            "1\n",
            "1\n",
            "1\n",
            "1\n",
            "1\n",
            "1\n",
            "1\n",
            "1\n",
            "1\n",
            "1\n",
            "1\n",
            "1\n",
            "1\n",
            "1\n",
            "1\n",
            "1\n",
            "1\n",
            "1\n",
            "1\n",
            "1\n",
            "1\n",
            "1\n",
            "1\n",
            "1\n",
            "1\n",
            "1\n",
            "1\n",
            "1\n",
            "1\n",
            "1\n",
            "1\n",
            "1\n",
            "1\n",
            "1\n",
            "1\n",
            "1\n",
            "1\n",
            "1\n",
            "1\n",
            "1\n",
            "1\n",
            "1\n",
            "1\n",
            "1\n",
            "1\n",
            "1\n",
            "1\n",
            "1\n",
            "1\n",
            "1\n",
            "1\n",
            "1\n",
            "1\n",
            "1\n",
            "1\n",
            "1\n",
            "1\n",
            "1\n",
            "1\n",
            "1\n",
            "1\n",
            "1\n",
            "1\n",
            "1\n",
            "1\n",
            "1\n",
            "1\n",
            "1\n",
            "1\n",
            "1\n",
            "1\n",
            "1\n",
            "1\n",
            "1\n",
            "1\n",
            "1\n",
            "1\n",
            "1\n",
            "1\n",
            "1\n",
            "1\n",
            "1\n",
            "1\n",
            "1\n",
            "1\n",
            "1\n",
            "1\n",
            "1\n",
            "1\n",
            "1\n",
            "1\n",
            "1\n",
            "1\n",
            "1\n",
            "1\n",
            "1\n",
            "1\n",
            "1\n",
            "1\n",
            "1\n",
            "1\n",
            "1\n",
            "1\n",
            "1\n",
            "1\n",
            "1\n",
            "1\n",
            "1\n",
            "1\n",
            "1\n",
            "1\n",
            "1\n",
            "1\n",
            "1\n",
            "1\n",
            "1\n",
            "1\n",
            "1\n",
            "1\n",
            "1\n",
            "1\n",
            "1\n",
            "1\n",
            "1\n",
            "1\n",
            "1\n",
            "1\n",
            "1\n",
            "1\n",
            "1\n",
            "1\n",
            "1\n",
            "1\n",
            "1\n",
            "1\n",
            "1\n",
            "1\n",
            "1\n",
            "1\n",
            "1\n",
            "1\n",
            "1\n",
            "1\n",
            "1\n",
            "1\n",
            "1\n",
            "1\n",
            "1\n",
            "1\n",
            "1\n",
            "1\n",
            "1\n",
            "1\n",
            "1\n",
            "1\n",
            "1\n",
            "1\n",
            "1\n",
            "1\n",
            "1\n",
            "1\n",
            "1\n",
            "1\n",
            "1\n",
            "1\n",
            "1\n",
            "1\n",
            "1\n",
            "1\n",
            "1\n",
            "1\n",
            "1\n",
            "1\n",
            "1\n",
            "1\n",
            "1\n",
            "1\n",
            "1\n",
            "1\n",
            "1\n",
            "1\n",
            "1\n",
            "1\n",
            "1\n",
            "1\n",
            "1\n",
            "1\n",
            "1\n",
            "1\n",
            "1\n",
            "1\n",
            "1\n",
            "1\n",
            "1\n",
            "1\n",
            "1\n",
            "1\n",
            "1\n",
            "1\n",
            "1\n",
            "1\n",
            "1\n",
            "1\n",
            "1\n",
            "1\n",
            "1\n",
            "1\n",
            "1\n",
            "1\n",
            "1\n",
            "1\n",
            "1\n",
            "1\n",
            "1\n",
            "1\n",
            "1\n",
            "1\n",
            "1\n",
            "1\n",
            "1\n",
            "1\n",
            "1\n",
            "1\n",
            "1\n",
            "1\n",
            "1\n",
            "1\n",
            "1\n",
            "1\n",
            "1\n",
            "1\n",
            "1\n",
            "1\n",
            "1\n",
            "1\n",
            "1\n",
            "1\n",
            "1\n",
            "1\n",
            "1\n",
            "1\n",
            "1\n",
            "1\n",
            "1\n",
            "1\n",
            "1\n",
            "1\n",
            "1\n",
            "1\n",
            "1\n",
            "1\n",
            "1\n",
            "1\n",
            "1\n",
            "1\n",
            "1\n",
            "1\n",
            "1\n",
            "1\n",
            "1\n",
            "1\n",
            "1\n",
            "1\n",
            "1\n",
            "1\n",
            "1\n",
            "1\n",
            "1\n",
            "1\n",
            "1\n",
            "1\n",
            "1\n",
            "1\n",
            "1\n",
            "1\n",
            "1\n",
            "1\n",
            "1\n",
            "1\n",
            "1\n",
            "1\n",
            "1\n",
            "1\n",
            "1\n",
            "1\n",
            "1\n",
            "1\n",
            "1\n",
            "1\n",
            "1\n",
            "1\n",
            "1\n",
            "1\n",
            "1\n",
            "1\n",
            "1\n",
            "1\n",
            "1\n",
            "1\n",
            "1\n",
            "1\n",
            "1\n",
            "1\n",
            "1\n",
            "1\n",
            "1\n",
            "1\n",
            "1\n",
            "1\n",
            "1\n",
            "1\n",
            "1\n",
            "1\n",
            "1\n",
            "1\n",
            "1\n",
            "1\n",
            "1\n",
            "1\n",
            "1\n",
            "1\n",
            "1\n",
            "1\n",
            "1\n",
            "1\n",
            "1\n",
            "1\n",
            "1\n",
            "1\n",
            "1\n",
            "1\n",
            "1\n",
            "1\n",
            "1\n",
            "1\n",
            "1\n",
            "1\n",
            "1\n",
            "1\n",
            "1\n",
            "1\n",
            "1\n",
            "1\n",
            "1\n",
            "1\n",
            "1\n",
            "1\n",
            "1\n",
            "1\n",
            "1\n",
            "1\n",
            "1\n",
            "1\n",
            "1\n",
            "1\n",
            "1\n",
            "1\n",
            "1\n",
            "1\n",
            "1\n",
            "1\n",
            "1\n",
            "1\n",
            "1\n",
            "1\n",
            "1\n",
            "1\n",
            "1\n",
            "1\n",
            "1\n",
            "1\n",
            "1\n",
            "1\n",
            "1\n",
            "1\n",
            "1\n",
            "1\n",
            "1\n",
            "1\n",
            "1\n",
            "1\n",
            "1\n",
            "1\n",
            "1\n",
            "1\n",
            "1\n",
            "1\n",
            "1\n",
            "1\n",
            "1\n",
            "1\n",
            "1\n",
            "1\n",
            "1\n",
            "1\n",
            "1\n",
            "1\n",
            "1\n",
            "1\n",
            "1\n",
            "1\n",
            "1\n",
            "1\n",
            "1\n",
            "1\n",
            "1\n",
            "1\n",
            "1\n",
            "1\n",
            "1\n",
            "1\n",
            "1\n",
            "1\n",
            "1\n",
            "1\n",
            "1\n",
            "1\n",
            "1\n",
            "1\n",
            "1\n",
            "1\n",
            "1\n",
            "1\n",
            "1\n",
            "1\n",
            "1\n",
            "1\n",
            "1\n",
            "1\n",
            "1\n",
            "1\n",
            "1\n",
            "1\n",
            "1\n",
            "1\n",
            "1\n",
            "1\n",
            "1\n",
            "1\n",
            "1\n",
            "1\n",
            "1\n",
            "1\n",
            "1\n",
            "1\n",
            "1\n",
            "1\n",
            "1\n",
            "1\n",
            "1\n",
            "1\n",
            "1\n",
            "1\n",
            "1\n",
            "1\n",
            "1\n",
            "1\n",
            "1\n",
            "1\n",
            "1\n",
            "1\n",
            "1\n",
            "1\n",
            "1\n",
            "1\n",
            "1\n",
            "1\n",
            "1\n",
            "1\n",
            "1\n",
            "1\n",
            "1\n",
            "1\n",
            "1\n",
            "1\n",
            "1\n",
            "1\n",
            "1\n",
            "1\n",
            "1\n",
            "1\n",
            "1\n",
            "1\n",
            "1\n",
            "1\n",
            "1\n",
            "1\n",
            "1\n",
            "1\n",
            "1\n",
            "1\n",
            "1\n",
            "1\n",
            "1\n",
            "1\n",
            "1\n",
            "1\n",
            "1\n",
            "1\n",
            "1\n",
            "1\n",
            "1\n",
            "1\n",
            "1\n",
            "1\n",
            "1\n",
            "1\n",
            "1\n",
            "1\n",
            "1\n",
            "1\n",
            "1\n",
            "1\n",
            "1\n",
            "1\n",
            "1\n",
            "1\n",
            "1\n",
            "1\n",
            "1\n",
            "1\n",
            "1\n",
            "1\n",
            "1\n",
            "1\n",
            "1\n",
            "1\n",
            "1\n",
            "1\n",
            "1\n",
            "1\n",
            "1\n",
            "1\n",
            "1\n",
            "1\n",
            "1\n",
            "1\n",
            "1\n",
            "1\n",
            "1\n",
            "1\n",
            "1\n",
            "1\n",
            "1\n",
            "1\n",
            "1\n",
            "1\n",
            "1\n",
            "1\n",
            "1\n",
            "1\n",
            "1\n",
            "1\n",
            "1\n",
            "1\n",
            "1\n",
            "1\n",
            "1\n",
            "1\n",
            "1\n",
            "1\n",
            "1\n",
            "1\n",
            "1\n",
            "1\n",
            "1\n",
            "1\n",
            "1\n",
            "1\n",
            "1\n",
            "1\n",
            "1\n",
            "1\n",
            "1\n",
            "1\n",
            "1\n",
            "1\n",
            "1\n",
            "1\n",
            "1\n",
            "1\n",
            "1\n",
            "1\n",
            "1\n",
            "1\n",
            "1\n",
            "1\n",
            "1\n",
            "1\n",
            "1\n",
            "1\n",
            "1\n",
            "1\n",
            "1\n",
            "1\n",
            "1\n",
            "1\n",
            "1\n",
            "1\n",
            "1\n",
            "1\n",
            "1\n",
            "1\n",
            "1\n",
            "1\n",
            "1\n",
            "1\n",
            "1\n",
            "1\n",
            "1\n",
            "1\n",
            "1\n",
            "1\n",
            "1\n",
            "1\n",
            "1\n",
            "1\n",
            "1\n",
            "1\n",
            "1\n",
            "1\n",
            "1\n",
            "1\n",
            "1\n",
            "1\n",
            "1\n",
            "1\n",
            "1\n",
            "1\n",
            "1\n",
            "1\n",
            "1\n",
            "1\n",
            "1\n",
            "1\n",
            "1\n",
            "1\n",
            "1\n",
            "1\n",
            "1\n",
            "1\n",
            "1\n",
            "1\n",
            "1\n",
            "1\n",
            "1\n",
            "1\n",
            "1\n",
            "1\n",
            "1\n",
            "1\n",
            "1\n",
            "1\n",
            "1\n",
            "1\n",
            "1\n",
            "1\n",
            "1\n",
            "1\n",
            "1\n",
            "1\n",
            "1\n",
            "1\n",
            "1\n",
            "1\n",
            "1\n",
            "1\n",
            "1\n",
            "1\n",
            "1\n",
            "1\n",
            "1\n",
            "1\n",
            "1\n",
            "1\n",
            "1\n",
            "1\n",
            "1\n",
            "1\n",
            "1\n",
            "1\n",
            "1\n",
            "1\n",
            "1\n",
            "1\n",
            "1\n",
            "1\n",
            "1\n",
            "1\n",
            "1\n",
            "1\n",
            "1\n",
            "1\n",
            "1\n",
            "1\n",
            "1\n",
            "1\n",
            "1\n",
            "1\n",
            "1\n",
            "1\n",
            "1\n",
            "1\n",
            "1\n",
            "1\n",
            "1\n",
            "1\n",
            "1\n",
            "1\n",
            "1\n",
            "1\n",
            "1\n",
            "1\n",
            "1\n",
            "1\n",
            "1\n",
            "1\n",
            "1\n",
            "1\n",
            "1\n",
            "1\n",
            "1\n",
            "1\n",
            "1\n",
            "1\n",
            "1\n",
            "1\n",
            "1\n",
            "1\n",
            "1\n",
            "1\n",
            "1\n",
            "1\n",
            "1\n",
            "1\n",
            "1\n",
            "1\n",
            "1\n",
            "1\n",
            "1\n",
            "1\n",
            "1\n",
            "1\n",
            "1\n",
            "1\n",
            "1\n",
            "1\n",
            "1\n",
            "1\n",
            "1\n",
            "1\n",
            "1\n",
            "1\n",
            "1\n",
            "1\n",
            "1\n",
            "1\n",
            "1\n",
            "1\n",
            "1\n",
            "1\n",
            "1\n",
            "1\n",
            "1\n",
            "1\n",
            "1\n",
            "1\n",
            "1\n",
            "1\n",
            "1\n",
            "1\n",
            "1\n",
            "1\n",
            "1\n",
            "1\n",
            "1\n",
            "1\n",
            "1\n",
            "1\n",
            "1\n",
            "1\n",
            "1\n",
            "1\n",
            "1\n",
            "1\n",
            "1\n",
            "1\n",
            "1\n",
            "1\n",
            "1\n",
            "1\n",
            "1\n",
            "1\n",
            "1\n",
            "1\n",
            "1\n",
            "1\n",
            "1\n",
            "1\n",
            "1\n",
            "1\n",
            "1\n",
            "1\n",
            "1\n",
            "1\n",
            "1\n",
            "1\n",
            "1\n",
            "1\n",
            "1\n",
            "1\n",
            "1\n",
            "1\n",
            "1\n",
            "1\n",
            "1\n",
            "1\n",
            "1\n",
            "1\n",
            "1\n",
            "1\n",
            "1\n",
            "1\n",
            "1\n",
            "1\n",
            "1\n",
            "1\n",
            "1\n",
            "1\n",
            "1\n",
            "1\n",
            "1\n",
            "1\n",
            "1\n",
            "1\n",
            "1\n",
            "1\n",
            "1\n",
            "1\n",
            "1\n",
            "1\n",
            "1\n",
            "1\n",
            "1\n",
            "1\n",
            "1\n",
            "1\n",
            "1\n",
            "1\n",
            "1\n",
            "1\n",
            "1\n",
            "1\n",
            "1\n",
            "1\n",
            "1\n",
            "1\n",
            "1\n",
            "1\n",
            "1\n",
            "1\n",
            "1\n",
            "1\n",
            "1\n",
            "1\n",
            "1\n",
            "1\n",
            "1\n",
            "1\n",
            "1\n",
            "1\n",
            "1\n",
            "1\n",
            "1\n",
            "1\n",
            "1\n",
            "1\n",
            "1\n",
            "1\n",
            "1\n",
            "1\n",
            "1\n",
            "1\n",
            "1\n",
            "1\n",
            "1\n",
            "1\n",
            "1\n",
            "1\n",
            "1\n",
            "1\n",
            "1\n",
            "1\n",
            "1\n",
            "1\n",
            "1\n",
            "1\n",
            "1\n",
            "1\n",
            "1\n",
            "1\n",
            "1\n",
            "1\n",
            "1\n",
            "1\n",
            "1\n",
            "1\n",
            "1\n",
            "1\n",
            "1\n",
            "1\n",
            "1\n",
            "1\n",
            "1\n",
            "1\n",
            "1\n",
            "1\n",
            "1\n",
            "1\n",
            "1\n",
            "1\n",
            "1\n",
            "1\n",
            "1\n",
            "1\n",
            "1\n",
            "1\n",
            "1\n",
            "1\n",
            "1\n",
            "1\n",
            "1\n",
            "1\n",
            "1\n",
            "1\n",
            "1\n",
            "1\n",
            "1\n",
            "1\n",
            "1\n",
            "1\n",
            "1\n",
            "1\n",
            "1\n",
            "1\n",
            "1\n",
            "1\n",
            "1\n",
            "1\n",
            "1\n",
            "1\n",
            "1\n",
            "1\n",
            "1\n",
            "1\n",
            "1\n",
            "1\n",
            "1\n",
            "1\n",
            "1\n",
            "1\n",
            "1\n",
            "1\n",
            "1\n",
            "1\n",
            "1\n",
            "1\n",
            "1\n",
            "1\n",
            "1\n",
            "1\n",
            "1\n",
            "1\n",
            "1\n",
            "1\n",
            "1\n",
            "1\n",
            "1\n",
            "1\n",
            "1\n",
            "1\n",
            "1\n",
            "1\n",
            "1\n",
            "1\n",
            "1\n",
            "1\n",
            "1\n",
            "1\n",
            "1\n",
            "1\n",
            "1\n",
            "1\n",
            "1\n",
            "1\n",
            "1\n",
            "1\n",
            "1\n",
            "1\n",
            "1\n",
            "1\n",
            "1\n",
            "1\n",
            "1\n",
            "1\n",
            "1\n",
            "1\n",
            "1\n",
            "1\n",
            "1\n",
            "1\n",
            "1\n",
            "1\n",
            "1\n",
            "1\n",
            "1\n",
            "1\n",
            "1\n",
            "1\n",
            "1\n",
            "1\n",
            "1\n",
            "1\n",
            "1\n",
            "1\n",
            "1\n",
            "1\n",
            "1\n",
            "1\n",
            "1\n",
            "1\n",
            "1\n",
            "1\n",
            "1\n",
            "1\n",
            "1\n",
            "1\n",
            "1\n",
            "1\n",
            "1\n",
            "1\n",
            "1\n",
            "1\n",
            "1\n",
            "1\n",
            "1\n",
            "1\n",
            "1\n",
            "1\n",
            "1\n",
            "1\n",
            "1\n",
            "1\n",
            "1\n",
            "1\n",
            "1\n",
            "1\n",
            "1\n",
            "1\n",
            "1\n",
            "1\n",
            "1\n",
            "1\n",
            "1\n",
            "1\n",
            "1\n",
            "1\n",
            "1\n",
            "1\n",
            "1\n",
            "1\n",
            "1\n",
            "1\n",
            "1\n",
            "1\n",
            "1\n",
            "1\n",
            "1\n",
            "1\n",
            "1\n",
            "1\n",
            "1\n",
            "1\n",
            "1\n",
            "1\n",
            "1\n",
            "1\n",
            "1\n",
            "1\n",
            "1\n",
            "1\n",
            "1\n",
            "1\n",
            "1\n",
            "1\n",
            "1\n",
            "1\n",
            "1\n",
            "1\n",
            "1\n",
            "1\n",
            "1\n",
            "1\n",
            "1\n",
            "1\n",
            "1\n",
            "1\n",
            "1\n",
            "1\n",
            "1\n",
            "1\n",
            "1\n",
            "1\n",
            "1\n",
            "1\n",
            "1\n",
            "1\n",
            "1\n",
            "1\n",
            "1\n",
            "1\n",
            "1\n",
            "1\n",
            "1\n",
            "1\n",
            "1\n",
            "1\n",
            "1\n",
            "1\n",
            "1\n",
            "1\n",
            "1\n",
            "1\n",
            "1\n",
            "1\n",
            "1\n",
            "1\n",
            "1\n",
            "1\n",
            "1\n",
            "1\n",
            "1\n",
            "1\n",
            "1\n",
            "1\n",
            "1\n",
            "1\n",
            "1\n",
            "1\n",
            "1\n",
            "1\n",
            "1\n",
            "1\n",
            "1\n",
            "1\n",
            "1\n",
            "1\n",
            "1\n",
            "1\n",
            "1\n",
            "1\n",
            "1\n",
            "1\n",
            "1\n",
            "1\n",
            "1\n",
            "1\n",
            "1\n",
            "1\n",
            "1\n",
            "1\n",
            "1\n",
            "1\n",
            "1\n",
            "1\n",
            "1\n",
            "1\n",
            "1\n",
            "1\n",
            "1\n",
            "1\n",
            "1\n",
            "1\n",
            "1\n",
            "1\n",
            "1\n",
            "1\n",
            "1\n",
            "1\n",
            "1\n",
            "1\n",
            "1\n",
            "1\n",
            "1\n",
            "1\n",
            "1\n",
            "1\n",
            "1\n",
            "1\n",
            "1\n",
            "1\n",
            "1\n",
            "1\n",
            "1\n",
            "1\n",
            "1\n",
            "1\n",
            "1\n",
            "1\n",
            "1\n",
            "1\n",
            "1\n",
            "1\n",
            "1\n",
            "1\n",
            "1\n",
            "1\n",
            "1\n",
            "1\n",
            "1\n",
            "1\n",
            "1\n",
            "1\n",
            "1\n",
            "1\n",
            "1\n",
            "1\n",
            "1\n",
            "1\n",
            "1\n",
            "1\n",
            "1\n",
            "1\n",
            "1\n",
            "1\n",
            "1\n",
            "1\n",
            "1\n",
            "1\n",
            "1\n",
            "1\n",
            "1\n",
            "1\n",
            "1\n",
            "1\n",
            "1\n",
            "1\n",
            "1\n",
            "1\n",
            "1\n",
            "1\n",
            "1\n",
            "1\n",
            "1\n",
            "1\n",
            "1\n",
            "1\n",
            "1\n",
            "1\n",
            "1\n",
            "1\n",
            "1\n",
            "1\n",
            "1\n",
            "1\n",
            "1\n",
            "1\n",
            "1\n",
            "1\n",
            "1\n",
            "1\n",
            "1\n",
            "1\n",
            "1\n",
            "1\n",
            "1\n",
            "1\n",
            "1\n",
            "1\n",
            "1\n",
            "1\n",
            "1\n",
            "1\n",
            "1\n",
            "1\n",
            "1\n",
            "1\n",
            "1\n",
            "1\n",
            "1\n",
            "1\n",
            "1\n",
            "1\n",
            "1\n",
            "1\n",
            "1\n",
            "1\n",
            "1\n",
            "1\n",
            "1\n",
            "1\n",
            "1\n",
            "1\n",
            "1\n",
            "1\n",
            "1\n",
            "1\n",
            "1\n",
            "1\n",
            "1\n",
            "1\n",
            "1\n",
            "1\n",
            "1\n",
            "1\n",
            "1\n",
            "1\n",
            "1\n",
            "1\n",
            "1\n",
            "1\n",
            "1\n",
            "1\n",
            "1\n",
            "1\n",
            "1\n",
            "1\n",
            "1\n",
            "1\n",
            "1\n",
            "1\n",
            "1\n",
            "1\n",
            "1\n",
            "1\n",
            "1\n",
            "1\n",
            "1\n",
            "1\n",
            "1\n",
            "1\n",
            "1\n",
            "1\n",
            "1\n",
            "1\n",
            "1\n",
            "1\n",
            "1\n",
            "1\n",
            "1\n",
            "1\n",
            "1\n",
            "1\n",
            "1\n",
            "1\n",
            "1\n",
            "1\n",
            "1\n",
            "1\n",
            "1\n",
            "1\n",
            "1\n",
            "1\n",
            "1\n",
            "1\n",
            "1\n",
            "1\n",
            "1\n",
            "1\n",
            "1\n",
            "1\n",
            "1\n",
            "1\n",
            "1\n",
            "1\n",
            "1\n",
            "1\n",
            "1\n",
            "1\n",
            "1\n",
            "1\n",
            "1\n",
            "1\n",
            "1\n",
            "1\n",
            "1\n",
            "1\n",
            "1\n",
            "1\n",
            "1\n",
            "1\n",
            "1\n",
            "1\n",
            "1\n",
            "1\n",
            "1\n",
            "1\n",
            "1\n",
            "1\n",
            "1\n",
            "1\n",
            "1\n",
            "1\n",
            "1\n",
            "1\n",
            "1\n",
            "1\n",
            "1\n",
            "1\n",
            "1\n",
            "1\n",
            "1\n",
            "1\n",
            "1\n",
            "1\n",
            "1\n",
            "1\n",
            "1\n",
            "1\n",
            "1\n",
            "1\n",
            "1\n",
            "1\n",
            "1\n",
            "1\n",
            "1\n",
            "1\n",
            "1\n",
            "1\n",
            "1\n",
            "1\n",
            "1\n",
            "1\n",
            "1\n",
            "1\n",
            "1\n",
            "1\n",
            "1\n",
            "1\n",
            "1\n",
            "1\n",
            "1\n",
            "1\n",
            "1\n",
            "1\n",
            "1\n",
            "1\n",
            "1\n",
            "1\n",
            "1\n",
            "1\n",
            "1\n",
            "1\n",
            "1\n",
            "1\n",
            "1\n",
            "1\n",
            "1\n",
            "1\n",
            "1\n",
            "1\n",
            "1\n",
            "1\n",
            "1\n",
            "1\n",
            "1\n",
            "1\n",
            "1\n",
            "1\n",
            "1\n",
            "1\n",
            "1\n",
            "1\n",
            "1\n",
            "1\n",
            "1\n",
            "1\n",
            "1\n",
            "1\n",
            "1\n",
            "1\n",
            "1\n",
            "1\n",
            "1\n",
            "1\n",
            "1\n",
            "1\n",
            "1\n",
            "1\n",
            "1\n",
            "1\n",
            "1\n",
            "1\n",
            "1\n",
            "1\n",
            "1\n",
            "1\n",
            "1\n",
            "1\n",
            "1\n",
            "1\n",
            "1\n",
            "1\n",
            "1\n",
            "1\n",
            "1\n",
            "1\n",
            "1\n",
            "1\n",
            "1\n",
            "1\n",
            "1\n",
            "1\n",
            "1\n",
            "1\n",
            "1\n",
            "1\n",
            "1\n",
            "1\n",
            "1\n",
            "1\n",
            "1\n",
            "1\n",
            "1\n",
            "1\n",
            "1\n",
            "1\n",
            "1\n",
            "1\n",
            "1\n",
            "1\n",
            "1\n",
            "1\n",
            "1\n",
            "1\n",
            "1\n",
            "1\n",
            "1\n",
            "1\n",
            "1\n",
            "1\n",
            "1\n",
            "1\n",
            "1\n",
            "1\n",
            "1\n",
            "1\n",
            "1\n",
            "1\n",
            "1\n",
            "1\n",
            "1\n",
            "1\n",
            "1\n",
            "1\n",
            "1\n",
            "1\n",
            "1\n",
            "1\n",
            "1\n",
            "1\n",
            "1\n",
            "1\n",
            "1\n",
            "1\n",
            "1\n",
            "1\n",
            "1\n",
            "1\n",
            "1\n",
            "1\n",
            "1\n",
            "1\n",
            "1\n",
            "1\n",
            "1\n",
            "1\n",
            "1\n",
            "1\n",
            "1\n",
            "1\n",
            "1\n",
            "1\n",
            "1\n",
            "1\n",
            "1\n",
            "1\n",
            "1\n",
            "1\n",
            "1\n",
            "1\n",
            "1\n",
            "1\n",
            "1\n",
            "1\n",
            "1\n",
            "1\n",
            "1\n",
            "1\n",
            "1\n",
            "1\n",
            "1\n",
            "1\n",
            "1\n",
            "1\n",
            "1\n",
            "1\n",
            "1\n",
            "1\n",
            "1\n",
            "1\n",
            "1\n",
            "1\n",
            "1\n",
            "1\n",
            "1\n",
            "1\n",
            "1\n",
            "1\n",
            "1\n",
            "1\n",
            "1\n",
            "1\n",
            "1\n",
            "1\n",
            "1\n",
            "1\n",
            "1\n",
            "1\n",
            "1\n",
            "1\n",
            "1\n",
            "1\n",
            "1\n",
            "1\n",
            "1\n",
            "1\n",
            "1\n",
            "1\n",
            "1\n",
            "1\n",
            "1\n",
            "1\n",
            "1\n",
            "1\n",
            "1\n",
            "1\n",
            "1\n",
            "1\n",
            "1\n",
            "1\n",
            "1\n",
            "1\n",
            "1\n",
            "1\n",
            "1\n",
            "1\n",
            "1\n",
            "1\n",
            "1\n",
            "1\n",
            "1\n",
            "1\n",
            "1\n",
            "1\n",
            "1\n",
            "1\n",
            "1\n",
            "1\n",
            "1\n",
            "1\n",
            "1\n",
            "1\n",
            "1\n",
            "1\n",
            "1\n",
            "1\n",
            "1\n",
            "1\n",
            "1\n",
            "1\n",
            "1\n",
            "1\n",
            "1\n",
            "1\n",
            "1\n",
            "1\n",
            "1\n",
            "1\n",
            "1\n",
            "1\n",
            "1\n",
            "1\n",
            "1\n",
            "1\n",
            "1\n",
            "1\n",
            "1\n",
            "1\n",
            "1\n",
            "1\n",
            "1\n",
            "1\n",
            "1\n",
            "1\n",
            "1\n",
            "1\n",
            "1\n",
            "1\n",
            "1\n",
            "1\n",
            "1\n",
            "1\n",
            "1\n",
            "1\n",
            "1\n",
            "1\n",
            "1\n",
            "1\n",
            "1\n",
            "1\n",
            "1\n",
            "1\n",
            "1\n",
            "1\n",
            "1\n",
            "1\n",
            "1\n",
            "1\n",
            "1\n",
            "1\n",
            "1\n",
            "1\n",
            "1\n",
            "1\n",
            "1\n",
            "1\n",
            "1\n",
            "1\n",
            "1\n",
            "1\n",
            "1\n",
            "1\n",
            "1\n",
            "1\n",
            "1\n",
            "1\n",
            "1\n",
            "1\n",
            "1\n",
            "1\n",
            "1\n",
            "1\n",
            "1\n",
            "1\n",
            "1\n",
            "1\n",
            "1\n",
            "1\n",
            "1\n",
            "1\n",
            "1\n",
            "1\n",
            "1\n",
            "1\n",
            "1\n",
            "1\n",
            "1\n",
            "1\n",
            "1\n",
            "1\n",
            "1\n",
            "1\n",
            "1\n",
            "1\n",
            "1\n",
            "1\n",
            "1\n",
            "1\n",
            "1\n",
            "1\n",
            "1\n",
            "1\n",
            "1\n",
            "1\n",
            "1\n",
            "1\n",
            "1\n",
            "1\n",
            "1\n",
            "1\n",
            "1\n",
            "1\n",
            "1\n",
            "1\n",
            "1\n",
            "1\n",
            "1\n",
            "1\n",
            "1\n",
            "1\n",
            "1\n",
            "1\n",
            "1\n",
            "1\n",
            "1\n",
            "1\n",
            "1\n",
            "1\n",
            "1\n",
            "1\n",
            "1\n",
            "1\n",
            "1\n",
            "1\n",
            "1\n",
            "1\n",
            "1\n",
            "1\n",
            "1\n",
            "1\n",
            "1\n",
            "1\n",
            "1\n",
            "1\n",
            "1\n",
            "1\n",
            "1\n",
            "1\n",
            "1\n",
            "1\n",
            "1\n",
            "1\n",
            "1\n",
            "1\n",
            "1\n",
            "1\n",
            "1\n",
            "1\n",
            "1\n",
            "1\n",
            "1\n",
            "1\n",
            "1\n",
            "1\n",
            "1\n",
            "1\n",
            "1\n",
            "1\n",
            "1\n",
            "1\n",
            "1\n",
            "1\n",
            "1\n",
            "1\n",
            "1\n",
            "1\n",
            "1\n",
            "1\n",
            "1\n",
            "1\n",
            "1\n",
            "1\n",
            "1\n",
            "1\n",
            "1\n",
            "1\n",
            "1\n",
            "1\n",
            "1\n",
            "1\n",
            "1\n",
            "1\n",
            "1\n",
            "1\n",
            "1\n",
            "1\n",
            "1\n",
            "1\n",
            "1\n",
            "1\n",
            "1\n",
            "1\n",
            "1\n",
            "1\n",
            "1\n",
            "1\n",
            "1\n",
            "1\n",
            "1\n",
            "1\n",
            "1\n",
            "1\n",
            "1\n",
            "1\n",
            "1\n",
            "1\n",
            "1\n",
            "1\n",
            "1\n",
            "1\n",
            "1\n",
            "1\n",
            "1\n",
            "1\n",
            "1\n",
            "1\n",
            "1\n",
            "1\n",
            "1\n",
            "1\n",
            "1\n",
            "1\n",
            "1\n",
            "1\n",
            "1\n",
            "1\n",
            "1\n",
            "1\n",
            "1\n",
            "1\n",
            "1\n",
            "1\n",
            "1\n",
            "1\n",
            "1\n",
            "1\n",
            "1\n",
            "1\n",
            "1\n",
            "1\n",
            "1\n",
            "1\n",
            "1\n",
            "1\n",
            "1\n",
            "1\n",
            "1\n",
            "1\n",
            "1\n",
            "1\n",
            "1\n",
            "1\n",
            "1\n",
            "1\n",
            "1\n",
            "1\n",
            "1\n",
            "1\n",
            "1\n",
            "1\n",
            "1\n",
            "1\n",
            "1\n",
            "1\n",
            "1\n",
            "1\n",
            "1\n",
            "1\n",
            "1\n",
            "1\n",
            "1\n",
            "1\n",
            "1\n",
            "1\n",
            "1\n",
            "1\n",
            "1\n",
            "1\n",
            "1\n",
            "1\n",
            "1\n",
            "1\n",
            "1\n",
            "1\n",
            "1\n",
            "1\n",
            "1\n",
            "1\n",
            "1\n",
            "1\n",
            "1\n",
            "1\n",
            "1\n",
            "1\n",
            "1\n",
            "1\n",
            "1\n",
            "1\n",
            "1\n",
            "1\n",
            "1\n",
            "1\n",
            "1\n",
            "1\n",
            "1\n",
            "1\n",
            "1\n",
            "1\n",
            "1\n",
            "1\n",
            "1\n",
            "1\n",
            "1\n",
            "1\n",
            "1\n",
            "1\n",
            "1\n",
            "1\n",
            "1\n",
            "1\n",
            "1\n",
            "1\n",
            "1\n",
            "1\n",
            "1\n",
            "1\n",
            "1\n",
            "1\n",
            "1\n",
            "1\n",
            "1\n",
            "1\n",
            "1\n",
            "1\n",
            "1\n",
            "1\n",
            "1\n",
            "1\n",
            "1\n",
            "1\n",
            "1\n",
            "1\n",
            "1\n",
            "1\n",
            "1\n",
            "1\n",
            "1\n",
            "1\n",
            "1\n",
            "1\n",
            "1\n",
            "1\n",
            "1\n",
            "1\n",
            "1\n",
            "1\n",
            "1\n",
            "1\n",
            "1\n",
            "1\n",
            "1\n",
            "1\n",
            "1\n",
            "1\n",
            "1\n",
            "1\n",
            "1\n",
            "1\n",
            "1\n",
            "1\n",
            "1\n",
            "1\n",
            "1\n",
            "1\n",
            "1\n",
            "1\n",
            "1\n",
            "1\n",
            "1\n",
            "1\n",
            "1\n",
            "1\n",
            "1\n",
            "1\n",
            "1\n",
            "1\n",
            "1\n",
            "1\n",
            "1\n",
            "1\n",
            "1\n",
            "1\n",
            "1\n",
            "1\n",
            "1\n",
            "1\n",
            "1\n",
            "1\n",
            "1\n",
            "1\n",
            "1\n",
            "1\n",
            "1\n",
            "1\n",
            "1\n",
            "1\n",
            "1\n",
            "1\n",
            "1\n",
            "1\n",
            "1\n",
            "1\n",
            "1\n",
            "1\n",
            "1\n",
            "1\n",
            "1\n",
            "1\n",
            "1\n",
            "1\n",
            "1\n",
            "1\n",
            "1\n",
            "1\n",
            "1\n",
            "1\n",
            "1\n",
            "1\n",
            "1\n",
            "1\n",
            "1\n",
            "1\n",
            "1\n",
            "1\n",
            "1\n",
            "1\n",
            "1\n",
            "1\n",
            "1\n",
            "1\n",
            "1\n",
            "1\n",
            "1\n",
            "1\n",
            "1\n",
            "1\n",
            "1\n",
            "1\n",
            "1\n",
            "1\n",
            "1\n",
            "1\n",
            "1\n",
            "1\n",
            "1\n",
            "1\n",
            "1\n",
            "1\n",
            "1\n",
            "1\n",
            "1\n",
            "1\n",
            "1\n",
            "1\n",
            "1\n",
            "1\n",
            "1\n",
            "1\n",
            "1\n",
            "1\n",
            "1\n",
            "1\n",
            "1\n",
            "1\n",
            "1\n",
            "1\n",
            "1\n",
            "1\n",
            "1\n",
            "1\n",
            "1\n",
            "1\n",
            "1\n",
            "1\n",
            "1\n",
            "1\n",
            "1\n",
            "1\n",
            "1\n",
            "1\n",
            "1\n",
            "1\n",
            "1\n",
            "1\n",
            "1\n",
            "1\n",
            "1\n",
            "1\n",
            "1\n",
            "1\n",
            "1\n",
            "1\n",
            "1\n",
            "1\n",
            "1\n",
            "1\n",
            "1\n",
            "1\n",
            "1\n",
            "1\n",
            "1\n",
            "1\n",
            "1\n",
            "1\n",
            "1\n",
            "1\n",
            "1\n",
            "1\n",
            "1\n",
            "1\n",
            "1\n",
            "1\n",
            "1\n",
            "1\n",
            "1\n",
            "1\n",
            "1\n",
            "1\n",
            "1\n",
            "1\n",
            "1\n",
            "1\n",
            "1\n",
            "1\n",
            "1\n",
            "1\n",
            "1\n",
            "1\n",
            "1\n",
            "1\n",
            "1\n",
            "1\n",
            "1\n",
            "1\n",
            "1\n",
            "1\n",
            "1\n",
            "1\n",
            "1\n",
            "1\n",
            "1\n",
            "1\n",
            "1\n",
            "1\n",
            "1\n",
            "1\n",
            "1\n",
            "1\n",
            "1\n",
            "1\n",
            "1\n",
            "1\n",
            "1\n",
            "1\n",
            "1\n",
            "1\n",
            "1\n",
            "1\n",
            "1\n",
            "1\n",
            "1\n",
            "1\n",
            "1\n",
            "1\n",
            "1\n",
            "1\n",
            "1\n",
            "1\n",
            "1\n",
            "1\n",
            "1\n",
            "1\n",
            "1\n",
            "1\n",
            "1\n",
            "1\n",
            "1\n",
            "1\n",
            "1\n",
            "1\n",
            "1\n",
            "1\n",
            "1\n",
            "1\n",
            "1\n",
            "1\n",
            "1\n",
            "1\n",
            "1\n",
            "1\n",
            "1\n",
            "1\n",
            "1\n",
            "1\n",
            "1\n",
            "1\n",
            "1\n",
            "1\n",
            "1\n",
            "1\n",
            "1\n",
            "1\n",
            "1\n",
            "1\n",
            "1\n",
            "1\n",
            "1\n",
            "1\n",
            "1\n",
            "1\n",
            "1\n",
            "1\n",
            "1\n",
            "1\n",
            "1\n",
            "1\n",
            "1\n",
            "1\n",
            "1\n",
            "1\n",
            "1\n",
            "1\n",
            "1\n",
            "1\n",
            "1\n",
            "1\n",
            "1\n",
            "1\n",
            "1\n",
            "1\n",
            "1\n",
            "1\n",
            "1\n",
            "1\n",
            "1\n",
            "1\n",
            "1\n",
            "1\n",
            "1\n",
            "1\n",
            "1\n",
            "1\n",
            "1\n",
            "1\n",
            "1\n",
            "1\n",
            "1\n",
            "1\n",
            "1\n",
            "1\n",
            "1\n",
            "1\n",
            "1\n",
            "1\n",
            "1\n",
            "1\n",
            "1\n",
            "1\n",
            "1\n",
            "1\n",
            "1\n",
            "1\n",
            "1\n",
            "1\n",
            "1\n",
            "1\n",
            "1\n",
            "1\n",
            "1\n",
            "1\n",
            "1\n",
            "1\n",
            "1\n",
            "1\n",
            "1\n",
            "1\n",
            "1\n",
            "1\n",
            "1\n",
            "1\n",
            "1\n",
            "1\n",
            "1\n",
            "1\n",
            "1\n",
            "1\n",
            "1\n",
            "1\n",
            "1\n",
            "1\n",
            "1\n",
            "1\n",
            "1\n",
            "1\n",
            "1\n",
            "1\n",
            "1\n",
            "1\n",
            "1\n",
            "1\n",
            "1\n",
            "1\n",
            "1\n",
            "1\n",
            "1\n",
            "1\n",
            "1\n",
            "1\n",
            "1\n",
            "1\n",
            "1\n",
            "1\n",
            "1\n",
            "1\n",
            "1\n",
            "1\n",
            "1\n",
            "1\n",
            "1\n",
            "1\n",
            "1\n",
            "1\n",
            "1\n",
            "1\n",
            "1\n",
            "1\n",
            "1\n",
            "1\n",
            "1\n",
            "1\n",
            "1\n",
            "1\n",
            "1\n",
            "1\n",
            "1\n",
            "1\n",
            "1\n",
            "1\n",
            "1\n",
            "1\n",
            "1\n",
            "1\n",
            "1\n",
            "1\n",
            "1\n",
            "1\n",
            "1\n",
            "1\n",
            "1\n",
            "1\n",
            "1\n",
            "1\n",
            "1\n",
            "1\n",
            "1\n",
            "1\n",
            "1\n",
            "1\n",
            "1\n",
            "1\n",
            "1\n",
            "1\n",
            "1\n",
            "1\n",
            "1\n",
            "1\n",
            "1\n",
            "1\n",
            "1\n",
            "1\n",
            "1\n",
            "1\n",
            "1\n",
            "1\n",
            "1\n",
            "1\n",
            "1\n",
            "1\n",
            "1\n",
            "1\n",
            "1\n",
            "1\n",
            "1\n",
            "1\n",
            "1\n",
            "1\n",
            "1\n",
            "1\n",
            "1\n",
            "1\n",
            "1\n",
            "1\n",
            "1\n",
            "1\n",
            "1\n",
            "1\n",
            "1\n",
            "1\n",
            "1\n",
            "1\n",
            "1\n",
            "1\n",
            "1\n",
            "1\n",
            "1\n",
            "1\n",
            "1\n",
            "1\n",
            "1\n",
            "1\n",
            "1\n",
            "1\n",
            "1\n",
            "1\n",
            "1\n",
            "1\n",
            "1\n",
            "1\n",
            "1\n",
            "1\n",
            "1\n",
            "1\n",
            "1\n",
            "1\n",
            "1\n",
            "1\n",
            "1\n",
            "1\n",
            "1\n",
            "1\n",
            "1\n",
            "1\n",
            "1\n",
            "1\n",
            "1\n",
            "1\n",
            "1\n",
            "1\n",
            "1\n",
            "1\n",
            "1\n",
            "1\n",
            "1\n",
            "1\n",
            "1\n",
            "1\n",
            "1\n",
            "1\n",
            "1\n",
            "1\n",
            "1\n",
            "1\n",
            "1\n",
            "1\n",
            "1\n",
            "1\n",
            "1\n",
            "1\n",
            "1\n",
            "1\n",
            "1\n",
            "1\n",
            "1\n",
            "1\n",
            "1\n",
            "1\n",
            "1\n",
            "1\n",
            "1\n",
            "1\n",
            "1\n",
            "1\n",
            "1\n",
            "1\n",
            "1\n",
            "1\n",
            "1\n",
            "1\n",
            "1\n",
            "1\n",
            "1\n",
            "1\n",
            "1\n",
            "1\n",
            "1\n",
            "1\n",
            "1\n",
            "1\n",
            "1\n",
            "1\n",
            "1\n",
            "1\n",
            "1\n",
            "1\n",
            "1\n",
            "1\n",
            "1\n",
            "1\n",
            "1\n",
            "1\n",
            "1\n",
            "1\n",
            "1\n",
            "1\n",
            "1\n",
            "1\n",
            "1\n",
            "1\n",
            "1\n",
            "1\n",
            "1\n",
            "1\n",
            "1\n",
            "1\n",
            "1\n",
            "1\n",
            "1\n",
            "1\n",
            "1\n",
            "1\n",
            "1\n",
            "1\n",
            "1\n",
            "1\n",
            "1\n",
            "1\n",
            "1\n",
            "1\n",
            "1\n",
            "1\n",
            "1\n",
            "1\n",
            "1\n",
            "1\n",
            "1\n",
            "1\n",
            "1\n",
            "1\n",
            "1\n",
            "1\n",
            "1\n",
            "1\n",
            "1\n",
            "1\n",
            "1\n",
            "1\n",
            "1\n",
            "1\n",
            "1\n",
            "1\n",
            "1\n",
            "1\n",
            "1\n",
            "1\n",
            "1\n",
            "1\n",
            "1\n",
            "1\n",
            "1\n",
            "1\n",
            "1\n",
            "1\n",
            "1\n",
            "1\n",
            "1\n",
            "1\n",
            "1\n",
            "1\n",
            "1\n",
            "1\n",
            "1\n",
            "1\n",
            "1\n",
            "1\n",
            "1\n",
            "1\n",
            "1\n",
            "1\n",
            "1\n",
            "1\n",
            "1\n",
            "1\n",
            "1\n",
            "1\n",
            "1\n",
            "1\n",
            "1\n",
            "1\n",
            "1\n",
            "1\n",
            "1\n",
            "1\n",
            "1\n",
            "1\n",
            "1\n",
            "1\n",
            "1\n",
            "1\n",
            "1\n",
            "1\n",
            "1\n",
            "1\n",
            "1\n",
            "1\n",
            "1\n",
            "1\n",
            "1\n",
            "1\n",
            "1\n",
            "1\n",
            "1\n",
            "1\n",
            "1\n",
            "1\n",
            "1\n",
            "1\n",
            "1\n",
            "1\n",
            "1\n",
            "1\n",
            "1\n",
            "1\n",
            "1\n",
            "1\n",
            "1\n",
            "1\n",
            "1\n",
            "1\n",
            "1\n",
            "1\n",
            "1\n",
            "1\n",
            "1\n",
            "1\n",
            "1\n",
            "1\n",
            "1\n",
            "1\n",
            "1\n",
            "1\n",
            "1\n",
            "1\n",
            "1\n",
            "1\n",
            "1\n",
            "1\n",
            "1\n",
            "1\n",
            "1\n",
            "1\n",
            "1\n",
            "1\n",
            "1\n",
            "1\n",
            "1\n",
            "1\n",
            "1\n",
            "1\n",
            "1\n",
            "1\n",
            "1\n",
            "1\n",
            "1\n",
            "1\n",
            "1\n",
            "1\n",
            "1\n",
            "1\n",
            "1\n",
            "1\n",
            "1\n",
            "1\n",
            "1\n",
            "1\n",
            "1\n",
            "1\n",
            "1\n",
            "1\n",
            "1\n",
            "1\n",
            "1\n",
            "1\n",
            "1\n",
            "1\n",
            "1\n",
            "1\n",
            "1\n",
            "1\n",
            "1\n",
            "1\n",
            "1\n",
            "1\n",
            "1\n",
            "1\n",
            "1\n",
            "1\n",
            "1\n",
            "1\n",
            "1\n",
            "1\n",
            "1\n",
            "1\n",
            "1\n",
            "1\n",
            "1\n",
            "1\n",
            "1\n",
            "1\n",
            "1\n",
            "1\n",
            "1\n",
            "1\n",
            "1\n",
            "1\n",
            "1\n",
            "1\n",
            "1\n",
            "1\n",
            "1\n",
            "1\n",
            "1\n",
            "1\n",
            "1\n",
            "1\n",
            "1\n",
            "1\n",
            "1\n",
            "1\n",
            "1\n",
            "1\n",
            "1\n",
            "1\n",
            "1\n",
            "1\n",
            "1\n",
            "1\n",
            "1\n",
            "1\n",
            "1\n",
            "1\n",
            "1\n",
            "1\n",
            "1\n",
            "1\n",
            "1\n",
            "1\n",
            "1\n",
            "1\n",
            "1\n",
            "1\n",
            "1\n",
            "1\n",
            "1\n",
            "1\n",
            "1\n",
            "1\n",
            "1\n",
            "1\n",
            "1\n",
            "1\n",
            "1\n",
            "1\n",
            "1\n",
            "1\n",
            "1\n",
            "1\n",
            "1\n",
            "1\n",
            "1\n",
            "1\n",
            "1\n",
            "1\n",
            "1\n",
            "1\n",
            "1\n",
            "1\n",
            "1\n",
            "1\n",
            "1\n",
            "1\n",
            "1\n",
            "1\n",
            "1\n",
            "1\n",
            "1\n",
            "1\n",
            "1\n",
            "1\n",
            "1\n",
            "1\n",
            "1\n",
            "1\n",
            "1\n",
            "1\n",
            "1\n",
            "1\n",
            "1\n",
            "1\n",
            "1\n",
            "1\n",
            "1\n",
            "1\n",
            "1\n",
            "1\n",
            "1\n",
            "1\n",
            "1\n",
            "1\n",
            "1\n",
            "1\n",
            "1\n",
            "1\n",
            "1\n",
            "1\n",
            "1\n",
            "1\n",
            "1\n",
            "1\n",
            "1\n",
            "1\n",
            "1\n",
            "1\n",
            "1\n",
            "1\n",
            "1\n",
            "1\n",
            "1\n",
            "1\n",
            "1\n",
            "1\n",
            "1\n",
            "1\n",
            "1\n",
            "1\n",
            "1\n",
            "1\n",
            "1\n",
            "1\n",
            "1\n",
            "1\n",
            "1\n",
            "1\n",
            "1\n",
            "1\n",
            "1\n",
            "1\n",
            "1\n",
            "1\n",
            "1\n",
            "1\n",
            "1\n",
            "1\n",
            "1\n",
            "1\n",
            "1\n",
            "1\n",
            "1\n",
            "1\n",
            "1\n",
            "1\n",
            "1\n",
            "1\n",
            "1\n",
            "1\n",
            "1\n",
            "1\n",
            "1\n",
            "1\n",
            "1\n",
            "1\n",
            "1\n",
            "1\n",
            "1\n",
            "1\n",
            "1\n",
            "1\n",
            "1\n",
            "1\n",
            "1\n",
            "1\n",
            "1\n",
            "1\n",
            "1\n",
            "1\n",
            "1\n",
            "1\n",
            "1\n",
            "1\n",
            "1\n",
            "1\n",
            "1\n",
            "1\n",
            "1\n",
            "1\n",
            "1\n",
            "1\n",
            "1\n",
            "1\n",
            "1\n",
            "1\n",
            "1\n",
            "1\n",
            "1\n",
            "1\n",
            "1\n",
            "1\n",
            "1\n",
            "1\n",
            "1\n",
            "1\n",
            "1\n",
            "1\n",
            "1\n",
            "1\n",
            "1\n",
            "1\n",
            "1\n",
            "1\n",
            "1\n",
            "1\n",
            "1\n",
            "1\n",
            "1\n",
            "1\n",
            "1\n",
            "1\n",
            "1\n",
            "1\n",
            "1\n",
            "1\n",
            "1\n",
            "1\n",
            "1\n",
            "1\n",
            "1\n",
            "1\n",
            "1\n",
            "1\n",
            "1\n",
            "1\n",
            "1\n",
            "1\n",
            "1\n",
            "1\n",
            "1\n",
            "1\n",
            "1\n",
            "1\n",
            "1\n",
            "1\n",
            "1\n",
            "1\n",
            "1\n",
            "1\n",
            "1\n",
            "1\n",
            "1\n",
            "1\n",
            "1\n",
            "1\n",
            "1\n",
            "1\n",
            "1\n",
            "1\n",
            "1\n",
            "1\n",
            "1\n",
            "1\n",
            "1\n",
            "1\n",
            "1\n",
            "1\n",
            "1\n",
            "1\n",
            "1\n",
            "1\n",
            "1\n",
            "1\n",
            "1\n",
            "1\n",
            "1\n",
            "1\n",
            "1\n",
            "1\n",
            "1\n",
            "1\n",
            "1\n",
            "1\n",
            "1\n",
            "1\n",
            "1\n",
            "1\n",
            "1\n",
            "1\n",
            "1\n",
            "1\n",
            "1\n",
            "1\n",
            "1\n",
            "1\n",
            "1\n",
            "1\n",
            "1\n",
            "1\n",
            "1\n",
            "1\n",
            "1\n",
            "1\n",
            "1\n",
            "1\n",
            "1\n",
            "1\n",
            "1\n",
            "1\n",
            "1\n",
            "1\n",
            "1\n",
            "1\n",
            "1\n",
            "1\n",
            "1\n",
            "1\n",
            "1\n",
            "1\n",
            "1\n",
            "1\n",
            "1\n",
            "1\n",
            "1\n",
            "1\n",
            "1\n",
            "1\n",
            "1\n",
            "1\n",
            "1\n",
            "1\n",
            "1\n",
            "1\n",
            "1\n",
            "1\n",
            "1\n",
            "1\n",
            "1\n",
            "1\n",
            "1\n",
            "1\n",
            "1\n",
            "1\n",
            "1\n",
            "1\n",
            "1\n",
            "1\n",
            "1\n",
            "1\n",
            "1\n",
            "1\n",
            "1\n",
            "1\n",
            "1\n",
            "1\n",
            "1\n",
            "1\n",
            "1\n",
            "1\n",
            "1\n",
            "1\n",
            "1\n",
            "1\n",
            "1\n",
            "1\n",
            "1\n",
            "1\n",
            "1\n",
            "1\n",
            "1\n",
            "1\n",
            "1\n",
            "1\n",
            "1\n",
            "1\n",
            "1\n",
            "1\n",
            "1\n",
            "1\n",
            "1\n",
            "1\n",
            "1\n",
            "1\n",
            "1\n",
            "1\n",
            "1\n",
            "1\n",
            "1\n",
            "1\n",
            "1\n",
            "1\n",
            "1\n",
            "1\n",
            "1\n",
            "1\n",
            "1\n",
            "1\n",
            "1\n",
            "1\n",
            "1\n",
            "1\n",
            "1\n",
            "1\n",
            "1\n",
            "1\n",
            "1\n",
            "1\n",
            "1\n",
            "1\n",
            "1\n",
            "1\n",
            "1\n",
            "1\n",
            "1\n",
            "1\n",
            "1\n",
            "1\n",
            "1\n",
            "1\n",
            "1\n",
            "1\n",
            "1\n",
            "1\n",
            "1\n",
            "1\n",
            "1\n",
            "1\n",
            "1\n",
            "1\n",
            "1\n",
            "1\n",
            "1\n",
            "1\n",
            "1\n",
            "1\n",
            "1\n",
            "1\n",
            "1\n",
            "1\n",
            "1\n",
            "1\n",
            "1\n",
            "1\n",
            "1\n",
            "1\n",
            "1\n",
            "1\n",
            "1\n",
            "1\n",
            "1\n",
            "1\n",
            "1\n",
            "1\n",
            "1\n",
            "1\n",
            "1\n",
            "1\n",
            "1\n",
            "1\n",
            "1\n",
            "1\n",
            "1\n",
            "1\n",
            "1\n",
            "1\n",
            "1\n",
            "1\n",
            "1\n",
            "1\n",
            "1\n",
            "1\n",
            "1\n",
            "1\n",
            "1\n",
            "1\n",
            "1\n",
            "1\n",
            "1\n",
            "1\n",
            "1\n",
            "1\n",
            "1\n",
            "1\n",
            "1\n",
            "1\n",
            "1\n",
            "1\n",
            "1\n",
            "1\n",
            "1\n",
            "1\n",
            "1\n",
            "1\n",
            "1\n",
            "1\n",
            "1\n",
            "1\n",
            "1\n",
            "1\n",
            "1\n",
            "1\n",
            "1\n",
            "1\n",
            "1\n",
            "1\n",
            "1\n",
            "1\n",
            "1\n",
            "1\n",
            "1\n",
            "1\n",
            "1\n",
            "1\n",
            "1\n",
            "1\n",
            "1\n",
            "1\n",
            "1\n",
            "1\n",
            "1\n",
            "1\n",
            "1\n",
            "1\n",
            "1\n",
            "1\n",
            "1\n",
            "1\n",
            "1\n",
            "1\n",
            "1\n",
            "1\n",
            "1\n",
            "1\n",
            "1\n",
            "1\n",
            "1\n",
            "1\n",
            "1\n",
            "1\n",
            "1\n",
            "1\n",
            "1\n",
            "1\n",
            "1\n",
            "1\n",
            "1\n",
            "1\n",
            "1\n",
            "1\n",
            "1\n",
            "1\n",
            "1\n",
            "1\n",
            "1\n",
            "1\n",
            "1\n",
            "1\n",
            "1\n",
            "1\n",
            "1\n",
            "1\n",
            "1\n",
            "1\n",
            "1\n",
            "1\n",
            "1\n",
            "1\n",
            "1\n",
            "1\n",
            "1\n",
            "1\n",
            "1\n",
            "1\n",
            "1\n",
            "1\n",
            "1\n",
            "1\n",
            "1\n",
            "1\n",
            "1\n",
            "1\n",
            "1\n",
            "1\n",
            "1\n",
            "1\n",
            "1\n",
            "1\n",
            "1\n",
            "1\n",
            "1\n",
            "1\n",
            "1\n",
            "1\n",
            "1\n",
            "1\n",
            "1\n",
            "1\n",
            "1\n",
            "1\n",
            "1\n",
            "1\n",
            "1\n",
            "1\n",
            "1\n",
            "1\n",
            "1\n",
            "1\n",
            "1\n",
            "1\n",
            "1\n",
            "1\n",
            "1\n",
            "1\n",
            "1\n",
            "1\n",
            "1\n",
            "1\n",
            "1\n",
            "1\n",
            "1\n",
            "1\n",
            "1\n",
            "1\n",
            "1\n",
            "1\n",
            "1\n",
            "1\n",
            "1\n",
            "1\n",
            "1\n",
            "1\n",
            "1\n",
            "1"
          ]
        },
        {
          "output_type": "error",
          "ename": "KeyboardInterrupt",
          "evalue": "",
          "traceback": [
            "\u001b[0;31m---------------------------------------------------------------------------\u001b[0m",
            "\u001b[0;31mKeyboardInterrupt\u001b[0m                         Traceback (most recent call last)",
            "\u001b[0;32m<ipython-input-2-0a43c06c14af>\u001b[0m in \u001b[0;36m<cell line: 3>\u001b[0;34m()\u001b[0m\n\u001b[1;32m      2\u001b[0m \u001b[0;34m\u001b[0m\u001b[0m\n\u001b[1;32m      3\u001b[0m \u001b[0;32mwhile\u001b[0m \u001b[0mnumber\u001b[0m \u001b[0;34m<=\u001b[0m \u001b[0;36m10\u001b[0m\u001b[0;34m:\u001b[0m\u001b[0;34m\u001b[0m\u001b[0;34m\u001b[0m\u001b[0m\n\u001b[0;32m----> 4\u001b[0;31m     \u001b[0mprint\u001b[0m\u001b[0;34m(\u001b[0m\u001b[0mnumber\u001b[0m\u001b[0;34m)\u001b[0m\u001b[0;34m\u001b[0m\u001b[0;34m\u001b[0m\u001b[0m\n\u001b[0m",
            "\u001b[0;32m/usr/local/lib/python3.10/dist-packages/ipykernel/iostream.py\u001b[0m in \u001b[0;36mwrite\u001b[0;34m(self, string)\u001b[0m\n\u001b[1;32m    400\u001b[0m             \u001b[0mis_child\u001b[0m \u001b[0;34m=\u001b[0m \u001b[0;34m(\u001b[0m\u001b[0;32mnot\u001b[0m \u001b[0mself\u001b[0m\u001b[0;34m.\u001b[0m\u001b[0m_is_master_process\u001b[0m\u001b[0;34m(\u001b[0m\u001b[0;34m)\u001b[0m\u001b[0;34m)\u001b[0m\u001b[0;34m\u001b[0m\u001b[0;34m\u001b[0m\u001b[0m\n\u001b[1;32m    401\u001b[0m             \u001b[0;31m# only touch the buffer in the IO thread to avoid races\u001b[0m\u001b[0;34m\u001b[0m\u001b[0;34m\u001b[0m\u001b[0m\n\u001b[0;32m--> 402\u001b[0;31m             \u001b[0mself\u001b[0m\u001b[0;34m.\u001b[0m\u001b[0mpub_thread\u001b[0m\u001b[0;34m.\u001b[0m\u001b[0mschedule\u001b[0m\u001b[0;34m(\u001b[0m\u001b[0;32mlambda\u001b[0m \u001b[0;34m:\u001b[0m \u001b[0mself\u001b[0m\u001b[0;34m.\u001b[0m\u001b[0m_buffer\u001b[0m\u001b[0;34m.\u001b[0m\u001b[0mwrite\u001b[0m\u001b[0;34m(\u001b[0m\u001b[0mstring\u001b[0m\u001b[0;34m)\u001b[0m\u001b[0;34m)\u001b[0m\u001b[0;34m\u001b[0m\u001b[0;34m\u001b[0m\u001b[0m\n\u001b[0m\u001b[1;32m    403\u001b[0m             \u001b[0;32mif\u001b[0m \u001b[0mis_child\u001b[0m\u001b[0;34m:\u001b[0m\u001b[0;34m\u001b[0m\u001b[0;34m\u001b[0m\u001b[0m\n\u001b[1;32m    404\u001b[0m                 \u001b[0;31m# mp.Pool cannot be trusted to flush promptly (or ever),\u001b[0m\u001b[0;34m\u001b[0m\u001b[0;34m\u001b[0m\u001b[0m\n",
            "\u001b[0;32m/usr/local/lib/python3.10/dist-packages/ipykernel/iostream.py\u001b[0m in \u001b[0;36mschedule\u001b[0;34m(self, f)\u001b[0m\n\u001b[1;32m    201\u001b[0m             \u001b[0mself\u001b[0m\u001b[0;34m.\u001b[0m\u001b[0m_events\u001b[0m\u001b[0;34m.\u001b[0m\u001b[0mappend\u001b[0m\u001b[0;34m(\u001b[0m\u001b[0mf\u001b[0m\u001b[0;34m)\u001b[0m\u001b[0;34m\u001b[0m\u001b[0;34m\u001b[0m\u001b[0m\n\u001b[1;32m    202\u001b[0m             \u001b[0;31m# wake event thread (message content is ignored)\u001b[0m\u001b[0;34m\u001b[0m\u001b[0;34m\u001b[0m\u001b[0m\n\u001b[0;32m--> 203\u001b[0;31m             \u001b[0mself\u001b[0m\u001b[0;34m.\u001b[0m\u001b[0m_event_pipe\u001b[0m\u001b[0;34m.\u001b[0m\u001b[0msend\u001b[0m\u001b[0;34m(\u001b[0m\u001b[0;34mb''\u001b[0m\u001b[0;34m)\u001b[0m\u001b[0;34m\u001b[0m\u001b[0;34m\u001b[0m\u001b[0m\n\u001b[0m\u001b[1;32m    204\u001b[0m         \u001b[0;32melse\u001b[0m\u001b[0;34m:\u001b[0m\u001b[0;34m\u001b[0m\u001b[0;34m\u001b[0m\u001b[0m\n\u001b[1;32m    205\u001b[0m             \u001b[0mf\u001b[0m\u001b[0;34m(\u001b[0m\u001b[0;34m)\u001b[0m\u001b[0;34m\u001b[0m\u001b[0;34m\u001b[0m\u001b[0m\n",
            "\u001b[0;32m/usr/local/lib/python3.10/dist-packages/zmq/sugar/socket.py\u001b[0m in \u001b[0;36msend\u001b[0;34m(self, data, flags, copy, track, routing_id, group)\u001b[0m\n\u001b[1;32m    618\u001b[0m                 )\n\u001b[1;32m    619\u001b[0m             \u001b[0mdata\u001b[0m\u001b[0;34m.\u001b[0m\u001b[0mgroup\u001b[0m \u001b[0;34m=\u001b[0m \u001b[0mgroup\u001b[0m\u001b[0;34m\u001b[0m\u001b[0;34m\u001b[0m\u001b[0m\n\u001b[0;32m--> 620\u001b[0;31m         \u001b[0;32mreturn\u001b[0m \u001b[0msuper\u001b[0m\u001b[0;34m(\u001b[0m\u001b[0;34m)\u001b[0m\u001b[0;34m.\u001b[0m\u001b[0msend\u001b[0m\u001b[0;34m(\u001b[0m\u001b[0mdata\u001b[0m\u001b[0;34m,\u001b[0m \u001b[0mflags\u001b[0m\u001b[0;34m=\u001b[0m\u001b[0mflags\u001b[0m\u001b[0;34m,\u001b[0m \u001b[0mcopy\u001b[0m\u001b[0;34m=\u001b[0m\u001b[0mcopy\u001b[0m\u001b[0;34m,\u001b[0m \u001b[0mtrack\u001b[0m\u001b[0;34m=\u001b[0m\u001b[0mtrack\u001b[0m\u001b[0;34m)\u001b[0m\u001b[0;34m\u001b[0m\u001b[0;34m\u001b[0m\u001b[0m\n\u001b[0m\u001b[1;32m    621\u001b[0m \u001b[0;34m\u001b[0m\u001b[0m\n\u001b[1;32m    622\u001b[0m     def send_multipart(\n",
            "\u001b[0;32mzmq/backend/cython/socket.pyx\u001b[0m in \u001b[0;36mzmq.backend.cython.socket.Socket.send\u001b[0;34m()\u001b[0m\n",
            "\u001b[0;32mzmq/backend/cython/socket.pyx\u001b[0m in \u001b[0;36mzmq.backend.cython.socket.Socket.send\u001b[0;34m()\u001b[0m\n",
            "\u001b[0;32mzmq/backend/cython/socket.pyx\u001b[0m in \u001b[0;36mzmq.backend.cython.socket._send_copy\u001b[0;34m()\u001b[0m\n",
            "\u001b[0;32m/usr/local/lib/python3.10/dist-packages/zmq/backend/cython/checkrc.pxd\u001b[0m in \u001b[0;36mzmq.backend.cython.checkrc._check_rc\u001b[0;34m()\u001b[0m\n",
            "\u001b[0;31mKeyboardInterrupt\u001b[0m: "
          ]
        }
      ]
    },
    {
      "cell_type": "code",
      "source": [
        "age = 120\n",
        "\n",
        "# the test condition is always True\n",
        "while age > 18:\n",
        "    print('You can vote')\n",
        "    break\n",
        "else:\n",
        "   print(\"you are not eligible to vote\")"
      ],
      "metadata": {
        "colab": {
          "base_uri": "https://localhost:8080/"
        },
        "id": "owY0VaLyXluc",
        "outputId": "21cb7991-7a7a-4755-9676-a0e306c5cc27"
      },
      "execution_count": null,
      "outputs": [
        {
          "output_type": "stream",
          "name": "stdout",
          "text": [
            "You can vote\n"
          ]
        }
      ]
    },
    {
      "cell_type": "code",
      "source": [
        "a = input(\"password =\")\n",
        "\n",
        "\n",
        "while a==\"1111\":\n",
        "  print(\"Welcome\")\n",
        "  break\n",
        "else:\n",
        "  print(\"Authorisation denied\")\n"
      ],
      "metadata": {
        "colab": {
          "base_uri": "https://localhost:8080/"
        },
        "id": "zpnScjmAYTDK",
        "outputId": "a157c861-b4f9-4e04-aebd-ac70610c753b"
      },
      "execution_count": null,
      "outputs": [
        {
          "output_type": "stream",
          "name": "stdout",
          "text": [
            "password =1111\n",
            "Welcome\n"
          ]
        }
      ]
    },
    {
      "cell_type": "code",
      "source": [
        "a1 =input(\"user id =\")\n",
        "a2=input(\"password =\")\n",
        "\n",
        "\n",
        "while a1==\"abcd\" and a2==\"1234\":\n",
        "  print(\"Welcome\")\n",
        "  break\n",
        "else:\n",
        "  print(\"Authorisation denied\")"
      ],
      "metadata": {
        "colab": {
          "base_uri": "https://localhost:8080/"
        },
        "id": "t5ijt_dGYXa4",
        "outputId": "a0149502-8990-470d-9eb6-59c9706844f0"
      },
      "execution_count": null,
      "outputs": [
        {
          "output_type": "stream",
          "name": "stdout",
          "text": [
            "user id =abcd\n",
            "password =1234\n",
            "Welcome\n"
          ]
        }
      ]
    },
    {
      "cell_type": "code",
      "source": [
        "import pandas as pd\n",
        "import numpy as np\n",
        "\n",
        "input_user_id = input(\"Enter User ID: \")\n",
        "input_password = input(\"Enter Password: \")\n",
        "\n",
        "\n",
        "while input_user_id == \"1234\" and input_password == \"1234\":\n",
        "\n",
        "  G = np.array([45,50,12,60,77])\n",
        "  B = np.array([50,75,25,50,65])\n",
        "  C = np.array([12,45,75,25,62])\n",
        "  D = np.array([\"Sam\",\"Abi\",\"Dev\",\"Sathya\",\"Ben\"])\n",
        "  Frame = {\"Name\":D,\"Math\":G,\"Bio\":B,\"Che\":C}\n",
        "  A = pd.DataFrame(Frame)\n",
        "  print(A)\n",
        "  break\n",
        "\n",
        "else:\n",
        "  print(\"User Id does not exist\")"
      ],
      "metadata": {
        "colab": {
          "base_uri": "https://localhost:8080/"
        },
        "id": "1skgi_otYsaa",
        "outputId": "f4d3eba3-072c-4b46-cc97-ecfb1daddbf6"
      },
      "execution_count": null,
      "outputs": [
        {
          "output_type": "stream",
          "name": "stdout",
          "text": [
            "Enter User ID: 1234\n",
            "Enter Password: 1234\n",
            "     Name  Math  Bio  Che\n",
            "0     Sam    45   50   12\n",
            "1     Abi    50   75   45\n",
            "2     Dev    12   25   75\n",
            "3  Sathya    60   50   25\n",
            "4     Ben    77   65   62\n"
          ]
        }
      ]
    },
    {
      "cell_type": "code",
      "source": [
        "import numpy as np\n",
        "import pandas as pd\n",
        "import sqlite3 as db\n",
        "\n",
        "\n",
        "input_user_id = input(\"Enter User ID: \")\n",
        "input_password = input(\"Enter Password: \")\n",
        "\n",
        "\n",
        "while input_user_id == \"1111\" and input_password == \"1111\":\n",
        "  A = pd.read_csv(\"credit_scoring_data.csv\")\n",
        "  B = A[['Income']].to_numpy().flatten()\n",
        "  C = A[['Loan Amount']].to_numpy().flatten()\n",
        "  D = A[['Interest Rate (%)']].to_numpy().flatten()\n",
        "  E = B-C\n",
        "  F = B/100*D\n",
        "  G = D+5\n",
        "  H = B/100*G\n",
        "  I = C+H\n",
        "  Frame = {\"Income\":B,\"Loan Amount\":C,\"Interest Rate\":D,\"Balance\":E,\"Interest Amount\":F,\"Increased Interest %\":G,\"Increased Interest Amount\":H,\"Increased Loan Amount\":I}\n",
        "  J = pd.DataFrame(Frame)\n",
        "  J.to_excel('credit.xlsx')\n",
        "  print(J)\n",
        "  break\n",
        "\n",
        "else:\n",
        "  print(\"User Id does not exist\")"
      ],
      "metadata": {
        "colab": {
          "base_uri": "https://localhost:8080/"
        },
        "id": "9eSRf5yUZcuJ",
        "outputId": "9adbd5b5-27c2-412e-a19d-b6aa8ed64450"
      },
      "execution_count": null,
      "outputs": [
        {
          "output_type": "stream",
          "name": "stdout",
          "text": [
            "Enter User ID: 1111\n",
            "Enter Password: 1111\n",
            "     Income  Loan Amount  Interest Rate    Balance  Interest Amount  \\\n",
            "0    141958     18928.74           2.51  123029.26        3563.1458   \n",
            "1     35795     41620.78          14.70   -5825.78        5261.8650   \n",
            "2     20860     35812.90           5.15  -14952.90        1074.2900   \n",
            "3    123694     12317.76          10.62  111376.24       13136.3028   \n",
            "4    148106     45991.72          12.91  102114.28       19120.4846   \n",
            "..      ...          ...            ...        ...              ...   \n",
            "995  124346     25857.23           5.76   98488.77        7162.3296   \n",
            "996   67605     22090.36          14.38   45514.64        9721.5990   \n",
            "997  141790     43850.01           2.65   97939.99        3757.4350   \n",
            "998  125616     28358.68           3.95   97257.32        4961.8320   \n",
            "999   58088     26563.18           8.99   31524.82        5222.1112   \n",
            "\n",
            "     Increased Interest %  Increased Interest Amount  Increased Loan Amount  \n",
            "0                    7.51                 10661.0458             29589.7858  \n",
            "1                   19.70                  7051.6150             48672.3950  \n",
            "2                   10.15                  2117.2900             37930.1900  \n",
            "3                   15.62                 19321.0028             31638.7628  \n",
            "4                   17.91                 26525.7846             72517.5046  \n",
            "..                    ...                        ...                    ...  \n",
            "995                 10.76                 13379.6296             39236.8596  \n",
            "996                 19.38                 13101.8490             35192.2090  \n",
            "997                  7.65                 10846.9350             54696.9450  \n",
            "998                  8.95                 11242.6320             39601.3120  \n",
            "999                 13.99                  8126.5112             34689.6912  \n",
            "\n",
            "[1000 rows x 8 columns]\n"
          ]
        }
      ]
    },
    {
      "cell_type": "code",
      "source": [
        "while True:\n",
        "    user_input = input(\"Enter 'exit' to stop: \")\n",
        "    if user_input.lower() == \"exit\":\n",
        "        print(\"Exiting the loop!\")\n",
        "        break\n",
        "    else:\n",
        "        print(\"You entered:\", user_input)"
      ],
      "metadata": {
        "colab": {
          "base_uri": "https://localhost:8080/"
        },
        "id": "VItr6Ioka8tw",
        "outputId": "5e220767-4ee7-49dc-b7b4-6a30085868dd"
      },
      "execution_count": null,
      "outputs": [
        {
          "output_type": "stream",
          "name": "stdout",
          "text": [
            "Enter 'exit' to stop: exit]\n",
            "You entered: exit]\n",
            "Enter 'exit' to stop: exit\n",
            "Exiting the loop!\n"
          ]
        }
      ]
    },
    {
      "cell_type": "code",
      "source": [
        "while True:\n",
        "        percentage=int(input(\"Enter the student's percentage score: \"))\n",
        "\n",
        "        # Exit condition\n",
        "        while percentage >= -1:\n",
        "            print(\"Exiting the Grade Classifier. Goodbye!\")\n",
        "            break\n",
        "\n",
        "        # Validate input\n",
        "        while percentage < 0 or percentage > 100:\n",
        "            print(\"Invalid input. Please enter a percentage between 0 and 100.\")\n",
        "            percentage = float(input(\"Enter the student's percentage score again: \"))\n",
        "\n",
        "        # Check grade for \"A\"\n",
        "        while percentage >= 90:\n",
        "            print(\"The student's grade is: A\")\n",
        "            break\n",
        "\n",
        "        # Check grade for \"B\"\n",
        "        while 80 <= percentage < 90:\n",
        "            print(\"The student's grade is: B\")\n",
        "            break\n",
        "\n",
        "        # Check grade for \"C\"\n",
        "        while 70 <= percentage < 80:\n",
        "            print(\"The student's grade is: C\")\n",
        "            break\n",
        "\n",
        "        # Check grade for \"D\"\n",
        "        while 60 <= percentage < 70:\n",
        "            print(\"The student's grade is: D\")\n",
        "            break\n",
        "\n",
        "        # Check grade for \"F\"\n",
        "        while percentage < 60:\n",
        "            print(\"The student's grade is: F\")\n",
        "            break\n",
        "\n"
      ],
      "metadata": {
        "colab": {
          "base_uri": "https://localhost:8080/"
        },
        "id": "aq8RQjzObGEc",
        "outputId": "ad1d8d2b-471e-41b0-dc4a-a232eae45a8e"
      },
      "execution_count": null,
      "outputs": [
        {
          "name": "stdout",
          "output_type": "stream",
          "text": [
            "Enter the student's percentage score: 85\n"
          ]
        }
      ]
    },
    {
      "cell_type": "code",
      "source": [
        "#BMI Calculator: Write a program that takes a person's weight (in kilograms) and height (in meters) as input and calculates their Body Mass Index (BMI). Print their corresponding BMI category based on the following criteria:\n",
        "#Below 18.5: \"Underweight\"\n",
        "#18.5 to 24.9: \"Normal weight\"\n",
        "#25 to 29.9: \"Overweight\"\n",
        "#30 or above: \"Obese\"\n",
        "\n",
        "while True:\n",
        "  Weight = float(input(\"Enter Weight (Kg) = \"))\n",
        "  Height = float(input(\"Enter Height (m) = \"))\n",
        "  BMI = Weight/Height\n",
        "\n",
        "  while BMI <= 18.5:\n",
        "    print(\"Under weight\")\n",
        "    break\n",
        "  while  18.5 <= BMI <= 24.9:\n",
        "    print(\"Normal weight\")\n",
        "    break\n",
        "  while 25 <= BMI <= 29.9:\n",
        "    print(\"Over weight\")\n",
        "    break\n",
        "  while BMI >= 30 :\n",
        "    print(\"Obese\")\n",
        "    break\n"
      ],
      "metadata": {
        "colab": {
          "base_uri": "https://localhost:8080/",
          "height": 425
        },
        "id": "Wne0J_u0b13y",
        "outputId": "3c15ed27-49e7-4a66-ab32-bfe0d6a73d07"
      },
      "execution_count": null,
      "outputs": [
        {
          "output_type": "stream",
          "name": "stdout",
          "text": [
            "Enter Weight (Kg) = 75\n",
            "Enter Height (m) = 180\n",
            "Under weight\n"
          ]
        },
        {
          "output_type": "error",
          "ename": "KeyboardInterrupt",
          "evalue": "Interrupted by user",
          "traceback": [
            "\u001b[0;31m---------------------------------------------------------------------------\u001b[0m",
            "\u001b[0;31mKeyboardInterrupt\u001b[0m                         Traceback (most recent call last)",
            "\u001b[0;32m<ipython-input-42-d017737f7056>\u001b[0m in \u001b[0;36m<cell line: 10>\u001b[0;34m()\u001b[0m\n\u001b[1;32m      9\u001b[0m \u001b[0;34m\u001b[0m\u001b[0m\n\u001b[1;32m     10\u001b[0m \u001b[0;32mwhile\u001b[0m \u001b[0;32mTrue\u001b[0m\u001b[0;34m:\u001b[0m\u001b[0;34m\u001b[0m\u001b[0;34m\u001b[0m\u001b[0m\n\u001b[0;32m---> 11\u001b[0;31m   \u001b[0mWeight\u001b[0m \u001b[0;34m=\u001b[0m \u001b[0mfloat\u001b[0m\u001b[0;34m(\u001b[0m\u001b[0minput\u001b[0m\u001b[0;34m(\u001b[0m\u001b[0;34m\"Enter Weight (Kg) = \"\u001b[0m\u001b[0;34m)\u001b[0m\u001b[0;34m)\u001b[0m\u001b[0;34m\u001b[0m\u001b[0;34m\u001b[0m\u001b[0m\n\u001b[0m\u001b[1;32m     12\u001b[0m   \u001b[0mHeight\u001b[0m \u001b[0;34m=\u001b[0m \u001b[0mfloat\u001b[0m\u001b[0;34m(\u001b[0m\u001b[0minput\u001b[0m\u001b[0;34m(\u001b[0m\u001b[0;34m\"Enter Height (m) = \"\u001b[0m\u001b[0;34m)\u001b[0m\u001b[0;34m)\u001b[0m\u001b[0;34m\u001b[0m\u001b[0;34m\u001b[0m\u001b[0m\n\u001b[1;32m     13\u001b[0m   \u001b[0mBMI\u001b[0m \u001b[0;34m=\u001b[0m \u001b[0mWeight\u001b[0m\u001b[0;34m/\u001b[0m\u001b[0mHeight\u001b[0m\u001b[0;34m\u001b[0m\u001b[0;34m\u001b[0m\u001b[0m\n",
            "\u001b[0;32m/usr/local/lib/python3.10/dist-packages/ipykernel/kernelbase.py\u001b[0m in \u001b[0;36mraw_input\u001b[0;34m(self, prompt)\u001b[0m\n\u001b[1;32m    849\u001b[0m                 \u001b[0;34m\"raw_input was called, but this frontend does not support input requests.\"\u001b[0m\u001b[0;34m\u001b[0m\u001b[0;34m\u001b[0m\u001b[0m\n\u001b[1;32m    850\u001b[0m             )\n\u001b[0;32m--> 851\u001b[0;31m         return self._input_request(str(prompt),\n\u001b[0m\u001b[1;32m    852\u001b[0m             \u001b[0mself\u001b[0m\u001b[0;34m.\u001b[0m\u001b[0m_parent_ident\u001b[0m\u001b[0;34m,\u001b[0m\u001b[0;34m\u001b[0m\u001b[0;34m\u001b[0m\u001b[0m\n\u001b[1;32m    853\u001b[0m             \u001b[0mself\u001b[0m\u001b[0;34m.\u001b[0m\u001b[0m_parent_header\u001b[0m\u001b[0;34m,\u001b[0m\u001b[0;34m\u001b[0m\u001b[0;34m\u001b[0m\u001b[0m\n",
            "\u001b[0;32m/usr/local/lib/python3.10/dist-packages/ipykernel/kernelbase.py\u001b[0m in \u001b[0;36m_input_request\u001b[0;34m(self, prompt, ident, parent, password)\u001b[0m\n\u001b[1;32m    893\u001b[0m             \u001b[0;32mexcept\u001b[0m \u001b[0mKeyboardInterrupt\u001b[0m\u001b[0;34m:\u001b[0m\u001b[0;34m\u001b[0m\u001b[0;34m\u001b[0m\u001b[0m\n\u001b[1;32m    894\u001b[0m                 \u001b[0;31m# re-raise KeyboardInterrupt, to truncate traceback\u001b[0m\u001b[0;34m\u001b[0m\u001b[0;34m\u001b[0m\u001b[0m\n\u001b[0;32m--> 895\u001b[0;31m                 \u001b[0;32mraise\u001b[0m \u001b[0mKeyboardInterrupt\u001b[0m\u001b[0;34m(\u001b[0m\u001b[0;34m\"Interrupted by user\"\u001b[0m\u001b[0;34m)\u001b[0m \u001b[0;32mfrom\u001b[0m \u001b[0;32mNone\u001b[0m\u001b[0;34m\u001b[0m\u001b[0;34m\u001b[0m\u001b[0m\n\u001b[0m\u001b[1;32m    896\u001b[0m             \u001b[0;32mexcept\u001b[0m \u001b[0mException\u001b[0m \u001b[0;32mas\u001b[0m \u001b[0me\u001b[0m\u001b[0;34m:\u001b[0m\u001b[0;34m\u001b[0m\u001b[0;34m\u001b[0m\u001b[0m\n\u001b[1;32m    897\u001b[0m                 \u001b[0mself\u001b[0m\u001b[0;34m.\u001b[0m\u001b[0mlog\u001b[0m\u001b[0;34m.\u001b[0m\u001b[0mwarning\u001b[0m\u001b[0;34m(\u001b[0m\u001b[0;34m\"Invalid Message:\"\u001b[0m\u001b[0;34m,\u001b[0m \u001b[0mexc_info\u001b[0m\u001b[0;34m=\u001b[0m\u001b[0;32mTrue\u001b[0m\u001b[0;34m)\u001b[0m\u001b[0;34m\u001b[0m\u001b[0;34m\u001b[0m\u001b[0m\n",
            "\u001b[0;31mKeyboardInterrupt\u001b[0m: Interrupted by user"
          ]
        }
      ]
    },
    {
      "cell_type": "code",
      "source": [
        "#Age Category: Write a program that takes a person's age as input and prints their corresponding age category based on the following criteria:\n",
        "#0 to 2 years: \"Infant\"\n",
        "#3 to 12 years: \"Child\"\n",
        "#13 to 19 years: \"Teenager\"\n",
        "#20 to 59 years: \"Adult\"\n",
        "#60 years and above: \"Senior Citizen\"\n",
        "\n",
        "while True:\n",
        "  Age = int(input(\"Enter Age = \"))\n",
        "  while 0 <= Age <= 2:\n",
        "    print(\"Infant\")\n",
        "    break\n",
        "  while 3 <= Age <=12:\n",
        "    print(\"Child\")\n",
        "    break\n",
        "  while 13 <= Age <=19:\n",
        "    print(\"Teenager\")\n",
        "    break\n",
        "  while 20 <= Age <= 59:\n",
        "    print(\"Adult\")\n",
        "    break\n",
        "  while Age >=60:\n",
        "    print(\"Senior citizen\")\n",
        "    break\n",
        "  while Age <= -1:\n",
        "    print(\"Unable to access\")\n",
        "    break"
      ],
      "metadata": {
        "colab": {
          "base_uri": "https://localhost:8080/",
          "height": 512
        },
        "id": "mouLjRNKb2iX",
        "outputId": "cf83bc3e-95ff-482c-85cc-8405a1f1432c"
      },
      "execution_count": null,
      "outputs": [
        {
          "output_type": "stream",
          "name": "stdout",
          "text": [
            "Enter Age = 25\n",
            "Adult\n",
            "Enter Age = 45\n",
            "Adult\n",
            "Enter Age = 62\n",
            "Senior citizen\n",
            "Enter Age = -45\n",
            "Unable to access\n"
          ]
        },
        {
          "output_type": "error",
          "ename": "KeyboardInterrupt",
          "evalue": "Interrupted by user",
          "traceback": [
            "\u001b[0;31m---------------------------------------------------------------------------\u001b[0m",
            "\u001b[0;31mKeyboardInterrupt\u001b[0m                         Traceback (most recent call last)",
            "\u001b[0;32m<ipython-input-38-8eeb9f539c7e>\u001b[0m in \u001b[0;36m<cell line: 8>\u001b[0;34m()\u001b[0m\n\u001b[1;32m      7\u001b[0m \u001b[0;34m\u001b[0m\u001b[0m\n\u001b[1;32m      8\u001b[0m \u001b[0;32mwhile\u001b[0m \u001b[0;32mTrue\u001b[0m\u001b[0;34m:\u001b[0m\u001b[0;34m\u001b[0m\u001b[0;34m\u001b[0m\u001b[0m\n\u001b[0;32m----> 9\u001b[0;31m   \u001b[0mAge\u001b[0m \u001b[0;34m=\u001b[0m \u001b[0mint\u001b[0m\u001b[0;34m(\u001b[0m\u001b[0minput\u001b[0m\u001b[0;34m(\u001b[0m\u001b[0;34m\"Enter Age = \"\u001b[0m\u001b[0;34m)\u001b[0m\u001b[0;34m)\u001b[0m\u001b[0;34m\u001b[0m\u001b[0;34m\u001b[0m\u001b[0m\n\u001b[0m\u001b[1;32m     10\u001b[0m   \u001b[0;32mwhile\u001b[0m \u001b[0;36m0\u001b[0m \u001b[0;34m<=\u001b[0m \u001b[0mAge\u001b[0m \u001b[0;34m<=\u001b[0m \u001b[0;36m2\u001b[0m\u001b[0;34m:\u001b[0m\u001b[0;34m\u001b[0m\u001b[0;34m\u001b[0m\u001b[0m\n\u001b[1;32m     11\u001b[0m     \u001b[0mprint\u001b[0m\u001b[0;34m(\u001b[0m\u001b[0;34m\"Infant\"\u001b[0m\u001b[0;34m)\u001b[0m\u001b[0;34m\u001b[0m\u001b[0;34m\u001b[0m\u001b[0m\n",
            "\u001b[0;32m/usr/local/lib/python3.10/dist-packages/ipykernel/kernelbase.py\u001b[0m in \u001b[0;36mraw_input\u001b[0;34m(self, prompt)\u001b[0m\n\u001b[1;32m    849\u001b[0m                 \u001b[0;34m\"raw_input was called, but this frontend does not support input requests.\"\u001b[0m\u001b[0;34m\u001b[0m\u001b[0;34m\u001b[0m\u001b[0m\n\u001b[1;32m    850\u001b[0m             )\n\u001b[0;32m--> 851\u001b[0;31m         return self._input_request(str(prompt),\n\u001b[0m\u001b[1;32m    852\u001b[0m             \u001b[0mself\u001b[0m\u001b[0;34m.\u001b[0m\u001b[0m_parent_ident\u001b[0m\u001b[0;34m,\u001b[0m\u001b[0;34m\u001b[0m\u001b[0;34m\u001b[0m\u001b[0m\n\u001b[1;32m    853\u001b[0m             \u001b[0mself\u001b[0m\u001b[0;34m.\u001b[0m\u001b[0m_parent_header\u001b[0m\u001b[0;34m,\u001b[0m\u001b[0;34m\u001b[0m\u001b[0;34m\u001b[0m\u001b[0m\n",
            "\u001b[0;32m/usr/local/lib/python3.10/dist-packages/ipykernel/kernelbase.py\u001b[0m in \u001b[0;36m_input_request\u001b[0;34m(self, prompt, ident, parent, password)\u001b[0m\n\u001b[1;32m    893\u001b[0m             \u001b[0;32mexcept\u001b[0m \u001b[0mKeyboardInterrupt\u001b[0m\u001b[0;34m:\u001b[0m\u001b[0;34m\u001b[0m\u001b[0;34m\u001b[0m\u001b[0m\n\u001b[1;32m    894\u001b[0m                 \u001b[0;31m# re-raise KeyboardInterrupt, to truncate traceback\u001b[0m\u001b[0;34m\u001b[0m\u001b[0;34m\u001b[0m\u001b[0m\n\u001b[0;32m--> 895\u001b[0;31m                 \u001b[0;32mraise\u001b[0m \u001b[0mKeyboardInterrupt\u001b[0m\u001b[0;34m(\u001b[0m\u001b[0;34m\"Interrupted by user\"\u001b[0m\u001b[0;34m)\u001b[0m \u001b[0;32mfrom\u001b[0m \u001b[0;32mNone\u001b[0m\u001b[0;34m\u001b[0m\u001b[0;34m\u001b[0m\u001b[0m\n\u001b[0m\u001b[1;32m    896\u001b[0m             \u001b[0;32mexcept\u001b[0m \u001b[0mException\u001b[0m \u001b[0;32mas\u001b[0m \u001b[0me\u001b[0m\u001b[0;34m:\u001b[0m\u001b[0;34m\u001b[0m\u001b[0;34m\u001b[0m\u001b[0m\n\u001b[1;32m    897\u001b[0m                 \u001b[0mself\u001b[0m\u001b[0;34m.\u001b[0m\u001b[0mlog\u001b[0m\u001b[0;34m.\u001b[0m\u001b[0mwarning\u001b[0m\u001b[0;34m(\u001b[0m\u001b[0;34m\"Invalid Message:\"\u001b[0m\u001b[0;34m,\u001b[0m \u001b[0mexc_info\u001b[0m\u001b[0;34m=\u001b[0m\u001b[0;32mTrue\u001b[0m\u001b[0;34m)\u001b[0m\u001b[0;34m\u001b[0m\u001b[0;34m\u001b[0m\u001b[0m\n",
            "\u001b[0;31mKeyboardInterrupt\u001b[0m: Interrupted by user"
          ]
        }
      ]
    },
    {
      "cell_type": "code",
      "source": [
        "percentage = int(input(\"Enter the student's percentage score: \"))\n",
        "\n",
        "# Check grade for \"A\"\n",
        "while percentage >= 91:\n",
        "    print(\"The student's grade is: A\")\n",
        "    break\n",
        "\n",
        "# Check grade for \"B\"\n",
        "while 81 <= percentage <= 90:\n",
        "    print(\"The student's grade is: B\")\n",
        "    break\n",
        "\n",
        "# Check grade for \"C\"\n",
        "while 71 <= percentage <= 80:\n",
        "    print(\"The student's grade is: C\")\n",
        "    break\n",
        "\n",
        "# Check grade for \"D\"\n",
        "while 61 <= percentage <= 70:\n",
        "    print(\"The student's grade is: D\")\n",
        "    break\n",
        "\n",
        "# Check grade for \"F\"\n",
        "while percentage <= 60:\n",
        "    print(\"The student's grade is: F\")\n",
        "    break"
      ],
      "metadata": {
        "id": "YjVv6bf9e2xY"
      },
      "execution_count": null,
      "outputs": []
    },
    {
      "cell_type": "code",
      "source": [
        "import pandas as pd\n",
        "try:\n",
        "    df=pd.read_csv(\"file.csv\")\n",
        "\n",
        "except:\n",
        "    print (\"no file in location \")"
      ],
      "metadata": {
        "colab": {
          "base_uri": "https://localhost:8080/"
        },
        "id": "keOuKEf2g0mb",
        "outputId": "be64c802-9766-4d2f-eef8-8c56abceeee7"
      },
      "execution_count": null,
      "outputs": [
        {
          "output_type": "stream",
          "name": "stdout",
          "text": [
            "no file in location \n"
          ]
        }
      ]
    },
    {
      "cell_type": "code",
      "source": [
        "user_id = \"gokul\"\n",
        "password = \"gokul\"\n",
        "\n",
        "input_user_id = input(\"Enter User ID: \")\n",
        "input_password = input(\"Enter Password: \")\n",
        "\n",
        "try:\n",
        "  if input_user_id == user_id and input_password == password:\n",
        "    Print(\"Login successfull\")\n",
        "\n",
        "except:\n",
        "  print(\"Invalid\")"
      ],
      "metadata": {
        "colab": {
          "base_uri": "https://localhost:8080/"
        },
        "id": "jFUBpRhNhBEw",
        "outputId": "a08e61c7-38d9-43e5-a36f-4efd75718057"
      },
      "execution_count": null,
      "outputs": [
        {
          "name": "stdout",
          "output_type": "stream",
          "text": [
            "Enter User ID: 1234\n",
            "Enter Password: 1234\n"
          ]
        }
      ]
    },
    {
      "cell_type": "code",
      "source": [
        "import numpy as np\n",
        "import pandas as pd\n",
        "\n",
        "A = np.array([12,54,74,15,47])\n",
        "B = np.array([12,54,74,15,47])\n",
        "\n",
        "try:\n",
        "  print(C+B)\n",
        "\n",
        "except:\n",
        "  print(\"Invalid\")\n"
      ],
      "metadata": {
        "colab": {
          "base_uri": "https://localhost:8080/"
        },
        "id": "YiQJkOpsiYI6",
        "outputId": "32f2f1bd-a827-4886-eaf7-f0a715c5342d"
      },
      "execution_count": null,
      "outputs": [
        {
          "output_type": "stream",
          "name": "stdout",
          "text": [
            "Invalid\n"
          ]
        }
      ]
    },
    {
      "cell_type": "code",
      "source": [
        "\n",
        "import numpy as np\n",
        "import pandas as pd\n",
        "\n",
        "A = np.array([12,54,74,15,47])\n",
        "B = np.array([12,54,74,15,47])\n",
        "\n",
        "try:\n",
        "    print(A+B)\n",
        "\n",
        "except:\n",
        "  print(\"Invalid\")\n"
      ],
      "metadata": {
        "colab": {
          "base_uri": "https://localhost:8080/"
        },
        "id": "OZOABPz5s2D_",
        "outputId": "e3bf969a-7b72-496e-d410-ba0ab8f2dc82"
      },
      "execution_count": null,
      "outputs": [
        {
          "output_type": "stream",
          "name": "stdout",
          "text": [
            "[ 24 108 148  30  94]\n"
          ]
        }
      ]
    },
    {
      "cell_type": "code",
      "source": [
        "import pandas as pd\n",
        "import numpy as np\n",
        "\n",
        "def A():\n",
        "  G = np.array([45,50,12,60,77])\n",
        "  B = np.array([50,75,25,50,65])\n",
        "  C = np.array([12,45,75,25,62])\n",
        "  D = np.array([\"Sam\",\"Abi\",\"Dev\",\"Sathya\",\"Ben\"])\n",
        "  Frame = {\"Name\":E,\"Math\":G,\"Bio\":B,\"Che\":C}\n",
        "  A = pd.DataFrame(Frame)\n",
        "  F = A.to_excel(\"Marks.xlsx\")\n",
        "  print(A)\n",
        "  return A\n",
        "\n",
        "user_id = \"gokul\"\n",
        "password = \"gokul\"\n",
        "\n",
        "input_user_id = input(\"Enter User ID: \")\n",
        "input_password = input(\"Enter Password: \")\n",
        "\n",
        "try:\n",
        "  if input_user_id == user_id and input_password == password:\n",
        "    Z = A()\n",
        "    print(Z)\n",
        "  elif input_user_id != user_id and input_password == password:\n",
        "    print(\"Invalid User ID\")\n",
        "  else:\n",
        "    print(\"Invalid Password\")\n",
        "except:\n",
        "  print(\"Error\")"
      ],
      "metadata": {
        "colab": {
          "base_uri": "https://localhost:8080/"
        },
        "id": "cvYLsKd_x2-n",
        "outputId": "14fa6b2f-ced4-4462-ee9d-14a971d78bac"
      },
      "execution_count": null,
      "outputs": [
        {
          "output_type": "stream",
          "name": "stdout",
          "text": [
            "Enter User ID: gokul\n",
            "Enter Password: gokul\n",
            "Error\n"
          ]
        }
      ]
    },
    {
      "cell_type": "code",
      "source": [
        "import pandas as pd\n",
        "\n",
        "A = pd.read_excel(\"mark.xlsx\")\n",
        "A.to_csv(\"mark.csv\",index=False)\n",
        "B = pd.read_csv(\"mark.csv\")\n",
        "\n",
        "user_id = \"gokul\"\n",
        "password = \"gokul\"\n",
        "\n",
        "input_user_id = input(\"Enter User ID: \")\n",
        "input_password = input(\"Enter Password: \")\n",
        "\n",
        "for X in range(2):\n",
        "  try:\n",
        "    if input_user_id == user_id and input_password == password:\n",
        "      G = Z()\n",
        "      print(G)\n",
        "    elif input_user_id != user_id and input_password == password:\n",
        "      print(\"Invalid User Id\")\n",
        "    elif input_user_id == user_id and input_password != password:\n",
        "      print(\"Invalid Password\")\n",
        "    else:\n",
        "      print(\"Invalid User Id and Password\")\n",
        "  except:\n",
        "    print(\"Error\")"
      ],
      "metadata": {
        "colab": {
          "base_uri": "https://localhost:8080/"
        },
        "id": "R7s-dSsSxFfo",
        "outputId": "30da8417-f4be-4880-a287-bbabda016b31"
      },
      "execution_count": null,
      "outputs": [
        {
          "output_type": "stream",
          "name": "stdout",
          "text": [
            "Enter User ID: gokul\n",
            "Enter Password: 54\n",
            "Invalid Password\n",
            "Invalid Password\n"
          ]
        }
      ]
    },
    {
      "cell_type": "code",
      "source": [
        "import numpy as np\n",
        "import pandas as pd\n",
        "import sqlite3 as db\n",
        "def Z():\n",
        "  con=db.connect(\"internal.sqlite\")\n",
        "  A = pd.read_sql(\"SELECT * FROM internal\",con)\n",
        "  return A\n",
        "\n",
        "  B = A[[\"Math\"]].to_numpy().flatten()\n",
        "  C = A[[\"Bio\"]].to_numpy().flatten()\n",
        "def X():\n",
        "  Z()\n",
        "  D = B+C\n",
        "  return D\n",
        "\n",
        "user_id = \"gokul\"\n",
        "password = \"gokul\"\n",
        "\n",
        "input_user_id = input(\"Enter User ID: \")\n",
        "input_password = input(\"Enter Password: \")\n",
        "\n",
        "try:\n",
        "  if input_user_id == user_id and input_password == password:\n",
        "    G = Z()\n",
        "    print(G)\n",
        "  elif input_user_id != user_id and input_password == password:\n",
        "    H = X()\n",
        "    print(H)\n",
        "  else:\n",
        "    print(\"Invalid Password\")\n",
        "except:\n",
        "  print(\"Error\")"
      ],
      "metadata": {
        "colab": {
          "base_uri": "https://localhost:8080/"
        },
        "id": "hCo-3SSN2tdQ",
        "outputId": "42505ec3-7912-4083-899b-30f936dffef8"
      },
      "execution_count": null,
      "outputs": [
        {
          "output_type": "stream",
          "name": "stdout",
          "text": [
            "Enter User ID: gokul\n",
            "Enter Password: gokul\n",
            "   Unnamed: 0    Name  Math  Bio  Che\n",
            "0           0     Sam    45   50   12\n",
            "1           1     Abi    50   75   45\n",
            "2           2     Dev    12   25   75\n",
            "3           3  Sathya    60   50   25\n",
            "4           4     Ben    77   65   62\n"
          ]
        }
      ]
    },
    {
      "cell_type": "code",
      "source": [
        "a = ['apple', 'banana', 'cherry']   # list of words to exclude (case insensitive)\n",
        "b = ['Apple', 'orange', 'Banana', 'grape', 'Cherry']\n",
        "filtered_words = [word for word in b if word.lower() not in a]\n",
        "print(filtered_words)"
      ],
      "metadata": {
        "colab": {
          "base_uri": "https://localhost:8080/"
        },
        "id": "UzdVTPvESR8V",
        "outputId": "95357c34-cca4-479e-c9e4-5d24d3d8a43c"
      },
      "execution_count": null,
      "outputs": [
        {
          "output_type": "stream",
          "name": "stdout",
          "text": [
            "['orange', 'grape']\n"
          ]
        }
      ]
    },
    {
      "cell_type": "code",
      "source": [
        "ip= input(\"Enter your sentence: \")\n",
        "\n",
        "# Split the input string into individual words\n",
        "b = ip.split()\n",
        "print(b)\n"
      ],
      "metadata": {
        "colab": {
          "base_uri": "https://localhost:8080/"
        },
        "id": "kz_A67VLSdb8",
        "outputId": "028fcda5-5c62-4c35-ad43-9da15c9a1849"
      },
      "execution_count": null,
      "outputs": [
        {
          "output_type": "stream",
          "name": "stdout",
          "text": [
            "Enter your sentence: Where are you going now\n",
            "['Where', 'are', 'you', 'going', 'now']\n"
          ]
        }
      ]
    },
    {
      "cell_type": "code",
      "source": [
        "ip= input(\"Enter your sentence: \")\n",
        "\n",
        "# Split the input string into individual words\n",
        "b = ip.split()\n",
        "print(b)\n",
        "\n",
        "# Create a new list without the words to remove\n",
        "filter = [word for word in b if word.lower() not in a]\n",
        "print(\"filtered words=\",filter)\n"
      ],
      "metadata": {
        "colab": {
          "base_uri": "https://localhost:8080/"
        },
        "id": "g52h6PT0SoPO",
        "outputId": "96f80159-fdf4-41e9-8fef-79136b6131d8"
      },
      "execution_count": null,
      "outputs": [
        {
          "output_type": "stream",
          "name": "stdout",
          "text": [
            "Enter your sentence: Where are you going now\n",
            "['Where', 'are', 'you', 'going', 'now']\n",
            "filtered words= ['Where', 'are', 'you', 'going', 'now']\n"
          ]
        }
      ]
    },
    {
      "cell_type": "code",
      "source": [
        "ip= input(\"Enter your sentence: \")\n",
        "\n",
        "# Split the input string into individual words\n",
        "b = ip.split()\n",
        "print(b)\n",
        "\n",
        "# Create a new list without the words to remove\n",
        "filter = [word for word in b if word.lower()]\n",
        "print(\"filtered words=\",filter)\n",
        "# Join the filtered words back together\n",
        "result = \" \".join(filter)\n",
        "print(result)\n",
        "print(\"Filtered sentence:=\", result)\n",
        "key=result.lower()\n",
        "print(\"key=\",key)"
      ],
      "metadata": {
        "colab": {
          "base_uri": "https://localhost:8080/"
        },
        "id": "cKHYZZgdTQNW",
        "outputId": "97e38267-bade-4879-f9fe-6b9ae9aa4d53"
      },
      "execution_count": null,
      "outputs": [
        {
          "output_type": "stream",
          "name": "stdout",
          "text": [
            "Enter your sentence: show me mark\n",
            "['show', 'me', 'mark']\n",
            "filtered words= ['show', 'me', 'mark']\n",
            "show me mark\n",
            "Filtered sentence:= show me mark\n",
            "key= show me mark\n"
          ]
        }
      ]
    },
    {
      "cell_type": "code",
      "source": [
        "a=\" HI HOW ARE YOU\"\n",
        "b=a.lower()\n",
        "print(b)\n"
      ],
      "metadata": {
        "colab": {
          "base_uri": "https://localhost:8080/"
        },
        "id": "SARf-jKbURNI",
        "outputId": "a2ed7ac2-14bc-4444-bb67-5b841d158d59"
      },
      "execution_count": null,
      "outputs": [
        {
          "output_type": "stream",
          "name": "stdout",
          "text": [
            " hi how are you\n"
          ]
        }
      ]
    },
    {
      "cell_type": "code",
      "source": [
        "a=\" good morning\"\n",
        "b=a.upper()\n",
        "print(b)"
      ],
      "metadata": {
        "colab": {
          "base_uri": "https://localhost:8080/"
        },
        "id": "J05F4QKtUag8",
        "outputId": "ec3d0aed-66f4-4b16-c8e2-d83a477121a1"
      },
      "execution_count": null,
      "outputs": [
        {
          "output_type": "stream",
          "name": "stdout",
          "text": [
            " GOOD MORNING\n"
          ]
        }
      ]
    },
    {
      "cell_type": "code",
      "source": [
        "a=\" HI HOW ARE YOU\"\n",
        "b=a.title()\n",
        "print(b)"
      ],
      "metadata": {
        "colab": {
          "base_uri": "https://localhost:8080/"
        },
        "id": "jyXDObPmUgFY",
        "outputId": "3067601d-feb2-49c2-dc64-72124753b72c"
      },
      "execution_count": null,
      "outputs": [
        {
          "output_type": "stream",
          "name": "stdout",
          "text": [
            " Hi How Are You\n"
          ]
        }
      ]
    },
    {
      "cell_type": "code",
      "source": [
        "ip=input(\"Enter =\")\n",
        "a=ip.lower()\n",
        "b=ip.upper()\n",
        "c=ip.title()\n",
        "print(\"Lower Format =\",a)\n",
        "print(\"Upper Format=\",b)\n",
        "print(\"Title Format=\",c)"
      ],
      "metadata": {
        "colab": {
          "base_uri": "https://localhost:8080/"
        },
        "id": "jGnluAGKUna3",
        "outputId": "07bac1c2-9700-4406-e804-fb580233fe5b"
      },
      "execution_count": null,
      "outputs": [
        {
          "output_type": "stream",
          "name": "stdout",
          "text": [
            "Enter =WHERE aRe YoU frOm\n",
            "Lower Format = where are you from\n",
            "Upper Format= WHERE ARE YOU FROM\n",
            "Title Format= Where Are You From\n"
          ]
        }
      ]
    },
    {
      "cell_type": "code",
      "source": [
        "import pandas as pd\n",
        "\n",
        "def A7():\n",
        "  A = pd.read_excel(\"mark.xlsx\")\n",
        "  print(A)\n",
        "  return A\n",
        "def A():\n",
        "  A = pd.read_excel(\"mark.xlsx\")\n",
        "  B = A[[\"Name\"]].to_numpy().flatten()\n",
        "  C= A[[\"Math\"]].to_numpy().flatten()\n",
        "  Frame = {\"Name\":B,\"Math\":C}\n",
        "  D = pd.DataFrame(Frame)\n",
        "  print(D)\n",
        "  return D\n",
        "\n",
        "def A1():\n",
        "  A = pd.read_excel(\"mark.xlsx\")\n",
        "  B = A[[\"Name\"]].to_numpy().flatten()\n",
        "  C= A[[\"Bio\"]].to_numpy().flatten()\n",
        "  Frame = {\"Name\":B,\"Bio\":C}\n",
        "  D = pd.DataFrame(Frame)\n",
        "  print(D)\n",
        "  return D\n",
        "\n",
        "def A2():\n",
        "  A = pd.read_excel(\"mark.xlsx\")\n",
        "  B = A[[\"Name\"]].to_numpy().flatten()\n",
        "  C= A[[\"Phy\"]].to_numpy().flatten()\n",
        "  Frame = {\"Name\":B,\"Phy\":C}\n",
        "  D = pd.DataFrame(Frame)\n",
        "  print(D)\n",
        "  return D\n",
        "\n",
        "def A3():\n",
        "  A = pd.read_excel(\"mark.xlsx\")\n",
        "  B = A[[\"Name\"]].to_numpy().flatten()\n",
        "  C= A[[\"Che\"]].to_numpy().flatten()\n",
        "  Frame = {\"Name\":B,\"Che\":C}\n",
        "  D = pd.DataFrame(Frame)\n",
        "  print(D)\n",
        "  return D\n",
        "\n",
        "def A4():\n",
        "  A = pd.read_excel(\"mark.xlsx\")\n",
        "  B = A[[\"Name\"]].to_numpy().flatten()\n",
        "  C= A[[\"Eng\"]].to_numpy().flatten()\n",
        "  Frame = {\"Name\":B,\"Eng\":C}\n",
        "  D = pd.DataFrame(Frame)\n",
        "  print(D)\n",
        "  return D\n",
        "\n",
        "def A5():\n",
        "  A = pd.read_excel(\"mark.xlsx\")\n",
        "  B = A[[\"Name\"]].to_numpy().flatten()\n",
        "  C= A[[\"Tamil\"]].to_numpy().flatten()\n",
        "  Frame = {\"Name\":B,\"Tamil\":C}\n",
        "  D = pd.DataFrame(Frame)\n",
        "  print(D)\n",
        "  return D\n",
        "\n",
        "mark = input(\"Enter the value =\")\n",
        "\n",
        "try:\n",
        "  if mark == '1' or mark == 'Mark':\n",
        "    U = A7()\n",
        "  elif mark == '2' or mark == 'Math' or mark == 'math' or mark == 'Maths' or mark == 'maths':\n",
        "    Z= A()\n",
        "  elif mark == '3' or mark == 'Bio' or mark == 'bio' or mark == 'Biology' or mark == 'biology':\n",
        "    Y = A1()\n",
        "  elif mark == '4' or mark == 'Phy' or mark == 'phy' or mark == 'Physics' or mark == 'physics':\n",
        "    X = A2()\n",
        "  elif mark == '5' or mark == 'Che' or mark == 'che' or mark == 'Chemistry' or mark =='chemistry':\n",
        "    W = A3()\n",
        "  elif mark == '6' or mark == 'Eng' or mark == 'eng' or mark == 'English' or mark == 'english':\n",
        "    V = A4()\n",
        "  elif mark == '7' or mark == 'Tamil' or mark == 'tamil':\n",
        "    T = A5()\n",
        "  else:\n",
        "    print(\"Invalid input\")\n",
        "\n",
        "except:\n",
        "  print(Error)"
      ],
      "metadata": {
        "colab": {
          "base_uri": "https://localhost:8080/"
        },
        "id": "8S7Nnjp1WZhh",
        "outputId": "0b0f7c9d-45db-471d-df3a-394d0f65ec37"
      },
      "execution_count": null,
      "outputs": [
        {
          "output_type": "stream",
          "name": "stdout",
          "text": [
            "Enter the value =Mark\n",
            "      Name  Math  Phy  Che  Eng  Bio  Tamil\n",
            "0     Manu    72   72   72   72   30     72\n",
            "1     Arun    30   30   60   30   30     60\n",
            "2     Arun    52   52   60   80   52     60\n",
            "3     Arun    52   52   72   52   30     80\n",
            "4     Arun    60   60   80   52   91     60\n",
            "5     Arun    80   80   52   52   72     30\n",
            "6     Arun    80   80   60   80   72     52\n",
            "7     Arun    52   52   80   72   72     52\n",
            "8   Sanjay    72   72   52   72   60     72\n",
            "9   Sanjay    72   72   72   72   52     52\n",
            "10  Sanjay    52   52   80   80   52     60\n",
            "11    Arun    60   60   72   72   60     80\n",
            "12    Manu    60   60   30   52   52     60\n",
            "13    Arun    91   91   52   80   91     72\n",
            "14    Manu    91   91   91   80   60     52\n"
          ]
        }
      ]
    },
    {
      "cell_type": "code",
      "source": [
        "import pandas as pd\n",
        "\n",
        "def A7():\n",
        "  A = pd.read_excel(\"mark.xlsx\")\n",
        "  print(A)\n",
        "  return A\n",
        "def A8():\n",
        "  A = pd.read_excel(\"mark.xlsx\")\n",
        "  B = A[[\"Name\"]].to_numpy().flatten()\n",
        "  C= A[[\"Math\"]].to_numpy().flatten()\n",
        "  Frame = {\"Name\":B,\"Math\":C}\n",
        "  D = pd.DataFrame(Frame)\n",
        "  print(D)\n",
        "  return D\n",
        "\n",
        "def A1():\n",
        "  A = pd.read_excel(\"mark.xlsx\")\n",
        "  B = A[[\"Name\"]].to_numpy().flatten()\n",
        "  C= A[[\"Bio\"]].to_numpy().flatten()\n",
        "  Frame = {\"Name\":B,\"Bio\":C}\n",
        "  D = pd.DataFrame(Frame)\n",
        "  print(D)\n",
        "  return D\n",
        "\n",
        "def A2():\n",
        "  A = pd.read_excel(\"mark.xlsx\")\n",
        "  B = A[[\"Name\"]].to_numpy().flatten()\n",
        "  C= A[[\"Phy\"]].to_numpy().flatten()\n",
        "  Frame = {\"Name\":B,\"Phy\":C}\n",
        "  D = pd.DataFrame(Frame)\n",
        "  print(D)\n",
        "  return D\n",
        "\n",
        "def A3():\n",
        "  A = pd.read_excel(\"mark.xlsx\")\n",
        "  B = A[[\"Name\"]].to_numpy().flatten()\n",
        "  C= A[[\"Che\"]].to_numpy().flatten()\n",
        "  Frame = {\"Name\":B,\"Che\":C}\n",
        "  D = pd.DataFrame(Frame)\n",
        "  print(D)\n",
        "  return D\n",
        "\n",
        "def A4():\n",
        "  A = pd.read_excel(\"mark.xlsx\")\n",
        "  B = A[[\"Name\"]].to_numpy().flatten()\n",
        "  C= A[[\"Eng\"]].to_numpy().flatten()\n",
        "  Frame = {\"Name\":B,\"Eng\":C}\n",
        "  D = pd.DataFrame(Frame)\n",
        "  print(D)\n",
        "  return D\n",
        "\n",
        "def A5():\n",
        "  A = pd.read_excel(\"mark.xlsx\")\n",
        "  B = A[[\"Name\"]].to_numpy().flatten()\n",
        "  C= A[[\"Tamil\"]].to_numpy().flatten()\n",
        "  Frame = {\"Name\":B,\"Tamil\":C}\n",
        "  D = pd.DataFrame(Frame)\n",
        "  print(D)\n",
        "  return D\n",
        "\n",
        "A = input(\"Enter your input =\")\n",
        "\n",
        "C = ['show','me','list','1','give','one','the','breif','mark','marks']\n",
        "C1 = A.lower()\n",
        "print(C1)\n",
        "\n",
        "B = C1.split()\n",
        "print(B)\n",
        "\n",
        "filter = [word for word in B if word.lower() not in C]\n",
        "\n",
        "\n",
        "key = \" \".join(filter)\n",
        "print(key)\n",
        "\n",
        "if key == \"total mark\" or key == \"total marks\" or key == \"mark\" or key == 'marks':\n",
        "  M = A7()\n",
        "\n",
        "elif key == 'math' or key == 'maths' or key == 'math mark' or key == 'maths mark' or key == 'math marks' or key == 'maths marks':\n",
        "  Z = A8()\n",
        "elif key == 'biology' or key == 'biology mark' or key == 'biology marks' or key == 'bio':\n",
        "  Y = A1()\n",
        "elif key == 'phy' or key == 'physics' or key == 'physics marks' or key == 'physics mark':\n",
        "  X = A2()\n",
        "elif key == 'che' or key == 'chemistry' or key == 'chemistry mark' or key == 'chemistry marks':\n",
        "  W = A3()\n",
        "elif key == 'eng' or key == 'english' or key == 'english mark' or key == 'english marks' :\n",
        "  V = A4()\n",
        "elif key == 'tam' or key == 'tamil' or key == 'tamil mark' or key == 'tamil marks':\n",
        "  T = A5()\n",
        "else:\n",
        "  print(\"Invalid input\")\n",
        "\n",
        "\n",
        "\n",
        "\n"
      ],
      "metadata": {
        "colab": {
          "base_uri": "https://localhost:8080/"
        },
        "id": "Ks4l3RsfGvSF",
        "outputId": "28a28411-5c6e-4e8c-c2de-8c91c162118d"
      },
      "execution_count": null,
      "outputs": [
        {
          "output_type": "stream",
          "name": "stdout",
          "text": [
            "Enter your input =math\n",
            "math\n",
            "['math']\n",
            "math\n",
            "      Name  Math\n",
            "0     Manu    72\n",
            "1     Arun    30\n",
            "2     Arun    52\n",
            "3     Arun    52\n",
            "4     Arun    60\n",
            "5     Arun    80\n",
            "6     Arun    80\n",
            "7     Arun    52\n",
            "8   Sanjay    72\n",
            "9   Sanjay    72\n",
            "10  Sanjay    52\n",
            "11    Arun    60\n",
            "12    Manu    60\n",
            "13    Arun    91\n",
            "14    Manu    91\n"
          ]
        }
      ]
    },
    {
      "cell_type": "code",
      "source": [
        "a = [\"can\", \"you\", \"why\",\"is\",\"in\",\"your\",'a','me','an','the','of','where']#only lower case\n",
        "\n",
        "ip= input(\"Enter your sentence: \")\n",
        "l=ip.lower()\n",
        "print(\"\\ninput in lower case =\",l)\n",
        "# Split the input string into individual words\n",
        "b = l.split()\n",
        "print(\"\\ninput in list Format=\",b)\n",
        "\n",
        "# Create a new list without the words to remove\n",
        "filter = [word for word in b if word.lower() not in a]\n",
        "print(\"\\nfiltered words=\",filter)\n",
        "# Join the filtered words back together\n",
        "result = \" \".join(filter)\n",
        "print(\"\\nKey word=\", result)"
      ],
      "metadata": {
        "colab": {
          "base_uri": "https://localhost:8080/"
        },
        "id": "k3903a7XNG6Q",
        "outputId": "aeff385d-9c55-42f3-a92c-1515118c02c0"
      },
      "execution_count": null,
      "outputs": [
        {
          "output_type": "stream",
          "name": "stdout",
          "text": [
            "Enter your sentence: Marks\n",
            "\n",
            "input in lower case = marks\n",
            "\n",
            "input in list Format= ['marks']\n",
            "\n",
            "filtered words= ['marks']\n",
            "\n",
            "Key word= marks\n"
          ]
        }
      ]
    },
    {
      "cell_type": "code",
      "source": [
        "import pandas as pd\n",
        "\n",
        "def A():\n",
        "  A = pd.read_excel(\"Consumables_Registers.xlsx\")\n",
        "  print(A)\n",
        "  return A\n",
        "def B():\n",
        "  B = pd.read_excel(\"Employee_Attendance.xlsx\")\n",
        "  print(B)\n",
        "  return B\n",
        "def C():\n",
        "  C = pd.read_excel(\"Feedback_and_Customer_Details,xlsx\")\n",
        "  print(C)\n",
        "  return C\n",
        "def D():\n",
        "  D = pd.read_excel(\"Income_Tax_Detail.xlsx\")\n",
        "  print(D)\n",
        "  return D\n",
        "def E():\n",
        "  E = pd.read_exccel(\"Salary_Detail.xlsx\")\n",
        "  print(E)\n",
        "  return E\n",
        "def F():\n",
        "  F = pd.read_excel(\"Sales_and_Profit.xlsx\")\n",
        "  print(F)\n",
        "  return F\n",
        "def G():\n",
        "  G = pd.read_excel(\"Stock_Register.xlsx\")\n",
        "  print(G)\n",
        "  return(G)\n",
        "\n",
        "Z = input(\"Enter your value = \")\n",
        "\n",
        "Y = Z.lower()\n",
        "\n",
        "T = ['show','the','a','list','details','give','report','detail','register']\n",
        "\n",
        "X = Y.split()\n",
        "\n",
        "filter = [word for word in X if word.lower() not in T]\n",
        "\n",
        "key = \" \".join(filter)\n",
        "\n",
        "if key =='consumables' or key == 'consumable':\n",
        "  A()\n",
        "elif key == 'employee attendance' or key == 'employee' or key == 'attendance' or key == 'staff attendance':\n",
        "  B()\n",
        "elif key == 'feedback' or key == 'customer' or key == 'feedback and customer' or key == 'customer and feedback':\n",
        "  C()\n",
        "elif key == 'income tax' or key == 'tax':\n",
        "  D()\n",
        "elif key == 'salary':\n",
        "  E()\n",
        "elif key == 'sales and profit' or key == 'sales' or key == 'profit' or key == 'profit and sales':\n",
        "  F()\n",
        "elif key == 'stock' or key == 'stocks':\n",
        "  G()\n",
        "else:\n",
        "  print(\"Invalid input\")"
      ],
      "metadata": {
        "colab": {
          "base_uri": "https://localhost:8080/"
        },
        "id": "tSVDW8H6bTIG",
        "outputId": "d4de115d-4137-48f8-d801-af3d6cbbcb96"
      },
      "execution_count": null,
      "outputs": [
        {
          "output_type": "stream",
          "name": "stdout",
          "text": [
            "Enter your value = employee\n",
            "  Employee ID Employee Name        Date Attendance Status\n",
            "0        E001    Employee_1  2024-08-01            Absent\n",
            "1        E002    Employee_2  2024-08-02           Present\n",
            "2        E003    Employee_3  2024-08-03           Present\n",
            "3        E004    Employee_4  2024-08-04           Present\n",
            "4        E005    Employee_5  2024-08-05           Present\n",
            "5        E006    Employee_6  2024-08-06            Absent\n",
            "6        E007    Employee_7  2024-08-07           Present\n",
            "7        E008    Employee_8  2024-08-08            Absent\n",
            "8        E009    Employee_9  2024-08-09           Present\n",
            "9        E010   Employee_10  2024-08-10            Absent\n"
          ]
        }
      ]
    },
    {
      "cell_type": "code",
      "source": [
        "import pandas as pd\n",
        "\n",
        "def A():\n",
        "  A = pd.read_excel(\"Consumables_Registers.xlsx\")\n",
        "  print(A)\n",
        "  return A\n",
        "def B():\n",
        "  B = pd.read_excel(\"Employee_Attendance.xlsx\")\n",
        "  print(B)\n",
        "  return B\n",
        "def C():\n",
        "  C = pd.read_excel(\"Feedback_and_Customer_Details,xlsx\")\n",
        "  print(C)\n",
        "  return C\n",
        "def D():\n",
        "  D = pd.read_excel(\"Income_Tax_Detail.xlsx\")\n",
        "  print(D)\n",
        "  return D\n",
        "def E():\n",
        "  E = pd.read_excel(\"Salary_Detail.xlsx\")\n",
        "  print(E)\n",
        "  return E\n",
        "def F():\n",
        "  F = pd.read_excel(\"Sales_and_Profit.xlsx\")\n",
        "  print(F)\n",
        "  return F\n",
        "def G():\n",
        "  G = pd.read_excel(\"Stock_Register.xlsx\")\n",
        "  print(G)\n",
        "  return(G)\n",
        "\n",
        "\n",
        "Z = input(\"Enter your value = \")\n",
        "\n",
        "Y = Z.lower()\n",
        "\n",
        "T = ['show','the','a','list','details','give','report','detail','register','and']\n",
        "\n",
        "X = Y.split()\n",
        "\n",
        "filter = [word for word in X if word.lower() not in T]\n",
        "\n",
        "key = \" \".join(filter)\n",
        "\n",
        "if key =='consumables' or key == 'consumable':\n",
        "  A()\n",
        "elif key == 'employee attendance' or key == 'employee' or key == 'attendance' or key == 'staff attendance' or key == 'employees':\n",
        "  B()\n",
        "elif key == 'feedback' or key == 'customer feedback' or key == 'customer' or key == 'feedback customer' or key == 'feedbacks' or key  == 'feedbacks customers' or key == 'feedback customers' or key == 'customers' or key =='feedbacks customer' :\n",
        "  C()\n",
        "elif key == 'income tax' or key == 'tax':\n",
        "  D()\n",
        "elif key == 'salary' or key == 'employee salary' or key == 'salaries':\n",
        "  E()\n",
        "elif key == 'sales profit' or key == 'sales' or key == 'profit' or key == 'profit sales':\n",
        "  F()\n",
        "elif key == 'stock' or key == 'stocks':\n",
        "  G()\n",
        "else:\n",
        "  print(\"Invalid input\")"
      ],
      "metadata": {
        "colab": {
          "base_uri": "https://localhost:8080/"
        },
        "id": "I5V6LKNCcgQW",
        "outputId": "3b29180f-2251-4f93-8dbd-60d13bc6d9ee"
      },
      "execution_count": null,
      "outputs": [
        {
          "output_type": "stream",
          "name": "stdout",
          "text": [
            "Enter your value = EMPLOYEE SALARY\n",
            "  Employee ID Employee Name  Salary    TA    DA  PF Allowance\n",
            "0        E001    Employee_1   77831  4709  2227          2267\n",
            "1        E002    Employee_2   69302  3389  2365          4801\n",
            "2        E003    Employee_3   66503  2577  2918          4923\n",
            "3        E004    Employee_4   57255  4226  2333          3862\n",
            "4        E005    Employee_5   43657  2321  1440          3865\n",
            "5        E006    Employee_6   72640  2329  2303          4728\n",
            "6        E007    Employee_7   66298  4406  1176          3311\n",
            "7        E008    Employee_8   62559  2680  2135          4461\n",
            "8        E009    Employee_9   78762  4632  1217          1514\n",
            "9        E010   Employee_10   62260  3580  1134          1470\n"
          ]
        }
      ]
    },
    {
      "cell_type": "code",
      "source": [
        "import pandas as pd\n",
        "def H():\n",
        "  H1 = pd.read_excel(\"Salary_Detail.xlsx\")\n",
        "  H2 = H1[[\"Employee Name\"]].to_numpy().flatten()\n",
        "  H3 = H1[[\"Salary\"]].to_numpy().flatten()\n",
        "  Frame = {\"Employee Name\":H1,\"Salary\":H2}\n",
        "  H = pd.DataFrame(Frame)\n",
        "  print(H)\n",
        "  return H\n",
        "def I():\n",
        "  I1 = pd.read_excel(\"Salary_Detail.xlsx\")\n",
        "  I2 = H[[\"Employee Name\"]].to_numpy().flatten()\n",
        "  I3 = H[[\"PF Allowance\"]].to_numpy().flatten()\n",
        "  Frame = {\"Employee Name\":I2,\"Salary\":I3}\n",
        "  I = pd.DataFrame(Frame)\n",
        "  print(I)\n",
        "  return I"
      ],
      "metadata": {
        "id": "gruL3eQZcmEl"
      },
      "execution_count": null,
      "outputs": []
    },
    {
      "cell_type": "code",
      "source": [
        "pip install fuzzywuzzy\n",
        "pip install python-Levenshtein\n",
        "\n"
      ],
      "metadata": {
        "colab": {
          "base_uri": "https://localhost:8080/",
          "height": 106
        },
        "id": "tAky5QKBvMgs",
        "outputId": "427d4423-65bb-4ca5-f348-f9f168c917d2"
      },
      "execution_count": null,
      "outputs": [
        {
          "output_type": "error",
          "ename": "SyntaxError",
          "evalue": "invalid syntax (<ipython-input-8-fd5c9ef7d44b>, line 1)",
          "traceback": [
            "\u001b[0;36m  File \u001b[0;32m\"<ipython-input-8-fd5c9ef7d44b>\"\u001b[0;36m, line \u001b[0;32m1\u001b[0m\n\u001b[0;31m    pip install fuzzywuzzy\u001b[0m\n\u001b[0m        ^\u001b[0m\n\u001b[0;31mSyntaxError\u001b[0m\u001b[0;31m:\u001b[0m invalid syntax\n"
          ]
        }
      ]
    },
    {
      "cell_type": "code",
      "source": [],
      "metadata": {
        "colab": {
          "base_uri": "https://localhost:8080/"
        },
        "id": "lRLsnpYduYuK",
        "outputId": "0f322a7f-0495-4b85-9d89-30dadc722529"
      },
      "execution_count": null,
      "outputs": [
        {
          "output_type": "stream",
          "name": "stdout",
          "text": [
            "enter value to be predicted=0.8\n",
            "8.0\n"
          ]
        }
      ]
    }
  ]
}